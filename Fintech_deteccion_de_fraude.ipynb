{
  "nbformat": 4,
  "nbformat_minor": 0,
  "metadata": {
    "colab": {
      "name": "Fintech_deteccion_de_fraude.ipynb",
      "provenance": [],
      "collapsed_sections": [],
      "toc_visible": true,
      "include_colab_link": true
    },
    "kernelspec": {
      "display_name": "Python 3",
      "name": "python3"
    },
    "language_info": {
      "name": "python"
    }
  },
  "cells": [
    {
      "cell_type": "markdown",
      "metadata": {
        "id": "view-in-github",
        "colab_type": "text"
      },
      "source": [
        "<a href=\"https://colab.research.google.com/github/chavamoon/Fintech_Ejemplos/blob/main/Fintech_deteccion_de_fraude.ipynb\" target=\"_parent\"><img src=\"https://colab.research.google.com/assets/colab-badge.svg\" alt=\"Open In Colab\"/></a>"
      ]
    },
    {
      "cell_type": "markdown",
      "metadata": {
        "id": "c6_kljyhoaTB"
      },
      "source": [
        "# Deteccion de Fraude"
      ]
    },
    {
      "cell_type": "markdown",
      "metadata": {
        "id": "dJ3kn03tohI7"
      },
      "source": [
        "El objetivo de este proyecto es comparar varios modelos de clasificacion en la deteccion de fraude en transacciones."
      ]
    },
    {
      "cell_type": "markdown",
      "metadata": {
        "id": "HJCNic_6pQwu"
      },
      "source": [
        "# Definicion del Problema"
      ]
    },
    {
      "cell_type": "markdown",
      "metadata": {
        "id": "WQhfRVhTpSOs"
      },
      "source": [
        "Utilizaremos los datos de Kaggle: https://www.kaggle.com/mlg-ulb/creditcardfraud"
      ]
    },
    {
      "cell_type": "markdown",
      "metadata": {
        "id": "TelgQ-aFpdZv"
      },
      "source": [
        "Para nuestro proyecto definiremos con valor 1 ($y=1$) cuando la transaccion fue fraudulenta, y 0 ($y=0$) en otro caso.  \n",
        "\n",
        "LOs datos contienen transacciones de tarjetas de credito de Septiembre 2013, todas de personas que viven en Europa. En total tenemos acceso a 2 dias de transacciones, donde hubo un total de 284k transacciones con 492 fraudes. Los fraudes solo representan el **.172%** del total de transacciones.  \n",
        "\n",
        "El task es predecir el fraude. La variable `Class` es nuestro target ($y$). Las variables ya han sido preprocesadas con PCA para mantener anonimato, por lo que es algo dificil de interpretarlas directamnte."
      ]
    },
    {
      "cell_type": "markdown",
      "metadata": {
        "id": "4evb8BTFtMQR"
      },
      "source": [
        "# Librerias"
      ]
    },
    {
      "cell_type": "code",
      "metadata": {
        "id": "3sfFNgLztOuW"
      },
      "source": [
        "# Load libraries\n",
        "import numpy as np\n",
        "import pandas as pd\n",
        "from matplotlib import pyplot\n",
        "from pandas import read_csv, set_option\n",
        "from pandas.plotting import scatter_matrix\n",
        "import seaborn as sns\n",
        "from sklearn.model_selection import train_test_split, KFold, cross_val_score, GridSearchCV\n",
        "from sklearn.linear_model import LogisticRegression\n",
        "from sklearn.linear_model import ElasticNet\n",
        "from sklearn.tree import DecisionTreeClassifier\n",
        "from sklearn.neighbors import KNeighborsClassifier\n",
        "from sklearn.discriminant_analysis import LinearDiscriminantAnalysis\n",
        "from sklearn.naive_bayes import GaussianNB\n",
        "from sklearn.svm import SVC\n",
        "from sklearn.neural_network import MLPClassifier\n",
        "from sklearn.pipeline import Pipeline\n",
        "from sklearn.ensemble import AdaBoostClassifier, GradientBoostingClassifier, RandomForestClassifier, ExtraTreesClassifier\n",
        "from sklearn.metrics import classification_report, confusion_matrix, accuracy_score\n",
        "\n",
        "#Libraries for Deep Learning Models\n",
        "from keras.models import Sequential\n",
        "from keras.layers import Dense\n",
        "from keras.wrappers.scikit_learn import KerasClassifier\n",
        "from tensorflow.keras.optimizers import SGD\n",
        "\n",
        "#Libraries for Saving the Model\n",
        "from pickle import dump\n",
        "from pickle import load\n",
        "\n",
        "from pprint import pprint\n"
      ],
      "execution_count": 1,
      "outputs": []
    },
    {
      "cell_type": "code",
      "metadata": {
        "id": "2fUNPhaTHGCM"
      },
      "source": [
        "import warnings\n",
        "warnings.filterwarnings('ignore')"
      ],
      "execution_count": 2,
      "outputs": []
    },
    {
      "cell_type": "markdown",
      "metadata": {
        "id": "xqcGrvWOtPKl"
      },
      "source": [
        "# ETL"
      ]
    },
    {
      "cell_type": "markdown",
      "metadata": {
        "id": "F1cirjritpsj"
      },
      "source": [
        "Carguemos la funcion de pandas\n",
        "[pd.read_csv](https://pandas.pydata.org/pandas-docs/stable/reference/api/pandas.read_csv.html)"
      ]
    },
    {
      "cell_type": "code",
      "metadata": {
        "id": "_NRoMs6HtQQy"
      },
      "source": [
        "df= read_csv('https://github.com/uumami/workshop_riskmathics/blob/main/creditcard.csv.zip?raw=true',\n",
        "              compression='zip')\n"
      ],
      "execution_count": 3,
      "outputs": []
    },
    {
      "cell_type": "code",
      "metadata": {
        "colab": {
          "base_uri": "https://localhost:8080/",
          "height": 299
        },
        "id": "JFAxkE9C7GfZ",
        "outputId": "9379ffde-e225-4f90-8eac-04c0593e849b"
      },
      "source": [
        "df.head()"
      ],
      "execution_count": 4,
      "outputs": [
        {
          "output_type": "execute_result",
          "data": {
            "text/plain": [
              "   Time        V1        V2        V3        V4        V5        V6        V7  \\\n",
              "0   0.0 -1.359807 -0.072781  2.536347  1.378155 -0.338321  0.462388  0.239599   \n",
              "1   0.0  1.191857  0.266151  0.166480  0.448154  0.060018 -0.082361 -0.078803   \n",
              "2   1.0 -1.358354 -1.340163  1.773209  0.379780 -0.503198  1.800499  0.791461   \n",
              "3   1.0 -0.966272 -0.185226  1.792993 -0.863291 -0.010309  1.247203  0.237609   \n",
              "4   2.0 -1.158233  0.877737  1.548718  0.403034 -0.407193  0.095921  0.592941   \n",
              "\n",
              "         V8        V9  ...       V21       V22       V23       V24       V25  \\\n",
              "0  0.098698  0.363787  ... -0.018307  0.277838 -0.110474  0.066928  0.128539   \n",
              "1  0.085102 -0.255425  ... -0.225775 -0.638672  0.101288 -0.339846  0.167170   \n",
              "2  0.247676 -1.514654  ...  0.247998  0.771679  0.909412 -0.689281 -0.327642   \n",
              "3  0.377436 -1.387024  ... -0.108300  0.005274 -0.190321 -1.175575  0.647376   \n",
              "4 -0.270533  0.817739  ... -0.009431  0.798278 -0.137458  0.141267 -0.206010   \n",
              "\n",
              "        V26       V27       V28  Amount  Class  \n",
              "0 -0.189115  0.133558 -0.021053  149.62      0  \n",
              "1  0.125895 -0.008983  0.014724    2.69      0  \n",
              "2 -0.139097 -0.055353 -0.059752  378.66      0  \n",
              "3 -0.221929  0.062723  0.061458  123.50      0  \n",
              "4  0.502292  0.219422  0.215153   69.99      0  \n",
              "\n",
              "[5 rows x 31 columns]"
            ],
            "text/html": [
              "\n",
              "  <div id=\"df-d55120f6-0897-4a6d-84d7-3e020a388bff\">\n",
              "    <div class=\"colab-df-container\">\n",
              "      <div>\n",
              "<style scoped>\n",
              "    .dataframe tbody tr th:only-of-type {\n",
              "        vertical-align: middle;\n",
              "    }\n",
              "\n",
              "    .dataframe tbody tr th {\n",
              "        vertical-align: top;\n",
              "    }\n",
              "\n",
              "    .dataframe thead th {\n",
              "        text-align: right;\n",
              "    }\n",
              "</style>\n",
              "<table border=\"1\" class=\"dataframe\">\n",
              "  <thead>\n",
              "    <tr style=\"text-align: right;\">\n",
              "      <th></th>\n",
              "      <th>Time</th>\n",
              "      <th>V1</th>\n",
              "      <th>V2</th>\n",
              "      <th>V3</th>\n",
              "      <th>V4</th>\n",
              "      <th>V5</th>\n",
              "      <th>V6</th>\n",
              "      <th>V7</th>\n",
              "      <th>V8</th>\n",
              "      <th>V9</th>\n",
              "      <th>...</th>\n",
              "      <th>V21</th>\n",
              "      <th>V22</th>\n",
              "      <th>V23</th>\n",
              "      <th>V24</th>\n",
              "      <th>V25</th>\n",
              "      <th>V26</th>\n",
              "      <th>V27</th>\n",
              "      <th>V28</th>\n",
              "      <th>Amount</th>\n",
              "      <th>Class</th>\n",
              "    </tr>\n",
              "  </thead>\n",
              "  <tbody>\n",
              "    <tr>\n",
              "      <th>0</th>\n",
              "      <td>0.0</td>\n",
              "      <td>-1.359807</td>\n",
              "      <td>-0.072781</td>\n",
              "      <td>2.536347</td>\n",
              "      <td>1.378155</td>\n",
              "      <td>-0.338321</td>\n",
              "      <td>0.462388</td>\n",
              "      <td>0.239599</td>\n",
              "      <td>0.098698</td>\n",
              "      <td>0.363787</td>\n",
              "      <td>...</td>\n",
              "      <td>-0.018307</td>\n",
              "      <td>0.277838</td>\n",
              "      <td>-0.110474</td>\n",
              "      <td>0.066928</td>\n",
              "      <td>0.128539</td>\n",
              "      <td>-0.189115</td>\n",
              "      <td>0.133558</td>\n",
              "      <td>-0.021053</td>\n",
              "      <td>149.62</td>\n",
              "      <td>0</td>\n",
              "    </tr>\n",
              "    <tr>\n",
              "      <th>1</th>\n",
              "      <td>0.0</td>\n",
              "      <td>1.191857</td>\n",
              "      <td>0.266151</td>\n",
              "      <td>0.166480</td>\n",
              "      <td>0.448154</td>\n",
              "      <td>0.060018</td>\n",
              "      <td>-0.082361</td>\n",
              "      <td>-0.078803</td>\n",
              "      <td>0.085102</td>\n",
              "      <td>-0.255425</td>\n",
              "      <td>...</td>\n",
              "      <td>-0.225775</td>\n",
              "      <td>-0.638672</td>\n",
              "      <td>0.101288</td>\n",
              "      <td>-0.339846</td>\n",
              "      <td>0.167170</td>\n",
              "      <td>0.125895</td>\n",
              "      <td>-0.008983</td>\n",
              "      <td>0.014724</td>\n",
              "      <td>2.69</td>\n",
              "      <td>0</td>\n",
              "    </tr>\n",
              "    <tr>\n",
              "      <th>2</th>\n",
              "      <td>1.0</td>\n",
              "      <td>-1.358354</td>\n",
              "      <td>-1.340163</td>\n",
              "      <td>1.773209</td>\n",
              "      <td>0.379780</td>\n",
              "      <td>-0.503198</td>\n",
              "      <td>1.800499</td>\n",
              "      <td>0.791461</td>\n",
              "      <td>0.247676</td>\n",
              "      <td>-1.514654</td>\n",
              "      <td>...</td>\n",
              "      <td>0.247998</td>\n",
              "      <td>0.771679</td>\n",
              "      <td>0.909412</td>\n",
              "      <td>-0.689281</td>\n",
              "      <td>-0.327642</td>\n",
              "      <td>-0.139097</td>\n",
              "      <td>-0.055353</td>\n",
              "      <td>-0.059752</td>\n",
              "      <td>378.66</td>\n",
              "      <td>0</td>\n",
              "    </tr>\n",
              "    <tr>\n",
              "      <th>3</th>\n",
              "      <td>1.0</td>\n",
              "      <td>-0.966272</td>\n",
              "      <td>-0.185226</td>\n",
              "      <td>1.792993</td>\n",
              "      <td>-0.863291</td>\n",
              "      <td>-0.010309</td>\n",
              "      <td>1.247203</td>\n",
              "      <td>0.237609</td>\n",
              "      <td>0.377436</td>\n",
              "      <td>-1.387024</td>\n",
              "      <td>...</td>\n",
              "      <td>-0.108300</td>\n",
              "      <td>0.005274</td>\n",
              "      <td>-0.190321</td>\n",
              "      <td>-1.175575</td>\n",
              "      <td>0.647376</td>\n",
              "      <td>-0.221929</td>\n",
              "      <td>0.062723</td>\n",
              "      <td>0.061458</td>\n",
              "      <td>123.50</td>\n",
              "      <td>0</td>\n",
              "    </tr>\n",
              "    <tr>\n",
              "      <th>4</th>\n",
              "      <td>2.0</td>\n",
              "      <td>-1.158233</td>\n",
              "      <td>0.877737</td>\n",
              "      <td>1.548718</td>\n",
              "      <td>0.403034</td>\n",
              "      <td>-0.407193</td>\n",
              "      <td>0.095921</td>\n",
              "      <td>0.592941</td>\n",
              "      <td>-0.270533</td>\n",
              "      <td>0.817739</td>\n",
              "      <td>...</td>\n",
              "      <td>-0.009431</td>\n",
              "      <td>0.798278</td>\n",
              "      <td>-0.137458</td>\n",
              "      <td>0.141267</td>\n",
              "      <td>-0.206010</td>\n",
              "      <td>0.502292</td>\n",
              "      <td>0.219422</td>\n",
              "      <td>0.215153</td>\n",
              "      <td>69.99</td>\n",
              "      <td>0</td>\n",
              "    </tr>\n",
              "  </tbody>\n",
              "</table>\n",
              "<p>5 rows × 31 columns</p>\n",
              "</div>\n",
              "      <button class=\"colab-df-convert\" onclick=\"convertToInteractive('df-d55120f6-0897-4a6d-84d7-3e020a388bff')\"\n",
              "              title=\"Convert this dataframe to an interactive table.\"\n",
              "              style=\"display:none;\">\n",
              "        \n",
              "  <svg xmlns=\"http://www.w3.org/2000/svg\" height=\"24px\"viewBox=\"0 0 24 24\"\n",
              "       width=\"24px\">\n",
              "    <path d=\"M0 0h24v24H0V0z\" fill=\"none\"/>\n",
              "    <path d=\"M18.56 5.44l.94 2.06.94-2.06 2.06-.94-2.06-.94-.94-2.06-.94 2.06-2.06.94zm-11 1L8.5 8.5l.94-2.06 2.06-.94-2.06-.94L8.5 2.5l-.94 2.06-2.06.94zm10 10l.94 2.06.94-2.06 2.06-.94-2.06-.94-.94-2.06-.94 2.06-2.06.94z\"/><path d=\"M17.41 7.96l-1.37-1.37c-.4-.4-.92-.59-1.43-.59-.52 0-1.04.2-1.43.59L10.3 9.45l-7.72 7.72c-.78.78-.78 2.05 0 2.83L4 21.41c.39.39.9.59 1.41.59.51 0 1.02-.2 1.41-.59l7.78-7.78 2.81-2.81c.8-.78.8-2.07 0-2.86zM5.41 20L4 18.59l7.72-7.72 1.47 1.35L5.41 20z\"/>\n",
              "  </svg>\n",
              "      </button>\n",
              "      \n",
              "  <style>\n",
              "    .colab-df-container {\n",
              "      display:flex;\n",
              "      flex-wrap:wrap;\n",
              "      gap: 12px;\n",
              "    }\n",
              "\n",
              "    .colab-df-convert {\n",
              "      background-color: #E8F0FE;\n",
              "      border: none;\n",
              "      border-radius: 50%;\n",
              "      cursor: pointer;\n",
              "      display: none;\n",
              "      fill: #1967D2;\n",
              "      height: 32px;\n",
              "      padding: 0 0 0 0;\n",
              "      width: 32px;\n",
              "    }\n",
              "\n",
              "    .colab-df-convert:hover {\n",
              "      background-color: #E2EBFA;\n",
              "      box-shadow: 0px 1px 2px rgba(60, 64, 67, 0.3), 0px 1px 3px 1px rgba(60, 64, 67, 0.15);\n",
              "      fill: #174EA6;\n",
              "    }\n",
              "\n",
              "    [theme=dark] .colab-df-convert {\n",
              "      background-color: #3B4455;\n",
              "      fill: #D2E3FC;\n",
              "    }\n",
              "\n",
              "    [theme=dark] .colab-df-convert:hover {\n",
              "      background-color: #434B5C;\n",
              "      box-shadow: 0px 1px 3px 1px rgba(0, 0, 0, 0.15);\n",
              "      filter: drop-shadow(0px 1px 2px rgba(0, 0, 0, 0.3));\n",
              "      fill: #FFFFFF;\n",
              "    }\n",
              "  </style>\n",
              "\n",
              "      <script>\n",
              "        const buttonEl =\n",
              "          document.querySelector('#df-d55120f6-0897-4a6d-84d7-3e020a388bff button.colab-df-convert');\n",
              "        buttonEl.style.display =\n",
              "          google.colab.kernel.accessAllowed ? 'block' : 'none';\n",
              "\n",
              "        async function convertToInteractive(key) {\n",
              "          const element = document.querySelector('#df-d55120f6-0897-4a6d-84d7-3e020a388bff');\n",
              "          const dataTable =\n",
              "            await google.colab.kernel.invokeFunction('convertToInteractive',\n",
              "                                                     [key], {});\n",
              "          if (!dataTable) return;\n",
              "\n",
              "          const docLinkHtml = 'Like what you see? Visit the ' +\n",
              "            '<a target=\"_blank\" href=https://colab.research.google.com/notebooks/data_table.ipynb>data table notebook</a>'\n",
              "            + ' to learn more about interactive tables.';\n",
              "          element.innerHTML = '';\n",
              "          dataTable['output_type'] = 'display_data';\n",
              "          await google.colab.output.renderOutput(dataTable, element);\n",
              "          const docLink = document.createElement('div');\n",
              "          docLink.innerHTML = docLinkHtml;\n",
              "          element.appendChild(docLink);\n",
              "        }\n",
              "      </script>\n",
              "    </div>\n",
              "  </div>\n",
              "  "
            ]
          },
          "metadata": {},
          "execution_count": 4
        }
      ]
    },
    {
      "cell_type": "markdown",
      "metadata": {
        "id": "_sFRI2uJtx6o"
      },
      "source": [
        " Veamos su dimension"
      ]
    },
    {
      "cell_type": "code",
      "metadata": {
        "colab": {
          "base_uri": "https://localhost:8080/"
        },
        "id": "3fKU5JnjtkXb",
        "outputId": "fbf1df4b-40a6-4f27-ea88-8514cc9415d2"
      },
      "source": [
        "df.shape"
      ],
      "execution_count": 5,
      "outputs": [
        {
          "output_type": "execute_result",
          "data": {
            "text/plain": [
              "(284807, 31)"
            ]
          },
          "metadata": {},
          "execution_count": 5
        }
      ]
    },
    {
      "cell_type": "markdown",
      "metadata": {
        "id": "w_0bZw2qt0Im"
      },
      "source": [
        "Veamos su informacion general"
      ]
    },
    {
      "cell_type": "code",
      "metadata": {
        "colab": {
          "base_uri": "https://localhost:8080/"
        },
        "id": "q7NIs1TIt4Zp",
        "outputId": "5902a31c-0ab7-4bd2-ea4c-9a48842ff727"
      },
      "source": [
        "df.info()"
      ],
      "execution_count": 6,
      "outputs": [
        {
          "output_type": "stream",
          "name": "stdout",
          "text": [
            "<class 'pandas.core.frame.DataFrame'>\n",
            "RangeIndex: 284807 entries, 0 to 284806\n",
            "Data columns (total 31 columns):\n",
            " #   Column  Non-Null Count   Dtype  \n",
            "---  ------  --------------   -----  \n",
            " 0   Time    284807 non-null  float64\n",
            " 1   V1      284807 non-null  float64\n",
            " 2   V2      284807 non-null  float64\n",
            " 3   V3      284807 non-null  float64\n",
            " 4   V4      284807 non-null  float64\n",
            " 5   V5      284807 non-null  float64\n",
            " 6   V6      284807 non-null  float64\n",
            " 7   V7      284807 non-null  float64\n",
            " 8   V8      284807 non-null  float64\n",
            " 9   V9      284807 non-null  float64\n",
            " 10  V10     284807 non-null  float64\n",
            " 11  V11     284807 non-null  float64\n",
            " 12  V12     284807 non-null  float64\n",
            " 13  V13     284807 non-null  float64\n",
            " 14  V14     284807 non-null  float64\n",
            " 15  V15     284807 non-null  float64\n",
            " 16  V16     284807 non-null  float64\n",
            " 17  V17     284807 non-null  float64\n",
            " 18  V18     284807 non-null  float64\n",
            " 19  V19     284807 non-null  float64\n",
            " 20  V20     284807 non-null  float64\n",
            " 21  V21     284807 non-null  float64\n",
            " 22  V22     284807 non-null  float64\n",
            " 23  V23     284807 non-null  float64\n",
            " 24  V24     284807 non-null  float64\n",
            " 25  V25     284807 non-null  float64\n",
            " 26  V26     284807 non-null  float64\n",
            " 27  V27     284807 non-null  float64\n",
            " 28  V28     284807 non-null  float64\n",
            " 29  Amount  284807 non-null  float64\n",
            " 30  Class   284807 non-null  int64  \n",
            "dtypes: float64(30), int64(1)\n",
            "memory usage: 67.4 MB\n"
          ]
        }
      ]
    },
    {
      "cell_type": "markdown",
      "metadata": {
        "id": "yYKl0IeluA9u"
      },
      "source": [
        "En este caso no tuvimos muchos problemas, pues la informacion ha sido pre-procesada previamente con PCA que es una tecnica de reduccion de dimensionalidad."
      ]
    },
    {
      "cell_type": "markdown",
      "metadata": {
        "id": "Y0EyF1LDuS3R"
      },
      "source": [
        "# Exploratory Data Analysis"
      ]
    },
    {
      "cell_type": "code",
      "metadata": {
        "colab": {
          "base_uri": "https://localhost:8080/",
          "height": 299
        },
        "id": "kPPCZps7vFxR",
        "outputId": "2827e68c-de3f-4b26-8238-57cd33d865f2"
      },
      "source": [
        "df.head()"
      ],
      "execution_count": 7,
      "outputs": [
        {
          "output_type": "execute_result",
          "data": {
            "text/plain": [
              "   Time        V1        V2        V3        V4        V5        V6        V7  \\\n",
              "0   0.0 -1.359807 -0.072781  2.536347  1.378155 -0.338321  0.462388  0.239599   \n",
              "1   0.0  1.191857  0.266151  0.166480  0.448154  0.060018 -0.082361 -0.078803   \n",
              "2   1.0 -1.358354 -1.340163  1.773209  0.379780 -0.503198  1.800499  0.791461   \n",
              "3   1.0 -0.966272 -0.185226  1.792993 -0.863291 -0.010309  1.247203  0.237609   \n",
              "4   2.0 -1.158233  0.877737  1.548718  0.403034 -0.407193  0.095921  0.592941   \n",
              "\n",
              "         V8        V9  ...       V21       V22       V23       V24       V25  \\\n",
              "0  0.098698  0.363787  ... -0.018307  0.277838 -0.110474  0.066928  0.128539   \n",
              "1  0.085102 -0.255425  ... -0.225775 -0.638672  0.101288 -0.339846  0.167170   \n",
              "2  0.247676 -1.514654  ...  0.247998  0.771679  0.909412 -0.689281 -0.327642   \n",
              "3  0.377436 -1.387024  ... -0.108300  0.005274 -0.190321 -1.175575  0.647376   \n",
              "4 -0.270533  0.817739  ... -0.009431  0.798278 -0.137458  0.141267 -0.206010   \n",
              "\n",
              "        V26       V27       V28  Amount  Class  \n",
              "0 -0.189115  0.133558 -0.021053  149.62      0  \n",
              "1  0.125895 -0.008983  0.014724    2.69      0  \n",
              "2 -0.139097 -0.055353 -0.059752  378.66      0  \n",
              "3 -0.221929  0.062723  0.061458  123.50      0  \n",
              "4  0.502292  0.219422  0.215153   69.99      0  \n",
              "\n",
              "[5 rows x 31 columns]"
            ],
            "text/html": [
              "\n",
              "  <div id=\"df-18362a27-7ee6-4296-be4a-1d7627b2d0ac\">\n",
              "    <div class=\"colab-df-container\">\n",
              "      <div>\n",
              "<style scoped>\n",
              "    .dataframe tbody tr th:only-of-type {\n",
              "        vertical-align: middle;\n",
              "    }\n",
              "\n",
              "    .dataframe tbody tr th {\n",
              "        vertical-align: top;\n",
              "    }\n",
              "\n",
              "    .dataframe thead th {\n",
              "        text-align: right;\n",
              "    }\n",
              "</style>\n",
              "<table border=\"1\" class=\"dataframe\">\n",
              "  <thead>\n",
              "    <tr style=\"text-align: right;\">\n",
              "      <th></th>\n",
              "      <th>Time</th>\n",
              "      <th>V1</th>\n",
              "      <th>V2</th>\n",
              "      <th>V3</th>\n",
              "      <th>V4</th>\n",
              "      <th>V5</th>\n",
              "      <th>V6</th>\n",
              "      <th>V7</th>\n",
              "      <th>V8</th>\n",
              "      <th>V9</th>\n",
              "      <th>...</th>\n",
              "      <th>V21</th>\n",
              "      <th>V22</th>\n",
              "      <th>V23</th>\n",
              "      <th>V24</th>\n",
              "      <th>V25</th>\n",
              "      <th>V26</th>\n",
              "      <th>V27</th>\n",
              "      <th>V28</th>\n",
              "      <th>Amount</th>\n",
              "      <th>Class</th>\n",
              "    </tr>\n",
              "  </thead>\n",
              "  <tbody>\n",
              "    <tr>\n",
              "      <th>0</th>\n",
              "      <td>0.0</td>\n",
              "      <td>-1.359807</td>\n",
              "      <td>-0.072781</td>\n",
              "      <td>2.536347</td>\n",
              "      <td>1.378155</td>\n",
              "      <td>-0.338321</td>\n",
              "      <td>0.462388</td>\n",
              "      <td>0.239599</td>\n",
              "      <td>0.098698</td>\n",
              "      <td>0.363787</td>\n",
              "      <td>...</td>\n",
              "      <td>-0.018307</td>\n",
              "      <td>0.277838</td>\n",
              "      <td>-0.110474</td>\n",
              "      <td>0.066928</td>\n",
              "      <td>0.128539</td>\n",
              "      <td>-0.189115</td>\n",
              "      <td>0.133558</td>\n",
              "      <td>-0.021053</td>\n",
              "      <td>149.62</td>\n",
              "      <td>0</td>\n",
              "    </tr>\n",
              "    <tr>\n",
              "      <th>1</th>\n",
              "      <td>0.0</td>\n",
              "      <td>1.191857</td>\n",
              "      <td>0.266151</td>\n",
              "      <td>0.166480</td>\n",
              "      <td>0.448154</td>\n",
              "      <td>0.060018</td>\n",
              "      <td>-0.082361</td>\n",
              "      <td>-0.078803</td>\n",
              "      <td>0.085102</td>\n",
              "      <td>-0.255425</td>\n",
              "      <td>...</td>\n",
              "      <td>-0.225775</td>\n",
              "      <td>-0.638672</td>\n",
              "      <td>0.101288</td>\n",
              "      <td>-0.339846</td>\n",
              "      <td>0.167170</td>\n",
              "      <td>0.125895</td>\n",
              "      <td>-0.008983</td>\n",
              "      <td>0.014724</td>\n",
              "      <td>2.69</td>\n",
              "      <td>0</td>\n",
              "    </tr>\n",
              "    <tr>\n",
              "      <th>2</th>\n",
              "      <td>1.0</td>\n",
              "      <td>-1.358354</td>\n",
              "      <td>-1.340163</td>\n",
              "      <td>1.773209</td>\n",
              "      <td>0.379780</td>\n",
              "      <td>-0.503198</td>\n",
              "      <td>1.800499</td>\n",
              "      <td>0.791461</td>\n",
              "      <td>0.247676</td>\n",
              "      <td>-1.514654</td>\n",
              "      <td>...</td>\n",
              "      <td>0.247998</td>\n",
              "      <td>0.771679</td>\n",
              "      <td>0.909412</td>\n",
              "      <td>-0.689281</td>\n",
              "      <td>-0.327642</td>\n",
              "      <td>-0.139097</td>\n",
              "      <td>-0.055353</td>\n",
              "      <td>-0.059752</td>\n",
              "      <td>378.66</td>\n",
              "      <td>0</td>\n",
              "    </tr>\n",
              "    <tr>\n",
              "      <th>3</th>\n",
              "      <td>1.0</td>\n",
              "      <td>-0.966272</td>\n",
              "      <td>-0.185226</td>\n",
              "      <td>1.792993</td>\n",
              "      <td>-0.863291</td>\n",
              "      <td>-0.010309</td>\n",
              "      <td>1.247203</td>\n",
              "      <td>0.237609</td>\n",
              "      <td>0.377436</td>\n",
              "      <td>-1.387024</td>\n",
              "      <td>...</td>\n",
              "      <td>-0.108300</td>\n",
              "      <td>0.005274</td>\n",
              "      <td>-0.190321</td>\n",
              "      <td>-1.175575</td>\n",
              "      <td>0.647376</td>\n",
              "      <td>-0.221929</td>\n",
              "      <td>0.062723</td>\n",
              "      <td>0.061458</td>\n",
              "      <td>123.50</td>\n",
              "      <td>0</td>\n",
              "    </tr>\n",
              "    <tr>\n",
              "      <th>4</th>\n",
              "      <td>2.0</td>\n",
              "      <td>-1.158233</td>\n",
              "      <td>0.877737</td>\n",
              "      <td>1.548718</td>\n",
              "      <td>0.403034</td>\n",
              "      <td>-0.407193</td>\n",
              "      <td>0.095921</td>\n",
              "      <td>0.592941</td>\n",
              "      <td>-0.270533</td>\n",
              "      <td>0.817739</td>\n",
              "      <td>...</td>\n",
              "      <td>-0.009431</td>\n",
              "      <td>0.798278</td>\n",
              "      <td>-0.137458</td>\n",
              "      <td>0.141267</td>\n",
              "      <td>-0.206010</td>\n",
              "      <td>0.502292</td>\n",
              "      <td>0.219422</td>\n",
              "      <td>0.215153</td>\n",
              "      <td>69.99</td>\n",
              "      <td>0</td>\n",
              "    </tr>\n",
              "  </tbody>\n",
              "</table>\n",
              "<p>5 rows × 31 columns</p>\n",
              "</div>\n",
              "      <button class=\"colab-df-convert\" onclick=\"convertToInteractive('df-18362a27-7ee6-4296-be4a-1d7627b2d0ac')\"\n",
              "              title=\"Convert this dataframe to an interactive table.\"\n",
              "              style=\"display:none;\">\n",
              "        \n",
              "  <svg xmlns=\"http://www.w3.org/2000/svg\" height=\"24px\"viewBox=\"0 0 24 24\"\n",
              "       width=\"24px\">\n",
              "    <path d=\"M0 0h24v24H0V0z\" fill=\"none\"/>\n",
              "    <path d=\"M18.56 5.44l.94 2.06.94-2.06 2.06-.94-2.06-.94-.94-2.06-.94 2.06-2.06.94zm-11 1L8.5 8.5l.94-2.06 2.06-.94-2.06-.94L8.5 2.5l-.94 2.06-2.06.94zm10 10l.94 2.06.94-2.06 2.06-.94-2.06-.94-.94-2.06-.94 2.06-2.06.94z\"/><path d=\"M17.41 7.96l-1.37-1.37c-.4-.4-.92-.59-1.43-.59-.52 0-1.04.2-1.43.59L10.3 9.45l-7.72 7.72c-.78.78-.78 2.05 0 2.83L4 21.41c.39.39.9.59 1.41.59.51 0 1.02-.2 1.41-.59l7.78-7.78 2.81-2.81c.8-.78.8-2.07 0-2.86zM5.41 20L4 18.59l7.72-7.72 1.47 1.35L5.41 20z\"/>\n",
              "  </svg>\n",
              "      </button>\n",
              "      \n",
              "  <style>\n",
              "    .colab-df-container {\n",
              "      display:flex;\n",
              "      flex-wrap:wrap;\n",
              "      gap: 12px;\n",
              "    }\n",
              "\n",
              "    .colab-df-convert {\n",
              "      background-color: #E8F0FE;\n",
              "      border: none;\n",
              "      border-radius: 50%;\n",
              "      cursor: pointer;\n",
              "      display: none;\n",
              "      fill: #1967D2;\n",
              "      height: 32px;\n",
              "      padding: 0 0 0 0;\n",
              "      width: 32px;\n",
              "    }\n",
              "\n",
              "    .colab-df-convert:hover {\n",
              "      background-color: #E2EBFA;\n",
              "      box-shadow: 0px 1px 2px rgba(60, 64, 67, 0.3), 0px 1px 3px 1px rgba(60, 64, 67, 0.15);\n",
              "      fill: #174EA6;\n",
              "    }\n",
              "\n",
              "    [theme=dark] .colab-df-convert {\n",
              "      background-color: #3B4455;\n",
              "      fill: #D2E3FC;\n",
              "    }\n",
              "\n",
              "    [theme=dark] .colab-df-convert:hover {\n",
              "      background-color: #434B5C;\n",
              "      box-shadow: 0px 1px 3px 1px rgba(0, 0, 0, 0.15);\n",
              "      filter: drop-shadow(0px 1px 2px rgba(0, 0, 0, 0.3));\n",
              "      fill: #FFFFFF;\n",
              "    }\n",
              "  </style>\n",
              "\n",
              "      <script>\n",
              "        const buttonEl =\n",
              "          document.querySelector('#df-18362a27-7ee6-4296-be4a-1d7627b2d0ac button.colab-df-convert');\n",
              "        buttonEl.style.display =\n",
              "          google.colab.kernel.accessAllowed ? 'block' : 'none';\n",
              "\n",
              "        async function convertToInteractive(key) {\n",
              "          const element = document.querySelector('#df-18362a27-7ee6-4296-be4a-1d7627b2d0ac');\n",
              "          const dataTable =\n",
              "            await google.colab.kernel.invokeFunction('convertToInteractive',\n",
              "                                                     [key], {});\n",
              "          if (!dataTable) return;\n",
              "\n",
              "          const docLinkHtml = 'Like what you see? Visit the ' +\n",
              "            '<a target=\"_blank\" href=https://colab.research.google.com/notebooks/data_table.ipynb>data table notebook</a>'\n",
              "            + ' to learn more about interactive tables.';\n",
              "          element.innerHTML = '';\n",
              "          dataTable['output_type'] = 'display_data';\n",
              "          await google.colab.output.renderOutput(dataTable, element);\n",
              "          const docLink = document.createElement('div');\n",
              "          docLink.innerHTML = docLinkHtml;\n",
              "          element.appendChild(docLink);\n",
              "        }\n",
              "      </script>\n",
              "    </div>\n",
              "  </div>\n",
              "  "
            ]
          },
          "metadata": {},
          "execution_count": 7
        }
      ]
    },
    {
      "cell_type": "code",
      "metadata": {
        "colab": {
          "base_uri": "https://localhost:8080/",
          "height": 394
        },
        "id": "HvaRODHPuTo4",
        "outputId": "57a32cbf-acc3-416e-df64-716cc204e55e"
      },
      "source": [
        "df.describe()"
      ],
      "execution_count": 8,
      "outputs": [
        {
          "output_type": "execute_result",
          "data": {
            "text/plain": [
              "                Time            V1            V2            V3            V4  \\\n",
              "count  284807.000000  2.848070e+05  2.848070e+05  2.848070e+05  2.848070e+05   \n",
              "mean    94813.859575  3.918649e-15  5.682686e-16 -8.761736e-15  2.811118e-15   \n",
              "std     47488.145955  1.958696e+00  1.651309e+00  1.516255e+00  1.415869e+00   \n",
              "min         0.000000 -5.640751e+01 -7.271573e+01 -4.832559e+01 -5.683171e+00   \n",
              "25%     54201.500000 -9.203734e-01 -5.985499e-01 -8.903648e-01 -8.486401e-01   \n",
              "50%     84692.000000  1.810880e-02  6.548556e-02  1.798463e-01 -1.984653e-02   \n",
              "75%    139320.500000  1.315642e+00  8.037239e-01  1.027196e+00  7.433413e-01   \n",
              "max    172792.000000  2.454930e+00  2.205773e+01  9.382558e+00  1.687534e+01   \n",
              "\n",
              "                 V5            V6            V7            V8            V9  \\\n",
              "count  2.848070e+05  2.848070e+05  2.848070e+05  2.848070e+05  2.848070e+05   \n",
              "mean  -1.552103e-15  2.040130e-15 -1.698953e-15 -1.893285e-16 -3.147640e-15   \n",
              "std    1.380247e+00  1.332271e+00  1.237094e+00  1.194353e+00  1.098632e+00   \n",
              "min   -1.137433e+02 -2.616051e+01 -4.355724e+01 -7.321672e+01 -1.343407e+01   \n",
              "25%   -6.915971e-01 -7.682956e-01 -5.540759e-01 -2.086297e-01 -6.430976e-01   \n",
              "50%   -5.433583e-02 -2.741871e-01  4.010308e-02  2.235804e-02 -5.142873e-02   \n",
              "75%    6.119264e-01  3.985649e-01  5.704361e-01  3.273459e-01  5.971390e-01   \n",
              "max    3.480167e+01  7.330163e+01  1.205895e+02  2.000721e+01  1.559499e+01   \n",
              "\n",
              "       ...           V21           V22           V23           V24  \\\n",
              "count  ...  2.848070e+05  2.848070e+05  2.848070e+05  2.848070e+05   \n",
              "mean   ...  1.473120e-16  8.042109e-16  5.282512e-16  4.456271e-15   \n",
              "std    ...  7.345240e-01  7.257016e-01  6.244603e-01  6.056471e-01   \n",
              "min    ... -3.483038e+01 -1.093314e+01 -4.480774e+01 -2.836627e+00   \n",
              "25%    ... -2.283949e-01 -5.423504e-01 -1.618463e-01 -3.545861e-01   \n",
              "50%    ... -2.945017e-02  6.781943e-03 -1.119293e-02  4.097606e-02   \n",
              "75%    ...  1.863772e-01  5.285536e-01  1.476421e-01  4.395266e-01   \n",
              "max    ...  2.720284e+01  1.050309e+01  2.252841e+01  4.584549e+00   \n",
              "\n",
              "                V25           V26           V27           V28         Amount  \\\n",
              "count  2.848070e+05  2.848070e+05  2.848070e+05  2.848070e+05  284807.000000   \n",
              "mean   1.426896e-15  1.701640e-15 -3.662252e-16 -1.217809e-16      88.349619   \n",
              "std    5.212781e-01  4.822270e-01  4.036325e-01  3.300833e-01     250.120109   \n",
              "min   -1.029540e+01 -2.604551e+00 -2.256568e+01 -1.543008e+01       0.000000   \n",
              "25%   -3.171451e-01 -3.269839e-01 -7.083953e-02 -5.295979e-02       5.600000   \n",
              "50%    1.659350e-02 -5.213911e-02  1.342146e-03  1.124383e-02      22.000000   \n",
              "75%    3.507156e-01  2.409522e-01  9.104512e-02  7.827995e-02      77.165000   \n",
              "max    7.519589e+00  3.517346e+00  3.161220e+01  3.384781e+01   25691.160000   \n",
              "\n",
              "               Class  \n",
              "count  284807.000000  \n",
              "mean        0.001727  \n",
              "std         0.041527  \n",
              "min         0.000000  \n",
              "25%         0.000000  \n",
              "50%         0.000000  \n",
              "75%         0.000000  \n",
              "max         1.000000  \n",
              "\n",
              "[8 rows x 31 columns]"
            ],
            "text/html": [
              "\n",
              "  <div id=\"df-e4201f36-dba3-4739-9949-03083f96256c\">\n",
              "    <div class=\"colab-df-container\">\n",
              "      <div>\n",
              "<style scoped>\n",
              "    .dataframe tbody tr th:only-of-type {\n",
              "        vertical-align: middle;\n",
              "    }\n",
              "\n",
              "    .dataframe tbody tr th {\n",
              "        vertical-align: top;\n",
              "    }\n",
              "\n",
              "    .dataframe thead th {\n",
              "        text-align: right;\n",
              "    }\n",
              "</style>\n",
              "<table border=\"1\" class=\"dataframe\">\n",
              "  <thead>\n",
              "    <tr style=\"text-align: right;\">\n",
              "      <th></th>\n",
              "      <th>Time</th>\n",
              "      <th>V1</th>\n",
              "      <th>V2</th>\n",
              "      <th>V3</th>\n",
              "      <th>V4</th>\n",
              "      <th>V5</th>\n",
              "      <th>V6</th>\n",
              "      <th>V7</th>\n",
              "      <th>V8</th>\n",
              "      <th>V9</th>\n",
              "      <th>...</th>\n",
              "      <th>V21</th>\n",
              "      <th>V22</th>\n",
              "      <th>V23</th>\n",
              "      <th>V24</th>\n",
              "      <th>V25</th>\n",
              "      <th>V26</th>\n",
              "      <th>V27</th>\n",
              "      <th>V28</th>\n",
              "      <th>Amount</th>\n",
              "      <th>Class</th>\n",
              "    </tr>\n",
              "  </thead>\n",
              "  <tbody>\n",
              "    <tr>\n",
              "      <th>count</th>\n",
              "      <td>284807.000000</td>\n",
              "      <td>2.848070e+05</td>\n",
              "      <td>2.848070e+05</td>\n",
              "      <td>2.848070e+05</td>\n",
              "      <td>2.848070e+05</td>\n",
              "      <td>2.848070e+05</td>\n",
              "      <td>2.848070e+05</td>\n",
              "      <td>2.848070e+05</td>\n",
              "      <td>2.848070e+05</td>\n",
              "      <td>2.848070e+05</td>\n",
              "      <td>...</td>\n",
              "      <td>2.848070e+05</td>\n",
              "      <td>2.848070e+05</td>\n",
              "      <td>2.848070e+05</td>\n",
              "      <td>2.848070e+05</td>\n",
              "      <td>2.848070e+05</td>\n",
              "      <td>2.848070e+05</td>\n",
              "      <td>2.848070e+05</td>\n",
              "      <td>2.848070e+05</td>\n",
              "      <td>284807.000000</td>\n",
              "      <td>284807.000000</td>\n",
              "    </tr>\n",
              "    <tr>\n",
              "      <th>mean</th>\n",
              "      <td>94813.859575</td>\n",
              "      <td>3.918649e-15</td>\n",
              "      <td>5.682686e-16</td>\n",
              "      <td>-8.761736e-15</td>\n",
              "      <td>2.811118e-15</td>\n",
              "      <td>-1.552103e-15</td>\n",
              "      <td>2.040130e-15</td>\n",
              "      <td>-1.698953e-15</td>\n",
              "      <td>-1.893285e-16</td>\n",
              "      <td>-3.147640e-15</td>\n",
              "      <td>...</td>\n",
              "      <td>1.473120e-16</td>\n",
              "      <td>8.042109e-16</td>\n",
              "      <td>5.282512e-16</td>\n",
              "      <td>4.456271e-15</td>\n",
              "      <td>1.426896e-15</td>\n",
              "      <td>1.701640e-15</td>\n",
              "      <td>-3.662252e-16</td>\n",
              "      <td>-1.217809e-16</td>\n",
              "      <td>88.349619</td>\n",
              "      <td>0.001727</td>\n",
              "    </tr>\n",
              "    <tr>\n",
              "      <th>std</th>\n",
              "      <td>47488.145955</td>\n",
              "      <td>1.958696e+00</td>\n",
              "      <td>1.651309e+00</td>\n",
              "      <td>1.516255e+00</td>\n",
              "      <td>1.415869e+00</td>\n",
              "      <td>1.380247e+00</td>\n",
              "      <td>1.332271e+00</td>\n",
              "      <td>1.237094e+00</td>\n",
              "      <td>1.194353e+00</td>\n",
              "      <td>1.098632e+00</td>\n",
              "      <td>...</td>\n",
              "      <td>7.345240e-01</td>\n",
              "      <td>7.257016e-01</td>\n",
              "      <td>6.244603e-01</td>\n",
              "      <td>6.056471e-01</td>\n",
              "      <td>5.212781e-01</td>\n",
              "      <td>4.822270e-01</td>\n",
              "      <td>4.036325e-01</td>\n",
              "      <td>3.300833e-01</td>\n",
              "      <td>250.120109</td>\n",
              "      <td>0.041527</td>\n",
              "    </tr>\n",
              "    <tr>\n",
              "      <th>min</th>\n",
              "      <td>0.000000</td>\n",
              "      <td>-5.640751e+01</td>\n",
              "      <td>-7.271573e+01</td>\n",
              "      <td>-4.832559e+01</td>\n",
              "      <td>-5.683171e+00</td>\n",
              "      <td>-1.137433e+02</td>\n",
              "      <td>-2.616051e+01</td>\n",
              "      <td>-4.355724e+01</td>\n",
              "      <td>-7.321672e+01</td>\n",
              "      <td>-1.343407e+01</td>\n",
              "      <td>...</td>\n",
              "      <td>-3.483038e+01</td>\n",
              "      <td>-1.093314e+01</td>\n",
              "      <td>-4.480774e+01</td>\n",
              "      <td>-2.836627e+00</td>\n",
              "      <td>-1.029540e+01</td>\n",
              "      <td>-2.604551e+00</td>\n",
              "      <td>-2.256568e+01</td>\n",
              "      <td>-1.543008e+01</td>\n",
              "      <td>0.000000</td>\n",
              "      <td>0.000000</td>\n",
              "    </tr>\n",
              "    <tr>\n",
              "      <th>25%</th>\n",
              "      <td>54201.500000</td>\n",
              "      <td>-9.203734e-01</td>\n",
              "      <td>-5.985499e-01</td>\n",
              "      <td>-8.903648e-01</td>\n",
              "      <td>-8.486401e-01</td>\n",
              "      <td>-6.915971e-01</td>\n",
              "      <td>-7.682956e-01</td>\n",
              "      <td>-5.540759e-01</td>\n",
              "      <td>-2.086297e-01</td>\n",
              "      <td>-6.430976e-01</td>\n",
              "      <td>...</td>\n",
              "      <td>-2.283949e-01</td>\n",
              "      <td>-5.423504e-01</td>\n",
              "      <td>-1.618463e-01</td>\n",
              "      <td>-3.545861e-01</td>\n",
              "      <td>-3.171451e-01</td>\n",
              "      <td>-3.269839e-01</td>\n",
              "      <td>-7.083953e-02</td>\n",
              "      <td>-5.295979e-02</td>\n",
              "      <td>5.600000</td>\n",
              "      <td>0.000000</td>\n",
              "    </tr>\n",
              "    <tr>\n",
              "      <th>50%</th>\n",
              "      <td>84692.000000</td>\n",
              "      <td>1.810880e-02</td>\n",
              "      <td>6.548556e-02</td>\n",
              "      <td>1.798463e-01</td>\n",
              "      <td>-1.984653e-02</td>\n",
              "      <td>-5.433583e-02</td>\n",
              "      <td>-2.741871e-01</td>\n",
              "      <td>4.010308e-02</td>\n",
              "      <td>2.235804e-02</td>\n",
              "      <td>-5.142873e-02</td>\n",
              "      <td>...</td>\n",
              "      <td>-2.945017e-02</td>\n",
              "      <td>6.781943e-03</td>\n",
              "      <td>-1.119293e-02</td>\n",
              "      <td>4.097606e-02</td>\n",
              "      <td>1.659350e-02</td>\n",
              "      <td>-5.213911e-02</td>\n",
              "      <td>1.342146e-03</td>\n",
              "      <td>1.124383e-02</td>\n",
              "      <td>22.000000</td>\n",
              "      <td>0.000000</td>\n",
              "    </tr>\n",
              "    <tr>\n",
              "      <th>75%</th>\n",
              "      <td>139320.500000</td>\n",
              "      <td>1.315642e+00</td>\n",
              "      <td>8.037239e-01</td>\n",
              "      <td>1.027196e+00</td>\n",
              "      <td>7.433413e-01</td>\n",
              "      <td>6.119264e-01</td>\n",
              "      <td>3.985649e-01</td>\n",
              "      <td>5.704361e-01</td>\n",
              "      <td>3.273459e-01</td>\n",
              "      <td>5.971390e-01</td>\n",
              "      <td>...</td>\n",
              "      <td>1.863772e-01</td>\n",
              "      <td>5.285536e-01</td>\n",
              "      <td>1.476421e-01</td>\n",
              "      <td>4.395266e-01</td>\n",
              "      <td>3.507156e-01</td>\n",
              "      <td>2.409522e-01</td>\n",
              "      <td>9.104512e-02</td>\n",
              "      <td>7.827995e-02</td>\n",
              "      <td>77.165000</td>\n",
              "      <td>0.000000</td>\n",
              "    </tr>\n",
              "    <tr>\n",
              "      <th>max</th>\n",
              "      <td>172792.000000</td>\n",
              "      <td>2.454930e+00</td>\n",
              "      <td>2.205773e+01</td>\n",
              "      <td>9.382558e+00</td>\n",
              "      <td>1.687534e+01</td>\n",
              "      <td>3.480167e+01</td>\n",
              "      <td>7.330163e+01</td>\n",
              "      <td>1.205895e+02</td>\n",
              "      <td>2.000721e+01</td>\n",
              "      <td>1.559499e+01</td>\n",
              "      <td>...</td>\n",
              "      <td>2.720284e+01</td>\n",
              "      <td>1.050309e+01</td>\n",
              "      <td>2.252841e+01</td>\n",
              "      <td>4.584549e+00</td>\n",
              "      <td>7.519589e+00</td>\n",
              "      <td>3.517346e+00</td>\n",
              "      <td>3.161220e+01</td>\n",
              "      <td>3.384781e+01</td>\n",
              "      <td>25691.160000</td>\n",
              "      <td>1.000000</td>\n",
              "    </tr>\n",
              "  </tbody>\n",
              "</table>\n",
              "<p>8 rows × 31 columns</p>\n",
              "</div>\n",
              "      <button class=\"colab-df-convert\" onclick=\"convertToInteractive('df-e4201f36-dba3-4739-9949-03083f96256c')\"\n",
              "              title=\"Convert this dataframe to an interactive table.\"\n",
              "              style=\"display:none;\">\n",
              "        \n",
              "  <svg xmlns=\"http://www.w3.org/2000/svg\" height=\"24px\"viewBox=\"0 0 24 24\"\n",
              "       width=\"24px\">\n",
              "    <path d=\"M0 0h24v24H0V0z\" fill=\"none\"/>\n",
              "    <path d=\"M18.56 5.44l.94 2.06.94-2.06 2.06-.94-2.06-.94-.94-2.06-.94 2.06-2.06.94zm-11 1L8.5 8.5l.94-2.06 2.06-.94-2.06-.94L8.5 2.5l-.94 2.06-2.06.94zm10 10l.94 2.06.94-2.06 2.06-.94-2.06-.94-.94-2.06-.94 2.06-2.06.94z\"/><path d=\"M17.41 7.96l-1.37-1.37c-.4-.4-.92-.59-1.43-.59-.52 0-1.04.2-1.43.59L10.3 9.45l-7.72 7.72c-.78.78-.78 2.05 0 2.83L4 21.41c.39.39.9.59 1.41.59.51 0 1.02-.2 1.41-.59l7.78-7.78 2.81-2.81c.8-.78.8-2.07 0-2.86zM5.41 20L4 18.59l7.72-7.72 1.47 1.35L5.41 20z\"/>\n",
              "  </svg>\n",
              "      </button>\n",
              "      \n",
              "  <style>\n",
              "    .colab-df-container {\n",
              "      display:flex;\n",
              "      flex-wrap:wrap;\n",
              "      gap: 12px;\n",
              "    }\n",
              "\n",
              "    .colab-df-convert {\n",
              "      background-color: #E8F0FE;\n",
              "      border: none;\n",
              "      border-radius: 50%;\n",
              "      cursor: pointer;\n",
              "      display: none;\n",
              "      fill: #1967D2;\n",
              "      height: 32px;\n",
              "      padding: 0 0 0 0;\n",
              "      width: 32px;\n",
              "    }\n",
              "\n",
              "    .colab-df-convert:hover {\n",
              "      background-color: #E2EBFA;\n",
              "      box-shadow: 0px 1px 2px rgba(60, 64, 67, 0.3), 0px 1px 3px 1px rgba(60, 64, 67, 0.15);\n",
              "      fill: #174EA6;\n",
              "    }\n",
              "\n",
              "    [theme=dark] .colab-df-convert {\n",
              "      background-color: #3B4455;\n",
              "      fill: #D2E3FC;\n",
              "    }\n",
              "\n",
              "    [theme=dark] .colab-df-convert:hover {\n",
              "      background-color: #434B5C;\n",
              "      box-shadow: 0px 1px 3px 1px rgba(0, 0, 0, 0.15);\n",
              "      filter: drop-shadow(0px 1px 2px rgba(0, 0, 0, 0.3));\n",
              "      fill: #FFFFFF;\n",
              "    }\n",
              "  </style>\n",
              "\n",
              "      <script>\n",
              "        const buttonEl =\n",
              "          document.querySelector('#df-e4201f36-dba3-4739-9949-03083f96256c button.colab-df-convert');\n",
              "        buttonEl.style.display =\n",
              "          google.colab.kernel.accessAllowed ? 'block' : 'none';\n",
              "\n",
              "        async function convertToInteractive(key) {\n",
              "          const element = document.querySelector('#df-e4201f36-dba3-4739-9949-03083f96256c');\n",
              "          const dataTable =\n",
              "            await google.colab.kernel.invokeFunction('convertToInteractive',\n",
              "                                                     [key], {});\n",
              "          if (!dataTable) return;\n",
              "\n",
              "          const docLinkHtml = 'Like what you see? Visit the ' +\n",
              "            '<a target=\"_blank\" href=https://colab.research.google.com/notebooks/data_table.ipynb>data table notebook</a>'\n",
              "            + ' to learn more about interactive tables.';\n",
              "          element.innerHTML = '';\n",
              "          dataTable['output_type'] = 'display_data';\n",
              "          await google.colab.output.renderOutput(dataTable, element);\n",
              "          const docLink = document.createElement('div');\n",
              "          docLink.innerHTML = docLinkHtml;\n",
              "          element.appendChild(docLink);\n",
              "        }\n",
              "      </script>\n",
              "    </div>\n",
              "  </div>\n",
              "  "
            ]
          },
          "metadata": {},
          "execution_count": 8
        }
      ]
    },
    {
      "cell_type": "markdown",
      "metadata": {
        "id": "Y4PEjw6Euh2-"
      },
      "source": [
        "**Balanceo de Y**"
      ]
    },
    {
      "cell_type": "code",
      "metadata": {
        "colab": {
          "base_uri": "https://localhost:8080/"
        },
        "id": "IlBzUaTvunHg",
        "outputId": "d3626365-4882-443c-d916-0b695da601b5"
      },
      "source": [
        "class_names = {0:'Not Fraud', 1:'Fraud'}\n",
        "print(df.Class.value_counts().rename(index = class_names))"
      ],
      "execution_count": 9,
      "outputs": [
        {
          "output_type": "stream",
          "name": "stdout",
          "text": [
            "Not Fraud    284315\n",
            "Fraud           492\n",
            "Name: Class, dtype: int64\n"
          ]
        }
      ]
    },
    {
      "cell_type": "markdown",
      "metadata": {
        "id": "BUSDGddRuwI6"
      },
      "source": [
        "Podemos observar como nuestras clases estan extremadamente desbalanceadas, la mayoria no son fraude."
      ]
    },
    {
      "cell_type": "markdown",
      "metadata": {
        "id": "XlcjeWPju2vV"
      },
      "source": [
        "## Descripciones Visuales y Graficas"
      ]
    },
    {
      "cell_type": "code",
      "metadata": {
        "colab": {
          "base_uri": "https://localhost:8080/",
          "height": 707
        },
        "id": "rVzrsrB7u7d3",
        "outputId": "b0eaee9d-9d85-45f0-9a31-146b420a3727"
      },
      "source": [
        "# histograms\n",
        "df.hist(sharex=False, sharey=False, xlabelsize=1, ylabelsize=1, figsize=(12,12))\n",
        "pyplot.show()"
      ],
      "execution_count": 10,
      "outputs": [
        {
          "output_type": "display_data",
          "data": {
            "text/plain": [
              "<Figure size 864x864 with 36 Axes>"
            ],
            "image/png": "[encoded data removed]"
          },
          "metadata": {
            "needs_background": "light"
          }
        }
      ]
    },
    {
      "cell_type": "markdown",
      "metadata": {
        "id": "eMninTipvK5Q"
      },
      "source": [
        "Podemos observar que la distribucion de los datos esta sesgada. Pero, dado que no conocemos el significado de cada variable, es dificil tener una interpretacion."
      ]
    },
    {
      "cell_type": "code",
      "metadata": {
        "id": "uYc93CEavXom",
        "colab": {
          "base_uri": "https://localhost:8080/",
          "height": 300
        },
        "outputId": "7c16b07a-1090-4406-ba10-f72f8ee96dd1"
      },
      "source": [
        "df[['Time', 'Amount']].describe()"
      ],
      "execution_count": 11,
      "outputs": [
        {
          "output_type": "execute_result",
          "data": {
            "text/plain": [
              "                Time         Amount\n",
              "count  284807.000000  284807.000000\n",
              "mean    94813.859575      88.349619\n",
              "std     47488.145955     250.120109\n",
              "min         0.000000       0.000000\n",
              "25%     54201.500000       5.600000\n",
              "50%     84692.000000      22.000000\n",
              "75%    139320.500000      77.165000\n",
              "max    172792.000000   25691.160000"
            ],
            "text/html": [
              "\n",
              "  <div id=\"df-eac2c986-4249-433e-9d0e-6012298ee19a\">\n",
              "    <div class=\"colab-df-container\">\n",
              "      <div>\n",
              "<style scoped>\n",
              "    .dataframe tbody tr th:only-of-type {\n",
              "        vertical-align: middle;\n",
              "    }\n",
              "\n",
              "    .dataframe tbody tr th {\n",
              "        vertical-align: top;\n",
              "    }\n",
              "\n",
              "    .dataframe thead th {\n",
              "        text-align: right;\n",
              "    }\n",
              "</style>\n",
              "<table border=\"1\" class=\"dataframe\">\n",
              "  <thead>\n",
              "    <tr style=\"text-align: right;\">\n",
              "      <th></th>\n",
              "      <th>Time</th>\n",
              "      <th>Amount</th>\n",
              "    </tr>\n",
              "  </thead>\n",
              "  <tbody>\n",
              "    <tr>\n",
              "      <th>count</th>\n",
              "      <td>284807.000000</td>\n",
              "      <td>284807.000000</td>\n",
              "    </tr>\n",
              "    <tr>\n",
              "      <th>mean</th>\n",
              "      <td>94813.859575</td>\n",
              "      <td>88.349619</td>\n",
              "    </tr>\n",
              "    <tr>\n",
              "      <th>std</th>\n",
              "      <td>47488.145955</td>\n",
              "      <td>250.120109</td>\n",
              "    </tr>\n",
              "    <tr>\n",
              "      <th>min</th>\n",
              "      <td>0.000000</td>\n",
              "      <td>0.000000</td>\n",
              "    </tr>\n",
              "    <tr>\n",
              "      <th>25%</th>\n",
              "      <td>54201.500000</td>\n",
              "      <td>5.600000</td>\n",
              "    </tr>\n",
              "    <tr>\n",
              "      <th>50%</th>\n",
              "      <td>84692.000000</td>\n",
              "      <td>22.000000</td>\n",
              "    </tr>\n",
              "    <tr>\n",
              "      <th>75%</th>\n",
              "      <td>139320.500000</td>\n",
              "      <td>77.165000</td>\n",
              "    </tr>\n",
              "    <tr>\n",
              "      <th>max</th>\n",
              "      <td>172792.000000</td>\n",
              "      <td>25691.160000</td>\n",
              "    </tr>\n",
              "  </tbody>\n",
              "</table>\n",
              "</div>\n",
              "      <button class=\"colab-df-convert\" onclick=\"convertToInteractive('df-eac2c986-4249-433e-9d0e-6012298ee19a')\"\n",
              "              title=\"Convert this dataframe to an interactive table.\"\n",
              "              style=\"display:none;\">\n",
              "        \n",
              "  <svg xmlns=\"http://www.w3.org/2000/svg\" height=\"24px\"viewBox=\"0 0 24 24\"\n",
              "       width=\"24px\">\n",
              "    <path d=\"M0 0h24v24H0V0z\" fill=\"none\"/>\n",
              "    <path d=\"M18.56 5.44l.94 2.06.94-2.06 2.06-.94-2.06-.94-.94-2.06-.94 2.06-2.06.94zm-11 1L8.5 8.5l.94-2.06 2.06-.94-2.06-.94L8.5 2.5l-.94 2.06-2.06.94zm10 10l.94 2.06.94-2.06 2.06-.94-2.06-.94-.94-2.06-.94 2.06-2.06.94z\"/><path d=\"M17.41 7.96l-1.37-1.37c-.4-.4-.92-.59-1.43-.59-.52 0-1.04.2-1.43.59L10.3 9.45l-7.72 7.72c-.78.78-.78 2.05 0 2.83L4 21.41c.39.39.9.59 1.41.59.51 0 1.02-.2 1.41-.59l7.78-7.78 2.81-2.81c.8-.78.8-2.07 0-2.86zM5.41 20L4 18.59l7.72-7.72 1.47 1.35L5.41 20z\"/>\n",
              "  </svg>\n",
              "      </button>\n",
              "      \n",
              "  <style>\n",
              "    .colab-df-container {\n",
              "      display:flex;\n",
              "      flex-wrap:wrap;\n",
              "      gap: 12px;\n",
              "    }\n",
              "\n",
              "    .colab-df-convert {\n",
              "      background-color: #E8F0FE;\n",
              "      border: none;\n",
              "      border-radius: 50%;\n",
              "      cursor: pointer;\n",
              "      display: none;\n",
              "      fill: #1967D2;\n",
              "      height: 32px;\n",
              "      padding: 0 0 0 0;\n",
              "      width: 32px;\n",
              "    }\n",
              "\n",
              "    .colab-df-convert:hover {\n",
              "      background-color: #E2EBFA;\n",
              "      box-shadow: 0px 1px 2px rgba(60, 64, 67, 0.3), 0px 1px 3px 1px rgba(60, 64, 67, 0.15);\n",
              "      fill: #174EA6;\n",
              "    }\n",
              "\n",
              "    [theme=dark] .colab-df-convert {\n",
              "      background-color: #3B4455;\n",
              "      fill: #D2E3FC;\n",
              "    }\n",
              "\n",
              "    [theme=dark] .colab-df-convert:hover {\n",
              "      background-color: #434B5C;\n",
              "      box-shadow: 0px 1px 3px 1px rgba(0, 0, 0, 0.15);\n",
              "      filter: drop-shadow(0px 1px 2px rgba(0, 0, 0, 0.3));\n",
              "      fill: #FFFFFF;\n",
              "    }\n",
              "  </style>\n",
              "\n",
              "      <script>\n",
              "        const buttonEl =\n",
              "          document.querySelector('#df-eac2c986-4249-433e-9d0e-6012298ee19a button.colab-df-convert');\n",
              "        buttonEl.style.display =\n",
              "          google.colab.kernel.accessAllowed ? 'block' : 'none';\n",
              "\n",
              "        async function convertToInteractive(key) {\n",
              "          const element = document.querySelector('#df-eac2c986-4249-433e-9d0e-6012298ee19a');\n",
              "          const dataTable =\n",
              "            await google.colab.kernel.invokeFunction('convertToInteractive',\n",
              "                                                     [key], {});\n",
              "          if (!dataTable) return;\n",
              "\n",
              "          const docLinkHtml = 'Like what you see? Visit the ' +\n",
              "            '<a target=\"_blank\" href=https://colab.research.google.com/notebooks/data_table.ipynb>data table notebook</a>'\n",
              "            + ' to learn more about interactive tables.';\n",
              "          element.innerHTML = '';\n",
              "          dataTable['output_type'] = 'display_data';\n",
              "          await google.colab.output.renderOutput(dataTable, element);\n",
              "          const docLink = document.createElement('div');\n",
              "          docLink.innerHTML = docLinkHtml;\n",
              "          element.appendChild(docLink);\n",
              "        }\n",
              "      </script>\n",
              "    </div>\n",
              "  </div>\n",
              "  "
            ]
          },
          "metadata": {},
          "execution_count": 11
        }
      ]
    },
    {
      "cell_type": "markdown",
      "metadata": {
        "id": "NMqxRyWawzGS"
      },
      "source": [
        "La variable de `Time` parece ser altamente variable y tomar valores muy grandes.  \n",
        "La variable `Amount` parece comportarse mejor y no variar tanto, aunque parece tener valores extremos. Observemos el percentil 75 y el max."
      ]
    },
    {
      "cell_type": "code",
      "metadata": {
        "colab": {
          "base_uri": "https://localhost:8080/",
          "height": 298
        },
        "id": "WWmdxhKkvp9G",
        "outputId": "623895d0-1729-4c41-e58e-5db2314e1d2b"
      },
      "source": [
        "sns.histplot(x=df['Time'])"
      ],
      "execution_count": 12,
      "outputs": [
        {
          "output_type": "execute_result",
          "data": {
            "text/plain": [
              "<matplotlib.axes._subplots.AxesSubplot at 0x7f98e56256d0>"
            ]
          },
          "metadata": {},
          "execution_count": 12
        },
        {
          "output_type": "display_data",
          "data": {
            "text/plain": [
              "<Figure size 432x288 with 1 Axes>"
            ],
            "image/png": "[encoded data removed]"
          },
          "metadata": {
            "needs_background": "light"
          }
        }
      ]
    },
    {
      "cell_type": "code",
      "metadata": {
        "colab": {
          "base_uri": "https://localhost:8080/"
        },
        "id": "Zi39YAOhxmFr",
        "outputId": "92cb3024-b34c-4702-9023-7ffb323844b9"
      },
      "source": [
        "df['Time'].unique().shape"
      ],
      "execution_count": 13,
      "outputs": [
        {
          "output_type": "execute_result",
          "data": {
            "text/plain": [
              "(124592,)"
            ]
          },
          "metadata": {},
          "execution_count": 13
        }
      ]
    },
    {
      "cell_type": "markdown",
      "metadata": {
        "id": "8OiLMis8wOZv"
      },
      "source": [
        "La variable `Time` contiene los segundos que pasaron entre la transaccion actual, y la primera transaccion del set de datos."
      ]
    },
    {
      "cell_type": "code",
      "metadata": {
        "colab": {
          "base_uri": "https://localhost:8080/",
          "height": 386
        },
        "id": "HnlUJsCkwkQi",
        "outputId": "b8d3686a-8920-4293-d1b1-fd5ff0afd048"
      },
      "source": [
        "# se grafica la distribución como raiz cuarta para apreciarla mejor, por un gran outlier\n",
        "sns.displot(x=(np.power(df['Amount'], .25)))"
      ],
      "execution_count": 14,
      "outputs": [
        {
          "output_type": "execute_result",
          "data": {
            "text/plain": [
              "<seaborn.axisgrid.FacetGrid at 0x7f98e452b610>"
            ]
          },
          "metadata": {},
          "execution_count": 14
        },
        {
          "output_type": "display_data",
          "data": {
            "text/plain": [
              "<Figure size 360x360 with 1 Axes>"
            ],
            "image/png": "[encoded data removed]"
          },
          "metadata": {
            "needs_background": "light"
          }
        }
      ]
    },
    {
      "cell_type": "markdown",
      "metadata": {
        "id": "Zm4U5IxOx7bv"
      },
      "source": [
        "## Preparacion de Datos"
      ]
    },
    {
      "cell_type": "code",
      "metadata": {
        "colab": {
          "base_uri": "https://localhost:8080/"
        },
        "id": "dwzDQhucx9kf",
        "outputId": "5d0eca64-89d1-4154-9b10-32aba6239017"
      },
      "source": [
        "print('Null Values =',df.isnull().values.any())"
      ],
      "execution_count": 15,
      "outputs": [
        {
          "output_type": "stream",
          "name": "stdout",
          "text": [
            "Null Values = False\n"
          ]
        }
      ]
    },
    {
      "cell_type": "markdown",
      "metadata": {
        "id": "7rqHt7dGyCnu"
      },
      "source": [
        "Por suerte no hay valores nulos en los datos!"
      ]
    },
    {
      "cell_type": "markdown",
      "metadata": {
        "id": "A4RIducO0wxg"
      },
      "source": [
        "# Split de datos"
      ]
    },
    {
      "cell_type": "code",
      "metadata": {
        "colab": {
          "base_uri": "https://localhost:8080/"
        },
        "id": "cyRIcH2s0yNn",
        "outputId": "20b27c81-75cc-4542-ba55-fba94e67d5e2"
      },
      "source": [
        "Y = df[\"Class\"]\n",
        "X = df.loc[:, df.columns != 'Class']\n",
        "test_size = 0.2\n",
        "seed = 7\n",
        "\n",
        "# Split train y test\n",
        "X_train, X_test, Y_train, Y_test = train_test_split(\n",
        "    X, Y, test_size=test_size, random_state=seed)\n",
        "\n",
        "# Split para validacion\n",
        "X_train, X_val, Y_train, Y_val = train_test_split(\n",
        "    X_train, Y_train, test_size=test_size, random_state=seed)\n",
        "\n",
        "print(f'Numero de fraudes en test: {Y_test.value_counts()}')\n",
        "print(f'Numero de fraudes en train: {Y_train.value_counts()}')\n",
        "print(f'Numero de fraudes en validacion: {Y_val.value_counts()}')"
      ],
      "execution_count": 16,
      "outputs": [
        {
          "output_type": "stream",
          "name": "stdout",
          "text": [
            "Numero de fraudes en test: 0    56862\n",
            "1      100\n",
            "Name: Class, dtype: int64\n",
            "Numero de fraudes en train: 0    181967\n",
            "1       309\n",
            "Name: Class, dtype: int64\n",
            "Numero de fraudes en validacion: 0    45486\n",
            "1       83\n",
            "Name: Class, dtype: int64\n"
          ]
        }
      ]
    },
    {
      "cell_type": "markdown",
      "metadata": {
        "id": "LAzjrt1O1sgP"
      },
      "source": [
        "Parece que los datos de fraude $y=1$ estan balanceados entre train y test.   \n",
        "Sin embargo el total de datos esta desbalanceado. Por ahora, ignoraremos esto, y probaremos varios modelos. Despues ataqueremos este problema directamente, y compararemos resultados."
      ]
    },
    {
      "cell_type": "markdown",
      "metadata": {
        "id": "rrv0tLhwyFxY"
      },
      "source": [
        "# Seleccion de Variables"
      ]
    },
    {
      "cell_type": "markdown",
      "metadata": {
        "id": "BCZMY2Ct77u7"
      },
      "source": [
        "Notebook de seleccion de variables: https://github.com/IEXE-Tec/aprendizaje-maquina-2/blob/master/01_seleccion_de_variables.ipynb \n"
      ]
    },
    {
      "cell_type": "markdown",
      "metadata": {
        "id": "y1OewEuO7HBZ"
      },
      "source": [
        "Existen muchas tecnicas de estadistica clasica para Feature Selection ya sea tablas ANOVA, ANCOVA o diferentes tipos de correlacion para diferentes tipos de datos."
      ]
    },
    {
      "cell_type": "markdown",
      "metadata": {
        "id": "QTwHeGpsyrSM"
      },
      "source": [
        "Post de [Feature Selection](https://machinelearningmastery.com/feature-selection-with-real-and-categorical-data/)"
      ]
    },
    {
      "cell_type": "markdown",
      "metadata": {
        "id": "eFS48kCl2qD9"
      },
      "source": [
        "![image.png](data:image/png;base64,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)"
      ]
    },
    {
      "cell_type": "markdown",
      "metadata": {
        "id": "IhyBYIo5AaeQ"
      },
      "source": [
        "En nuestro caso nos saltaremos el **Feature Selection** para concentrarnos en los algoritmos y regularizacion."
      ]
    },
    {
      "cell_type": "markdown",
      "metadata": {
        "id": "aPORoYpDDNCk"
      },
      "source": [
        "El siguiente snippet contiene codigo de Kaggle para feature selection, utilizando Chi2. Aunque, esto no es del todo correcto, pues nuestras variables no son categoricas. Sin embargo, nos da una idea de la flexibilidad del ML."
      ]
    },
    {
      "cell_type": "code",
      "metadata": {
        "id": "IiTKm5h4Ah0v"
      },
      "source": [
        "# ## No ejecutar\n",
        "# from sklearn.feature_selection import SelectKBest\n",
        "# from sklearn.feature_selection import chi2\n",
        "\n",
        "# bestfeatures = SelectKBest( k=10)\n",
        "# bestfeatures\n",
        "# Y_train = df[\"Class\"]\n",
        "# X_train = df.loc[:, df.columns != 'Class']\n",
        "# fit = bestfeatures.fit(X_train,Y_train)\n",
        "# dfscores = pd.DataFrame(fit.scores_)\n",
        "# dfcolumns = pd.DataFrame(X_train.columns)\n",
        "# #concat two dataframes for better visualization \n",
        "# featureScores = pd.concat([dfcolumns,dfscores],axis=1)\n",
        "# featureScores.columns = ['Specs','Score']  #naming the dataframe columns\n",
        "# print(featureScores.nlargest(10,'Score'))  #print 10 best features"
      ],
      "execution_count": null,
      "outputs": []
    },
    {
      "cell_type": "markdown",
      "metadata": {
        "id": "XsngnQCTB6ol"
      },
      "source": [
        "### Tarea: Analisis de Time"
      ]
    },
    {
      "cell_type": "markdown",
      "metadata": {
        "id": "NsPxkHIFCDBu"
      },
      "source": [
        "**Tarea**\n",
        "Propon una metrica para evaluar la importancia de la variable `Time`! Parece tomar muchos valores, y no necesariamente aportar mucho al modelaje."
      ]
    },
    {
      "cell_type": "code",
      "metadata": {
        "id": "zp2X1GRCCCS1",
        "colab": {
          "base_uri": "https://localhost:8080/",
          "height": 990
        },
        "outputId": "6f259b19-d981-4084-d1de-6d5c14bdd3b9"
      },
      "source": [
        "#Time es una variable numérica, y la variable a predecir es una variable categórica Class con dos posibles valores (fraude o no fraude),\n",
        "#de acuerdo al esquema de selección de variables de arriba, se podría verificar la correlación entre Time y Class con un análisis\n",
        "#ANOVA\n",
        "\n",
        "from sklearn.feature_selection import SelectKBest\n",
        "from sklearn.feature_selection import f_classif\n",
        "\n",
        "# La implemenatación de ANOVA de scikitlearn está en la función f_classif()\n",
        "fs = SelectKBest(score_func=f_classif, k='all')\n",
        "\n",
        "y_train_fs = df[\"Class\"]\n",
        "X_train_fs = df.loc[:, df.columns != 'Class']\n",
        "\n",
        "fit = fs.fit(X_train_fs, y_train_fs)\n",
        "\n",
        "dfscores = pd.DataFrame(fit.scores_)\n",
        "dfcolumns = pd.DataFrame(X_train_fs.columns)\n",
        "featureScores = pd.concat([dfcolumns,dfscores],axis=1)\n",
        "featureScores.columns = ['feature','Score']  #naming the dataframe columns\n",
        "featureScores.sort_values(by=\"Score\", ascending = False)\n",
        "\n",
        "#Efectivamente, la variable Time aporta muy poco a la detección de fraude, sin embargo no es la que aporta menos."
      ],
      "execution_count": 20,
      "outputs": [
        {
          "output_type": "execute_result",
          "data": {
            "text/plain": [
              "   feature         Score\n",
              "17     V17  33979.168593\n",
              "14     V14  28695.547788\n",
              "12     V12  20749.822361\n",
              "10     V10  14057.979985\n",
              "16     V16  11443.349428\n",
              "3       V3  11014.508305\n",
              "7       V7  10349.605408\n",
              "11     V11   6999.355047\n",
              "4       V4   5163.832114\n",
              "18     V18   3584.380605\n",
              "1       V1   2955.668946\n",
              "9       V9   2746.600273\n",
              "5       V5   2592.357929\n",
              "2       V2   2393.401678\n",
              "6       V6    543.510578\n",
              "21     V21    465.916251\n",
              "19     V19    344.990997\n",
              "20     V20    114.999731\n",
              "8       V8    112.548287\n",
              "27     V27     88.045296\n",
              "0     Time     43.252998\n",
              "28     V28     25.901405\n",
              "24     V24     14.850932\n",
              "29  Amount      9.033345\n",
              "13     V13      5.947672\n",
              "26     V26      5.653653\n",
              "15     V15      5.080193\n",
              "25     V25      3.116062\n",
              "23     V23      2.053476\n",
              "22     V22      0.184706"
            ],
            "text/html": [
              "\n",
              "  <div id=\"df-0e1b2f6a-17ee-4219-8900-1ee6f583a4bc\">\n",
              "    <div class=\"colab-df-container\">\n",
              "      <div>\n",
              "<style scoped>\n",
              "    .dataframe tbody tr th:only-of-type {\n",
              "        vertical-align: middle;\n",
              "    }\n",
              "\n",
              "    .dataframe tbody tr th {\n",
              "        vertical-align: top;\n",
              "    }\n",
              "\n",
              "    .dataframe thead th {\n",
              "        text-align: right;\n",
              "    }\n",
              "</style>\n",
              "<table border=\"1\" class=\"dataframe\">\n",
              "  <thead>\n",
              "    <tr style=\"text-align: right;\">\n",
              "      <th></th>\n",
              "      <th>feature</th>\n",
              "      <th>Score</th>\n",
              "    </tr>\n",
              "  </thead>\n",
              "  <tbody>\n",
              "    <tr>\n",
              "      <th>17</th>\n",
              "      <td>V17</td>\n",
              "      <td>33979.168593</td>\n",
              "    </tr>\n",
              "    <tr>\n",
              "      <th>14</th>\n",
              "      <td>V14</td>\n",
              "      <td>28695.547788</td>\n",
              "    </tr>\n",
              "    <tr>\n",
              "      <th>12</th>\n",
              "      <td>V12</td>\n",
              "      <td>20749.822361</td>\n",
              "    </tr>\n",
              "    <tr>\n",
              "      <th>10</th>\n",
              "      <td>V10</td>\n",
              "      <td>14057.979985</td>\n",
              "    </tr>\n",
              "    <tr>\n",
              "      <th>16</th>\n",
              "      <td>V16</td>\n",
              "      <td>11443.349428</td>\n",
              "    </tr>\n",
              "    <tr>\n",
              "      <th>3</th>\n",
              "      <td>V3</td>\n",
              "      <td>11014.508305</td>\n",
              "    </tr>\n",
              "    <tr>\n",
              "      <th>7</th>\n",
              "      <td>V7</td>\n",
              "      <td>10349.605408</td>\n",
              "    </tr>\n",
              "    <tr>\n",
              "      <th>11</th>\n",
              "      <td>V11</td>\n",
              "      <td>6999.355047</td>\n",
              "    </tr>\n",
              "    <tr>\n",
              "      <th>4</th>\n",
              "      <td>V4</td>\n",
              "      <td>5163.832114</td>\n",
              "    </tr>\n",
              "    <tr>\n",
              "      <th>18</th>\n",
              "      <td>V18</td>\n",
              "      <td>3584.380605</td>\n",
              "    </tr>\n",
              "    <tr>\n",
              "      <th>1</th>\n",
              "      <td>V1</td>\n",
              "      <td>2955.668946</td>\n",
              "    </tr>\n",
              "    <tr>\n",
              "      <th>9</th>\n",
              "      <td>V9</td>\n",
              "      <td>2746.600273</td>\n",
              "    </tr>\n",
              "    <tr>\n",
              "      <th>5</th>\n",
              "      <td>V5</td>\n",
              "      <td>2592.357929</td>\n",
              "    </tr>\n",
              "    <tr>\n",
              "      <th>2</th>\n",
              "      <td>V2</td>\n",
              "      <td>2393.401678</td>\n",
              "    </tr>\n",
              "    <tr>\n",
              "      <th>6</th>\n",
              "      <td>V6</td>\n",
              "      <td>543.510578</td>\n",
              "    </tr>\n",
              "    <tr>\n",
              "      <th>21</th>\n",
              "      <td>V21</td>\n",
              "      <td>465.916251</td>\n",
              "    </tr>\n",
              "    <tr>\n",
              "      <th>19</th>\n",
              "      <td>V19</td>\n",
              "      <td>344.990997</td>\n",
              "    </tr>\n",
              "    <tr>\n",
              "      <th>20</th>\n",
              "      <td>V20</td>\n",
              "      <td>114.999731</td>\n",
              "    </tr>\n",
              "    <tr>\n",
              "      <th>8</th>\n",
              "      <td>V8</td>\n",
              "      <td>112.548287</td>\n",
              "    </tr>\n",
              "    <tr>\n",
              "      <th>27</th>\n",
              "      <td>V27</td>\n",
              "      <td>88.045296</td>\n",
              "    </tr>\n",
              "    <tr>\n",
              "      <th>0</th>\n",
              "      <td>Time</td>\n",
              "      <td>43.252998</td>\n",
              "    </tr>\n",
              "    <tr>\n",
              "      <th>28</th>\n",
              "      <td>V28</td>\n",
              "      <td>25.901405</td>\n",
              "    </tr>\n",
              "    <tr>\n",
              "      <th>24</th>\n",
              "      <td>V24</td>\n",
              "      <td>14.850932</td>\n",
              "    </tr>\n",
              "    <tr>\n",
              "      <th>29</th>\n",
              "      <td>Amount</td>\n",
              "      <td>9.033345</td>\n",
              "    </tr>\n",
              "    <tr>\n",
              "      <th>13</th>\n",
              "      <td>V13</td>\n",
              "      <td>5.947672</td>\n",
              "    </tr>\n",
              "    <tr>\n",
              "      <th>26</th>\n",
              "      <td>V26</td>\n",
              "      <td>5.653653</td>\n",
              "    </tr>\n",
              "    <tr>\n",
              "      <th>15</th>\n",
              "      <td>V15</td>\n",
              "      <td>5.080193</td>\n",
              "    </tr>\n",
              "    <tr>\n",
              "      <th>25</th>\n",
              "      <td>V25</td>\n",
              "      <td>3.116062</td>\n",
              "    </tr>\n",
              "    <tr>\n",
              "      <th>23</th>\n",
              "      <td>V23</td>\n",
              "      <td>2.053476</td>\n",
              "    </tr>\n",
              "    <tr>\n",
              "      <th>22</th>\n",
              "      <td>V22</td>\n",
              "      <td>0.184706</td>\n",
              "    </tr>\n",
              "  </tbody>\n",
              "</table>\n",
              "</div>\n",
              "      <button class=\"colab-df-convert\" onclick=\"convertToInteractive('df-0e1b2f6a-17ee-4219-8900-1ee6f583a4bc')\"\n",
              "              title=\"Convert this dataframe to an interactive table.\"\n",
              "              style=\"display:none;\">\n",
              "        \n",
              "  <svg xmlns=\"http://www.w3.org/2000/svg\" height=\"24px\"viewBox=\"0 0 24 24\"\n",
              "       width=\"24px\">\n",
              "    <path d=\"M0 0h24v24H0V0z\" fill=\"none\"/>\n",
              "    <path d=\"M18.56 5.44l.94 2.06.94-2.06 2.06-.94-2.06-.94-.94-2.06-.94 2.06-2.06.94zm-11 1L8.5 8.5l.94-2.06 2.06-.94-2.06-.94L8.5 2.5l-.94 2.06-2.06.94zm10 10l.94 2.06.94-2.06 2.06-.94-2.06-.94-.94-2.06-.94 2.06-2.06.94z\"/><path d=\"M17.41 7.96l-1.37-1.37c-.4-.4-.92-.59-1.43-.59-.52 0-1.04.2-1.43.59L10.3 9.45l-7.72 7.72c-.78.78-.78 2.05 0 2.83L4 21.41c.39.39.9.59 1.41.59.51 0 1.02-.2 1.41-.59l7.78-7.78 2.81-2.81c.8-.78.8-2.07 0-2.86zM5.41 20L4 18.59l7.72-7.72 1.47 1.35L5.41 20z\"/>\n",
              "  </svg>\n",
              "      </button>\n",
              "      \n",
              "  <style>\n",
              "    .colab-df-container {\n",
              "      display:flex;\n",
              "      flex-wrap:wrap;\n",
              "      gap: 12px;\n",
              "    }\n",
              "\n",
              "    .colab-df-convert {\n",
              "      background-color: #E8F0FE;\n",
              "      border: none;\n",
              "      border-radius: 50%;\n",
              "      cursor: pointer;\n",
              "      display: none;\n",
              "      fill: #1967D2;\n",
              "      height: 32px;\n",
              "      padding: 0 0 0 0;\n",
              "      width: 32px;\n",
              "    }\n",
              "\n",
              "    .colab-df-convert:hover {\n",
              "      background-color: #E2EBFA;\n",
              "      box-shadow: 0px 1px 2px rgba(60, 64, 67, 0.3), 0px 1px 3px 1px rgba(60, 64, 67, 0.15);\n",
              "      fill: #174EA6;\n",
              "    }\n",
              "\n",
              "    [theme=dark] .colab-df-convert {\n",
              "      background-color: #3B4455;\n",
              "      fill: #D2E3FC;\n",
              "    }\n",
              "\n",
              "    [theme=dark] .colab-df-convert:hover {\n",
              "      background-color: #434B5C;\n",
              "      box-shadow: 0px 1px 3px 1px rgba(0, 0, 0, 0.15);\n",
              "      filter: drop-shadow(0px 1px 2px rgba(0, 0, 0, 0.3));\n",
              "      fill: #FFFFFF;\n",
              "    }\n",
              "  </style>\n",
              "\n",
              "      <script>\n",
              "        const buttonEl =\n",
              "          document.querySelector('#df-0e1b2f6a-17ee-4219-8900-1ee6f583a4bc button.colab-df-convert');\n",
              "        buttonEl.style.display =\n",
              "          google.colab.kernel.accessAllowed ? 'block' : 'none';\n",
              "\n",
              "        async function convertToInteractive(key) {\n",
              "          const element = document.querySelector('#df-0e1b2f6a-17ee-4219-8900-1ee6f583a4bc');\n",
              "          const dataTable =\n",
              "            await google.colab.kernel.invokeFunction('convertToInteractive',\n",
              "                                                     [key], {});\n",
              "          if (!dataTable) return;\n",
              "\n",
              "          const docLinkHtml = 'Like what you see? Visit the ' +\n",
              "            '<a target=\"_blank\" href=https://colab.research.google.com/notebooks/data_table.ipynb>data table notebook</a>'\n",
              "            + ' to learn more about interactive tables.';\n",
              "          element.innerHTML = '';\n",
              "          dataTable['output_type'] = 'display_data';\n",
              "          await google.colab.output.renderOutput(dataTable, element);\n",
              "          const docLink = document.createElement('div');\n",
              "          docLink.innerHTML = docLinkHtml;\n",
              "          element.appendChild(docLink);\n",
              "        }\n",
              "      </script>\n",
              "    </div>\n",
              "  </div>\n",
              "  "
            ]
          },
          "metadata": {},
          "execution_count": 20
        }
      ]
    },
    {
      "cell_type": "markdown",
      "metadata": {
        "id": "tuGL3SO8DjEg"
      },
      "source": [
        "#Feature engineering"
      ]
    },
    {
      "cell_type": "markdown",
      "metadata": {
        "id": "eiS1EkzFDtrP"
      },
      "source": [
        "Escalemos las variables numericas. Las otras variables no necesitan escalamiento, pues dado que fueron sometidas a PCA fueron escaladas previamente."
      ]
    },
    {
      "cell_type": "markdown",
      "metadata": {
        "id": "kwb6IpQWD4ka"
      },
      "source": [
        "**Nota**: En estricto sentido el escalamiento o normalizacion deberia hacerse en sobre el train set, y despues aplicarse al test set. Sin embargo, es muy comun aplicar el escalamiento a todo el data set, pensando que no producira **data leakage**."
      ]
    },
    {
      "cell_type": "markdown",
      "metadata": {
        "id": "EHoB4kSFEK7V"
      },
      "source": [
        "+ Para la variable **time** utilizaremos [MinMaxScaler](https://scikit-learn.org/stable/modules/generated/sklearn.preprocessing.MinMaxScaler.html). Ahora la variable se encuentrara entre 0 y 1. Dado que **no parece tener outliers**, y distribuirse mas o menos uniforme.\n",
        "+ Para **Amount** utilizaremos [RobustScaler](https://scikit-learn.org/stable/modules/generated/sklearn.preprocessing.RobustScaler.html). La variable es escalda con los rangos intercuantiles. Lo elegimos por el tipo de distribucion que que **tiene outliers**."
      ]
    },
    {
      "cell_type": "markdown",
      "metadata": {
        "id": "37EJdzQyEr8J"
      },
      "source": [
        "![image.png](data:image/png;base64,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)"
      ]
    },
    {
      "cell_type": "code",
      "metadata": {
        "id": "DTI8XkKMFcZr"
      },
      "source": [
        "from sklearn.preprocessing import MinMaxScaler\n",
        "from sklearn.preprocessing import RobustScaler\n",
        "\n",
        "# ##Time\n",
        "time_scaler = MinMaxScaler().fit(X_train['Time'].values.reshape(-1,1))\n",
        "# Entrenamos con train\n",
        "X_train['time_scaled'] = time_scaler.transform(X_train['Time'].values.reshape(-1,1))\n",
        "# Escalamos el test\n",
        "X_test['time_scaled'] = time_scaler.transform(X_test['Time'].values.reshape(-1,1))\n",
        "# Val\n",
        "X_val['time_scaled'] = time_scaler.transform(X_val['Time'].values.reshape(-1,1))\n",
        "\n",
        "# ##Amount\n",
        "amount_scaler = RobustScaler().fit(X_train['Amount'].values.reshape(-1,1))\n",
        "# Entrenamos con train\n",
        "X_train['amount_scaled'] = amount_scaler.transform(X_train['Amount'].values.reshape(-1,1))\n",
        "# Escalamos el test\n",
        "X_test['amount_scaled'] = amount_scaler.transform(X_test['Amount'].values.reshape(-1,1))\n",
        "# Val\n",
        "X_val['amount_scaled'] = amount_scaler.transform(X_val['Amount'].values.reshape(-1,1))\n"
      ],
      "execution_count": 21,
      "outputs": []
    },
    {
      "cell_type": "code",
      "metadata": {
        "colab": {
          "base_uri": "https://localhost:8080/",
          "height": 300
        },
        "id": "W6Eqac4hHJXu",
        "outputId": "76aab264-6ca9-40a8-cdd1-1c64a25bfbb0"
      },
      "source": [
        "X_train[['time_scaled', 'amount_scaled']].describe()"
      ],
      "execution_count": 22,
      "outputs": [
        {
          "output_type": "execute_result",
          "data": {
            "text/plain": [
              "         time_scaled  amount_scaled\n",
              "count  182276.000000  182276.000000\n",
              "mean        0.548166       0.922329\n",
              "std         0.274679       3.329793\n",
              "min         0.000000      -0.308166\n",
              "25%         0.313182      -0.229724\n",
              "50%         0.489149       0.000000\n",
              "75%         0.806228       0.770276\n",
              "max         1.000000     180.542513"
            ],
            "text/html": [
              "\n",
              "  <div id=\"df-bb85a535-d1bc-433c-817f-f5c51d5bb43e\">\n",
              "    <div class=\"colab-df-container\">\n",
              "      <div>\n",
              "<style scoped>\n",
              "    .dataframe tbody tr th:only-of-type {\n",
              "        vertical-align: middle;\n",
              "    }\n",
              "\n",
              "    .dataframe tbody tr th {\n",
              "        vertical-align: top;\n",
              "    }\n",
              "\n",
              "    .dataframe thead th {\n",
              "        text-align: right;\n",
              "    }\n",
              "</style>\n",
              "<table border=\"1\" class=\"dataframe\">\n",
              "  <thead>\n",
              "    <tr style=\"text-align: right;\">\n",
              "      <th></th>\n",
              "      <th>time_scaled</th>\n",
              "      <th>amount_scaled</th>\n",
              "    </tr>\n",
              "  </thead>\n",
              "  <tbody>\n",
              "    <tr>\n",
              "      <th>count</th>\n",
              "      <td>182276.000000</td>\n",
              "      <td>182276.000000</td>\n",
              "    </tr>\n",
              "    <tr>\n",
              "      <th>mean</th>\n",
              "      <td>0.548166</td>\n",
              "      <td>0.922329</td>\n",
              "    </tr>\n",
              "    <tr>\n",
              "      <th>std</th>\n",
              "      <td>0.274679</td>\n",
              "      <td>3.329793</td>\n",
              "    </tr>\n",
              "    <tr>\n",
              "      <th>min</th>\n",
              "      <td>0.000000</td>\n",
              "      <td>-0.308166</td>\n",
              "    </tr>\n",
              "    <tr>\n",
              "      <th>25%</th>\n",
              "      <td>0.313182</td>\n",
              "      <td>-0.229724</td>\n",
              "    </tr>\n",
              "    <tr>\n",
              "      <th>50%</th>\n",
              "      <td>0.489149</td>\n",
              "      <td>0.000000</td>\n",
              "    </tr>\n",
              "    <tr>\n",
              "      <th>75%</th>\n",
              "      <td>0.806228</td>\n",
              "      <td>0.770276</td>\n",
              "    </tr>\n",
              "    <tr>\n",
              "      <th>max</th>\n",
              "      <td>1.000000</td>\n",
              "      <td>180.542513</td>\n",
              "    </tr>\n",
              "  </tbody>\n",
              "</table>\n",
              "</div>\n",
              "      <button class=\"colab-df-convert\" onclick=\"convertToInteractive('df-bb85a535-d1bc-433c-817f-f5c51d5bb43e')\"\n",
              "              title=\"Convert this dataframe to an interactive table.\"\n",
              "              style=\"display:none;\">\n",
              "        \n",
              "  <svg xmlns=\"http://www.w3.org/2000/svg\" height=\"24px\"viewBox=\"0 0 24 24\"\n",
              "       width=\"24px\">\n",
              "    <path d=\"M0 0h24v24H0V0z\" fill=\"none\"/>\n",
              "    <path d=\"M18.56 5.44l.94 2.06.94-2.06 2.06-.94-2.06-.94-.94-2.06-.94 2.06-2.06.94zm-11 1L8.5 8.5l.94-2.06 2.06-.94-2.06-.94L8.5 2.5l-.94 2.06-2.06.94zm10 10l.94 2.06.94-2.06 2.06-.94-2.06-.94-.94-2.06-.94 2.06-2.06.94z\"/><path d=\"M17.41 7.96l-1.37-1.37c-.4-.4-.92-.59-1.43-.59-.52 0-1.04.2-1.43.59L10.3 9.45l-7.72 7.72c-.78.78-.78 2.05 0 2.83L4 21.41c.39.39.9.59 1.41.59.51 0 1.02-.2 1.41-.59l7.78-7.78 2.81-2.81c.8-.78.8-2.07 0-2.86zM5.41 20L4 18.59l7.72-7.72 1.47 1.35L5.41 20z\"/>\n",
              "  </svg>\n",
              "      </button>\n",
              "      \n",
              "  <style>\n",
              "    .colab-df-container {\n",
              "      display:flex;\n",
              "      flex-wrap:wrap;\n",
              "      gap: 12px;\n",
              "    }\n",
              "\n",
              "    .colab-df-convert {\n",
              "      background-color: #E8F0FE;\n",
              "      border: none;\n",
              "      border-radius: 50%;\n",
              "      cursor: pointer;\n",
              "      display: none;\n",
              "      fill: #1967D2;\n",
              "      height: 32px;\n",
              "      padding: 0 0 0 0;\n",
              "      width: 32px;\n",
              "    }\n",
              "\n",
              "    .colab-df-convert:hover {\n",
              "      background-color: #E2EBFA;\n",
              "      box-shadow: 0px 1px 2px rgba(60, 64, 67, 0.3), 0px 1px 3px 1px rgba(60, 64, 67, 0.15);\n",
              "      fill: #174EA6;\n",
              "    }\n",
              "\n",
              "    [theme=dark] .colab-df-convert {\n",
              "      background-color: #3B4455;\n",
              "      fill: #D2E3FC;\n",
              "    }\n",
              "\n",
              "    [theme=dark] .colab-df-convert:hover {\n",
              "      background-color: #434B5C;\n",
              "      box-shadow: 0px 1px 3px 1px rgba(0, 0, 0, 0.15);\n",
              "      filter: drop-shadow(0px 1px 2px rgba(0, 0, 0, 0.3));\n",
              "      fill: #FFFFFF;\n",
              "    }\n",
              "  </style>\n",
              "\n",
              "      <script>\n",
              "        const buttonEl =\n",
              "          document.querySelector('#df-bb85a535-d1bc-433c-817f-f5c51d5bb43e button.colab-df-convert');\n",
              "        buttonEl.style.display =\n",
              "          google.colab.kernel.accessAllowed ? 'block' : 'none';\n",
              "\n",
              "        async function convertToInteractive(key) {\n",
              "          const element = document.querySelector('#df-bb85a535-d1bc-433c-817f-f5c51d5bb43e');\n",
              "          const dataTable =\n",
              "            await google.colab.kernel.invokeFunction('convertToInteractive',\n",
              "                                                     [key], {});\n",
              "          if (!dataTable) return;\n",
              "\n",
              "          const docLinkHtml = 'Like what you see? Visit the ' +\n",
              "            '<a target=\"_blank\" href=https://colab.research.google.com/notebooks/data_table.ipynb>data table notebook</a>'\n",
              "            + ' to learn more about interactive tables.';\n",
              "          element.innerHTML = '';\n",
              "          dataTable['output_type'] = 'display_data';\n",
              "          await google.colab.output.renderOutput(dataTable, element);\n",
              "          const docLink = document.createElement('div');\n",
              "          docLink.innerHTML = docLinkHtml;\n",
              "          element.appendChild(docLink);\n",
              "        }\n",
              "      </script>\n",
              "    </div>\n",
              "  </div>\n",
              "  "
            ]
          },
          "metadata": {},
          "execution_count": 22
        }
      ]
    },
    {
      "cell_type": "code",
      "metadata": {
        "colab": {
          "base_uri": "https://localhost:8080/",
          "height": 391
        },
        "id": "GyzFnsIOlHeV",
        "outputId": "bc45553e-8721-492f-b22f-459d9139d0cf"
      },
      "source": [
        "sns.pairplot(data=X_train[['time_scaled', 'amount_scaled']])"
      ],
      "execution_count": 23,
      "outputs": [
        {
          "output_type": "execute_result",
          "data": {
            "text/plain": [
              "<seaborn.axisgrid.PairGrid at 0x7f98e459bad0>"
            ]
          },
          "metadata": {},
          "execution_count": 23
        },
        {
          "output_type": "display_data",
          "data": {
            "text/plain": [
              "<Figure size 360x360 with 6 Axes>"
            ],
            "image/png": "[encoded data removed]"
          },
          "metadata": {
            "needs_background": "light"
          }
        }
      ]
    },
    {
      "cell_type": "code",
      "metadata": {
        "colab": {
          "base_uri": "https://localhost:8080/",
          "height": 300
        },
        "id": "ASFjDcjjHQ98",
        "outputId": "b6076567-0423-4c5f-ae7d-b22fe54757ad"
      },
      "source": [
        "X_val[['time_scaled', 'amount_scaled']].describe()"
      ],
      "execution_count": 24,
      "outputs": [
        {
          "output_type": "execute_result",
          "data": {
            "text/plain": [
              "        time_scaled  amount_scaled\n",
              "count  45569.000000   45569.000000\n",
              "mean       0.549103       0.940067\n",
              "std        0.275370       3.488150\n",
              "min       -0.000006      -0.308166\n",
              "25%        0.312557      -0.228463\n",
              "50%        0.492300       0.000981\n",
              "75%        0.806228       0.791287\n",
              "max        0.999959     142.561143"
            ],
            "text/html": [
              "\n",
              "  <div id=\"df-7b68fc27-fd7f-4293-951e-91ac49e0b6c4\">\n",
              "    <div class=\"colab-df-container\">\n",
              "      <div>\n",
              "<style scoped>\n",
              "    .dataframe tbody tr th:only-of-type {\n",
              "        vertical-align: middle;\n",
              "    }\n",
              "\n",
              "    .dataframe tbody tr th {\n",
              "        vertical-align: top;\n",
              "    }\n",
              "\n",
              "    .dataframe thead th {\n",
              "        text-align: right;\n",
              "    }\n",
              "</style>\n",
              "<table border=\"1\" class=\"dataframe\">\n",
              "  <thead>\n",
              "    <tr style=\"text-align: right;\">\n",
              "      <th></th>\n",
              "      <th>time_scaled</th>\n",
              "      <th>amount_scaled</th>\n",
              "    </tr>\n",
              "  </thead>\n",
              "  <tbody>\n",
              "    <tr>\n",
              "      <th>count</th>\n",
              "      <td>45569.000000</td>\n",
              "      <td>45569.000000</td>\n",
              "    </tr>\n",
              "    <tr>\n",
              "      <th>mean</th>\n",
              "      <td>0.549103</td>\n",
              "      <td>0.940067</td>\n",
              "    </tr>\n",
              "    <tr>\n",
              "      <th>std</th>\n",
              "      <td>0.275370</td>\n",
              "      <td>3.488150</td>\n",
              "    </tr>\n",
              "    <tr>\n",
              "      <th>min</th>\n",
              "      <td>-0.000006</td>\n",
              "      <td>-0.308166</td>\n",
              "    </tr>\n",
              "    <tr>\n",
              "      <th>25%</th>\n",
              "      <td>0.312557</td>\n",
              "      <td>-0.228463</td>\n",
              "    </tr>\n",
              "    <tr>\n",
              "      <th>50%</th>\n",
              "      <td>0.492300</td>\n",
              "      <td>0.000981</td>\n",
              "    </tr>\n",
              "    <tr>\n",
              "      <th>75%</th>\n",
              "      <td>0.806228</td>\n",
              "      <td>0.791287</td>\n",
              "    </tr>\n",
              "    <tr>\n",
              "      <th>max</th>\n",
              "      <td>0.999959</td>\n",
              "      <td>142.561143</td>\n",
              "    </tr>\n",
              "  </tbody>\n",
              "</table>\n",
              "</div>\n",
              "      <button class=\"colab-df-convert\" onclick=\"convertToInteractive('df-7b68fc27-fd7f-4293-951e-91ac49e0b6c4')\"\n",
              "              title=\"Convert this dataframe to an interactive table.\"\n",
              "              style=\"display:none;\">\n",
              "        \n",
              "  <svg xmlns=\"http://www.w3.org/2000/svg\" height=\"24px\"viewBox=\"0 0 24 24\"\n",
              "       width=\"24px\">\n",
              "    <path d=\"M0 0h24v24H0V0z\" fill=\"none\"/>\n",
              "    <path d=\"M18.56 5.44l.94 2.06.94-2.06 2.06-.94-2.06-.94-.94-2.06-.94 2.06-2.06.94zm-11 1L8.5 8.5l.94-2.06 2.06-.94-2.06-.94L8.5 2.5l-.94 2.06-2.06.94zm10 10l.94 2.06.94-2.06 2.06-.94-2.06-.94-.94-2.06-.94 2.06-2.06.94z\"/><path d=\"M17.41 7.96l-1.37-1.37c-.4-.4-.92-.59-1.43-.59-.52 0-1.04.2-1.43.59L10.3 9.45l-7.72 7.72c-.78.78-.78 2.05 0 2.83L4 21.41c.39.39.9.59 1.41.59.51 0 1.02-.2 1.41-.59l7.78-7.78 2.81-2.81c.8-.78.8-2.07 0-2.86zM5.41 20L4 18.59l7.72-7.72 1.47 1.35L5.41 20z\"/>\n",
              "  </svg>\n",
              "      </button>\n",
              "      \n",
              "  <style>\n",
              "    .colab-df-container {\n",
              "      display:flex;\n",
              "      flex-wrap:wrap;\n",
              "      gap: 12px;\n",
              "    }\n",
              "\n",
              "    .colab-df-convert {\n",
              "      background-color: #E8F0FE;\n",
              "      border: none;\n",
              "      border-radius: 50%;\n",
              "      cursor: pointer;\n",
              "      display: none;\n",
              "      fill: #1967D2;\n",
              "      height: 32px;\n",
              "      padding: 0 0 0 0;\n",
              "      width: 32px;\n",
              "    }\n",
              "\n",
              "    .colab-df-convert:hover {\n",
              "      background-color: #E2EBFA;\n",
              "      box-shadow: 0px 1px 2px rgba(60, 64, 67, 0.3), 0px 1px 3px 1px rgba(60, 64, 67, 0.15);\n",
              "      fill: #174EA6;\n",
              "    }\n",
              "\n",
              "    [theme=dark] .colab-df-convert {\n",
              "      background-color: #3B4455;\n",
              "      fill: #D2E3FC;\n",
              "    }\n",
              "\n",
              "    [theme=dark] .colab-df-convert:hover {\n",
              "      background-color: #434B5C;\n",
              "      box-shadow: 0px 1px 3px 1px rgba(0, 0, 0, 0.15);\n",
              "      filter: drop-shadow(0px 1px 2px rgba(0, 0, 0, 0.3));\n",
              "      fill: #FFFFFF;\n",
              "    }\n",
              "  </style>\n",
              "\n",
              "      <script>\n",
              "        const buttonEl =\n",
              "          document.querySelector('#df-7b68fc27-fd7f-4293-951e-91ac49e0b6c4 button.colab-df-convert');\n",
              "        buttonEl.style.display =\n",
              "          google.colab.kernel.accessAllowed ? 'block' : 'none';\n",
              "\n",
              "        async function convertToInteractive(key) {\n",
              "          const element = document.querySelector('#df-7b68fc27-fd7f-4293-951e-91ac49e0b6c4');\n",
              "          const dataTable =\n",
              "            await google.colab.kernel.invokeFunction('convertToInteractive',\n",
              "                                                     [key], {});\n",
              "          if (!dataTable) return;\n",
              "\n",
              "          const docLinkHtml = 'Like what you see? Visit the ' +\n",
              "            '<a target=\"_blank\" href=https://colab.research.google.com/notebooks/data_table.ipynb>data table notebook</a>'\n",
              "            + ' to learn more about interactive tables.';\n",
              "          element.innerHTML = '';\n",
              "          dataTable['output_type'] = 'display_data';\n",
              "          await google.colab.output.renderOutput(dataTable, element);\n",
              "          const docLink = document.createElement('div');\n",
              "          docLink.innerHTML = docLinkHtml;\n",
              "          element.appendChild(docLink);\n",
              "        }\n",
              "      </script>\n",
              "    </div>\n",
              "  </div>\n",
              "  "
            ]
          },
          "metadata": {},
          "execution_count": 24
        }
      ]
    },
    {
      "cell_type": "code",
      "metadata": {
        "id": "0iyz3jshIkka"
      },
      "source": [
        "X_train.drop(['Time', 'Amount'], axis=1, inplace=True)\n",
        "X_test.drop(['Time', 'Amount'], axis=1, inplace=True)\n",
        "X_val.drop(['Time', 'Amount'], axis=1, inplace=True)"
      ],
      "execution_count": 25,
      "outputs": []
    },
    {
      "cell_type": "markdown",
      "metadata": {
        "id": "p9iDzGSxHjG5"
      },
      "source": [
        "# Modelaje"
      ]
    },
    {
      "cell_type": "markdown",
      "metadata": {
        "id": "uyu4Dr9ONpGo"
      },
      "source": [
        "## Evaluacion de Modelos"
      ]
    },
    {
      "cell_type": "markdown",
      "metadata": {
        "id": "BTtVHU66V3Ot"
      },
      "source": [
        "Usaremos Cross Validation para elegir modelos. Una vez elegidos los modelos, utilizaremos CV de nuevo para tuneo de hiperparametros del modelo que elegimos."
      ]
    },
    {
      "cell_type": "markdown",
      "metadata": {
        "id": "Noh7-PpuIOHp"
      },
      "source": [
        "Elijamos los Folds y los Modelos a utilizar"
      ]
    },
    {
      "cell_type": "code",
      "metadata": {
        "id": "EGIF9idBHj6j"
      },
      "source": [
        "# Opciones de Evaluacion de Modelos\n",
        "num_folds = 5\n",
        "seed = 7\n",
        "# scoring ='f1'\n",
        "scoring = 'accuracy'\n",
        "\n",
        "# Modelos\n",
        "models = []\n",
        "models.append(('LR', LogisticRegression()))\n",
        "#models.append(('RF', RandomForestClassifier()))\n",
        "models.append(('LDA', LinearDiscriminantAnalysis()))\n",
        "models.append(('KNN', KNeighborsClassifier()))\n",
        "models.append(('CART', DecisionTreeClassifier()))"
      ],
      "execution_count": 26,
      "outputs": []
    },
    {
      "cell_type": "markdown",
      "metadata": {
        "id": "HnQMajU1RhvJ"
      },
      "source": [
        "CV sobre diferentes modelos"
      ]
    },
    {
      "cell_type": "code",
      "metadata": {
        "colab": {
          "base_uri": "https://localhost:8080/"
        },
        "id": "arlH4ndzIRTj",
        "outputId": "ac60df5d-bfd6-4d40-bbff-796c9d13d3f8"
      },
      "source": [
        "results = []\n",
        "names = []\n",
        "for name, model in models:\n",
        "    kfold = KFold(n_splits=num_folds, random_state=seed, shuffle=True)\n",
        "    cv_results = cross_val_score(model, X_train, Y_train, cv=kfold, scoring=scoring,\n",
        "                                 n_jobs=-1)\n",
        "    results.append(cv_results)\n",
        "    names.append(name)\n",
        "    msg = \"%s: %f (%f)\" % (name, cv_results.mean(), cv_results.std())\n",
        "    print(msg)"
      ],
      "execution_count": 27,
      "outputs": [
        {
          "output_type": "stream",
          "name": "stdout",
          "text": [
            "LR: 0.999210 (0.000122)\n",
            "LDA: 0.999386 (0.000158)\n",
            "KNN: 0.999462 (0.000102)\n",
            "CART: 0.999161 (0.000191)\n"
          ]
        }
      ]
    },
    {
      "cell_type": "markdown",
      "metadata": {
        "id": "KD7kzP_pjbQa"
      },
      "source": [
        "## Evaluacion de LDA"
      ]
    },
    {
      "cell_type": "markdown",
      "metadata": {
        "id": "GoMr6G8cIFEx"
      },
      "source": [
        "[LDA doc](https://scikit-learn.org/0.16/modules/generated/sklearn.lda.LDA.html)"
      ]
    },
    {
      "cell_type": "code",
      "metadata": {
        "colab": {
          "base_uri": "https://localhost:8080/"
        },
        "id": "1jUssiZtajCV",
        "outputId": "6914569e-da61-4079-ecab-42aefd601cb7"
      },
      "source": [
        "# Llamar al Modelo\n",
        "model = LinearDiscriminantAnalysis()\n",
        "model.fit(X_train, Y_train)"
      ],
      "execution_count": 39,
      "outputs": [
        {
          "output_type": "execute_result",
          "data": {
            "text/plain": [
              "LinearDiscriminantAnalysis()"
            ]
          },
          "metadata": {},
          "execution_count": 39
        }
      ]
    },
    {
      "cell_type": "code",
      "metadata": {
        "colab": {
          "base_uri": "https://localhost:8080/"
        },
        "id": "6nz5tmWgji2c",
        "outputId": "b18f5450-b208-4b53-b937-22b6870ff145"
      },
      "source": [
        "rescaledValidationX = X_train\n",
        "predictions = model.predict(rescaledValidationX)\n",
        "print(accuracy_score(Y_train, predictions))\n",
        "print(confusion_matrix(Y_train, predictions))\n",
        "print(classification_report(Y_train, predictions))"
      ],
      "execution_count": 40,
      "outputs": [
        {
          "output_type": "stream",
          "name": "stdout",
          "text": [
            "0.9993855471921701\n",
            "[[181928     39]\n",
            " [    73    236]]\n",
            "              precision    recall  f1-score   support\n",
            "\n",
            "           0       1.00      1.00      1.00    181967\n",
            "           1       0.86      0.76      0.81       309\n",
            "\n",
            "    accuracy                           1.00    182276\n",
            "   macro avg       0.93      0.88      0.90    182276\n",
            "weighted avg       1.00      1.00      1.00    182276\n",
            "\n"
          ]
        }
      ]
    },
    {
      "cell_type": "code",
      "metadata": {
        "colab": {
          "base_uri": "https://localhost:8080/",
          "height": 296
        },
        "id": "G75NZ_uKaWar",
        "outputId": "70d9c50a-67ad-419d-e448-cd949e15d029"
      },
      "source": [
        "df_cm = pd.DataFrame(confusion_matrix(Y_train, predictions), \n",
        "                     columns=np.unique(Y_train), index = np.unique(Y_train))\n",
        "df_cm.index.name = 'Actual'\n",
        "df_cm.columns.name = 'Predicted'\n",
        "sns.heatmap(df_cm, cmap=\"Blues\", annot=True,annot_kws={\"size\": 16})# font size"
      ],
      "execution_count": 41,
      "outputs": [
        {
          "output_type": "execute_result",
          "data": {
            "text/plain": [
              "<matplotlib.axes._subplots.AxesSubplot at 0x7f98d9d5ecd0>"
            ]
          },
          "metadata": {},
          "execution_count": 41
        },
        {
          "output_type": "display_data",
          "data": {
            "text/plain": [
              "<Figure size 432x288 with 2 Axes>"
            ],
            "image/png": "[encoded data removed]"
          },
          "metadata": {
            "needs_background": "light"
          }
        }
      ]
    },
    {
      "cell_type": "markdown",
      "metadata": {
        "id": "Kgem3qPYjv_X"
      },
      "source": [
        "### LDA Validacion"
      ]
    },
    {
      "cell_type": "code",
      "metadata": {
        "colab": {
          "base_uri": "https://localhost:8080/",
          "height": 296
        },
        "id": "bp7356G-j0QI",
        "outputId": "6d81b279-d7b5-4640-da67-8405dca35eaf"
      },
      "source": [
        "predictions = model.predict(X_val)\n",
        "df_cm = pd.DataFrame(confusion_matrix(Y_val, predictions), \n",
        "                     columns=np.unique(Y_val), index = np.unique(Y_val))\n",
        "df_cm.index.name = 'Actual'\n",
        "df_cm.columns.name = 'Predicted'\n",
        "sns.heatmap(df_cm, cmap=\"Blues\", annot=True,annot_kws={\"size\": 16})# font size"
      ],
      "execution_count": 42,
      "outputs": [
        {
          "output_type": "execute_result",
          "data": {
            "text/plain": [
              "<matplotlib.axes._subplots.AxesSubplot at 0x7f98d9da30d0>"
            ]
          },
          "metadata": {},
          "execution_count": 42
        },
        {
          "output_type": "display_data",
          "data": {
            "text/plain": [
              "<Figure size 432x288 with 2 Axes>"
            ],
            "image/png": "[encoded data removed]"
          },
          "metadata": {
            "needs_background": "light"
          }
        }
      ]
    },
    {
      "cell_type": "markdown",
      "metadata": {
        "id": "hzzs3Y7Lo057"
      },
      "source": [
        "## Logistic Regression"
      ]
    },
    {
      "cell_type": "markdown",
      "metadata": {
        "id": "vhrgkuxGJFJN"
      },
      "source": [
        "**Tarea**: Agregar `l1_ratio` al gridsearch."
      ]
    },
    {
      "cell_type": "code",
      "metadata": {
        "colab": {
          "base_uri": "https://localhost:8080/"
        },
        "id": "__NqaPv9o91S",
        "outputId": "24274cad-f273-4b23-a01f-1fcb14076f69"
      },
      "source": [
        "# Numero de Arboles en el Bosque\n",
        "penalty = ['l1', 'l2', 'elasticnet', 'none']\n",
        "# l1_ratio\n",
        "l1_ratio =[0,1]\n",
        "# Inverso de la Regularizacion\n",
        "C = np.logspace(-4, 4, 20)\n",
        "# Crea diccionario de busqueda\n",
        "random_grid = {'penalty': penalty,\n",
        "               'C': C,\n",
        "               'l1_ratio':l1_ratio }\n",
        "pprint(random_grid)"
      ],
      "execution_count": 43,
      "outputs": [
        {
          "output_type": "stream",
          "name": "stdout",
          "text": [
            "{'C': array([1.00000000e-04, 2.63665090e-04, 6.95192796e-04, 1.83298071e-03,\n",
            "       4.83293024e-03, 1.27427499e-02, 3.35981829e-02, 8.85866790e-02,\n",
            "       2.33572147e-01, 6.15848211e-01, 1.62377674e+00, 4.28133240e+00,\n",
            "       1.12883789e+01, 2.97635144e+01, 7.84759970e+01, 2.06913808e+02,\n",
            "       5.45559478e+02, 1.43844989e+03, 3.79269019e+03, 1.00000000e+04]),\n",
            " 'l1_ratio': [0, 1],\n",
            " 'penalty': ['l1', 'l2', 'elasticnet', 'none']}\n"
          ]
        }
      ]
    },
    {
      "cell_type": "code",
      "metadata": {
        "colab": {
          "base_uri": "https://localhost:8080/"
        },
        "id": "IIOWDi1_pQLI",
        "outputId": "379466dc-ca78-453a-8d97-6c2e575db4f5"
      },
      "source": [
        "# Construyamos el algoritmo\n",
        "lr = LogisticRegression()\n",
        "# Tuneo de Hyperparametros con CV\n",
        "lr_random = GridSearchCV(estimator = lr, param_grid = random_grid, \n",
        "                                scoring = 'accuracy',\n",
        "                               cv = 5, verbose=2, n_jobs = -1)\n",
        "# Entrenar\n",
        "lr_random.fit(X_train, Y_train)"
      ],
      "execution_count": 44,
      "outputs": [
        {
          "output_type": "stream",
          "name": "stdout",
          "text": [
            "Fitting 5 folds for each of 160 candidates, totalling 800 fits\n"
          ]
        },
        {
          "output_type": "execute_result",
          "data": {
            "text/plain": [
              "GridSearchCV(cv=5, estimator=LogisticRegression(), n_jobs=-1,\n",
              "             param_grid={'C': array([1.00000000e-04, 2.63665090e-04, 6.95192796e-04, 1.83298071e-03,\n",
              "       4.83293024e-03, 1.27427499e-02, 3.35981829e-02, 8.85866790e-02,\n",
              "       2.33572147e-01, 6.15848211e-01, 1.62377674e+00, 4.28133240e+00,\n",
              "       1.12883789e+01, 2.97635144e+01, 7.84759970e+01, 2.06913808e+02,\n",
              "       5.45559478e+02, 1.43844989e+03, 3.79269019e+03, 1.00000000e+04]),\n",
              "                         'l1_ratio': [0, 1],\n",
              "                         'penalty': ['l1', 'l2', 'elasticnet', 'none']},\n",
              "             scoring='accuracy', verbose=2)"
            ]
          },
          "metadata": {},
          "execution_count": 44
        }
      ]
    },
    {
      "cell_type": "code",
      "metadata": {
        "colab": {
          "base_uri": "https://localhost:8080/"
        },
        "id": "ljse0kFKpYrJ",
        "outputId": "43000fe0-2f23-418f-a1d5-734832418537"
      },
      "source": [
        "print(f'Mejores parametros: {lr_random.best_params_}')\n",
        "print(f'Mejor Desempeño: {lr_random.best_score_}')"
      ],
      "execution_count": 45,
      "outputs": [
        {
          "output_type": "stream",
          "name": "stdout",
          "text": [
            "Mejores parametros: {'C': 0.0001, 'l1_ratio': 0, 'penalty': 'none'}\n",
            "Mejor Desempeño: 0.9992099889761011\n"
          ]
        }
      ]
    },
    {
      "cell_type": "code",
      "metadata": {
        "colab": {
          "base_uri": "https://localhost:8080/",
          "height": 296
        },
        "id": "rZ6FtmJQdyfN",
        "outputId": "308ad3bd-aeb0-40b1-9877-c48a4de7c971"
      },
      "source": [
        "lr_opt = LogisticRegression(**lr_random.best_params_)\n",
        "lr_opt.fit(X_train, Y_train)\n",
        "\n",
        "# Estimar Test\n",
        "predictions = lr_opt.predict(X_train)\n",
        "df_cm = pd.DataFrame(confusion_matrix(Y_train, predictions), \n",
        "                     columns=np.unique(Y_train), index = np.unique(Y_train))\n",
        "df_cm.index.name = 'Actual'\n",
        "df_cm.columns.name = 'Predicted'\n",
        "sns.heatmap(df_cm, cmap=\"Blues\", annot=True,annot_kws={\"size\": 16})# font size"
      ],
      "execution_count": 46,
      "outputs": [
        {
          "output_type": "execute_result",
          "data": {
            "text/plain": [
              "<matplotlib.axes._subplots.AxesSubplot at 0x7f98d9b72610>"
            ]
          },
          "metadata": {},
          "execution_count": 46
        },
        {
          "output_type": "display_data",
          "data": {
            "text/plain": [
              "<Figure size 432x288 with 2 Axes>"
            ],
            "image/png": "[encoded data removed]"
          },
          "metadata": {
            "needs_background": "light"
          }
        }
      ]
    },
    {
      "cell_type": "markdown",
      "metadata": {
        "id": "9SQkXJSlprfb"
      },
      "source": [
        "### Logistic Regression Validacion"
      ]
    },
    {
      "cell_type": "code",
      "metadata": {
        "colab": {
          "base_uri": "https://localhost:8080/",
          "height": 505
        },
        "id": "jdOFvtI-pwbd",
        "outputId": "d7922b76-b83c-4c5c-e7f6-17e407092c94"
      },
      "source": [
        "lr_opt = LogisticRegression(**lr_random.best_params_)\n",
        "lr_opt.fit(X_train, Y_train)\n",
        "\n",
        "# Estimar Test\n",
        "predictions = lr_opt.predict(X_val)\n",
        "print(accuracy_score(Y_val, predictions))\n",
        "print(confusion_matrix(Y_val, predictions))\n",
        "print(classification_report(Y_val, predictions))\n",
        "\n",
        "df_cm = pd.DataFrame(confusion_matrix(Y_val, predictions), \n",
        "                     columns=np.unique(Y_val), index = np.unique(Y_val))\n",
        "df_cm.index.name = 'Actual'\n",
        "df_cm.columns.name = 'Predicted'\n",
        "sns.heatmap(df_cm, cmap=\"Blues\", annot=True,annot_kws={\"size\": 16})"
      ],
      "execution_count": 47,
      "outputs": [
        {
          "output_type": "stream",
          "name": "stdout",
          "text": [
            "0.9990344313019817\n",
            "[[45478     8]\n",
            " [   36    47]]\n",
            "              precision    recall  f1-score   support\n",
            "\n",
            "           0       1.00      1.00      1.00     45486\n",
            "           1       0.85      0.57      0.68        83\n",
            "\n",
            "    accuracy                           1.00     45569\n",
            "   macro avg       0.93      0.78      0.84     45569\n",
            "weighted avg       1.00      1.00      1.00     45569\n",
            "\n"
          ]
        },
        {
          "output_type": "execute_result",
          "data": {
            "text/plain": [
              "<matplotlib.axes._subplots.AxesSubplot at 0x7f98d9ba32d0>"
            ]
          },
          "metadata": {},
          "execution_count": 47
        },
        {
          "output_type": "display_data",
          "data": {
            "text/plain": [
              "<Figure size 432x288 with 2 Axes>"
            ],
            "image/png": "[encoded data removed]"
          },
          "metadata": {
            "needs_background": "light"
          }
        }
      ]
    },
    {
      "cell_type": "markdown",
      "metadata": {
        "id": "RDRRr8m4jPmY"
      },
      "source": [
        "# Modelaje con Undersampling"
      ]
    },
    {
      "cell_type": "markdown",
      "metadata": {
        "id": "Q-l41Et2PIs2"
      },
      "source": [
        "## Balanceo con Undersampling"
      ]
    },
    {
      "cell_type": "markdown",
      "metadata": {
        "id": "5DTeiu0xPP5u"
      },
      "source": [
        "Ahora entrenaremos modelos usando el metodo de **Random Under Sampling**. Consiste en remover datos aleatoriamente de la clase que tiene mas valores. De esta manera, nuestros modelos no van a sobreajustar a la clase dominante. Pasos:\n",
        "1. Determinar que tan imbalaceada estan nuestras clases (usar value counts)\n",
        "2. Despues balancemos las clases sampleando de manera aleatoria la que tiene mas numeros. Normalmente se busca tener algo cercano al 50/50.\n",
        "3. Entrenar y Evaluar con las clases balanceadas.  \n",
        "El principal riesgo de esta tecnica es que podemos perder muchos datos, lo cual puede afectar el desempeño de nuestros modelos. Por ejemplo, pasamos de 280,315 datos de no fraude a 492."
      ]
    },
    {
      "cell_type": "markdown",
      "metadata": {
        "id": "vMCz8-QlRdnP"
      },
      "source": [
        "Rebalanceo en el train"
      ]
    },
    {
      "cell_type": "code",
      "metadata": {
        "colab": {
          "base_uri": "https://localhost:8080/",
          "height": 366
        },
        "id": "4avh9AYyRNO1",
        "outputId": "7568c5e2-4780-4c28-c689-d81ef64e5c4c"
      },
      "source": [
        "df_train = pd.concat([X_train, Y_train], axis=1)\n",
        "fraud_df = df_train.loc[df_train['Class'] == 1]\n",
        "non_fraud_df = df_train.loc[df_train['Class'] == 0][:fraud_df.shape[0]]\n",
        "\n",
        "normal_distributed_df = pd.concat([fraud_df, non_fraud_df])\n",
        "\n",
        "# Shuffle de datos de nuevo\n",
        "df_new = normal_distributed_df.sample(frac=1, random_state=42)\n",
        "# split out validation dataset for the end\n",
        "Y_train_new= df_new[\"Class\"]\n",
        "X_train_new = df_new.loc[:, df.columns != 'Class']\n",
        "\n",
        "\n",
        "print('Distribucion de las Clases en el Data Set')\n",
        "print(df_new['Class'].value_counts()/len(df_new))\n",
        "sns.countplot('Class', data=df_new)\n",
        "pyplot.title('Clases balanceadas', fontsize=14)\n",
        "pyplot.show()"
      ],
      "execution_count": 48,
      "outputs": [
        {
          "output_type": "stream",
          "name": "stdout",
          "text": [
            "Distribucion de las Clases en el Data Set\n",
            "1    0.5\n",
            "0    0.5\n",
            "Name: Class, dtype: float64\n"
          ]
        },
        {
          "output_type": "display_data",
          "data": {
            "text/plain": [
              "<Figure size 432x288 with 1 Axes>"
            ],
            "image/png": "[encoded data removed]"
          },
          "metadata": {
            "needs_background": "light"
          }
        }
      ]
    },
    {
      "cell_type": "code",
      "metadata": {
        "colab": {
          "base_uri": "https://localhost:8080/"
        },
        "id": "xHd133_CTGmo",
        "outputId": "e6c79b28-1456-4ab1-e258-e7a90a909f92"
      },
      "source": [
        "class_names = {0:'Not Fraud', 1:'Fraud'}\n",
        "print(df_new.Class.value_counts().rename(index = class_names))"
      ],
      "execution_count": 49,
      "outputs": [
        {
          "output_type": "stream",
          "name": "stdout",
          "text": [
            "Fraud        309\n",
            "Not Fraud    309\n",
            "Name: Class, dtype: int64\n"
          ]
        }
      ]
    },
    {
      "cell_type": "markdown",
      "metadata": {
        "id": "h8PLmJUUTw4f"
      },
      "source": [
        "## Evaluacion de modelos Undersampling"
      ]
    },
    {
      "cell_type": "code",
      "metadata": {
        "id": "TH53TZF4TudK"
      },
      "source": [
        "# Opciones de Evaluacion de Modelos\n",
        "num_folds = 10\n",
        "seed = 7\n",
        "# scoring ='f1'\n",
        "scoring = 'accuracy'\n",
        "\n",
        "# ### Modelos\n",
        "models = []\n",
        "models.append(('LR', LogisticRegression()))\n",
        "models.append(('LDA', LinearDiscriminantAnalysis()))\n",
        "models.append(('KNN', KNeighborsClassifier()))\n",
        "models.append(('CART', DecisionTreeClassifier()))\n",
        "models.append(('NB', GaussianNB()))\n",
        "models.append(('SVM', SVC()))\n",
        "#Neural Network\n",
        "models.append(('NN', MLPClassifier()))\n",
        "# #Ensable Models \n",
        "# Boosting methods\n",
        "models.append(('AB', AdaBoostClassifier()))\n",
        "models.append(('GBM', GradientBoostingClassifier()))\n",
        "# Bagging methods\n",
        "models.append(('RF', RandomForestClassifier()))\n",
        "models.append(('ET', ExtraTreesClassifier()))"
      ],
      "execution_count": 50,
      "outputs": []
    },
    {
      "cell_type": "markdown",
      "metadata": {
        "id": "bgYZFjIJUAQX"
      },
      "source": [
        "**Red Neuronal Profunda con Keras**"
      ]
    },
    {
      "cell_type": "code",
      "metadata": {
        "id": "dWyACWlyUCJw"
      },
      "source": [
        "# Modelo de red Neuronal\n",
        "# Si deseas entrenarlo pon el flag=1\n",
        "EnableDLModelsFlag = 1\n",
        "if EnableDLModelsFlag == 1 :   \n",
        "    # Creacion del modelo con Keras\n",
        "    def create_model(neurons=12, activation='relu', learn_rate = 0.01, momentum=0):\n",
        "        # create model\n",
        "        model = Sequential()\n",
        "        model.add(Dense(X_train.shape[1], input_dim=X_train.shape[1], activation=activation))\n",
        "        model.add(Dense(32, activation=activation))\n",
        "        model.add(Dense(1, activation='sigmoid'))\n",
        "        # Compilar Modelo\n",
        "        optimizer = SGD(lr=learn_rate, momentum=momentum)\n",
        "        model.compile(loss='binary_crossentropy', optimizer='adam', metrics=['accuracy'])\n",
        "        return model    \n",
        "    models.append(('DNN', KerasClassifier(build_fn=create_model, epochs=50, batch_size=10, verbose=0)))"
      ],
      "execution_count": 51,
      "outputs": []
    },
    {
      "cell_type": "code",
      "metadata": {
        "colab": {
          "base_uri": "https://localhost:8080/"
        },
        "id": "3sTUuf2KUNJ9",
        "outputId": "962ab727-512f-476a-f4fa-455051863786"
      },
      "source": [
        "results = []\n",
        "names = []\n",
        "for name, model in models:\n",
        "    kfold = KFold(n_splits=num_folds, random_state=seed, shuffle=True)\n",
        "    cv_results = cross_val_score(model, X_train_new, Y_train_new, cv=kfold,\n",
        "                                 scoring=scoring, n_jobs=-1)\n",
        "    results.append(cv_results)\n",
        "    names.append(name)\n",
        "    msg = \"%s: %f (%f)\" % (name, cv_results.mean(), cv_results.std())\n",
        "    print(msg)"
      ],
      "execution_count": 52,
      "outputs": [
        {
          "output_type": "stream",
          "name": "stdout",
          "text": [
            "LR: 0.938525 (0.028650)\n",
            "LDA: 0.917425 (0.024639)\n",
            "KNN: 0.941724 (0.019430)\n",
            "CART: 0.886806 (0.048249)\n",
            "NB: 0.922290 (0.029747)\n",
            "SVM: 0.930407 (0.022915)\n",
            "NN: 0.946589 (0.033897)\n",
            "AB: 0.927155 (0.024287)\n",
            "GBM: 0.936912 (0.026419)\n",
            "RF: 0.938472 (0.022714)\n",
            "ET: 0.931994 (0.021603)\n",
            "DNN: 0.940111 (0.017805)\n"
          ]
        }
      ]
    },
    {
      "cell_type": "code",
      "metadata": {
        "colab": {
          "base_uri": "https://localhost:8080/",
          "height": 294
        },
        "id": "PaA5iYJ7Uo_0",
        "outputId": "0aca3b39-7161-4ae0-e818-68adf86c98b0"
      },
      "source": [
        "# compare algorithms\n",
        "fig = pyplot.figure()\n",
        "fig.suptitle('Comparar Algoritmos')\n",
        "ax = fig.add_subplot(111)\n",
        "pyplot.boxplot(results)\n",
        "ax.set_xticklabels(names)\n",
        "fig.set_size_inches(8,4)\n",
        "pyplot.show()"
      ],
      "execution_count": 53,
      "outputs": [
        {
          "output_type": "display_data",
          "data": {
            "text/plain": [
              "<Figure size 576x288 with 1 Axes>"
            ],
            "image/png": "[encoded data removed]"
          },
          "metadata": {
            "needs_background": "light"
          }
        }
      ]
    },
    {
      "cell_type": "markdown",
      "metadata": {
        "id": "0SVMglNxotZR"
      },
      "source": [
        "## Logistic Regression"
      ]
    },
    {
      "cell_type": "markdown",
      "metadata": {
        "id": "2GfUG4XBp12E"
      },
      "source": [
        "Documentacion [LogisticRegression](https://scikit-learn.org/stable/modules/generated/sklearn.linear_model.LogisticRegression.html)"
      ]
    },
    {
      "cell_type": "markdown",
      "metadata": {
        "id": "VELvL_Y_pTw7"
      },
      "source": [
        "### Logistic Regression Training"
      ]
    },
    {
      "cell_type": "markdown",
      "metadata": {
        "id": "QW6PbJ82iwf5"
      },
      "source": [
        "**Tarea**\n",
        "Gridsearch con `l1_ratio`."
      ]
    },
    {
      "cell_type": "code",
      "metadata": {
        "colab": {
          "base_uri": "https://localhost:8080/"
        },
        "id": "CC-fhJ9dp1QW",
        "outputId": "94c4f6ad-5e3e-4b43-9587-da371421c6b9"
      },
      "source": [
        "# Numero de Arboles en el Bosque\n",
        "penalty = ['l1', 'l2', 'elasticnet', 'none']\n",
        "# Inverso de la Regularizacion\n",
        "C = np.logspace(-4, 4, 20)\n",
        "l1_ratio = [0,.5,1]\n",
        "\n",
        "# Crea diccionario de busqueda\n",
        "random_grid = {'penalty': penalty,\n",
        "               'C': C,\n",
        "               'l1_ratio': l1_ratio}\n",
        "pprint(random_grid)"
      ],
      "execution_count": 55,
      "outputs": [
        {
          "output_type": "stream",
          "name": "stdout",
          "text": [
            "{'C': array([1.00000000e-04, 2.63665090e-04, 6.95192796e-04, 1.83298071e-03,\n",
            "       4.83293024e-03, 1.27427499e-02, 3.35981829e-02, 8.85866790e-02,\n",
            "       2.33572147e-01, 6.15848211e-01, 1.62377674e+00, 4.28133240e+00,\n",
            "       1.12883789e+01, 2.97635144e+01, 7.84759970e+01, 2.06913808e+02,\n",
            "       5.45559478e+02, 1.43844989e+03, 3.79269019e+03, 1.00000000e+04]),\n",
            " 'l1_ratio': [0, 0.5, 1],\n",
            " 'penalty': ['l1', 'l2', 'elasticnet', 'none']}\n"
          ]
        }
      ]
    },
    {
      "cell_type": "code",
      "metadata": {
        "colab": {
          "base_uri": "https://localhost:8080/"
        },
        "id": "dmWAwLZLplLT",
        "outputId": "1a77a794-f047-4d28-cd9a-ce91d093aca7"
      },
      "source": [
        "# Construyamos el algoritmo\n",
        "lr = LogisticRegression()\n",
        "# Tuneo de Hyperparametros con CV\n",
        "lr_random = GridSearchCV(estimator = lr, param_grid = random_grid, \n",
        "                                scoring = 'accuracy',\n",
        "                               cv = 5, verbose=2, n_jobs = -1)\n",
        "# Entrenar\n",
        "lr_random.fit(X_train_new, Y_train_new)"
      ],
      "execution_count": 56,
      "outputs": [
        {
          "output_type": "stream",
          "name": "stdout",
          "text": [
            "Fitting 5 folds for each of 240 candidates, totalling 1200 fits\n"
          ]
        },
        {
          "output_type": "execute_result",
          "data": {
            "text/plain": [
              "GridSearchCV(cv=5, estimator=LogisticRegression(), n_jobs=-1,\n",
              "             param_grid={'C': array([1.00000000e-04, 2.63665090e-04, 6.95192796e-04, 1.83298071e-03,\n",
              "       4.83293024e-03, 1.27427499e-02, 3.35981829e-02, 8.85866790e-02,\n",
              "       2.33572147e-01, 6.15848211e-01, 1.62377674e+00, 4.28133240e+00,\n",
              "       1.12883789e+01, 2.97635144e+01, 7.84759970e+01, 2.06913808e+02,\n",
              "       5.45559478e+02, 1.43844989e+03, 3.79269019e+03, 1.00000000e+04]),\n",
              "                         'l1_ratio': [0, 0.5, 1],\n",
              "                         'penalty': ['l1', 'l2', 'elasticnet', 'none']},\n",
              "             scoring='accuracy', verbose=2)"
            ]
          },
          "metadata": {},
          "execution_count": 56
        }
      ]
    },
    {
      "cell_type": "code",
      "metadata": {
        "colab": {
          "base_uri": "https://localhost:8080/"
        },
        "id": "ziGyOaTFrliu",
        "outputId": "432fd6ad-1344-4661-ab56-3869817a0a0b"
      },
      "source": [
        "print(f'Mejores parametros: {lr_random.best_params_}')\n",
        "print(f'Mejor Desempeño: {lr_random.best_score_}')"
      ],
      "execution_count": 57,
      "outputs": [
        {
          "output_type": "stream",
          "name": "stdout",
          "text": [
            "Mejores parametros: {'C': 29.763514416313132, 'l1_ratio': 0, 'penalty': 'l2'}\n",
            "Mejor Desempeño: 0.9385129819040126\n"
          ]
        }
      ]
    },
    {
      "cell_type": "code",
      "metadata": {
        "colab": {
          "base_uri": "https://localhost:8080/",
          "height": 506
        },
        "id": "WfnHvkjri6-l",
        "outputId": "d3d4ebae-877d-4d60-eaab-0686c7300d03"
      },
      "source": [
        "lr_opt = LogisticRegression(**lr_random.best_params_)\n",
        "lr_opt.fit(X_train_new, Y_train_new)\n",
        "\n",
        "# Estimar Test\n",
        "predictions = lr_opt.predict(X_train_new)\n",
        "print(accuracy_score(Y_train_new, predictions))\n",
        "print(confusion_matrix(Y_train_new, predictions))\n",
        "print(classification_report(Y_train_new, predictions))\n",
        "\n",
        "df_cm = pd.DataFrame(confusion_matrix(Y_train_new, predictions), \n",
        "                     columns=np.unique(Y_train_new), index = np.unique(Y_train_new))\n",
        "df_cm.index.name = 'Actual'\n",
        "df_cm.columns.name = 'Predicted'\n",
        "sns.heatmap(df_cm, cmap=\"Blues\", annot=True,annot_kws={\"size\": 16})"
      ],
      "execution_count": 58,
      "outputs": [
        {
          "output_type": "stream",
          "name": "stdout",
          "text": [
            "0.9611650485436893\n",
            "[[303   6]\n",
            " [ 18 291]]\n",
            "              precision    recall  f1-score   support\n",
            "\n",
            "           0       0.94      0.98      0.96       309\n",
            "           1       0.98      0.94      0.96       309\n",
            "\n",
            "    accuracy                           0.96       618\n",
            "   macro avg       0.96      0.96      0.96       618\n",
            "weighted avg       0.96      0.96      0.96       618\n",
            "\n"
          ]
        },
        {
          "output_type": "execute_result",
          "data": {
            "text/plain": [
              "<matplotlib.axes._subplots.AxesSubplot at 0x7f98d97d5ed0>"
            ]
          },
          "metadata": {},
          "execution_count": 58
        },
        {
          "output_type": "display_data",
          "data": {
            "text/plain": [
              "<Figure size 432x288 with 2 Axes>"
            ],
            "image/png": "[encoded data removed]"
          },
          "metadata": {
            "needs_background": "light"
          }
        }
      ]
    },
    {
      "cell_type": "markdown",
      "metadata": {
        "id": "cP5YNuUKoxnV"
      },
      "source": [
        "### Logistic Regression Val"
      ]
    },
    {
      "cell_type": "code",
      "metadata": {
        "colab": {
          "base_uri": "https://localhost:8080/",
          "height": 505
        },
        "id": "mg-df6t-o0qf",
        "outputId": "e0e3c537-36ff-4aaf-ff20-5e0de604f4e2"
      },
      "source": [
        "lr_opt = LogisticRegression(**lr_random.best_params_)\n",
        "lr_opt.fit(X_train_new, Y_train_new)\n",
        "\n",
        "# Estimar Test\n",
        "predictions = lr_opt.predict(X_val)\n",
        "print(accuracy_score(Y_val, predictions))\n",
        "print(confusion_matrix(Y_val, predictions))\n",
        "print(classification_report(Y_val, predictions))\n",
        "\n",
        "df_cm = pd.DataFrame(confusion_matrix(Y_val, predictions), \n",
        "                     columns=np.unique(Y_val), index = np.unique(Y_val))\n",
        "df_cm.index.name = 'Actual'\n",
        "df_cm.columns.name = 'Predicted'\n",
        "sns.heatmap(df_cm, cmap=\"Blues\", annot=True,annot_kws={\"size\": 16})"
      ],
      "execution_count": 59,
      "outputs": [
        {
          "output_type": "stream",
          "name": "stdout",
          "text": [
            "0.9603677938949725\n",
            "[[43690  1796]\n",
            " [   10    73]]\n",
            "              precision    recall  f1-score   support\n",
            "\n",
            "           0       1.00      0.96      0.98     45486\n",
            "           1       0.04      0.88      0.07        83\n",
            "\n",
            "    accuracy                           0.96     45569\n",
            "   macro avg       0.52      0.92      0.53     45569\n",
            "weighted avg       1.00      0.96      0.98     45569\n",
            "\n"
          ]
        },
        {
          "output_type": "execute_result",
          "data": {
            "text/plain": [
              "<matplotlib.axes._subplots.AxesSubplot at 0x7f98d98aa850>"
            ]
          },
          "metadata": {},
          "execution_count": 59
        },
        {
          "output_type": "display_data",
          "data": {
            "text/plain": [
              "<Figure size 432x288 with 2 Axes>"
            ],
            "image/png": "[encoded data removed]"
          },
          "metadata": {
            "needs_background": "light"
          }
        }
      ]
    },
    {
      "cell_type": "markdown",
      "metadata": {
        "id": "Eyw2ta43nefU"
      },
      "source": [
        "## Random Forest"
      ]
    },
    {
      "cell_type": "markdown",
      "metadata": {
        "id": "aBIlm7UIWqs9"
      },
      "source": [
        "### Tuneo de Random Forest"
      ]
    },
    {
      "cell_type": "markdown",
      "metadata": {
        "id": "DuyUJOZHXLRT"
      },
      "source": [
        "Documentacion a [RandomForestClassifer](https://scikit-learn.org/stable/modules/generated/sklearn.ensemble.RandomForestClassifier.html)"
      ]
    },
    {
      "cell_type": "code",
      "metadata": {
        "colab": {
          "base_uri": "https://localhost:8080/"
        },
        "id": "txRU-kaEWtc6",
        "outputId": "5fb763a3-e760-4429-9278-d5a41b012d8d"
      },
      "source": [
        "rf = RandomForestClassifier(random_state = 42)\n",
        "print('Parameters currently in use:\\n')\n",
        "pprint(rf.get_params())"
      ],
      "execution_count": 60,
      "outputs": [
        {
          "output_type": "stream",
          "name": "stdout",
          "text": [
            "Parameters currently in use:\n",
            "\n",
            "{'bootstrap': True,\n",
            " 'ccp_alpha': 0.0,\n",
            " 'class_weight': None,\n",
            " 'criterion': 'gini',\n",
            " 'max_depth': None,\n",
            " 'max_features': 'auto',\n",
            " 'max_leaf_nodes': None,\n",
            " 'max_samples': None,\n",
            " 'min_impurity_decrease': 0.0,\n",
            " 'min_samples_leaf': 1,\n",
            " 'min_samples_split': 2,\n",
            " 'min_weight_fraction_leaf': 0.0,\n",
            " 'n_estimators': 100,\n",
            " 'n_jobs': None,\n",
            " 'oob_score': False,\n",
            " 'random_state': 42,\n",
            " 'verbose': 0,\n",
            " 'warm_start': False}\n"
          ]
        }
      ]
    },
    {
      "cell_type": "markdown",
      "metadata": {
        "id": "VBo15uJDXB1w"
      },
      "source": [
        "Son muchos parametros, concentremonos en los mas importantes:"
      ]
    },
    {
      "cell_type": "markdown",
      "metadata": {
        "id": "hIrfkTdSXFf0"
      },
      "source": [
        "![image.png](data:image/png;base64,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)"
      ]
    },
    {
      "cell_type": "markdown",
      "metadata": {
        "id": "XCpxO4DTXZVL"
      },
      "source": [
        "Parametros a buscar con Random Forest"
      ]
    },
    {
      "cell_type": "code",
      "metadata": {
        "colab": {
          "base_uri": "https://localhost:8080/"
        },
        "id": "CX0bVWaQXZ5i",
        "outputId": "94d973f1-4573-46dd-a0cd-125ad32718c7"
      },
      "source": [
        "# Numero de Arboles en el Bosque\n",
        "n_estimators = [int(x) for x in np.linspace(start = 100, stop = 1000, num = 5)]\n",
        "# Numero de Variables por split, tecnica\n",
        "max_features = ['auto']\n",
        "# Profundidad del Arbol\n",
        "max_depth = [int(x) for x in np.linspace(10, 110, num = 11)]\n",
        "max_depth.append(None)\n",
        "# Numero minimo de observaciones para hacer el Split\n",
        "min_samples_split = [2, 5, 10]\n",
        "# Minimo numero de observaciones en las hojas\n",
        "min_samples_leaf = [1, 2, 4]\n",
        "# Metodo para elegir las observaciones en cada paso\n",
        "bootstrap = [True]\n",
        "# Crea el grid de busqueda\n",
        "random_grid = {'n_estimators': n_estimators,\n",
        "               'max_features': max_features,\n",
        "               'max_depth': max_depth,\n",
        "               'min_samples_split': min_samples_split,\n",
        "               'min_samples_leaf': min_samples_leaf,\n",
        "               'bootstrap': bootstrap}\n",
        "pprint(random_grid)"
      ],
      "execution_count": 61,
      "outputs": [
        {
          "output_type": "stream",
          "name": "stdout",
          "text": [
            "{'bootstrap': [True],\n",
            " 'max_depth': [10, 20, 30, 40, 50, 60, 70, 80, 90, 100, 110, None],\n",
            " 'max_features': ['auto'],\n",
            " 'min_samples_leaf': [1, 2, 4],\n",
            " 'min_samples_split': [2, 5, 10],\n",
            " 'n_estimators': [100, 325, 550, 775, 1000]}\n"
          ]
        }
      ]
    },
    {
      "cell_type": "markdown",
      "metadata": {
        "id": "hv8EqiqwgMSr"
      },
      "source": [
        "#### Accuracy"
      ]
    },
    {
      "cell_type": "markdown",
      "metadata": {
        "id": "UAzglQVzeJ93"
      },
      "source": [
        "Tiempo 45 mins"
      ]
    },
    {
      "cell_type": "code",
      "metadata": {
        "colab": {
          "base_uri": "https://localhost:8080/"
        },
        "id": "0SmiqL3PX5Mn",
        "outputId": "fcf6e26e-c7a0-450f-c445-31f420d63eb0"
      },
      "source": [
        "rf = RandomForestClassifier(random_state = 42)\n",
        "# Tuneo de Hyperparametros con CV\n",
        "rf_under = GridSearchCV(estimator = rf, param_grid = random_grid, \n",
        "                                scoring = 'accuracy',\n",
        "                               cv = 5, verbose=2, n_jobs = -1)\n",
        "# Entrenar\n",
        "rf_under.fit(X_train_new, Y_train_new)"
      ],
      "execution_count": 62,
      "outputs": [
        {
          "output_type": "stream",
          "name": "stdout",
          "text": [
            "Fitting 5 folds for each of 540 candidates, totalling 2700 fits\n"
          ]
        },
        {
          "output_type": "execute_result",
          "data": {
            "text/plain": [
              "GridSearchCV(cv=5, estimator=RandomForestClassifier(random_state=42), n_jobs=-1,\n",
              "             param_grid={'bootstrap': [True],\n",
              "                         'max_depth': [10, 20, 30, 40, 50, 60, 70, 80, 90, 100,\n",
              "                                       110, None],\n",
              "                         'max_features': ['auto'],\n",
              "                         'min_samples_leaf': [1, 2, 4],\n",
              "                         'min_samples_split': [2, 5, 10],\n",
              "                         'n_estimators': [100, 325, 550, 775, 1000]},\n",
              "             scoring='accuracy', verbose=2)"
            ]
          },
          "metadata": {},
          "execution_count": 62
        }
      ]
    },
    {
      "cell_type": "markdown",
      "metadata": {
        "id": "gP2pT9WUeXcp"
      },
      "source": [
        "Mejores Parametros"
      ]
    },
    {
      "cell_type": "code",
      "metadata": {
        "colab": {
          "base_uri": "https://localhost:8080/"
        },
        "id": "yt2ypDjoeWAC",
        "outputId": "a61cf574-b0f4-4d95-eb37-47e4c84cd7ec"
      },
      "source": [
        "print(f'Mejores parametros: {rf_under.best_params_}')\n",
        "print(f'Mejor Desempeño: {rf_under.best_score_}')"
      ],
      "execution_count": 63,
      "outputs": [
        {
          "output_type": "stream",
          "name": "stdout",
          "text": [
            "Mejores parametros: {'bootstrap': True, 'max_depth': 10, 'max_features': 'auto', 'min_samples_leaf': 4, 'min_samples_split': 10, 'n_estimators': 325}\n",
            "Mejor Desempeño: 0.940112772095463\n"
          ]
        }
      ]
    },
    {
      "cell_type": "markdown",
      "metadata": {
        "id": "q8pJDnh6gPNp"
      },
      "source": [
        "#### F1 Score"
      ]
    },
    {
      "cell_type": "code",
      "metadata": {
        "colab": {
          "base_uri": "https://localhost:8080/"
        },
        "id": "v9weib6lgYP4",
        "outputId": "f6d0ad9a-488d-4922-c21d-b6e1652a6e32"
      },
      "source": [
        "# Numero de Arboles en el Bosque\n",
        "n_estimators = [int(x) for x in np.linspace(start = 300, stop = 500, num = 3)]\n",
        "# Numero de Variables por split, tecnica\n",
        "max_features = ['auto']\n",
        "# Profundidad del Arbol\n",
        "max_depth = [int(x) for x in np.linspace(8, 12, num = 3)]\n",
        "max_depth.append(None)\n",
        "# Numero minimo de observaciones para hacer el Split\n",
        "min_samples_split = [ 8, 10, 12]\n",
        "# Minimo numero de observaciones en las hojas\n",
        "min_samples_leaf = [3, 4]\n",
        "# Metodo para elegir las observaciones en cada paso\n",
        "bootstrap = [True]\n",
        "# Crea el grid de busqueda\n",
        "random_grid = {'n_estimators': n_estimators,\n",
        "               'max_features': max_features,\n",
        "               'max_depth': max_depth,\n",
        "               'min_samples_split': min_samples_split,\n",
        "               'min_samples_leaf': min_samples_leaf,\n",
        "               'bootstrap': bootstrap}\n",
        "pprint(random_grid)"
      ],
      "execution_count": 64,
      "outputs": [
        {
          "output_type": "stream",
          "name": "stdout",
          "text": [
            "{'bootstrap': [True],\n",
            " 'max_depth': [8, 10, 12, None],\n",
            " 'max_features': ['auto'],\n",
            " 'min_samples_leaf': [3, 4],\n",
            " 'min_samples_split': [8, 10, 12],\n",
            " 'n_estimators': [300, 400, 500]}\n"
          ]
        }
      ]
    },
    {
      "cell_type": "code",
      "metadata": {
        "colab": {
          "base_uri": "https://localhost:8080/"
        },
        "id": "DuzfFAZ1gUaK",
        "outputId": "67752c94-7863-4d7b-a30d-91e133945970"
      },
      "source": [
        "# Construyamos el algoritmo\n",
        "rf = RandomForestClassifier(random_state = 42)\n",
        "# Tuneo de Hyperparametros con CV\n",
        "rf_under_f1 = GridSearchCV(estimator = rf, param_grid = random_grid, \n",
        "                                scoring = 'f1',\n",
        "                               cv = 5, verbose=2, n_jobs = -1)\n",
        "# Entrenar\n",
        "rf_under_f1.fit(X_train_new, Y_train_new)"
      ],
      "execution_count": 65,
      "outputs": [
        {
          "output_type": "stream",
          "name": "stdout",
          "text": [
            "Fitting 5 folds for each of 72 candidates, totalling 360 fits\n"
          ]
        },
        {
          "output_type": "execute_result",
          "data": {
            "text/plain": [
              "GridSearchCV(cv=5, estimator=RandomForestClassifier(random_state=42), n_jobs=-1,\n",
              "             param_grid={'bootstrap': [True], 'max_depth': [8, 10, 12, None],\n",
              "                         'max_features': ['auto'], 'min_samples_leaf': [3, 4],\n",
              "                         'min_samples_split': [8, 10, 12],\n",
              "                         'n_estimators': [300, 400, 500]},\n",
              "             scoring='f1', verbose=2)"
            ]
          },
          "metadata": {},
          "execution_count": 65
        }
      ]
    },
    {
      "cell_type": "code",
      "metadata": {
        "colab": {
          "base_uri": "https://localhost:8080/"
        },
        "id": "CxBJUJ85ljhi",
        "outputId": "ec66f9a6-5248-45ae-f4f7-85dd1f993b24"
      },
      "source": [
        "print('Anterior')\n",
        "print(f'Mejores parametros: {rf_under.best_params_}')\n",
        "print(f'Mejor Desempeño: {rf_under.best_score_}')\n",
        "\n",
        "print('F1 score')\n",
        "print(f'Mejores parametros f1: {rf_under_f1.best_params_}')\n",
        "print(f'Mejor Desempeño f1: {rf_under_f1.best_score_}')"
      ],
      "execution_count": 66,
      "outputs": [
        {
          "output_type": "stream",
          "name": "stdout",
          "text": [
            "Anterior\n",
            "Mejores parametros: {'bootstrap': True, 'max_depth': 10, 'max_features': 'auto', 'min_samples_leaf': 4, 'min_samples_split': 10, 'n_estimators': 325}\n",
            "Mejor Desempeño: 0.940112772095463\n",
            "F1 score\n",
            "Mejores parametros f1: {'bootstrap': True, 'max_depth': 10, 'max_features': 'auto', 'min_samples_leaf': 4, 'min_samples_split': 10, 'n_estimators': 300}\n",
            "Mejor Desempeño f1: 0.9369254492519727\n"
          ]
        }
      ]
    },
    {
      "cell_type": "markdown",
      "metadata": {
        "id": "I-tpDXi2mjiJ"
      },
      "source": [
        "En ambos casos parece que mas estimadores `n_estimators` mejora la prediccion. Tuneomos un poco mas este hyperparametro."
      ]
    },
    {
      "cell_type": "markdown",
      "metadata": {
        "id": "Kqikd76ql3JQ"
      },
      "source": [
        "#### Random Search RF V2"
      ]
    },
    {
      "cell_type": "code",
      "metadata": {
        "colab": {
          "base_uri": "https://localhost:8080/"
        },
        "id": "Y3d9GA6fl52F",
        "outputId": "cff3790b-0160-4e2b-f69c-b303fe5d54e5"
      },
      "source": [
        "# Numero de Arboles en el Bosque\n",
        "n_estimators = [int(x) for x in np.linspace(start = 280, stop = 330, num = 5)]\n",
        "# Numero de Variables por split, tecnica\n",
        "max_features = ['auto']\n",
        "# Profundidad del Arbol\n",
        "max_depth = [10]\n",
        "max_depth.append(None)\n",
        "# Numero minimo de observaciones para hacer el Split\n",
        "min_samples_split = [9,10,11,12]\n",
        "# Minimo numero de observaciones en las hojas\n",
        "min_samples_leaf = [1]\n",
        "# Metodo para elegir las observaciones en cada paso\n",
        "bootstrap = [True]\n",
        "# Crea el grid de busqueda\n",
        "random_grid = {'n_estimators': n_estimators,\n",
        "               'max_features': max_features,\n",
        "               'max_depth': max_depth,\n",
        "               'min_samples_split': min_samples_split,\n",
        "               'min_samples_leaf': min_samples_leaf,\n",
        "               'bootstrap': bootstrap}\n",
        "pprint(random_grid)"
      ],
      "execution_count": 67,
      "outputs": [
        {
          "output_type": "stream",
          "name": "stdout",
          "text": [
            "{'bootstrap': [True],\n",
            " 'max_depth': [10, None],\n",
            " 'max_features': ['auto'],\n",
            " 'min_samples_leaf': [1],\n",
            " 'min_samples_split': [9, 10, 11, 12],\n",
            " 'n_estimators': [280, 292, 305, 317, 330]}\n"
          ]
        }
      ]
    },
    {
      "cell_type": "code",
      "metadata": {
        "colab": {
          "base_uri": "https://localhost:8080/"
        },
        "id": "BzVRn1AvmU0O",
        "outputId": "cbaaf7fb-ee30-44d7-b86f-c8ab5e4d7e5a"
      },
      "source": [
        "# Construyamos el algoritmo\n",
        "rf = RandomForestClassifier(random_state = 42)\n",
        "# Tuneo de Hyperparametros con CV\n",
        "rf_random2 = GridSearchCV(estimator = rf, param_grid = random_grid, \n",
        "                                scoring = 'accuracy',\n",
        "                               cv = 5, verbose=2, n_jobs = -1)\n",
        "# Entrenar\n",
        "rf_random2.fit(X_train_new, Y_train_new)"
      ],
      "execution_count": 68,
      "outputs": [
        {
          "output_type": "stream",
          "name": "stdout",
          "text": [
            "Fitting 5 folds for each of 40 candidates, totalling 200 fits\n"
          ]
        },
        {
          "output_type": "execute_result",
          "data": {
            "text/plain": [
              "GridSearchCV(cv=5, estimator=RandomForestClassifier(random_state=42), n_jobs=-1,\n",
              "             param_grid={'bootstrap': [True], 'max_depth': [10, None],\n",
              "                         'max_features': ['auto'], 'min_samples_leaf': [1],\n",
              "                         'min_samples_split': [9, 10, 11, 12],\n",
              "                         'n_estimators': [280, 292, 305, 317, 330]},\n",
              "             scoring='accuracy', verbose=2)"
            ]
          },
          "metadata": {},
          "execution_count": 68
        }
      ]
    },
    {
      "cell_type": "code",
      "metadata": {
        "colab": {
          "base_uri": "https://localhost:8080/"
        },
        "id": "id16Ojh5mw4_",
        "outputId": "ad552c32-ba44-4140-9ba1-577df9ede23f"
      },
      "source": [
        "print('Ultimo RF')\n",
        "print(f'Mejores parametros: {rf_random2.best_params_}')\n",
        "print(f'Mejor Desempeño 2: {rf_random2.best_score_}')\n",
        "print('\\n RF optimo anteriro')\n",
        "print(f'Mejor Desempeño 1: {rf_under.best_score_}')\n",
        "print(f'Mejores parametros: {rf_under.best_params_}')\n"
      ],
      "execution_count": 69,
      "outputs": [
        {
          "output_type": "stream",
          "name": "stdout",
          "text": [
            "Ultimo RF\n",
            "Mejores parametros: {'bootstrap': True, 'max_depth': 10, 'max_features': 'auto', 'min_samples_leaf': 1, 'min_samples_split': 9, 'n_estimators': 305}\n",
            "Mejor Desempeño 2: 0.940112772095463\n",
            "\n",
            " RF optimo anteriro\n",
            "Mejor Desempeño 1: 0.940112772095463\n",
            "Mejores parametros: {'bootstrap': True, 'max_depth': 10, 'max_features': 'auto', 'min_samples_leaf': 4, 'min_samples_split': 10, 'n_estimators': 325}\n"
          ]
        }
      ]
    },
    {
      "cell_type": "code",
      "metadata": {
        "colab": {
          "base_uri": "https://localhost:8080/",
          "height": 676
        },
        "id": "8vj1K42r1wj4",
        "outputId": "482cdcbf-3605-4cae-cacc-ef21e9bf22aa"
      },
      "source": [
        "rf_cv = pd.DataFrame(rf_random2.cv_results_)\n",
        "rf_cv[['mean_test_score', 'std_test_score', 'params']].sort_values('mean_test_score'\n",
        ", ascending=False).head(20)"
      ],
      "execution_count": 70,
      "outputs": [
        {
          "output_type": "execute_result",
          "data": {
            "text/plain": [
              "    mean_test_score  std_test_score  \\\n",
              "2          0.940113        0.012226   \n",
              "0          0.938487        0.011133   \n",
              "3          0.938487        0.011133   \n",
              "4          0.938487        0.011133   \n",
              "1          0.938487        0.011133   \n",
              "27         0.936874        0.010863   \n",
              "22         0.936874        0.010863   \n",
              "23         0.936874        0.010863   \n",
              "24         0.936874        0.010863   \n",
              "25         0.936874        0.010863   \n",
              "26         0.936874        0.010863   \n",
              "30         0.936874        0.010863   \n",
              "28         0.936874        0.010863   \n",
              "29         0.936874        0.010863   \n",
              "31         0.936874        0.010863   \n",
              "32         0.936874        0.010863   \n",
              "33         0.936874        0.010863   \n",
              "34         0.936874        0.010863   \n",
              "21         0.936874        0.010863   \n",
              "20         0.936874        0.010863   \n",
              "\n",
              "                                               params  \n",
              "2   {'bootstrap': True, 'max_depth': 10, 'max_feat...  \n",
              "0   {'bootstrap': True, 'max_depth': 10, 'max_feat...  \n",
              "3   {'bootstrap': True, 'max_depth': 10, 'max_feat...  \n",
              "4   {'bootstrap': True, 'max_depth': 10, 'max_feat...  \n",
              "1   {'bootstrap': True, 'max_depth': 10, 'max_feat...  \n",
              "27  {'bootstrap': True, 'max_depth': None, 'max_fe...  \n",
              "22  {'bootstrap': True, 'max_depth': None, 'max_fe...  \n",
              "23  {'bootstrap': True, 'max_depth': None, 'max_fe...  \n",
              "24  {'bootstrap': True, 'max_depth': None, 'max_fe...  \n",
              "25  {'bootstrap': True, 'max_depth': None, 'max_fe...  \n",
              "26  {'bootstrap': True, 'max_depth': None, 'max_fe...  \n",
              "30  {'bootstrap': True, 'max_depth': None, 'max_fe...  \n",
              "28  {'bootstrap': True, 'max_depth': None, 'max_fe...  \n",
              "29  {'bootstrap': True, 'max_depth': None, 'max_fe...  \n",
              "31  {'bootstrap': True, 'max_depth': None, 'max_fe...  \n",
              "32  {'bootstrap': True, 'max_depth': None, 'max_fe...  \n",
              "33  {'bootstrap': True, 'max_depth': None, 'max_fe...  \n",
              "34  {'bootstrap': True, 'max_depth': None, 'max_fe...  \n",
              "21  {'bootstrap': True, 'max_depth': None, 'max_fe...  \n",
              "20  {'bootstrap': True, 'max_depth': None, 'max_fe...  "
            ],
            "text/html": [
              "\n",
              "  <div id=\"df-81a87e4d-8b81-4f86-b1e1-6f99d6bb23e1\">\n",
              "    <div class=\"colab-df-container\">\n",
              "      <div>\n",
              "<style scoped>\n",
              "    .dataframe tbody tr th:only-of-type {\n",
              "        vertical-align: middle;\n",
              "    }\n",
              "\n",
              "    .dataframe tbody tr th {\n",
              "        vertical-align: top;\n",
              "    }\n",
              "\n",
              "    .dataframe thead th {\n",
              "        text-align: right;\n",
              "    }\n",
              "</style>\n",
              "<table border=\"1\" class=\"dataframe\">\n",
              "  <thead>\n",
              "    <tr style=\"text-align: right;\">\n",
              "      <th></th>\n",
              "      <th>mean_test_score</th>\n",
              "      <th>std_test_score</th>\n",
              "      <th>params</th>\n",
              "    </tr>\n",
              "  </thead>\n",
              "  <tbody>\n",
              "    <tr>\n",
              "      <th>2</th>\n",
              "      <td>0.940113</td>\n",
              "      <td>0.012226</td>\n",
              "      <td>{'bootstrap': True, 'max_depth': 10, 'max_feat...</td>\n",
              "    </tr>\n",
              "    <tr>\n",
              "      <th>0</th>\n",
              "      <td>0.938487</td>\n",
              "      <td>0.011133</td>\n",
              "      <td>{'bootstrap': True, 'max_depth': 10, 'max_feat...</td>\n",
              "    </tr>\n",
              "    <tr>\n",
              "      <th>3</th>\n",
              "      <td>0.938487</td>\n",
              "      <td>0.011133</td>\n",
              "      <td>{'bootstrap': True, 'max_depth': 10, 'max_feat...</td>\n",
              "    </tr>\n",
              "    <tr>\n",
              "      <th>4</th>\n",
              "      <td>0.938487</td>\n",
              "      <td>0.011133</td>\n",
              "      <td>{'bootstrap': True, 'max_depth': 10, 'max_feat...</td>\n",
              "    </tr>\n",
              "    <tr>\n",
              "      <th>1</th>\n",
              "      <td>0.938487</td>\n",
              "      <td>0.011133</td>\n",
              "      <td>{'bootstrap': True, 'max_depth': 10, 'max_feat...</td>\n",
              "    </tr>\n",
              "    <tr>\n",
              "      <th>27</th>\n",
              "      <td>0.936874</td>\n",
              "      <td>0.010863</td>\n",
              "      <td>{'bootstrap': True, 'max_depth': None, 'max_fe...</td>\n",
              "    </tr>\n",
              "    <tr>\n",
              "      <th>22</th>\n",
              "      <td>0.936874</td>\n",
              "      <td>0.010863</td>\n",
              "      <td>{'bootstrap': True, 'max_depth': None, 'max_fe...</td>\n",
              "    </tr>\n",
              "    <tr>\n",
              "      <th>23</th>\n",
              "      <td>0.936874</td>\n",
              "      <td>0.010863</td>\n",
              "      <td>{'bootstrap': True, 'max_depth': None, 'max_fe...</td>\n",
              "    </tr>\n",
              "    <tr>\n",
              "      <th>24</th>\n",
              "      <td>0.936874</td>\n",
              "      <td>0.010863</td>\n",
              "      <td>{'bootstrap': True, 'max_depth': None, 'max_fe...</td>\n",
              "    </tr>\n",
              "    <tr>\n",
              "      <th>25</th>\n",
              "      <td>0.936874</td>\n",
              "      <td>0.010863</td>\n",
              "      <td>{'bootstrap': True, 'max_depth': None, 'max_fe...</td>\n",
              "    </tr>\n",
              "    <tr>\n",
              "      <th>26</th>\n",
              "      <td>0.936874</td>\n",
              "      <td>0.010863</td>\n",
              "      <td>{'bootstrap': True, 'max_depth': None, 'max_fe...</td>\n",
              "    </tr>\n",
              "    <tr>\n",
              "      <th>30</th>\n",
              "      <td>0.936874</td>\n",
              "      <td>0.010863</td>\n",
              "      <td>{'bootstrap': True, 'max_depth': None, 'max_fe...</td>\n",
              "    </tr>\n",
              "    <tr>\n",
              "      <th>28</th>\n",
              "      <td>0.936874</td>\n",
              "      <td>0.010863</td>\n",
              "      <td>{'bootstrap': True, 'max_depth': None, 'max_fe...</td>\n",
              "    </tr>\n",
              "    <tr>\n",
              "      <th>29</th>\n",
              "      <td>0.936874</td>\n",
              "      <td>0.010863</td>\n",
              "      <td>{'bootstrap': True, 'max_depth': None, 'max_fe...</td>\n",
              "    </tr>\n",
              "    <tr>\n",
              "      <th>31</th>\n",
              "      <td>0.936874</td>\n",
              "      <td>0.010863</td>\n",
              "      <td>{'bootstrap': True, 'max_depth': None, 'max_fe...</td>\n",
              "    </tr>\n",
              "    <tr>\n",
              "      <th>32</th>\n",
              "      <td>0.936874</td>\n",
              "      <td>0.010863</td>\n",
              "      <td>{'bootstrap': True, 'max_depth': None, 'max_fe...</td>\n",
              "    </tr>\n",
              "    <tr>\n",
              "      <th>33</th>\n",
              "      <td>0.936874</td>\n",
              "      <td>0.010863</td>\n",
              "      <td>{'bootstrap': True, 'max_depth': None, 'max_fe...</td>\n",
              "    </tr>\n",
              "    <tr>\n",
              "      <th>34</th>\n",
              "      <td>0.936874</td>\n",
              "      <td>0.010863</td>\n",
              "      <td>{'bootstrap': True, 'max_depth': None, 'max_fe...</td>\n",
              "    </tr>\n",
              "    <tr>\n",
              "      <th>21</th>\n",
              "      <td>0.936874</td>\n",
              "      <td>0.010863</td>\n",
              "      <td>{'bootstrap': True, 'max_depth': None, 'max_fe...</td>\n",
              "    </tr>\n",
              "    <tr>\n",
              "      <th>20</th>\n",
              "      <td>0.936874</td>\n",
              "      <td>0.010863</td>\n",
              "      <td>{'bootstrap': True, 'max_depth': None, 'max_fe...</td>\n",
              "    </tr>\n",
              "  </tbody>\n",
              "</table>\n",
              "</div>\n",
              "      <button class=\"colab-df-convert\" onclick=\"convertToInteractive('df-81a87e4d-8b81-4f86-b1e1-6f99d6bb23e1')\"\n",
              "              title=\"Convert this dataframe to an interactive table.\"\n",
              "              style=\"display:none;\">\n",
              "        \n",
              "  <svg xmlns=\"http://www.w3.org/2000/svg\" height=\"24px\"viewBox=\"0 0 24 24\"\n",
              "       width=\"24px\">\n",
              "    <path d=\"M0 0h24v24H0V0z\" fill=\"none\"/>\n",
              "    <path d=\"M18.56 5.44l.94 2.06.94-2.06 2.06-.94-2.06-.94-.94-2.06-.94 2.06-2.06.94zm-11 1L8.5 8.5l.94-2.06 2.06-.94-2.06-.94L8.5 2.5l-.94 2.06-2.06.94zm10 10l.94 2.06.94-2.06 2.06-.94-2.06-.94-.94-2.06-.94 2.06-2.06.94z\"/><path d=\"M17.41 7.96l-1.37-1.37c-.4-.4-.92-.59-1.43-.59-.52 0-1.04.2-1.43.59L10.3 9.45l-7.72 7.72c-.78.78-.78 2.05 0 2.83L4 21.41c.39.39.9.59 1.41.59.51 0 1.02-.2 1.41-.59l7.78-7.78 2.81-2.81c.8-.78.8-2.07 0-2.86zM5.41 20L4 18.59l7.72-7.72 1.47 1.35L5.41 20z\"/>\n",
              "  </svg>\n",
              "      </button>\n",
              "      \n",
              "  <style>\n",
              "    .colab-df-container {\n",
              "      display:flex;\n",
              "      flex-wrap:wrap;\n",
              "      gap: 12px;\n",
              "    }\n",
              "\n",
              "    .colab-df-convert {\n",
              "      background-color: #E8F0FE;\n",
              "      border: none;\n",
              "      border-radius: 50%;\n",
              "      cursor: pointer;\n",
              "      display: none;\n",
              "      fill: #1967D2;\n",
              "      height: 32px;\n",
              "      padding: 0 0 0 0;\n",
              "      width: 32px;\n",
              "    }\n",
              "\n",
              "    .colab-df-convert:hover {\n",
              "      background-color: #E2EBFA;\n",
              "      box-shadow: 0px 1px 2px rgba(60, 64, 67, 0.3), 0px 1px 3px 1px rgba(60, 64, 67, 0.15);\n",
              "      fill: #174EA6;\n",
              "    }\n",
              "\n",
              "    [theme=dark] .colab-df-convert {\n",
              "      background-color: #3B4455;\n",
              "      fill: #D2E3FC;\n",
              "    }\n",
              "\n",
              "    [theme=dark] .colab-df-convert:hover {\n",
              "      background-color: #434B5C;\n",
              "      box-shadow: 0px 1px 3px 1px rgba(0, 0, 0, 0.15);\n",
              "      filter: drop-shadow(0px 1px 2px rgba(0, 0, 0, 0.3));\n",
              "      fill: #FFFFFF;\n",
              "    }\n",
              "  </style>\n",
              "\n",
              "      <script>\n",
              "        const buttonEl =\n",
              "          document.querySelector('#df-81a87e4d-8b81-4f86-b1e1-6f99d6bb23e1 button.colab-df-convert');\n",
              "        buttonEl.style.display =\n",
              "          google.colab.kernel.accessAllowed ? 'block' : 'none';\n",
              "\n",
              "        async function convertToInteractive(key) {\n",
              "          const element = document.querySelector('#df-81a87e4d-8b81-4f86-b1e1-6f99d6bb23e1');\n",
              "          const dataTable =\n",
              "            await google.colab.kernel.invokeFunction('convertToInteractive',\n",
              "                                                     [key], {});\n",
              "          if (!dataTable) return;\n",
              "\n",
              "          const docLinkHtml = 'Like what you see? Visit the ' +\n",
              "            '<a target=\"_blank\" href=https://colab.research.google.com/notebooks/data_table.ipynb>data table notebook</a>'\n",
              "            + ' to learn more about interactive tables.';\n",
              "          element.innerHTML = '';\n",
              "          dataTable['output_type'] = 'display_data';\n",
              "          await google.colab.output.renderOutput(dataTable, element);\n",
              "          const docLink = document.createElement('div');\n",
              "          docLink.innerHTML = docLinkHtml;\n",
              "          element.appendChild(docLink);\n",
              "        }\n",
              "      </script>\n",
              "    </div>\n",
              "  </div>\n",
              "  "
            ]
          },
          "metadata": {},
          "execution_count": 70
        }
      ]
    },
    {
      "cell_type": "code",
      "metadata": {
        "colab": {
          "base_uri": "https://localhost:8080/",
          "height": 676
        },
        "id": "jNCyu4aX0C8Y",
        "outputId": "ed07effa-8e19-4ff2-b45d-324edf2028fa"
      },
      "source": [
        "rf_cv = pd.DataFrame(rf_under.cv_results_)\n",
        "rf_cv[['mean_test_score', 'std_test_score', 'params']].sort_values('mean_test_score'\n",
        ", ascending=False).head(20)"
      ],
      "execution_count": 71,
      "outputs": [
        {
          "output_type": "execute_result",
          "data": {
            "text/plain": [
              "     mean_test_score  std_test_score  \\\n",
              "401         0.940113        0.012226   \n",
              "426         0.940113        0.016783   \n",
              "41          0.940113        0.012226   \n",
              "491         0.940113        0.012226   \n",
              "381         0.940113        0.016783   \n",
              "356         0.940113        0.012226   \n",
              "176         0.940113        0.012226   \n",
              "336         0.940113        0.016783   \n",
              "131         0.940113        0.012226   \n",
              "201         0.940113        0.016783   \n",
              "111         0.940113        0.016783   \n",
              "516         0.940113        0.016783   \n",
              "471         0.940113        0.016783   \n",
              "221         0.940113        0.012226   \n",
              "311         0.940113        0.012226   \n",
              "156         0.940113        0.016783   \n",
              "291         0.940113        0.016783   \n",
              "66          0.940113        0.016783   \n",
              "246         0.940113        0.016783   \n",
              "446         0.940113        0.012226   \n",
              "\n",
              "                                                params  \n",
              "401  {'bootstrap': True, 'max_depth': 90, 'max_feat...  \n",
              "426  {'bootstrap': True, 'max_depth': 100, 'max_fea...  \n",
              "41   {'bootstrap': True, 'max_depth': 10, 'max_feat...  \n",
              "491  {'bootstrap': True, 'max_depth': 110, 'max_fea...  \n",
              "381  {'bootstrap': True, 'max_depth': 90, 'max_feat...  \n",
              "356  {'bootstrap': True, 'max_depth': 80, 'max_feat...  \n",
              "176  {'bootstrap': True, 'max_depth': 40, 'max_feat...  \n",
              "336  {'bootstrap': True, 'max_depth': 80, 'max_feat...  \n",
              "131  {'bootstrap': True, 'max_depth': 30, 'max_feat...  \n",
              "201  {'bootstrap': True, 'max_depth': 50, 'max_feat...  \n",
              "111  {'bootstrap': True, 'max_depth': 30, 'max_feat...  \n",
              "516  {'bootstrap': True, 'max_depth': None, 'max_fe...  \n",
              "471  {'bootstrap': True, 'max_depth': 110, 'max_fea...  \n",
              "221  {'bootstrap': True, 'max_depth': 50, 'max_feat...  \n",
              "311  {'bootstrap': True, 'max_depth': 70, 'max_feat...  \n",
              "156  {'bootstrap': True, 'max_depth': 40, 'max_feat...  \n",
              "291  {'bootstrap': True, 'max_depth': 70, 'max_feat...  \n",
              "66   {'bootstrap': True, 'max_depth': 20, 'max_feat...  \n",
              "246  {'bootstrap': True, 'max_depth': 60, 'max_feat...  \n",
              "446  {'bootstrap': True, 'max_depth': 100, 'max_fea...  "
            ],
            "text/html": [
              "\n",
              "  <div id=\"df-3e720ff9-d925-4fe6-b5eb-ef8b1edf875a\">\n",
              "    <div class=\"colab-df-container\">\n",
              "      <div>\n",
              "<style scoped>\n",
              "    .dataframe tbody tr th:only-of-type {\n",
              "        vertical-align: middle;\n",
              "    }\n",
              "\n",
              "    .dataframe tbody tr th {\n",
              "        vertical-align: top;\n",
              "    }\n",
              "\n",
              "    .dataframe thead th {\n",
              "        text-align: right;\n",
              "    }\n",
              "</style>\n",
              "<table border=\"1\" class=\"dataframe\">\n",
              "  <thead>\n",
              "    <tr style=\"text-align: right;\">\n",
              "      <th></th>\n",
              "      <th>mean_test_score</th>\n",
              "      <th>std_test_score</th>\n",
              "      <th>params</th>\n",
              "    </tr>\n",
              "  </thead>\n",
              "  <tbody>\n",
              "    <tr>\n",
              "      <th>401</th>\n",
              "      <td>0.940113</td>\n",
              "      <td>0.012226</td>\n",
              "      <td>{'bootstrap': True, 'max_depth': 90, 'max_feat...</td>\n",
              "    </tr>\n",
              "    <tr>\n",
              "      <th>426</th>\n",
              "      <td>0.940113</td>\n",
              "      <td>0.016783</td>\n",
              "      <td>{'bootstrap': True, 'max_depth': 100, 'max_fea...</td>\n",
              "    </tr>\n",
              "    <tr>\n",
              "      <th>41</th>\n",
              "      <td>0.940113</td>\n",
              "      <td>0.012226</td>\n",
              "      <td>{'bootstrap': True, 'max_depth': 10, 'max_feat...</td>\n",
              "    </tr>\n",
              "    <tr>\n",
              "      <th>491</th>\n",
              "      <td>0.940113</td>\n",
              "      <td>0.012226</td>\n",
              "      <td>{'bootstrap': True, 'max_depth': 110, 'max_fea...</td>\n",
              "    </tr>\n",
              "    <tr>\n",
              "      <th>381</th>\n",
              "      <td>0.940113</td>\n",
              "      <td>0.016783</td>\n",
              "      <td>{'bootstrap': True, 'max_depth': 90, 'max_feat...</td>\n",
              "    </tr>\n",
              "    <tr>\n",
              "      <th>356</th>\n",
              "      <td>0.940113</td>\n",
              "      <td>0.012226</td>\n",
              "      <td>{'bootstrap': True, 'max_depth': 80, 'max_feat...</td>\n",
              "    </tr>\n",
              "    <tr>\n",
              "      <th>176</th>\n",
              "      <td>0.940113</td>\n",
              "      <td>0.012226</td>\n",
              "      <td>{'bootstrap': True, 'max_depth': 40, 'max_feat...</td>\n",
              "    </tr>\n",
              "    <tr>\n",
              "      <th>336</th>\n",
              "      <td>0.940113</td>\n",
              "      <td>0.016783</td>\n",
              "      <td>{'bootstrap': True, 'max_depth': 80, 'max_feat...</td>\n",
              "    </tr>\n",
              "    <tr>\n",
              "      <th>131</th>\n",
              "      <td>0.940113</td>\n",
              "      <td>0.012226</td>\n",
              "      <td>{'bootstrap': True, 'max_depth': 30, 'max_feat...</td>\n",
              "    </tr>\n",
              "    <tr>\n",
              "      <th>201</th>\n",
              "      <td>0.940113</td>\n",
              "      <td>0.016783</td>\n",
              "      <td>{'bootstrap': True, 'max_depth': 50, 'max_feat...</td>\n",
              "    </tr>\n",
              "    <tr>\n",
              "      <th>111</th>\n",
              "      <td>0.940113</td>\n",
              "      <td>0.016783</td>\n",
              "      <td>{'bootstrap': True, 'max_depth': 30, 'max_feat...</td>\n",
              "    </tr>\n",
              "    <tr>\n",
              "      <th>516</th>\n",
              "      <td>0.940113</td>\n",
              "      <td>0.016783</td>\n",
              "      <td>{'bootstrap': True, 'max_depth': None, 'max_fe...</td>\n",
              "    </tr>\n",
              "    <tr>\n",
              "      <th>471</th>\n",
              "      <td>0.940113</td>\n",
              "      <td>0.016783</td>\n",
              "      <td>{'bootstrap': True, 'max_depth': 110, 'max_fea...</td>\n",
              "    </tr>\n",
              "    <tr>\n",
              "      <th>221</th>\n",
              "      <td>0.940113</td>\n",
              "      <td>0.012226</td>\n",
              "      <td>{'bootstrap': True, 'max_depth': 50, 'max_feat...</td>\n",
              "    </tr>\n",
              "    <tr>\n",
              "      <th>311</th>\n",
              "      <td>0.940113</td>\n",
              "      <td>0.012226</td>\n",
              "      <td>{'bootstrap': True, 'max_depth': 70, 'max_feat...</td>\n",
              "    </tr>\n",
              "    <tr>\n",
              "      <th>156</th>\n",
              "      <td>0.940113</td>\n",
              "      <td>0.016783</td>\n",
              "      <td>{'bootstrap': True, 'max_depth': 40, 'max_feat...</td>\n",
              "    </tr>\n",
              "    <tr>\n",
              "      <th>291</th>\n",
              "      <td>0.940113</td>\n",
              "      <td>0.016783</td>\n",
              "      <td>{'bootstrap': True, 'max_depth': 70, 'max_feat...</td>\n",
              "    </tr>\n",
              "    <tr>\n",
              "      <th>66</th>\n",
              "      <td>0.940113</td>\n",
              "      <td>0.016783</td>\n",
              "      <td>{'bootstrap': True, 'max_depth': 20, 'max_feat...</td>\n",
              "    </tr>\n",
              "    <tr>\n",
              "      <th>246</th>\n",
              "      <td>0.940113</td>\n",
              "      <td>0.016783</td>\n",
              "      <td>{'bootstrap': True, 'max_depth': 60, 'max_feat...</td>\n",
              "    </tr>\n",
              "    <tr>\n",
              "      <th>446</th>\n",
              "      <td>0.940113</td>\n",
              "      <td>0.012226</td>\n",
              "      <td>{'bootstrap': True, 'max_depth': 100, 'max_fea...</td>\n",
              "    </tr>\n",
              "  </tbody>\n",
              "</table>\n",
              "</div>\n",
              "      <button class=\"colab-df-convert\" onclick=\"convertToInteractive('df-3e720ff9-d925-4fe6-b5eb-ef8b1edf875a')\"\n",
              "              title=\"Convert this dataframe to an interactive table.\"\n",
              "              style=\"display:none;\">\n",
              "        \n",
              "  <svg xmlns=\"http://www.w3.org/2000/svg\" height=\"24px\"viewBox=\"0 0 24 24\"\n",
              "       width=\"24px\">\n",
              "    <path d=\"M0 0h24v24H0V0z\" fill=\"none\"/>\n",
              "    <path d=\"M18.56 5.44l.94 2.06.94-2.06 2.06-.94-2.06-.94-.94-2.06-.94 2.06-2.06.94zm-11 1L8.5 8.5l.94-2.06 2.06-.94-2.06-.94L8.5 2.5l-.94 2.06-2.06.94zm10 10l.94 2.06.94-2.06 2.06-.94-2.06-.94-.94-2.06-.94 2.06-2.06.94z\"/><path d=\"M17.41 7.96l-1.37-1.37c-.4-.4-.92-.59-1.43-.59-.52 0-1.04.2-1.43.59L10.3 9.45l-7.72 7.72c-.78.78-.78 2.05 0 2.83L4 21.41c.39.39.9.59 1.41.59.51 0 1.02-.2 1.41-.59l7.78-7.78 2.81-2.81c.8-.78.8-2.07 0-2.86zM5.41 20L4 18.59l7.72-7.72 1.47 1.35L5.41 20z\"/>\n",
              "  </svg>\n",
              "      </button>\n",
              "      \n",
              "  <style>\n",
              "    .colab-df-container {\n",
              "      display:flex;\n",
              "      flex-wrap:wrap;\n",
              "      gap: 12px;\n",
              "    }\n",
              "\n",
              "    .colab-df-convert {\n",
              "      background-color: #E8F0FE;\n",
              "      border: none;\n",
              "      border-radius: 50%;\n",
              "      cursor: pointer;\n",
              "      display: none;\n",
              "      fill: #1967D2;\n",
              "      height: 32px;\n",
              "      padding: 0 0 0 0;\n",
              "      width: 32px;\n",
              "    }\n",
              "\n",
              "    .colab-df-convert:hover {\n",
              "      background-color: #E2EBFA;\n",
              "      box-shadow: 0px 1px 2px rgba(60, 64, 67, 0.3), 0px 1px 3px 1px rgba(60, 64, 67, 0.15);\n",
              "      fill: #174EA6;\n",
              "    }\n",
              "\n",
              "    [theme=dark] .colab-df-convert {\n",
              "      background-color: #3B4455;\n",
              "      fill: #D2E3FC;\n",
              "    }\n",
              "\n",
              "    [theme=dark] .colab-df-convert:hover {\n",
              "      background-color: #434B5C;\n",
              "      box-shadow: 0px 1px 3px 1px rgba(0, 0, 0, 0.15);\n",
              "      filter: drop-shadow(0px 1px 2px rgba(0, 0, 0, 0.3));\n",
              "      fill: #FFFFFF;\n",
              "    }\n",
              "  </style>\n",
              "\n",
              "      <script>\n",
              "        const buttonEl =\n",
              "          document.querySelector('#df-3e720ff9-d925-4fe6-b5eb-ef8b1edf875a button.colab-df-convert');\n",
              "        buttonEl.style.display =\n",
              "          google.colab.kernel.accessAllowed ? 'block' : 'none';\n",
              "\n",
              "        async function convertToInteractive(key) {\n",
              "          const element = document.querySelector('#df-3e720ff9-d925-4fe6-b5eb-ef8b1edf875a');\n",
              "          const dataTable =\n",
              "            await google.colab.kernel.invokeFunction('convertToInteractive',\n",
              "                                                     [key], {});\n",
              "          if (!dataTable) return;\n",
              "\n",
              "          const docLinkHtml = 'Like what you see? Visit the ' +\n",
              "            '<a target=\"_blank\" href=https://colab.research.google.com/notebooks/data_table.ipynb>data table notebook</a>'\n",
              "            + ' to learn more about interactive tables.';\n",
              "          element.innerHTML = '';\n",
              "          dataTable['output_type'] = 'display_data';\n",
              "          await google.colab.output.renderOutput(dataTable, element);\n",
              "          const docLink = document.createElement('div');\n",
              "          docLink.innerHTML = docLinkHtml;\n",
              "          element.appendChild(docLink);\n",
              "        }\n",
              "      </script>\n",
              "    </div>\n",
              "  </div>\n",
              "  "
            ]
          },
          "metadata": {},
          "execution_count": 71
        }
      ]
    },
    {
      "cell_type": "markdown",
      "metadata": {
        "id": "YAN8dglznBnh"
      },
      "source": [
        "Parece que el desempeño es marginalmente mejor con mas estimadores, sin embargo, usemos el modelo parsimonioso."
      ]
    },
    {
      "cell_type": "markdown",
      "metadata": {
        "id": "dHyRSM6iriJ_"
      },
      "source": [
        "## Feature Importance"
      ]
    },
    {
      "cell_type": "markdown",
      "metadata": {
        "id": "Dk80ePp3wJFd"
      },
      "source": [
        "Ejecutar `feature_importance` con el mejor modelo de Random Forest (training) "
      ]
    },
    {
      "cell_type": "code",
      "metadata": {
        "id": "7JqHcWAY3iT7",
        "colab": {
          "base_uri": "https://localhost:8080/"
        },
        "outputId": "a0a4a504-f714-459e-8291-6614fb7ce360"
      },
      "source": [
        "rf_fi= RandomForestClassifier(**rf_under.best_params_, random_state=9847156)\n",
        "rf_fi.fit(X_train_new, Y_train_new)\n",
        "rf_fi.feature_importances_"
      ],
      "execution_count": 72,
      "outputs": [
        {
          "output_type": "execute_result",
          "data": {
            "text/plain": [
              "array([0.0082478 , 0.02186259, 0.04505793, 0.10930324, 0.00567909,\n",
              "       0.00826657, 0.04344556, 0.00483959, 0.01498025, 0.15400882,\n",
              "       0.09022098, 0.09446285, 0.00324128, 0.16608108, 0.00297674,\n",
              "       0.04055375, 0.101049  , 0.01185862, 0.00738365, 0.00632721,\n",
              "       0.00847332, 0.00350151, 0.0044723 , 0.00284033, 0.0049384 ,\n",
              "       0.00531052, 0.00850718, 0.00479131, 0.00365161, 0.01366691])"
            ]
          },
          "metadata": {},
          "execution_count": 72
        }
      ]
    },
    {
      "cell_type": "code",
      "source": [
        "rf_fi.feature_names_in_"
      ],
      "metadata": {
        "colab": {
          "base_uri": "https://localhost:8080/"
        },
        "id": "xvGqbRcz6bP0",
        "outputId": "a5c5df10-eba9-4f85-b11b-49edf3a381b0"
      },
      "execution_count": 73,
      "outputs": [
        {
          "output_type": "execute_result",
          "data": {
            "text/plain": [
              "array(['V1', 'V2', 'V3', 'V4', 'V5', 'V6', 'V7', 'V8', 'V9', 'V10', 'V11',\n",
              "       'V12', 'V13', 'V14', 'V15', 'V16', 'V17', 'V18', 'V19', 'V20',\n",
              "       'V21', 'V22', 'V23', 'V24', 'V25', 'V26', 'V27', 'V28',\n",
              "       'time_scaled', 'amount_scaled'], dtype=object)"
            ]
          },
          "metadata": {},
          "execution_count": 73
        }
      ]
    },
    {
      "cell_type": "code",
      "source": [
        "feature_importances = pd.DataFrame({'name': rf_fi.feature_names_in_, 'importance': rf_fi.feature_importances_ })\n",
        "feature_importances.sort_values(by='importance', ascending=False)"
      ],
      "metadata": {
        "colab": {
          "base_uri": "https://localhost:8080/",
          "height": 990
        },
        "id": "JF41d3s76iGF",
        "outputId": "fdec7dca-86db-4be7-8558-b08107246639"
      },
      "execution_count": 74,
      "outputs": [
        {
          "output_type": "execute_result",
          "data": {
            "text/plain": [
              "             name  importance\n",
              "13            V14    0.166081\n",
              "9             V10    0.154009\n",
              "3              V4    0.109303\n",
              "16            V17    0.101049\n",
              "11            V12    0.094463\n",
              "10            V11    0.090221\n",
              "2              V3    0.045058\n",
              "6              V7    0.043446\n",
              "15            V16    0.040554\n",
              "1              V2    0.021863\n",
              "8              V9    0.014980\n",
              "29  amount_scaled    0.013667\n",
              "17            V18    0.011859\n",
              "26            V27    0.008507\n",
              "20            V21    0.008473\n",
              "5              V6    0.008267\n",
              "0              V1    0.008248\n",
              "18            V19    0.007384\n",
              "19            V20    0.006327\n",
              "4              V5    0.005679\n",
              "25            V26    0.005311\n",
              "24            V25    0.004938\n",
              "7              V8    0.004840\n",
              "27            V28    0.004791\n",
              "22            V23    0.004472\n",
              "28    time_scaled    0.003652\n",
              "21            V22    0.003502\n",
              "12            V13    0.003241\n",
              "14            V15    0.002977\n",
              "23            V24    0.002840"
            ],
            "text/html": [
              "\n",
              "  <div id=\"df-8a2eabb0-e434-4248-b680-361a7bdaa616\">\n",
              "    <div class=\"colab-df-container\">\n",
              "      <div>\n",
              "<style scoped>\n",
              "    .dataframe tbody tr th:only-of-type {\n",
              "        vertical-align: middle;\n",
              "    }\n",
              "\n",
              "    .dataframe tbody tr th {\n",
              "        vertical-align: top;\n",
              "    }\n",
              "\n",
              "    .dataframe thead th {\n",
              "        text-align: right;\n",
              "    }\n",
              "</style>\n",
              "<table border=\"1\" class=\"dataframe\">\n",
              "  <thead>\n",
              "    <tr style=\"text-align: right;\">\n",
              "      <th></th>\n",
              "      <th>name</th>\n",
              "      <th>importance</th>\n",
              "    </tr>\n",
              "  </thead>\n",
              "  <tbody>\n",
              "    <tr>\n",
              "      <th>13</th>\n",
              "      <td>V14</td>\n",
              "      <td>0.166081</td>\n",
              "    </tr>\n",
              "    <tr>\n",
              "      <th>9</th>\n",
              "      <td>V10</td>\n",
              "      <td>0.154009</td>\n",
              "    </tr>\n",
              "    <tr>\n",
              "      <th>3</th>\n",
              "      <td>V4</td>\n",
              "      <td>0.109303</td>\n",
              "    </tr>\n",
              "    <tr>\n",
              "      <th>16</th>\n",
              "      <td>V17</td>\n",
              "      <td>0.101049</td>\n",
              "    </tr>\n",
              "    <tr>\n",
              "      <th>11</th>\n",
              "      <td>V12</td>\n",
              "      <td>0.094463</td>\n",
              "    </tr>\n",
              "    <tr>\n",
              "      <th>10</th>\n",
              "      <td>V11</td>\n",
              "      <td>0.090221</td>\n",
              "    </tr>\n",
              "    <tr>\n",
              "      <th>2</th>\n",
              "      <td>V3</td>\n",
              "      <td>0.045058</td>\n",
              "    </tr>\n",
              "    <tr>\n",
              "      <th>6</th>\n",
              "      <td>V7</td>\n",
              "      <td>0.043446</td>\n",
              "    </tr>\n",
              "    <tr>\n",
              "      <th>15</th>\n",
              "      <td>V16</td>\n",
              "      <td>0.040554</td>\n",
              "    </tr>\n",
              "    <tr>\n",
              "      <th>1</th>\n",
              "      <td>V2</td>\n",
              "      <td>0.021863</td>\n",
              "    </tr>\n",
              "    <tr>\n",
              "      <th>8</th>\n",
              "      <td>V9</td>\n",
              "      <td>0.014980</td>\n",
              "    </tr>\n",
              "    <tr>\n",
              "      <th>29</th>\n",
              "      <td>amount_scaled</td>\n",
              "      <td>0.013667</td>\n",
              "    </tr>\n",
              "    <tr>\n",
              "      <th>17</th>\n",
              "      <td>V18</td>\n",
              "      <td>0.011859</td>\n",
              "    </tr>\n",
              "    <tr>\n",
              "      <th>26</th>\n",
              "      <td>V27</td>\n",
              "      <td>0.008507</td>\n",
              "    </tr>\n",
              "    <tr>\n",
              "      <th>20</th>\n",
              "      <td>V21</td>\n",
              "      <td>0.008473</td>\n",
              "    </tr>\n",
              "    <tr>\n",
              "      <th>5</th>\n",
              "      <td>V6</td>\n",
              "      <td>0.008267</td>\n",
              "    </tr>\n",
              "    <tr>\n",
              "      <th>0</th>\n",
              "      <td>V1</td>\n",
              "      <td>0.008248</td>\n",
              "    </tr>\n",
              "    <tr>\n",
              "      <th>18</th>\n",
              "      <td>V19</td>\n",
              "      <td>0.007384</td>\n",
              "    </tr>\n",
              "    <tr>\n",
              "      <th>19</th>\n",
              "      <td>V20</td>\n",
              "      <td>0.006327</td>\n",
              "    </tr>\n",
              "    <tr>\n",
              "      <th>4</th>\n",
              "      <td>V5</td>\n",
              "      <td>0.005679</td>\n",
              "    </tr>\n",
              "    <tr>\n",
              "      <th>25</th>\n",
              "      <td>V26</td>\n",
              "      <td>0.005311</td>\n",
              "    </tr>\n",
              "    <tr>\n",
              "      <th>24</th>\n",
              "      <td>V25</td>\n",
              "      <td>0.004938</td>\n",
              "    </tr>\n",
              "    <tr>\n",
              "      <th>7</th>\n",
              "      <td>V8</td>\n",
              "      <td>0.004840</td>\n",
              "    </tr>\n",
              "    <tr>\n",
              "      <th>27</th>\n",
              "      <td>V28</td>\n",
              "      <td>0.004791</td>\n",
              "    </tr>\n",
              "    <tr>\n",
              "      <th>22</th>\n",
              "      <td>V23</td>\n",
              "      <td>0.004472</td>\n",
              "    </tr>\n",
              "    <tr>\n",
              "      <th>28</th>\n",
              "      <td>time_scaled</td>\n",
              "      <td>0.003652</td>\n",
              "    </tr>\n",
              "    <tr>\n",
              "      <th>21</th>\n",
              "      <td>V22</td>\n",
              "      <td>0.003502</td>\n",
              "    </tr>\n",
              "    <tr>\n",
              "      <th>12</th>\n",
              "      <td>V13</td>\n",
              "      <td>0.003241</td>\n",
              "    </tr>\n",
              "    <tr>\n",
              "      <th>14</th>\n",
              "      <td>V15</td>\n",
              "      <td>0.002977</td>\n",
              "    </tr>\n",
              "    <tr>\n",
              "      <th>23</th>\n",
              "      <td>V24</td>\n",
              "      <td>0.002840</td>\n",
              "    </tr>\n",
              "  </tbody>\n",
              "</table>\n",
              "</div>\n",
              "      <button class=\"colab-df-convert\" onclick=\"convertToInteractive('df-8a2eabb0-e434-4248-b680-361a7bdaa616')\"\n",
              "              title=\"Convert this dataframe to an interactive table.\"\n",
              "              style=\"display:none;\">\n",
              "        \n",
              "  <svg xmlns=\"http://www.w3.org/2000/svg\" height=\"24px\"viewBox=\"0 0 24 24\"\n",
              "       width=\"24px\">\n",
              "    <path d=\"M0 0h24v24H0V0z\" fill=\"none\"/>\n",
              "    <path d=\"M18.56 5.44l.94 2.06.94-2.06 2.06-.94-2.06-.94-.94-2.06-.94 2.06-2.06.94zm-11 1L8.5 8.5l.94-2.06 2.06-.94-2.06-.94L8.5 2.5l-.94 2.06-2.06.94zm10 10l.94 2.06.94-2.06 2.06-.94-2.06-.94-.94-2.06-.94 2.06-2.06.94z\"/><path d=\"M17.41 7.96l-1.37-1.37c-.4-.4-.92-.59-1.43-.59-.52 0-1.04.2-1.43.59L10.3 9.45l-7.72 7.72c-.78.78-.78 2.05 0 2.83L4 21.41c.39.39.9.59 1.41.59.51 0 1.02-.2 1.41-.59l7.78-7.78 2.81-2.81c.8-.78.8-2.07 0-2.86zM5.41 20L4 18.59l7.72-7.72 1.47 1.35L5.41 20z\"/>\n",
              "  </svg>\n",
              "      </button>\n",
              "      \n",
              "  <style>\n",
              "    .colab-df-container {\n",
              "      display:flex;\n",
              "      flex-wrap:wrap;\n",
              "      gap: 12px;\n",
              "    }\n",
              "\n",
              "    .colab-df-convert {\n",
              "      background-color: #E8F0FE;\n",
              "      border: none;\n",
              "      border-radius: 50%;\n",
              "      cursor: pointer;\n",
              "      display: none;\n",
              "      fill: #1967D2;\n",
              "      height: 32px;\n",
              "      padding: 0 0 0 0;\n",
              "      width: 32px;\n",
              "    }\n",
              "\n",
              "    .colab-df-convert:hover {\n",
              "      background-color: #E2EBFA;\n",
              "      box-shadow: 0px 1px 2px rgba(60, 64, 67, 0.3), 0px 1px 3px 1px rgba(60, 64, 67, 0.15);\n",
              "      fill: #174EA6;\n",
              "    }\n",
              "\n",
              "    [theme=dark] .colab-df-convert {\n",
              "      background-color: #3B4455;\n",
              "      fill: #D2E3FC;\n",
              "    }\n",
              "\n",
              "    [theme=dark] .colab-df-convert:hover {\n",
              "      background-color: #434B5C;\n",
              "      box-shadow: 0px 1px 3px 1px rgba(0, 0, 0, 0.15);\n",
              "      filter: drop-shadow(0px 1px 2px rgba(0, 0, 0, 0.3));\n",
              "      fill: #FFFFFF;\n",
              "    }\n",
              "  </style>\n",
              "\n",
              "      <script>\n",
              "        const buttonEl =\n",
              "          document.querySelector('#df-8a2eabb0-e434-4248-b680-361a7bdaa616 button.colab-df-convert');\n",
              "        buttonEl.style.display =\n",
              "          google.colab.kernel.accessAllowed ? 'block' : 'none';\n",
              "\n",
              "        async function convertToInteractive(key) {\n",
              "          const element = document.querySelector('#df-8a2eabb0-e434-4248-b680-361a7bdaa616');\n",
              "          const dataTable =\n",
              "            await google.colab.kernel.invokeFunction('convertToInteractive',\n",
              "                                                     [key], {});\n",
              "          if (!dataTable) return;\n",
              "\n",
              "          const docLinkHtml = 'Like what you see? Visit the ' +\n",
              "            '<a target=\"_blank\" href=https://colab.research.google.com/notebooks/data_table.ipynb>data table notebook</a>'\n",
              "            + ' to learn more about interactive tables.';\n",
              "          element.innerHTML = '';\n",
              "          dataTable['output_type'] = 'display_data';\n",
              "          await google.colab.output.renderOutput(dataTable, element);\n",
              "          const docLink = document.createElement('div');\n",
              "          docLink.innerHTML = docLinkHtml;\n",
              "          element.appendChild(docLink);\n",
              "        }\n",
              "      </script>\n",
              "    </div>\n",
              "  </div>\n",
              "  "
            ]
          },
          "metadata": {},
          "execution_count": 74
        }
      ]
    },
    {
      "cell_type": "markdown",
      "metadata": {
        "id": "MD4zdn9vf8tb"
      },
      "source": [
        "## Random Forest Validacion"
      ]
    },
    {
      "cell_type": "code",
      "metadata": {
        "colab": {
          "base_uri": "https://localhost:8080/",
          "height": 505
        },
        "id": "qPDDrbmVfCwV",
        "outputId": "ba71af6b-fc44-4dfc-dc28-e79b9d330ec1"
      },
      "source": [
        "rf_opt = RandomForestClassifier(**rf_under.best_params_)\n",
        "rf_opt.fit(X_train_new, Y_train_new)\n",
        "\n",
        "# Estimar Test\n",
        "predictions = rf_opt.predict(X_val)\n",
        "print(accuracy_score(Y_val, predictions))\n",
        "print(confusion_matrix(Y_val, predictions))\n",
        "print(classification_report(Y_val, predictions))\n",
        "\n",
        "df_cm = pd.DataFrame(confusion_matrix(Y_val, predictions), \n",
        "                     columns=np.unique(Y_val), index = np.unique(Y_val))\n",
        "df_cm.index.name = 'Actual'\n",
        "df_cm.columns.name = 'Predicted'\n",
        "sns.heatmap(df_cm, cmap=\"Blues\", annot=True,annot_kws={\"size\": 16})"
      ],
      "execution_count": 75,
      "outputs": [
        {
          "output_type": "stream",
          "name": "stdout",
          "text": [
            "0.9771116329083368\n",
            "[[44453  1033]\n",
            " [   10    73]]\n",
            "              precision    recall  f1-score   support\n",
            "\n",
            "           0       1.00      0.98      0.99     45486\n",
            "           1       0.07      0.88      0.12        83\n",
            "\n",
            "    accuracy                           0.98     45569\n",
            "   macro avg       0.53      0.93      0.56     45569\n",
            "weighted avg       1.00      0.98      0.99     45569\n",
            "\n"
          ]
        },
        {
          "output_type": "execute_result",
          "data": {
            "text/plain": [
              "<matplotlib.axes._subplots.AxesSubplot at 0x7f98d9622390>"
            ]
          },
          "metadata": {},
          "execution_count": 75
        },
        {
          "output_type": "display_data",
          "data": {
            "text/plain": [
              "<Figure size 432x288 with 2 Axes>"
            ],
            "image/png": "[encoded data removed]"
          },
          "metadata": {
            "needs_background": "light"
          }
        }
      ]
    },
    {
      "cell_type": "code",
      "metadata": {
        "colab": {
          "base_uri": "https://localhost:8080/",
          "height": 505
        },
        "id": "I6AiphI77CHG",
        "outputId": "f64f0ed6-ca5f-469b-8b52-f72537e40d14"
      },
      "source": [
        "rf_opt = RandomForestClassifier(**rf_random2.best_params_)\n",
        "rf_opt.fit(X_train_new, Y_train_new)\n",
        "\n",
        "# Estimar Test\n",
        "predictions = rf_opt.predict(X_val)\n",
        "print(accuracy_score(Y_val, predictions))\n",
        "print(confusion_matrix(Y_val, predictions))\n",
        "print(classification_report(Y_val, predictions))\n",
        "\n",
        "df_cm = pd.DataFrame(confusion_matrix(Y_val, predictions), \n",
        "                     columns=np.unique(Y_val), index = np.unique(Y_val))\n",
        "df_cm.index.name = 'Actual'\n",
        "df_cm.columns.name = 'Predicted'\n",
        "sns.heatmap(df_cm, cmap=\"Blues\", annot=True,annot_kws={\"size\": 16})"
      ],
      "execution_count": 76,
      "outputs": [
        {
          "output_type": "stream",
          "name": "stdout",
          "text": [
            "0.9742368715574184\n",
            "[[44323  1163]\n",
            " [   11    72]]\n",
            "              precision    recall  f1-score   support\n",
            "\n",
            "           0       1.00      0.97      0.99     45486\n",
            "           1       0.06      0.87      0.11        83\n",
            "\n",
            "    accuracy                           0.97     45569\n",
            "   macro avg       0.53      0.92      0.55     45569\n",
            "weighted avg       1.00      0.97      0.99     45569\n",
            "\n"
          ]
        },
        {
          "output_type": "execute_result",
          "data": {
            "text/plain": [
              "<matplotlib.axes._subplots.AxesSubplot at 0x7f98d958e790>"
            ]
          },
          "metadata": {},
          "execution_count": 76
        },
        {
          "output_type": "display_data",
          "data": {
            "text/plain": [
              "<Figure size 432x288 with 2 Axes>"
            ],
            "image/png": "[encoded data removed]"
          },
          "metadata": {
            "needs_background": "light"
          }
        }
      ]
    },
    {
      "cell_type": "markdown",
      "metadata": {
        "id": "Qzyj-2OVquzx"
      },
      "source": [
        "# Mejor modelo"
      ]
    },
    {
      "cell_type": "markdown",
      "metadata": {
        "id": "G3XSjEEX4FMS"
      },
      "source": [
        "+ Piensa cual seria el mejor modelo si el costo de los falsos positivos es casi el mismo que el de los falsos negativos?  \n",
        "+ Que pasa esi el costo de los falsos positivos es mucho mayor?"
      ]
    },
    {
      "cell_type": "code",
      "metadata": {
        "colab": {
          "base_uri": "https://localhost:8080/"
        },
        "id": "CABHnZ-kY1us",
        "outputId": "88d39f79-3911-476d-84ff-01f6275bb805"
      },
      "source": [
        "rf_opt = RandomForestClassifier(**rf_random2.best_params_, random_state=35)\n",
        "rf_opt.fit(X_train_new, Y_train_new)"
      ],
      "execution_count": null,
      "outputs": [
        {
          "output_type": "execute_result",
          "data": {
            "text/plain": [
              "RandomForestClassifier(max_depth=10, min_samples_split=9, n_estimators=305,\n",
              "                       random_state=35)"
            ]
          },
          "metadata": {},
          "execution_count": 62
        }
      ]
    },
    {
      "cell_type": "code",
      "metadata": {
        "colab": {
          "base_uri": "https://localhost:8080/",
          "height": 352
        },
        "id": "bhXarP5IWYum",
        "outputId": "3ccfbcec-59e2-45ab-ca58-e05a0d6a7db7"
      },
      "source": [
        "# Estimar Test\n",
        "predictions = rf_opt.predict(X_test)\n",
        "print(accuracy_score(Y_test, predictions))\n",
        "print(confusion_matrix(Y_test, predictions))\n",
        "print(classification_report(Y_test, predictions))\n",
        "\n",
        "df_cm = pd.DataFrame(confusion_matrix(Y_test, predictions), \n",
        "                     columns=np.unique(Y_test), index = np.unique(Y_test))\n",
        "df_cm.index.name = 'Actual'\n",
        "df_cm.columns.name = 'Predicted'\n",
        "df_cm"
      ],
      "execution_count": 77,
      "outputs": [
        {
          "output_type": "stream",
          "name": "stdout",
          "text": [
            "0.9742635441171307\n",
            "[[55405  1457]\n",
            " [    9    91]]\n",
            "              precision    recall  f1-score   support\n",
            "\n",
            "           0       1.00      0.97      0.99     56862\n",
            "           1       0.06      0.91      0.11       100\n",
            "\n",
            "    accuracy                           0.97     56962\n",
            "   macro avg       0.53      0.94      0.55     56962\n",
            "weighted avg       1.00      0.97      0.99     56962\n",
            "\n"
          ]
        },
        {
          "output_type": "execute_result",
          "data": {
            "text/plain": [
              "Predicted      0     1\n",
              "Actual                \n",
              "0          55405  1457\n",
              "1              9    91"
            ],
            "text/html": [
              "\n",
              "  <div id=\"df-b1d8ebf8-e850-425a-a9d0-e3cfc482f29e\">\n",
              "    <div class=\"colab-df-container\">\n",
              "      <div>\n",
              "<style scoped>\n",
              "    .dataframe tbody tr th:only-of-type {\n",
              "        vertical-align: middle;\n",
              "    }\n",
              "\n",
              "    .dataframe tbody tr th {\n",
              "        vertical-align: top;\n",
              "    }\n",
              "\n",
              "    .dataframe thead th {\n",
              "        text-align: right;\n",
              "    }\n",
              "</style>\n",
              "<table border=\"1\" class=\"dataframe\">\n",
              "  <thead>\n",
              "    <tr style=\"text-align: right;\">\n",
              "      <th>Predicted</th>\n",
              "      <th>0</th>\n",
              "      <th>1</th>\n",
              "    </tr>\n",
              "    <tr>\n",
              "      <th>Actual</th>\n",
              "      <th></th>\n",
              "      <th></th>\n",
              "    </tr>\n",
              "  </thead>\n",
              "  <tbody>\n",
              "    <tr>\n",
              "      <th>0</th>\n",
              "      <td>55405</td>\n",
              "      <td>1457</td>\n",
              "    </tr>\n",
              "    <tr>\n",
              "      <th>1</th>\n",
              "      <td>9</td>\n",
              "      <td>91</td>\n",
              "    </tr>\n",
              "  </tbody>\n",
              "</table>\n",
              "</div>\n",
              "      <button class=\"colab-df-convert\" onclick=\"convertToInteractive('df-b1d8ebf8-e850-425a-a9d0-e3cfc482f29e')\"\n",
              "              title=\"Convert this dataframe to an interactive table.\"\n",
              "              style=\"display:none;\">\n",
              "        \n",
              "  <svg xmlns=\"http://www.w3.org/2000/svg\" height=\"24px\"viewBox=\"0 0 24 24\"\n",
              "       width=\"24px\">\n",
              "    <path d=\"M0 0h24v24H0V0z\" fill=\"none\"/>\n",
              "    <path d=\"M18.56 5.44l.94 2.06.94-2.06 2.06-.94-2.06-.94-.94-2.06-.94 2.06-2.06.94zm-11 1L8.5 8.5l.94-2.06 2.06-.94-2.06-.94L8.5 2.5l-.94 2.06-2.06.94zm10 10l.94 2.06.94-2.06 2.06-.94-2.06-.94-.94-2.06-.94 2.06-2.06.94z\"/><path d=\"M17.41 7.96l-1.37-1.37c-.4-.4-.92-.59-1.43-.59-.52 0-1.04.2-1.43.59L10.3 9.45l-7.72 7.72c-.78.78-.78 2.05 0 2.83L4 21.41c.39.39.9.59 1.41.59.51 0 1.02-.2 1.41-.59l7.78-7.78 2.81-2.81c.8-.78.8-2.07 0-2.86zM5.41 20L4 18.59l7.72-7.72 1.47 1.35L5.41 20z\"/>\n",
              "  </svg>\n",
              "      </button>\n",
              "      \n",
              "  <style>\n",
              "    .colab-df-container {\n",
              "      display:flex;\n",
              "      flex-wrap:wrap;\n",
              "      gap: 12px;\n",
              "    }\n",
              "\n",
              "    .colab-df-convert {\n",
              "      background-color: #E8F0FE;\n",
              "      border: none;\n",
              "      border-radius: 50%;\n",
              "      cursor: pointer;\n",
              "      display: none;\n",
              "      fill: #1967D2;\n",
              "      height: 32px;\n",
              "      padding: 0 0 0 0;\n",
              "      width: 32px;\n",
              "    }\n",
              "\n",
              "    .colab-df-convert:hover {\n",
              "      background-color: #E2EBFA;\n",
              "      box-shadow: 0px 1px 2px rgba(60, 64, 67, 0.3), 0px 1px 3px 1px rgba(60, 64, 67, 0.15);\n",
              "      fill: #174EA6;\n",
              "    }\n",
              "\n",
              "    [theme=dark] .colab-df-convert {\n",
              "      background-color: #3B4455;\n",
              "      fill: #D2E3FC;\n",
              "    }\n",
              "\n",
              "    [theme=dark] .colab-df-convert:hover {\n",
              "      background-color: #434B5C;\n",
              "      box-shadow: 0px 1px 3px 1px rgba(0, 0, 0, 0.15);\n",
              "      filter: drop-shadow(0px 1px 2px rgba(0, 0, 0, 0.3));\n",
              "      fill: #FFFFFF;\n",
              "    }\n",
              "  </style>\n",
              "\n",
              "      <script>\n",
              "        const buttonEl =\n",
              "          document.querySelector('#df-b1d8ebf8-e850-425a-a9d0-e3cfc482f29e button.colab-df-convert');\n",
              "        buttonEl.style.display =\n",
              "          google.colab.kernel.accessAllowed ? 'block' : 'none';\n",
              "\n",
              "        async function convertToInteractive(key) {\n",
              "          const element = document.querySelector('#df-b1d8ebf8-e850-425a-a9d0-e3cfc482f29e');\n",
              "          const dataTable =\n",
              "            await google.colab.kernel.invokeFunction('convertToInteractive',\n",
              "                                                     [key], {});\n",
              "          if (!dataTable) return;\n",
              "\n",
              "          const docLinkHtml = 'Like what you see? Visit the ' +\n",
              "            '<a target=\"_blank\" href=https://colab.research.google.com/notebooks/data_table.ipynb>data table notebook</a>'\n",
              "            + ' to learn more about interactive tables.';\n",
              "          element.innerHTML = '';\n",
              "          dataTable['output_type'] = 'display_data';\n",
              "          await google.colab.output.renderOutput(dataTable, element);\n",
              "          const docLink = document.createElement('div');\n",
              "          docLink.innerHTML = docLinkHtml;\n",
              "          element.appendChild(docLink);\n",
              "        }\n",
              "      </script>\n",
              "    </div>\n",
              "  </div>\n",
              "  "
            ]
          },
          "metadata": {},
          "execution_count": 77
        }
      ]
    }
  ]
}