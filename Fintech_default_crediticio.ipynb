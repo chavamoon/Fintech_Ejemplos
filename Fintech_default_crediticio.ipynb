{
  "nbformat": 4,
  "nbformat_minor": 0,
  "metadata": {
    "colab": {
      "name": "Fintech_default_crediticio.ipynb",
      "provenance": [],
      "collapsed_sections": [],
      "toc_visible": true,
      "include_colab_link": true
    },
    "kernelspec": {
      "display_name": "Python 3",
      "name": "python3"
    },
    "language_info": {
      "name": "python"
    }
  },
  "cells": [
    {
      "cell_type": "markdown",
      "metadata": {
        "id": "view-in-github",
        "colab_type": "text"
      },
      "source": [
        "<a href=\"https://colab.research.google.com/github/chavamoon/Fintech_Ejemplos/blob/main/Fintech_default_crediticio.ipynb\" target=\"_parent\"><img src=\"https://colab.research.google.com/assets/colab-badge.svg\" alt=\"Open In Colab\"/></a>"
      ]
    },
    {
      "cell_type": "markdown",
      "metadata": {
        "id": "yUd5XUr57MPC"
      },
      "source": [
        "# Prediccion de Default en Prestamos"
      ]
    },
    {
      "cell_type": "markdown",
      "metadata": {
        "id": "qCFgjAfF7WhV"
      },
      "source": [
        "Para este proyecto utilizaremos un sample de los datos de [Lending Club](https://www.kaggle.com/wordsforthewise/lending-club). La idea es predecir si cierto usuario cometera Default basado en informacion que la plataforma recolecta. Esto nos ayudara a mejorar la metodologia/pipeline de prestamo.  \n",
        "\n"
      ]
    },
    {
      "cell_type": "code",
      "metadata": {
        "id": "yCTkq-Ze9yzF"
      },
      "source": [
        "\n",
        "\n",
        "# Load libraries\n",
        "import numpy as np\n",
        "import pandas as pd\n",
        "import matplotlib.pyplot as plt\n",
        "from pandas import read_csv, set_option\n",
        "from pandas.plotting import scatter_matrix\n",
        "import seaborn as sns\n",
        "from sklearn.preprocessing import StandardScaler\n",
        "from sklearn.model_selection import train_test_split, KFold, cross_val_score, GridSearchCV\n",
        "from sklearn.linear_model import LogisticRegression\n",
        "from sklearn.tree import DecisionTreeClassifier\n",
        "from sklearn.neighbors import KNeighborsClassifier\n",
        "from sklearn.discriminant_analysis import LinearDiscriminantAnalysis\n",
        "from sklearn.naive_bayes import GaussianNB\n",
        "from sklearn.svm import SVC\n",
        "from sklearn.neural_network import MLPClassifier\n",
        "from sklearn.pipeline import Pipeline\n",
        "from sklearn.ensemble import AdaBoostClassifier, GradientBoostingClassifier, RandomForestClassifier, ExtraTreesClassifier\n",
        "from sklearn.metrics import classification_report, confusion_matrix, accuracy_score\n",
        "\n",
        "#Libraries for Saving the Model\n",
        "from pickle import dump\n",
        "from pickle import load\n",
        "\n"
      ],
      "execution_count": 1,
      "outputs": []
    },
    {
      "cell_type": "markdown",
      "metadata": {
        "id": "r2mb_KWr9dS5"
      },
      "source": [
        "# Dataset"
      ]
    },
    {
      "cell_type": "markdown",
      "metadata": {
        "id": "9R_R5F3I9fWn"
      },
      "source": [
        "Contiene los prestamos de esta plataforma:\n",
        "+ periodo 2007-2017Q3.\n",
        "+ 887mil observaciones, sample de 100mil \n",
        "+ 150 variables\n",
        "+ Target: loan status"
      ]
    },
    {
      "cell_type": "markdown",
      "metadata": {
        "id": "AVM5VEX5-EXu"
      },
      "source": [
        "# ETL"
      ]
    },
    {
      "cell_type": "code",
      "metadata": {
        "colab": {
          "base_uri": "https://localhost:8080/"
        },
        "id": "HLBUbU0w93bG",
        "outputId": "9a89e758-107e-43ed-e2f6-c442c5840d38"
      },
      "source": [
        "loans = pd.read_csv('https://github.com/IEXE-Tec/mcda-fintech/blob/master/default_proyecto/LoansData_sample.csv.gz?raw=true', compression='gzip', encoding='utf-8')"
      ],
      "execution_count": 2,
      "outputs": [
        {
          "output_type": "stream",
          "name": "stderr",
          "text": [
            "/usr/local/lib/python3.7/dist-packages/IPython/core/interactiveshell.py:2882: DtypeWarning: Columns (19) have mixed types.Specify dtype option on import or set low_memory=False.\n",
            "  exec(code_obj, self.user_global_ns, self.user_ns)\n"
          ]
        }
      ]
    },
    {
      "cell_type": "markdown",
      "metadata": {
        "id": "4N_Ok6Zv_ajj"
      },
      "source": [
        "Revisemos la columna del Warning, parece que es texto, que describe el objetivo del prestamo."
      ]
    },
    {
      "cell_type": "code",
      "metadata": {
        "colab": {
          "base_uri": "https://localhost:8080/"
        },
        "id": "gpf-DT7v-cwm",
        "outputId": "35c067ec-816d-4428-9937-083afe910291"
      },
      "source": [
        "print(loans.columns[19])\n",
        "loans.loc[:,loans.columns[19]].unique()"
      ],
      "execution_count": 3,
      "outputs": [
        {
          "output_type": "stream",
          "name": "stdout",
          "text": [
            "desc\n"
          ]
        },
        {
          "output_type": "execute_result",
          "data": {
            "text/plain": [
              "array([nan, ' ',\n",
              "       'Looking to borrow to purchase a used boat we are interested in',\n",
              "       'I support myself and my mother and have taken on debt to assist with her bills and health care needs. I would like to pay down debt faster through refinancing at a lower rate.',\n",
              "       \"Trying to pay a friend back for apartment broker's fee incurred from as well as credit card stuff.\"],\n",
              "      dtype=object)"
            ]
          },
          "metadata": {},
          "execution_count": 3
        }
      ]
    },
    {
      "cell_type": "code",
      "metadata": {
        "colab": {
          "base_uri": "https://localhost:8080/"
        },
        "id": "-JNDixzk-vI4",
        "outputId": "af7071e2-4a27-4d4a-8bc8-652eaea63d94"
      },
      "source": [
        "loans.shape"
      ],
      "execution_count": 4,
      "outputs": [
        {
          "output_type": "execute_result",
          "data": {
            "text/plain": [
              "(100000, 151)"
            ]
          },
          "metadata": {},
          "execution_count": 4
        }
      ]
    },
    {
      "cell_type": "code",
      "metadata": {
        "colab": {
          "base_uri": "https://localhost:8080/"
        },
        "id": "uud1kTdo_Fsp",
        "outputId": "6d452ce3-9bf0-4c3e-bd74-315c01109ee0"
      },
      "source": [
        "loans.info()"
      ],
      "execution_count": 5,
      "outputs": [
        {
          "output_type": "stream",
          "name": "stdout",
          "text": [
            "<class 'pandas.core.frame.DataFrame'>\n",
            "RangeIndex: 100000 entries, 0 to 99999\n",
            "Columns: 151 entries, Unnamed: 0 to settlement_term\n",
            "dtypes: float64(115), int64(2), object(34)\n",
            "memory usage: 115.2+ MB\n"
          ]
        }
      ]
    },
    {
      "cell_type": "markdown",
      "metadata": {
        "id": "W_KAvPaH_pRT"
      },
      "source": [
        "La primera columna parece ser un indice, podemos eliminarla."
      ]
    },
    {
      "cell_type": "code",
      "metadata": {
        "colab": {
          "base_uri": "https://localhost:8080/",
          "height": 403
        },
        "id": "7C63ArOQ9_eb",
        "outputId": "e5699ced-d5ca-46be-be22-f761a1c9191c"
      },
      "source": [
        "dataset = loans\n",
        "dataset.head()"
      ],
      "execution_count": 6,
      "outputs": [
        {
          "output_type": "execute_result",
          "data": {
            "text/plain": [
              "   Unnamed: 0        id  member_id  loan_amnt  funded_amnt  funded_amnt_inv  \\\n",
              "0           0  38098114        NaN    15000.0      15000.0          15000.0   \n",
              "1           1  36805548        NaN    10400.0      10400.0          10400.0   \n",
              "2           2  37842129        NaN    21425.0      21425.0          21425.0   \n",
              "3           3  37612354        NaN    12800.0      12800.0          12800.0   \n",
              "4           4  37662224        NaN     7650.0       7650.0           7650.0   \n",
              "\n",
              "         term  int_rate  installment grade  ...  \\\n",
              "0   60 months     12.39       336.64     C  ...   \n",
              "1   36 months      6.99       321.08     A  ...   \n",
              "2   60 months     15.59       516.36     D  ...   \n",
              "3   60 months     17.14       319.08     D  ...   \n",
              "4   36 months     13.66       260.20     C  ...   \n",
              "\n",
              "  hardship_payoff_balance_amount hardship_last_payment_amount  \\\n",
              "0                            NaN                          NaN   \n",
              "1                            NaN                          NaN   \n",
              "2                            NaN                          NaN   \n",
              "3                            NaN                          NaN   \n",
              "4                            NaN                          NaN   \n",
              "\n",
              "  disbursement_method debt_settlement_flag  debt_settlement_flag_date  \\\n",
              "0                Cash                    N                        NaN   \n",
              "1                Cash                    N                        NaN   \n",
              "2                Cash                    N                        NaN   \n",
              "3                Cash                    N                        NaN   \n",
              "4                Cash                    N                        NaN   \n",
              "\n",
              "  settlement_status settlement_date settlement_amount settlement_percentage  \\\n",
              "0               NaN             NaN               NaN                   NaN   \n",
              "1               NaN             NaN               NaN                   NaN   \n",
              "2               NaN             NaN               NaN                   NaN   \n",
              "3               NaN             NaN               NaN                   NaN   \n",
              "4               NaN             NaN               NaN                   NaN   \n",
              "\n",
              "  settlement_term  \n",
              "0             NaN  \n",
              "1             NaN  \n",
              "2             NaN  \n",
              "3             NaN  \n",
              "4             NaN  \n",
              "\n",
              "[5 rows x 151 columns]"
            ],
            "text/html": [
              "\n",
              "  <div id=\"df-a57eb845-debf-4f80-94e0-e7b55a47ad19\">\n",
              "    <div class=\"colab-df-container\">\n",
              "      <div>\n",
              "<style scoped>\n",
              "    .dataframe tbody tr th:only-of-type {\n",
              "        vertical-align: middle;\n",
              "    }\n",
              "\n",
              "    .dataframe tbody tr th {\n",
              "        vertical-align: top;\n",
              "    }\n",
              "\n",
              "    .dataframe thead th {\n",
              "        text-align: right;\n",
              "    }\n",
              "</style>\n",
              "<table border=\"1\" class=\"dataframe\">\n",
              "  <thead>\n",
              "    <tr style=\"text-align: right;\">\n",
              "      <th></th>\n",
              "      <th>Unnamed: 0</th>\n",
              "      <th>id</th>\n",
              "      <th>member_id</th>\n",
              "      <th>loan_amnt</th>\n",
              "      <th>funded_amnt</th>\n",
              "      <th>funded_amnt_inv</th>\n",
              "      <th>term</th>\n",
              "      <th>int_rate</th>\n",
              "      <th>installment</th>\n",
              "      <th>grade</th>\n",
              "      <th>...</th>\n",
              "      <th>hardship_payoff_balance_amount</th>\n",
              "      <th>hardship_last_payment_amount</th>\n",
              "      <th>disbursement_method</th>\n",
              "      <th>debt_settlement_flag</th>\n",
              "      <th>debt_settlement_flag_date</th>\n",
              "      <th>settlement_status</th>\n",
              "      <th>settlement_date</th>\n",
              "      <th>settlement_amount</th>\n",
              "      <th>settlement_percentage</th>\n",
              "      <th>settlement_term</th>\n",
              "    </tr>\n",
              "  </thead>\n",
              "  <tbody>\n",
              "    <tr>\n",
              "      <th>0</th>\n",
              "      <td>0</td>\n",
              "      <td>38098114</td>\n",
              "      <td>NaN</td>\n",
              "      <td>15000.0</td>\n",
              "      <td>15000.0</td>\n",
              "      <td>15000.0</td>\n",
              "      <td>60 months</td>\n",
              "      <td>12.39</td>\n",
              "      <td>336.64</td>\n",
              "      <td>C</td>\n",
              "      <td>...</td>\n",
              "      <td>NaN</td>\n",
              "      <td>NaN</td>\n",
              "      <td>Cash</td>\n",
              "      <td>N</td>\n",
              "      <td>NaN</td>\n",
              "      <td>NaN</td>\n",
              "      <td>NaN</td>\n",
              "      <td>NaN</td>\n",
              "      <td>NaN</td>\n",
              "      <td>NaN</td>\n",
              "    </tr>\n",
              "    <tr>\n",
              "      <th>1</th>\n",
              "      <td>1</td>\n",
              "      <td>36805548</td>\n",
              "      <td>NaN</td>\n",
              "      <td>10400.0</td>\n",
              "      <td>10400.0</td>\n",
              "      <td>10400.0</td>\n",
              "      <td>36 months</td>\n",
              "      <td>6.99</td>\n",
              "      <td>321.08</td>\n",
              "      <td>A</td>\n",
              "      <td>...</td>\n",
              "      <td>NaN</td>\n",
              "      <td>NaN</td>\n",
              "      <td>Cash</td>\n",
              "      <td>N</td>\n",
              "      <td>NaN</td>\n",
              "      <td>NaN</td>\n",
              "      <td>NaN</td>\n",
              "      <td>NaN</td>\n",
              "      <td>NaN</td>\n",
              "      <td>NaN</td>\n",
              "    </tr>\n",
              "    <tr>\n",
              "      <th>2</th>\n",
              "      <td>2</td>\n",
              "      <td>37842129</td>\n",
              "      <td>NaN</td>\n",
              "      <td>21425.0</td>\n",
              "      <td>21425.0</td>\n",
              "      <td>21425.0</td>\n",
              "      <td>60 months</td>\n",
              "      <td>15.59</td>\n",
              "      <td>516.36</td>\n",
              "      <td>D</td>\n",
              "      <td>...</td>\n",
              "      <td>NaN</td>\n",
              "      <td>NaN</td>\n",
              "      <td>Cash</td>\n",
              "      <td>N</td>\n",
              "      <td>NaN</td>\n",
              "      <td>NaN</td>\n",
              "      <td>NaN</td>\n",
              "      <td>NaN</td>\n",
              "      <td>NaN</td>\n",
              "      <td>NaN</td>\n",
              "    </tr>\n",
              "    <tr>\n",
              "      <th>3</th>\n",
              "      <td>3</td>\n",
              "      <td>37612354</td>\n",
              "      <td>NaN</td>\n",
              "      <td>12800.0</td>\n",
              "      <td>12800.0</td>\n",
              "      <td>12800.0</td>\n",
              "      <td>60 months</td>\n",
              "      <td>17.14</td>\n",
              "      <td>319.08</td>\n",
              "      <td>D</td>\n",
              "      <td>...</td>\n",
              "      <td>NaN</td>\n",
              "      <td>NaN</td>\n",
              "      <td>Cash</td>\n",
              "      <td>N</td>\n",
              "      <td>NaN</td>\n",
              "      <td>NaN</td>\n",
              "      <td>NaN</td>\n",
              "      <td>NaN</td>\n",
              "      <td>NaN</td>\n",
              "      <td>NaN</td>\n",
              "    </tr>\n",
              "    <tr>\n",
              "      <th>4</th>\n",
              "      <td>4</td>\n",
              "      <td>37662224</td>\n",
              "      <td>NaN</td>\n",
              "      <td>7650.0</td>\n",
              "      <td>7650.0</td>\n",
              "      <td>7650.0</td>\n",
              "      <td>36 months</td>\n",
              "      <td>13.66</td>\n",
              "      <td>260.20</td>\n",
              "      <td>C</td>\n",
              "      <td>...</td>\n",
              "      <td>NaN</td>\n",
              "      <td>NaN</td>\n",
              "      <td>Cash</td>\n",
              "      <td>N</td>\n",
              "      <td>NaN</td>\n",
              "      <td>NaN</td>\n",
              "      <td>NaN</td>\n",
              "      <td>NaN</td>\n",
              "      <td>NaN</td>\n",
              "      <td>NaN</td>\n",
              "    </tr>\n",
              "  </tbody>\n",
              "</table>\n",
              "<p>5 rows × 151 columns</p>\n",
              "</div>\n",
              "      <button class=\"colab-df-convert\" onclick=\"convertToInteractive('df-a57eb845-debf-4f80-94e0-e7b55a47ad19')\"\n",
              "              title=\"Convert this dataframe to an interactive table.\"\n",
              "              style=\"display:none;\">\n",
              "        \n",
              "  <svg xmlns=\"http://www.w3.org/2000/svg\" height=\"24px\"viewBox=\"0 0 24 24\"\n",
              "       width=\"24px\">\n",
              "    <path d=\"M0 0h24v24H0V0z\" fill=\"none\"/>\n",
              "    <path d=\"M18.56 5.44l.94 2.06.94-2.06 2.06-.94-2.06-.94-.94-2.06-.94 2.06-2.06.94zm-11 1L8.5 8.5l.94-2.06 2.06-.94-2.06-.94L8.5 2.5l-.94 2.06-2.06.94zm10 10l.94 2.06.94-2.06 2.06-.94-2.06-.94-.94-2.06-.94 2.06-2.06.94z\"/><path d=\"M17.41 7.96l-1.37-1.37c-.4-.4-.92-.59-1.43-.59-.52 0-1.04.2-1.43.59L10.3 9.45l-7.72 7.72c-.78.78-.78 2.05 0 2.83L4 21.41c.39.39.9.59 1.41.59.51 0 1.02-.2 1.41-.59l7.78-7.78 2.81-2.81c.8-.78.8-2.07 0-2.86zM5.41 20L4 18.59l7.72-7.72 1.47 1.35L5.41 20z\"/>\n",
              "  </svg>\n",
              "      </button>\n",
              "      \n",
              "  <style>\n",
              "    .colab-df-container {\n",
              "      display:flex;\n",
              "      flex-wrap:wrap;\n",
              "      gap: 12px;\n",
              "    }\n",
              "\n",
              "    .colab-df-convert {\n",
              "      background-color: #E8F0FE;\n",
              "      border: none;\n",
              "      border-radius: 50%;\n",
              "      cursor: pointer;\n",
              "      display: none;\n",
              "      fill: #1967D2;\n",
              "      height: 32px;\n",
              "      padding: 0 0 0 0;\n",
              "      width: 32px;\n",
              "    }\n",
              "\n",
              "    .colab-df-convert:hover {\n",
              "      background-color: #E2EBFA;\n",
              "      box-shadow: 0px 1px 2px rgba(60, 64, 67, 0.3), 0px 1px 3px 1px rgba(60, 64, 67, 0.15);\n",
              "      fill: #174EA6;\n",
              "    }\n",
              "\n",
              "    [theme=dark] .colab-df-convert {\n",
              "      background-color: #3B4455;\n",
              "      fill: #D2E3FC;\n",
              "    }\n",
              "\n",
              "    [theme=dark] .colab-df-convert:hover {\n",
              "      background-color: #434B5C;\n",
              "      box-shadow: 0px 1px 3px 1px rgba(0, 0, 0, 0.15);\n",
              "      filter: drop-shadow(0px 1px 2px rgba(0, 0, 0, 0.3));\n",
              "      fill: #FFFFFF;\n",
              "    }\n",
              "  </style>\n",
              "\n",
              "      <script>\n",
              "        const buttonEl =\n",
              "          document.querySelector('#df-a57eb845-debf-4f80-94e0-e7b55a47ad19 button.colab-df-convert');\n",
              "        buttonEl.style.display =\n",
              "          google.colab.kernel.accessAllowed ? 'block' : 'none';\n",
              "\n",
              "        async function convertToInteractive(key) {\n",
              "          const element = document.querySelector('#df-a57eb845-debf-4f80-94e0-e7b55a47ad19');\n",
              "          const dataTable =\n",
              "            await google.colab.kernel.invokeFunction('convertToInteractive',\n",
              "                                                     [key], {});\n",
              "          if (!dataTable) return;\n",
              "\n",
              "          const docLinkHtml = 'Like what you see? Visit the ' +\n",
              "            '<a target=\"_blank\" href=https://colab.research.google.com/notebooks/data_table.ipynb>data table notebook</a>'\n",
              "            + ' to learn more about interactive tables.';\n",
              "          element.innerHTML = '';\n",
              "          dataTable['output_type'] = 'display_data';\n",
              "          await google.colab.output.renderOutput(dataTable, element);\n",
              "          const docLink = document.createElement('div');\n",
              "          docLink.innerHTML = docLinkHtml;\n",
              "          element.appendChild(docLink);\n",
              "        }\n",
              "      </script>\n",
              "    </div>\n",
              "  </div>\n",
              "  "
            ]
          },
          "metadata": {},
          "execution_count": 6
        }
      ]
    },
    {
      "cell_type": "code",
      "metadata": {
        "colab": {
          "base_uri": "https://localhost:8080/"
        },
        "id": "9zLMqc2-FrE-",
        "outputId": "3fe83134-840a-4864-84a3-ee2dd320610e"
      },
      "source": [
        "dataset['Unnamed: 0'].describe()"
      ],
      "execution_count": 7,
      "outputs": [
        {
          "output_type": "execute_result",
          "data": {
            "text/plain": [
              "count    100000.000000\n",
              "mean      49999.500000\n",
              "std       28867.657797\n",
              "min           0.000000\n",
              "25%       24999.750000\n",
              "50%       49999.500000\n",
              "75%       74999.250000\n",
              "max       99999.000000\n",
              "Name: Unnamed: 0, dtype: float64"
            ]
          },
          "metadata": {},
          "execution_count": 7
        }
      ]
    },
    {
      "cell_type": "code",
      "metadata": {
        "id": "NJlGGHKC_vrs"
      },
      "source": [
        "del dataset['Unnamed: 0']"
      ],
      "execution_count": 8,
      "outputs": []
    },
    {
      "cell_type": "markdown",
      "metadata": {
        "id": "gvXXdz-UYH9P"
      },
      "source": [
        "Diccionario con la descripcion de los datos."
      ]
    },
    {
      "cell_type": "code",
      "metadata": {
        "id": "VZtAGbPkYCR5"
      },
      "source": [
        "datos_dict = pd.read_excel('https://resources.lendingclub.com/LCDataDictionary.xlsx')\n",
        "datos_dict.columns = ['feature', 'des']"
      ],
      "execution_count": 9,
      "outputs": []
    },
    {
      "cell_type": "code",
      "metadata": {
        "colab": {
          "base_uri": "https://localhost:8080/",
          "height": 423
        },
        "id": "grJ4987DFzLv",
        "outputId": "6045951c-aa69-45ac-e347-4c93d16d5715"
      },
      "source": [
        "datos_dict"
      ],
      "execution_count": 10,
      "outputs": [
        {
          "output_type": "execute_result",
          "data": {
            "text/plain": [
              "                   feature                                                des\n",
              "0           acc_now_delinq  The number of accounts on which the borrower i...\n",
              "1     acc_open_past_24mths         Number of trades opened in past 24 months.\n",
              "2               addr_state  The state provided by the borrower in the loan...\n",
              "3                 all_util              Balance to credit limit on all trades\n",
              "4               annual_inc  The self-reported annual income provided by th...\n",
              "..                     ...                                                ...\n",
              "148      settlement_amount  The loan amount that the borrower has agreed t...\n",
              "149  settlement_percentage  The settlement amount as a percentage of the p...\n",
              "150        settlement_term  The number of months that the borrower will be...\n",
              "151                    NaN                                                NaN\n",
              "152                    NaN  * Employer Title replaces Employer Name for al...\n",
              "\n",
              "[153 rows x 2 columns]"
            ],
            "text/html": [
              "\n",
              "  <div id=\"df-00bc1ca7-c64d-4852-9ec1-b570038e0e8d\">\n",
              "    <div class=\"colab-df-container\">\n",
              "      <div>\n",
              "<style scoped>\n",
              "    .dataframe tbody tr th:only-of-type {\n",
              "        vertical-align: middle;\n",
              "    }\n",
              "\n",
              "    .dataframe tbody tr th {\n",
              "        vertical-align: top;\n",
              "    }\n",
              "\n",
              "    .dataframe thead th {\n",
              "        text-align: right;\n",
              "    }\n",
              "</style>\n",
              "<table border=\"1\" class=\"dataframe\">\n",
              "  <thead>\n",
              "    <tr style=\"text-align: right;\">\n",
              "      <th></th>\n",
              "      <th>feature</th>\n",
              "      <th>des</th>\n",
              "    </tr>\n",
              "  </thead>\n",
              "  <tbody>\n",
              "    <tr>\n",
              "      <th>0</th>\n",
              "      <td>acc_now_delinq</td>\n",
              "      <td>The number of accounts on which the borrower i...</td>\n",
              "    </tr>\n",
              "    <tr>\n",
              "      <th>1</th>\n",
              "      <td>acc_open_past_24mths</td>\n",
              "      <td>Number of trades opened in past 24 months.</td>\n",
              "    </tr>\n",
              "    <tr>\n",
              "      <th>2</th>\n",
              "      <td>addr_state</td>\n",
              "      <td>The state provided by the borrower in the loan...</td>\n",
              "    </tr>\n",
              "    <tr>\n",
              "      <th>3</th>\n",
              "      <td>all_util</td>\n",
              "      <td>Balance to credit limit on all trades</td>\n",
              "    </tr>\n",
              "    <tr>\n",
              "      <th>4</th>\n",
              "      <td>annual_inc</td>\n",
              "      <td>The self-reported annual income provided by th...</td>\n",
              "    </tr>\n",
              "    <tr>\n",
              "      <th>...</th>\n",
              "      <td>...</td>\n",
              "      <td>...</td>\n",
              "    </tr>\n",
              "    <tr>\n",
              "      <th>148</th>\n",
              "      <td>settlement_amount</td>\n",
              "      <td>The loan amount that the borrower has agreed t...</td>\n",
              "    </tr>\n",
              "    <tr>\n",
              "      <th>149</th>\n",
              "      <td>settlement_percentage</td>\n",
              "      <td>The settlement amount as a percentage of the p...</td>\n",
              "    </tr>\n",
              "    <tr>\n",
              "      <th>150</th>\n",
              "      <td>settlement_term</td>\n",
              "      <td>The number of months that the borrower will be...</td>\n",
              "    </tr>\n",
              "    <tr>\n",
              "      <th>151</th>\n",
              "      <td>NaN</td>\n",
              "      <td>NaN</td>\n",
              "    </tr>\n",
              "    <tr>\n",
              "      <th>152</th>\n",
              "      <td>NaN</td>\n",
              "      <td>* Employer Title replaces Employer Name for al...</td>\n",
              "    </tr>\n",
              "  </tbody>\n",
              "</table>\n",
              "<p>153 rows × 2 columns</p>\n",
              "</div>\n",
              "      <button class=\"colab-df-convert\" onclick=\"convertToInteractive('df-00bc1ca7-c64d-4852-9ec1-b570038e0e8d')\"\n",
              "              title=\"Convert this dataframe to an interactive table.\"\n",
              "              style=\"display:none;\">\n",
              "        \n",
              "  <svg xmlns=\"http://www.w3.org/2000/svg\" height=\"24px\"viewBox=\"0 0 24 24\"\n",
              "       width=\"24px\">\n",
              "    <path d=\"M0 0h24v24H0V0z\" fill=\"none\"/>\n",
              "    <path d=\"M18.56 5.44l.94 2.06.94-2.06 2.06-.94-2.06-.94-.94-2.06-.94 2.06-2.06.94zm-11 1L8.5 8.5l.94-2.06 2.06-.94-2.06-.94L8.5 2.5l-.94 2.06-2.06.94zm10 10l.94 2.06.94-2.06 2.06-.94-2.06-.94-.94-2.06-.94 2.06-2.06.94z\"/><path d=\"M17.41 7.96l-1.37-1.37c-.4-.4-.92-.59-1.43-.59-.52 0-1.04.2-1.43.59L10.3 9.45l-7.72 7.72c-.78.78-.78 2.05 0 2.83L4 21.41c.39.39.9.59 1.41.59.51 0 1.02-.2 1.41-.59l7.78-7.78 2.81-2.81c.8-.78.8-2.07 0-2.86zM5.41 20L4 18.59l7.72-7.72 1.47 1.35L5.41 20z\"/>\n",
              "  </svg>\n",
              "      </button>\n",
              "      \n",
              "  <style>\n",
              "    .colab-df-container {\n",
              "      display:flex;\n",
              "      flex-wrap:wrap;\n",
              "      gap: 12px;\n",
              "    }\n",
              "\n",
              "    .colab-df-convert {\n",
              "      background-color: #E8F0FE;\n",
              "      border: none;\n",
              "      border-radius: 50%;\n",
              "      cursor: pointer;\n",
              "      display: none;\n",
              "      fill: #1967D2;\n",
              "      height: 32px;\n",
              "      padding: 0 0 0 0;\n",
              "      width: 32px;\n",
              "    }\n",
              "\n",
              "    .colab-df-convert:hover {\n",
              "      background-color: #E2EBFA;\n",
              "      box-shadow: 0px 1px 2px rgba(60, 64, 67, 0.3), 0px 1px 3px 1px rgba(60, 64, 67, 0.15);\n",
              "      fill: #174EA6;\n",
              "    }\n",
              "\n",
              "    [theme=dark] .colab-df-convert {\n",
              "      background-color: #3B4455;\n",
              "      fill: #D2E3FC;\n",
              "    }\n",
              "\n",
              "    [theme=dark] .colab-df-convert:hover {\n",
              "      background-color: #434B5C;\n",
              "      box-shadow: 0px 1px 3px 1px rgba(0, 0, 0, 0.15);\n",
              "      filter: drop-shadow(0px 1px 2px rgba(0, 0, 0, 0.3));\n",
              "      fill: #FFFFFF;\n",
              "    }\n",
              "  </style>\n",
              "\n",
              "      <script>\n",
              "        const buttonEl =\n",
              "          document.querySelector('#df-00bc1ca7-c64d-4852-9ec1-b570038e0e8d button.colab-df-convert');\n",
              "        buttonEl.style.display =\n",
              "          google.colab.kernel.accessAllowed ? 'block' : 'none';\n",
              "\n",
              "        async function convertToInteractive(key) {\n",
              "          const element = document.querySelector('#df-00bc1ca7-c64d-4852-9ec1-b570038e0e8d');\n",
              "          const dataTable =\n",
              "            await google.colab.kernel.invokeFunction('convertToInteractive',\n",
              "                                                     [key], {});\n",
              "          if (!dataTable) return;\n",
              "\n",
              "          const docLinkHtml = 'Like what you see? Visit the ' +\n",
              "            '<a target=\"_blank\" href=https://colab.research.google.com/notebooks/data_table.ipynb>data table notebook</a>'\n",
              "            + ' to learn more about interactive tables.';\n",
              "          element.innerHTML = '';\n",
              "          dataTable['output_type'] = 'display_data';\n",
              "          await google.colab.output.renderOutput(dataTable, element);\n",
              "          const docLink = document.createElement('div');\n",
              "          docLink.innerHTML = docLinkHtml;\n",
              "          element.appendChild(docLink);\n",
              "        }\n",
              "      </script>\n",
              "    </div>\n",
              "  </div>\n",
              "  "
            ]
          },
          "metadata": {},
          "execution_count": 10
        }
      ]
    },
    {
      "cell_type": "markdown",
      "metadata": {
        "id": "LZMHvydX__ka"
      },
      "source": [
        "# EDA"
      ]
    },
    {
      "cell_type": "markdown",
      "metadata": {
        "id": "zvT_U2PRAO0Z"
      },
      "source": [
        "## Variable Target -> Default de Prestamo"
      ]
    },
    {
      "cell_type": "code",
      "metadata": {
        "colab": {
          "base_uri": "https://localhost:8080/"
        },
        "id": "LZp_TcQEACEG",
        "outputId": "91a73aea-5af1-46ce-84a2-c07ce5130842"
      },
      "source": [
        "dataset['loan_status'].value_counts(dropna=False)"
      ],
      "execution_count": 11,
      "outputs": [
        {
          "output_type": "execute_result",
          "data": {
            "text/plain": [
              "Fully Paid            69982\n",
              "Charged Off           16156\n",
              "Current               12726\n",
              "Late (31-120 days)      730\n",
              "In Grace Period         264\n",
              "Late (16-30 days)       139\n",
              "Default                   3\n",
              "Name: loan_status, dtype: int64"
            ]
          },
          "metadata": {},
          "execution_count": 11
        }
      ]
    },
    {
      "cell_type": "markdown",
      "metadata": {
        "id": "Ic9NVUESBRiu"
      },
      "source": [
        "En este caso las variables que nos interesan son los prestamos terminados, ya sea porque pagaron `Fully Paid` o porque no pagaron y el prestamo se dio por perdido `Charged Off`.  \n",
        "En este caso las demas opciones, incluyendo `Default`, implican que el prestamo sigue en curso y no ha sido concluido, asi que las ignoraremos."
      ]
    },
    {
      "cell_type": "code",
      "metadata": {
        "colab": {
          "base_uri": "https://localhost:8080/"
        },
        "id": "u3qPWAlbB3CE",
        "outputId": "a1bc1eca-beb3-4e4b-febb-98882c964e2f"
      },
      "source": [
        "dataset = dataset.loc[dataset['loan_status'].isin(['Fully Paid', \n",
        "                                                   'Charged Off'])]\n",
        "dataset['loan_status'].value_counts(normalize=True, dropna=False)"
      ],
      "execution_count": 12,
      "outputs": [
        {
          "output_type": "execute_result",
          "data": {
            "text/plain": [
              "Fully Paid     0.812441\n",
              "Charged Off    0.187559\n",
              "Name: loan_status, dtype: float64"
            ]
          },
          "metadata": {},
          "execution_count": 12
        }
      ]
    },
    {
      "cell_type": "markdown",
      "metadata": {
        "id": "Zr-dxP9gCD7y"
      },
      "source": [
        "Podemos observar que tenemos una distribucion de labels cercana al 80/20. 81% de los prestamos fueron liquidados exitosamente, mientras que el 19% nunca fue pagado.  "
      ]
    },
    {
      "cell_type": "markdown",
      "metadata": {
        "id": "ifIc_rx1CgMc"
      },
      "source": [
        "Creemos el label de 0 o 1 en la columna `charged_off`."
      ]
    },
    {
      "cell_type": "code",
      "metadata": {
        "colab": {
          "base_uri": "https://localhost:8080/"
        },
        "id": "ux3rIjT_CU43",
        "outputId": "54dc3bc1-918c-41f4-b570-c18d100c3692"
      },
      "source": [
        "dataset.loc[:,'charged_off'] = (dataset['loan_status'] == 'Charged Off').apply(np.uint8)\n",
        "dataset.drop('loan_status', axis=1, inplace=True)"
      ],
      "execution_count": 13,
      "outputs": [
        {
          "output_type": "stream",
          "name": "stderr",
          "text": [
            "/usr/local/lib/python3.7/dist-packages/pandas/core/indexing.py:1667: SettingWithCopyWarning: \n",
            "A value is trying to be set on a copy of a slice from a DataFrame.\n",
            "Try using .loc[row_indexer,col_indexer] = value instead\n",
            "\n",
            "See the caveats in the documentation: https://pandas.pydata.org/pandas-docs/stable/user_guide/indexing.html#returning-a-view-versus-a-copy\n",
            "  self.obj[key] = value\n",
            "/usr/local/lib/python3.7/dist-packages/pandas/core/frame.py:4913: SettingWithCopyWarning: \n",
            "A value is trying to be set on a copy of a slice from a DataFrame\n",
            "\n",
            "See the caveats in the documentation: https://pandas.pydata.org/pandas-docs/stable/user_guide/indexing.html#returning-a-view-versus-a-copy\n",
            "  errors=errors,\n"
          ]
        }
      ]
    },
    {
      "cell_type": "code",
      "source": [
        "dataset['charged_off'].unique()"
      ],
      "metadata": {
        "colab": {
          "base_uri": "https://localhost:8080/"
        },
        "id": "dJ04Tb3ov0Gy",
        "outputId": "84147897-f5bb-4abe-d5df-9dde49cebcea"
      },
      "execution_count": 14,
      "outputs": [
        {
          "output_type": "execute_result",
          "data": {
            "text/plain": [
              "array([0, 1], dtype=int8)"
            ]
          },
          "metadata": {},
          "execution_count": 14
        }
      ]
    },
    {
      "cell_type": "markdown",
      "metadata": {
        "id": "9Jj-bO9sDEJp"
      },
      "source": [
        "## Feature Selection"
      ]
    },
    {
      "cell_type": "markdown",
      "metadata": {
        "id": "0JpPe3uHomRg"
      },
      "source": [
        "Dada la cantidad de variables, en esta ocasion reduciremos el numero de variables antes de continuar."
      ]
    },
    {
      "cell_type": "markdown",
      "metadata": {
        "id": "bPURqGaUEJnK"
      },
      "source": [
        "Nuestra base de datos tiene 150 variables y 100 mil observaciones. Seria conveniente reducir la dimensionalidad. Sugerimos 4 criterios de **eliminacion**:\n",
        "+ Baja correlacion con la variable objetivo C(X,Y)\n",
        "+ Alta correlacion entre ellas (regresores) Cor(X,X)\n",
        "+ Muchos Missings/NAs\n",
        "+ Conocimiento del fenomeno/negocio "
      ]
    },
    {
      "cell_type": "markdown",
      "metadata": {
        "id": "6XdR-LBfHIEd"
      },
      "source": [
        "### Baja correlacion con el objetivo"
      ]
    },
    {
      "cell_type": "markdown",
      "metadata": {
        "id": "F0eClpu1m8S5"
      },
      "source": [
        "Una baja correlacion con el objetivo implica que explica poco."
      ]
    },
    {
      "cell_type": "code",
      "metadata": {
        "id": "uWts4N5XHLBl"
      },
      "source": [
        "correlacion = dataset.corr()\n",
        "correlacion_y = abs(correlacion['charged_off'])"
      ],
      "execution_count": 15,
      "outputs": []
    },
    {
      "cell_type": "code",
      "metadata": {
        "colab": {
          "base_uri": "https://localhost:8080/"
        },
        "id": "hNp4Ll7pHbpY",
        "outputId": "01a39056-430e-4600-f392-affbfc1ec8e4"
      },
      "source": [
        "correlacion_y.sort_values(ascending=False).head(10)"
      ],
      "execution_count": 16,
      "outputs": [
        {
          "output_type": "execute_result",
          "data": {
            "text/plain": [
              "charged_off                     1.000000\n",
              "last_fico_range_high            0.660562\n",
              "last_fico_range_low             0.581378\n",
              "recoveries                      0.518975\n",
              "collection_recovery_fee         0.498298\n",
              "total_rec_prncp                 0.419395\n",
              "last_pymnt_amnt                 0.319081\n",
              "total_pymnt_inv                 0.296816\n",
              "total_pymnt                     0.296806\n",
              "hardship_last_payment_amount    0.287662\n",
              "Name: charged_off, dtype: float64"
            ]
          },
          "metadata": {},
          "execution_count": 16
        }
      ]
    },
    {
      "cell_type": "markdown",
      "metadata": {
        "id": "B-LPFsJ6HmAy"
      },
      "source": [
        "Los valores con NaNs es por que no tienen observaciones, las columnas estan llenas de missings."
      ]
    },
    {
      "cell_type": "code",
      "metadata": {
        "colab": {
          "base_uri": "https://localhost:8080/"
        },
        "id": "xIEPlmWpHUPq",
        "outputId": "2bac49e7-2310-402a-ceec-cd2ae732135d"
      },
      "source": [
        "correlacion_y.describe()"
      ],
      "execution_count": 17,
      "outputs": [
        {
          "output_type": "execute_result",
          "data": {
            "text/plain": [
              "count    77.000000\n",
              "mean      0.109109\n",
              "std       0.174861\n",
              "min       0.000392\n",
              "25%       0.008078\n",
              "50%       0.049426\n",
              "75%       0.088610\n",
              "max       1.000000\n",
              "Name: charged_off, dtype: float64"
            ]
          },
          "metadata": {},
          "execution_count": 17
        }
      ]
    },
    {
      "cell_type": "code",
      "metadata": {
        "colab": {
          "base_uri": "https://localhost:8080/"
        },
        "id": "mdWs49nXIVYK",
        "outputId": "a511b643-c05d-414b-bc0c-21df55405e57"
      },
      "source": [
        "drop_corr = sorted(list(correlacion_y[correlacion_y < 0.03].index))\n",
        "print(f'Numero de columnas a quitar {len(drop_corr)} \\n',drop_corr)"
      ],
      "execution_count": 18,
      "outputs": [
        {
          "output_type": "stream",
          "name": "stdout",
          "text": [
            "Numero de columnas a quitar 29 \n",
            " ['acc_now_delinq', 'chargeoff_within_12_mths', 'collections_12_mths_ex_med', 'delinq_2yrs', 'delinq_amnt', 'id', 'mo_sin_old_il_acct', 'mths_since_last_delinq', 'mths_since_last_major_derog', 'mths_since_last_record', 'mths_since_recent_bc_dlq', 'mths_since_recent_revol_delinq', 'num_accts_ever_120_pd', 'num_bc_sats', 'num_bc_tl', 'num_il_tl', 'num_rev_accts', 'num_tl_120dpd_2m', 'num_tl_30dpd', 'num_tl_90g_dpd_24m', 'pct_tl_nvr_dlq', 'pub_rec', 'pub_rec_bankruptcies', 'revol_bal', 'tax_liens', 'tot_coll_amt', 'total_acc', 'total_bal_ex_mort', 'total_il_high_credit_limit']\n"
          ]
        }
      ]
    },
    {
      "cell_type": "code",
      "metadata": {
        "colab": {
          "base_uri": "https://localhost:8080/"
        },
        "id": "MdBcZD3pl6fx",
        "outputId": "492b556f-483f-4e4d-b368-0693e41de50e"
      },
      "source": [
        "dataset.drop(labels=drop_corr, axis=1, inplace=True)\n",
        "dataset.shape"
      ],
      "execution_count": 19,
      "outputs": [
        {
          "output_type": "stream",
          "name": "stderr",
          "text": [
            "/usr/local/lib/python3.7/dist-packages/pandas/core/frame.py:4913: SettingWithCopyWarning: \n",
            "A value is trying to be set on a copy of a slice from a DataFrame\n",
            "\n",
            "See the caveats in the documentation: https://pandas.pydata.org/pandas-docs/stable/user_guide/indexing.html#returning-a-view-versus-a-copy\n",
            "  errors=errors,\n"
          ]
        },
        {
          "output_type": "execute_result",
          "data": {
            "text/plain": [
              "(86138, 121)"
            ]
          },
          "metadata": {},
          "execution_count": 19
        }
      ]
    },
    {
      "cell_type": "markdown",
      "metadata": {
        "id": "GaKRUI8gFTJg"
      },
      "source": [
        "### Eliminacion por Missings"
      ]
    },
    {
      "cell_type": "code",
      "metadata": {
        "colab": {
          "base_uri": "https://localhost:8080/"
        },
        "id": "394iqJVBFm8O",
        "outputId": "755df5ba-a33c-4403-f209-f17d4ead334b"
      },
      "source": [
        "missing_per = dataset.isnull().mean().sort_values(ascending=False)\n",
        "missing_per.head(15)"
      ],
      "execution_count": 20,
      "outputs": [
        {
          "output_type": "execute_result",
          "data": {
            "text/plain": [
              "member_id                    1.0\n",
              "total_cu_tl                  1.0\n",
              "dti_joint                    1.0\n",
              "verification_status_joint    1.0\n",
              "open_acc_6m                  1.0\n",
              "open_act_il                  1.0\n",
              "open_il_12m                  1.0\n",
              "open_il_24m                  1.0\n",
              "mths_since_rcnt_il           1.0\n",
              "total_bal_il                 1.0\n",
              "il_util                      1.0\n",
              "open_rv_12m                  1.0\n",
              "open_rv_24m                  1.0\n",
              "max_bal_bc                   1.0\n",
              "inq_fi                       1.0\n",
              "dtype: float64"
            ]
          },
          "metadata": {},
          "execution_count": 20
        }
      ]
    },
    {
      "cell_type": "markdown",
      "metadata": {
        "id": "Q1g0J5QqGUgd"
      },
      "source": [
        "La cota de .3 es totalmente arbitraria, una buena regla de dedo para este tipo de datos es entre .25 a .5, pero puede variar mucho."
      ]
    },
    {
      "cell_type": "code",
      "metadata": {
        "colab": {
          "base_uri": "https://localhost:8080/"
        },
        "id": "8zNgmZZWF99k",
        "outputId": "36eb77b1-2438-4823-ae8b-2cfc15b1fb32"
      },
      "source": [
        "drop_miss = sorted(list(missing_per[missing_per > 0.3].index))\n",
        "print(f'Numero de columnas a quitar {len(drop_miss)} \\n',drop_miss)"
      ],
      "execution_count": 21,
      "outputs": [
        {
          "output_type": "stream",
          "name": "stdout",
          "text": [
            "Numero de columnas a quitar 53 \n",
            " ['all_util', 'annual_inc_joint', 'debt_settlement_flag_date', 'deferral_term', 'desc', 'dti_joint', 'hardship_amount', 'hardship_dpd', 'hardship_end_date', 'hardship_last_payment_amount', 'hardship_length', 'hardship_loan_status', 'hardship_payoff_balance_amount', 'hardship_reason', 'hardship_start_date', 'hardship_status', 'hardship_type', 'il_util', 'inq_fi', 'inq_last_12m', 'max_bal_bc', 'member_id', 'mths_since_rcnt_il', 'next_pymnt_d', 'open_acc_6m', 'open_act_il', 'open_il_12m', 'open_il_24m', 'open_rv_12m', 'open_rv_24m', 'orig_projected_additional_accrued_interest', 'payment_plan_start_date', 'revol_bal_joint', 'sec_app_chargeoff_within_12_mths', 'sec_app_collections_12_mths_ex_med', 'sec_app_earliest_cr_line', 'sec_app_fico_range_high', 'sec_app_fico_range_low', 'sec_app_inq_last_6mths', 'sec_app_mort_acc', 'sec_app_mths_since_last_major_derog', 'sec_app_num_rev_accts', 'sec_app_open_acc', 'sec_app_open_act_il', 'sec_app_revol_util', 'settlement_amount', 'settlement_date', 'settlement_percentage', 'settlement_status', 'settlement_term', 'total_bal_il', 'total_cu_tl', 'verification_status_joint']\n"
          ]
        }
      ]
    },
    {
      "cell_type": "code",
      "metadata": {
        "colab": {
          "base_uri": "https://localhost:8080/"
        },
        "id": "C45Uxp1ZmaLe",
        "outputId": "f50a0902-7dc8-4aba-9b60-564db84da3c8"
      },
      "source": [
        "dataset.drop(labels=drop_miss, axis=1, inplace=True)\n",
        "dataset.shape"
      ],
      "execution_count": 22,
      "outputs": [
        {
          "output_type": "stream",
          "name": "stderr",
          "text": [
            "/usr/local/lib/python3.7/dist-packages/pandas/core/frame.py:4913: SettingWithCopyWarning: \n",
            "A value is trying to be set on a copy of a slice from a DataFrame\n",
            "\n",
            "See the caveats in the documentation: https://pandas.pydata.org/pandas-docs/stable/user_guide/indexing.html#returning-a-view-versus-a-copy\n",
            "  errors=errors,\n"
          ]
        },
        {
          "output_type": "execute_result",
          "data": {
            "text/plain": [
              "(86138, 68)"
            ]
          },
          "metadata": {},
          "execution_count": 22
        }
      ]
    },
    {
      "cell_type": "markdown",
      "metadata": {
        "id": "QGA5oVv7nnyq"
      },
      "source": [
        "### Conocimiento o Intuicion"
      ]
    },
    {
      "cell_type": "markdown",
      "metadata": {
        "id": "8eTAGCSk5ecc"
      },
      "source": [
        "Estas son algunas de las variables sugeridas por la comundiad de kaggle, sin embargo. Conviene que las revisemos nosotros manualmente.   \n",
        "Tambien devemos enfocarlos en eliminar leakages, y variables que no conoceremos *a priori*. Para ello tambien nos guiamos del siguiente documento:  [Credit Risk Analysis in Peer to Peer Lending Data set: Lending Club Club](https://digitalcommons.bard.edu/cgi/viewcontent.cgi?article=1299&context=senproj_s2019). Que es muy parecido al ejercicio que estamos realizando."
      ]
    },
    {
      "cell_type": "code",
      "metadata": {
        "colab": {
          "base_uri": "https://localhost:8080/"
        },
        "id": "RuXh11ydn2fv",
        "outputId": "1e84f263-9732-4e33-f8b8-c221076af2f4"
      },
      "source": [
        "print(sorted(dataset.columns))"
      ],
      "execution_count": 23,
      "outputs": [
        {
          "output_type": "stream",
          "name": "stdout",
          "text": [
            "['acc_open_past_24mths', 'addr_state', 'annual_inc', 'application_type', 'avg_cur_bal', 'bc_open_to_buy', 'bc_util', 'charged_off', 'collection_recovery_fee', 'debt_settlement_flag', 'disbursement_method', 'dti', 'earliest_cr_line', 'emp_length', 'emp_title', 'fico_range_high', 'fico_range_low', 'funded_amnt', 'funded_amnt_inv', 'grade', 'hardship_flag', 'home_ownership', 'initial_list_status', 'inq_last_6mths', 'installment', 'int_rate', 'issue_d', 'last_credit_pull_d', 'last_fico_range_high', 'last_fico_range_low', 'last_pymnt_amnt', 'last_pymnt_d', 'loan_amnt', 'mo_sin_old_rev_tl_op', 'mo_sin_rcnt_rev_tl_op', 'mo_sin_rcnt_tl', 'mort_acc', 'mths_since_recent_bc', 'mths_since_recent_inq', 'num_actv_bc_tl', 'num_actv_rev_tl', 'num_op_rev_tl', 'num_rev_tl_bal_gt_0', 'num_sats', 'num_tl_op_past_12m', 'open_acc', 'out_prncp', 'out_prncp_inv', 'percent_bc_gt_75', 'policy_code', 'purpose', 'pymnt_plan', 'recoveries', 'revol_util', 'sub_grade', 'term', 'title', 'tot_cur_bal', 'tot_hi_cred_lim', 'total_bc_limit', 'total_pymnt', 'total_pymnt_inv', 'total_rec_int', 'total_rec_late_fee', 'total_rec_prncp', 'total_rev_hi_lim', 'verification_status', 'zip_code']\n"
          ]
        }
      ]
    },
    {
      "cell_type": "code",
      "metadata": {
        "colab": {
          "base_uri": "https://localhost:8080/"
        },
        "id": "7vM-HF1_n-_E",
        "outputId": "0215d5a2-f12b-4b38-c68a-4c1304a00693"
      },
      "source": [
        "elegidas = ['charged_off','funded_amnt','addr_state', 'annual_inc',\n",
        "            'application_type', 'dti', 'earliest_cr_line', 'emp_length', \n",
        "            'emp_title', 'fico_range_high', 'fico_range_low', 'grade',\n",
        "            'home_ownership', 'initial_list_status', 'installment', \n",
        "            'int_rate', 'loan_amnt', 'loan_status', 'mort_acc', \n",
        "            'open_acc', 'pub_rec', 'pub_rec_bankruptcies', 'purpose', \n",
        "            'revol_bal', 'revol_util', 'sub_grade', 'term', 'title', \n",
        "            'total_acc', 'verification_status', 'zip_code',\n",
        "            'last_pymnt_amnt','num_actv_rev_tl', 'mo_sin_rcnt_rev_tl_op',\n",
        "            'mo_sin_old_rev_tl_op',\"bc_util\",\"bc_open_to_buy\",\"avg_cur_bal\",\n",
        "            \"acc_open_past_24mths\" ]\n",
        "len(elegidas)"
      ],
      "execution_count": 24,
      "outputs": [
        {
          "output_type": "execute_result",
          "data": {
            "text/plain": [
              "39"
            ]
          },
          "metadata": {},
          "execution_count": 24
        }
      ]
    },
    {
      "cell_type": "code",
      "metadata": {
        "colab": {
          "base_uri": "https://localhost:8080/"
        },
        "id": "NON_qDMRoFze",
        "outputId": "37aca898-2b83-4b24-c3df-8b58216dd47b"
      },
      "source": [
        "drop_no_intuitivas = [col for col in dataset.columns if col not in elegidas]\n",
        "dataset.drop(labels=drop_no_intuitivas , axis=1, inplace=True)\n",
        "dataset.shape"
      ],
      "execution_count": 25,
      "outputs": [
        {
          "output_type": "stream",
          "name": "stderr",
          "text": [
            "/usr/local/lib/python3.7/dist-packages/pandas/core/frame.py:4913: SettingWithCopyWarning: \n",
            "A value is trying to be set on a copy of a slice from a DataFrame\n",
            "\n",
            "See the caveats in the documentation: https://pandas.pydata.org/pandas-docs/stable/user_guide/indexing.html#returning-a-view-versus-a-copy\n",
            "  errors=errors,\n"
          ]
        },
        {
          "output_type": "execute_result",
          "data": {
            "text/plain": [
              "(86138, 34)"
            ]
          },
          "metadata": {},
          "execution_count": 25
        }
      ]
    },
    {
      "cell_type": "markdown",
      "metadata": {
        "id": "Ax1U6iuXoa3x"
      },
      "source": [
        "## Feature Analysis & Eng"
      ]
    },
    {
      "cell_type": "markdown",
      "metadata": {
        "id": "OA_sACYVp6R8"
      },
      "source": [
        "Analisemos las variables que seleccionamos mas a detalle."
      ]
    },
    {
      "cell_type": "markdown",
      "metadata": {
        "id": "AkAnlnl1DoG9"
      },
      "source": [
        "Funcion Auxiliar para clasificar el tipo de variables."
      ]
    },
    {
      "cell_type": "code",
      "metadata": {
        "id": "-D8NcLR6DkaA"
      },
      "source": [
        "def _check_type(value):\n",
        "    ''' \n",
        "    Infiere si la variable es categorica o numerica\n",
        "    apartir del tipo\n",
        "    '''\n",
        "    if value==object:\n",
        "        return 'categorica'\n",
        "    elif value==bool:\n",
        "        return 'categorica' \n",
        "    elif value=='int64':\n",
        "        return 'numerica'\n",
        "    elif value=='float64':\n",
        "        return 'numerica'"
      ],
      "execution_count": 26,
      "outputs": []
    },
    {
      "cell_type": "markdown",
      "metadata": {
        "id": "vlDe3ziNDsU7"
      },
      "source": [
        "Obtengamos el tipo de cada variable"
      ]
    },
    {
      "cell_type": "code",
      "metadata": {
        "colab": {
          "base_uri": "https://localhost:8080/",
          "height": 206
        },
        "id": "N5ejgXUVDrzW",
        "outputId": "3405d97e-cc2f-4b7a-83cb-7582ea648a0b"
      },
      "source": [
        "feature_type = pd.DataFrame(dataset.dtypes)\n",
        "feature_type[0] = feature_type[0].apply(lambda x: _check_type(x))\n",
        "feature_type.reset_index(inplace=True)\n",
        "feature_type.rename(columns={'index':'feature',0:'tipo'},inplace=True)\n",
        "feature_type.head()"
      ],
      "execution_count": 27,
      "outputs": [
        {
          "output_type": "execute_result",
          "data": {
            "text/plain": [
              "       feature        tipo\n",
              "0    loan_amnt    numerica\n",
              "1  funded_amnt    numerica\n",
              "2         term  categorica\n",
              "3     int_rate    numerica\n",
              "4  installment    numerica"
            ],
            "text/html": [
              "\n",
              "  <div id=\"df-7a609ab8-d99a-473c-93a4-bd843b35f7f2\">\n",
              "    <div class=\"colab-df-container\">\n",
              "      <div>\n",
              "<style scoped>\n",
              "    .dataframe tbody tr th:only-of-type {\n",
              "        vertical-align: middle;\n",
              "    }\n",
              "\n",
              "    .dataframe tbody tr th {\n",
              "        vertical-align: top;\n",
              "    }\n",
              "\n",
              "    .dataframe thead th {\n",
              "        text-align: right;\n",
              "    }\n",
              "</style>\n",
              "<table border=\"1\" class=\"dataframe\">\n",
              "  <thead>\n",
              "    <tr style=\"text-align: right;\">\n",
              "      <th></th>\n",
              "      <th>feature</th>\n",
              "      <th>tipo</th>\n",
              "    </tr>\n",
              "  </thead>\n",
              "  <tbody>\n",
              "    <tr>\n",
              "      <th>0</th>\n",
              "      <td>loan_amnt</td>\n",
              "      <td>numerica</td>\n",
              "    </tr>\n",
              "    <tr>\n",
              "      <th>1</th>\n",
              "      <td>funded_amnt</td>\n",
              "      <td>numerica</td>\n",
              "    </tr>\n",
              "    <tr>\n",
              "      <th>2</th>\n",
              "      <td>term</td>\n",
              "      <td>categorica</td>\n",
              "    </tr>\n",
              "    <tr>\n",
              "      <th>3</th>\n",
              "      <td>int_rate</td>\n",
              "      <td>numerica</td>\n",
              "    </tr>\n",
              "    <tr>\n",
              "      <th>4</th>\n",
              "      <td>installment</td>\n",
              "      <td>numerica</td>\n",
              "    </tr>\n",
              "  </tbody>\n",
              "</table>\n",
              "</div>\n",
              "      <button class=\"colab-df-convert\" onclick=\"convertToInteractive('df-7a609ab8-d99a-473c-93a4-bd843b35f7f2')\"\n",
              "              title=\"Convert this dataframe to an interactive table.\"\n",
              "              style=\"display:none;\">\n",
              "        \n",
              "  <svg xmlns=\"http://www.w3.org/2000/svg\" height=\"24px\"viewBox=\"0 0 24 24\"\n",
              "       width=\"24px\">\n",
              "    <path d=\"M0 0h24v24H0V0z\" fill=\"none\"/>\n",
              "    <path d=\"M18.56 5.44l.94 2.06.94-2.06 2.06-.94-2.06-.94-.94-2.06-.94 2.06-2.06.94zm-11 1L8.5 8.5l.94-2.06 2.06-.94-2.06-.94L8.5 2.5l-.94 2.06-2.06.94zm10 10l.94 2.06.94-2.06 2.06-.94-2.06-.94-.94-2.06-.94 2.06-2.06.94z\"/><path d=\"M17.41 7.96l-1.37-1.37c-.4-.4-.92-.59-1.43-.59-.52 0-1.04.2-1.43.59L10.3 9.45l-7.72 7.72c-.78.78-.78 2.05 0 2.83L4 21.41c.39.39.9.59 1.41.59.51 0 1.02-.2 1.41-.59l7.78-7.78 2.81-2.81c.8-.78.8-2.07 0-2.86zM5.41 20L4 18.59l7.72-7.72 1.47 1.35L5.41 20z\"/>\n",
              "  </svg>\n",
              "      </button>\n",
              "      \n",
              "  <style>\n",
              "    .colab-df-container {\n",
              "      display:flex;\n",
              "      flex-wrap:wrap;\n",
              "      gap: 12px;\n",
              "    }\n",
              "\n",
              "    .colab-df-convert {\n",
              "      background-color: #E8F0FE;\n",
              "      border: none;\n",
              "      border-radius: 50%;\n",
              "      cursor: pointer;\n",
              "      display: none;\n",
              "      fill: #1967D2;\n",
              "      height: 32px;\n",
              "      padding: 0 0 0 0;\n",
              "      width: 32px;\n",
              "    }\n",
              "\n",
              "    .colab-df-convert:hover {\n",
              "      background-color: #E2EBFA;\n",
              "      box-shadow: 0px 1px 2px rgba(60, 64, 67, 0.3), 0px 1px 3px 1px rgba(60, 64, 67, 0.15);\n",
              "      fill: #174EA6;\n",
              "    }\n",
              "\n",
              "    [theme=dark] .colab-df-convert {\n",
              "      background-color: #3B4455;\n",
              "      fill: #D2E3FC;\n",
              "    }\n",
              "\n",
              "    [theme=dark] .colab-df-convert:hover {\n",
              "      background-color: #434B5C;\n",
              "      box-shadow: 0px 1px 3px 1px rgba(0, 0, 0, 0.15);\n",
              "      filter: drop-shadow(0px 1px 2px rgba(0, 0, 0, 0.3));\n",
              "      fill: #FFFFFF;\n",
              "    }\n",
              "  </style>\n",
              "\n",
              "      <script>\n",
              "        const buttonEl =\n",
              "          document.querySelector('#df-7a609ab8-d99a-473c-93a4-bd843b35f7f2 button.colab-df-convert');\n",
              "        buttonEl.style.display =\n",
              "          google.colab.kernel.accessAllowed ? 'block' : 'none';\n",
              "\n",
              "        async function convertToInteractive(key) {\n",
              "          const element = document.querySelector('#df-7a609ab8-d99a-473c-93a4-bd843b35f7f2');\n",
              "          const dataTable =\n",
              "            await google.colab.kernel.invokeFunction('convertToInteractive',\n",
              "                                                     [key], {});\n",
              "          if (!dataTable) return;\n",
              "\n",
              "          const docLinkHtml = 'Like what you see? Visit the ' +\n",
              "            '<a target=\"_blank\" href=https://colab.research.google.com/notebooks/data_table.ipynb>data table notebook</a>'\n",
              "            + ' to learn more about interactive tables.';\n",
              "          element.innerHTML = '';\n",
              "          dataTable['output_type'] = 'display_data';\n",
              "          await google.colab.output.renderOutput(dataTable, element);\n",
              "          const docLink = document.createElement('div');\n",
              "          docLink.innerHTML = docLinkHtml;\n",
              "          element.appendChild(docLink);\n",
              "        }\n",
              "      </script>\n",
              "    </div>\n",
              "  </div>\n",
              "  "
            ]
          },
          "metadata": {},
          "execution_count": 27
        }
      ]
    },
    {
      "cell_type": "markdown",
      "metadata": {
        "id": "MmRGZmV8oxuF"
      },
      "source": [
        "### Variables Categoricas"
      ]
    },
    {
      "cell_type": "code",
      "metadata": {
        "colab": {
          "base_uri": "https://localhost:8080/"
        },
        "id": "Kbn1WAGIC6NH",
        "outputId": "fc4285e6-0f95-4229-c6ef-7dd37c075561"
      },
      "source": [
        "features_cat = feature_type[feature_type['tipo']=='categorica']['feature']\n",
        "features_cat = list(features_cat)\n",
        "features_cat"
      ],
      "execution_count": 28,
      "outputs": [
        {
          "output_type": "execute_result",
          "data": {
            "text/plain": [
              "['term',\n",
              " 'grade',\n",
              " 'sub_grade',\n",
              " 'emp_title',\n",
              " 'emp_length',\n",
              " 'home_ownership',\n",
              " 'verification_status',\n",
              " 'purpose',\n",
              " 'title',\n",
              " 'zip_code',\n",
              " 'addr_state',\n",
              " 'earliest_cr_line',\n",
              " 'initial_list_status',\n",
              " 'application_type']"
            ]
          },
          "metadata": {},
          "execution_count": 28
        }
      ]
    },
    {
      "cell_type": "markdown",
      "metadata": {
        "id": "OehJ89WEUFkO"
      },
      "source": [
        "#### Seleccion de Variables Categoricas a explorar"
      ]
    },
    {
      "cell_type": "code",
      "metadata": {
        "colab": {
          "base_uri": "https://localhost:8080/",
          "height": 256
        },
        "id": "ZCqWh4elDXkW",
        "outputId": "a129a245-5e50-41da-957c-750b4994dc0e"
      },
      "source": [
        "# Lista de variables categoricas a eliminar\n",
        "cat_eliminar = []\n",
        "dataset[features_cat].describe()"
      ],
      "execution_count": 29,
      "outputs": [
        {
          "output_type": "execute_result",
          "data": {
            "text/plain": [
              "              term  grade sub_grade emp_title emp_length home_ownership  \\\n",
              "count        86138  86138     86138     81416      81421          86138   \n",
              "unique           2      7        35     32987         11              4   \n",
              "top      36 months      C        C1   Teacher  10+ years       MORTGAGE   \n",
              "freq         67507  23242      5217      1576      28177          41785   \n",
              "\n",
              "       verification_status             purpose               title zip_code  \\\n",
              "count                86138               86138               86138    86138   \n",
              "unique                   3                  13                  20      846   \n",
              "top        Source Verified  debt_consolidation  Debt consolidation    750xx   \n",
              "freq                 34041               52968               52990      954   \n",
              "\n",
              "       addr_state earliest_cr_line initial_list_status application_type  \n",
              "count       86138            86138               86138            86138  \n",
              "unique         46              598                   2                1  \n",
              "top            CA         Aug-2001                   w       Individual  \n",
              "freq        12571              744               43882            86138  "
            ],
            "text/html": [
              "\n",
              "  <div id=\"df-4b6bc958-171d-41ef-ac12-236a99b3cf18\">\n",
              "    <div class=\"colab-df-container\">\n",
              "      <div>\n",
              "<style scoped>\n",
              "    .dataframe tbody tr th:only-of-type {\n",
              "        vertical-align: middle;\n",
              "    }\n",
              "\n",
              "    .dataframe tbody tr th {\n",
              "        vertical-align: top;\n",
              "    }\n",
              "\n",
              "    .dataframe thead th {\n",
              "        text-align: right;\n",
              "    }\n",
              "</style>\n",
              "<table border=\"1\" class=\"dataframe\">\n",
              "  <thead>\n",
              "    <tr style=\"text-align: right;\">\n",
              "      <th></th>\n",
              "      <th>term</th>\n",
              "      <th>grade</th>\n",
              "      <th>sub_grade</th>\n",
              "      <th>emp_title</th>\n",
              "      <th>emp_length</th>\n",
              "      <th>home_ownership</th>\n",
              "      <th>verification_status</th>\n",
              "      <th>purpose</th>\n",
              "      <th>title</th>\n",
              "      <th>zip_code</th>\n",
              "      <th>addr_state</th>\n",
              "      <th>earliest_cr_line</th>\n",
              "      <th>initial_list_status</th>\n",
              "      <th>application_type</th>\n",
              "    </tr>\n",
              "  </thead>\n",
              "  <tbody>\n",
              "    <tr>\n",
              "      <th>count</th>\n",
              "      <td>86138</td>\n",
              "      <td>86138</td>\n",
              "      <td>86138</td>\n",
              "      <td>81416</td>\n",
              "      <td>81421</td>\n",
              "      <td>86138</td>\n",
              "      <td>86138</td>\n",
              "      <td>86138</td>\n",
              "      <td>86138</td>\n",
              "      <td>86138</td>\n",
              "      <td>86138</td>\n",
              "      <td>86138</td>\n",
              "      <td>86138</td>\n",
              "      <td>86138</td>\n",
              "    </tr>\n",
              "    <tr>\n",
              "      <th>unique</th>\n",
              "      <td>2</td>\n",
              "      <td>7</td>\n",
              "      <td>35</td>\n",
              "      <td>32987</td>\n",
              "      <td>11</td>\n",
              "      <td>4</td>\n",
              "      <td>3</td>\n",
              "      <td>13</td>\n",
              "      <td>20</td>\n",
              "      <td>846</td>\n",
              "      <td>46</td>\n",
              "      <td>598</td>\n",
              "      <td>2</td>\n",
              "      <td>1</td>\n",
              "    </tr>\n",
              "    <tr>\n",
              "      <th>top</th>\n",
              "      <td>36 months</td>\n",
              "      <td>C</td>\n",
              "      <td>C1</td>\n",
              "      <td>Teacher</td>\n",
              "      <td>10+ years</td>\n",
              "      <td>MORTGAGE</td>\n",
              "      <td>Source Verified</td>\n",
              "      <td>debt_consolidation</td>\n",
              "      <td>Debt consolidation</td>\n",
              "      <td>750xx</td>\n",
              "      <td>CA</td>\n",
              "      <td>Aug-2001</td>\n",
              "      <td>w</td>\n",
              "      <td>Individual</td>\n",
              "    </tr>\n",
              "    <tr>\n",
              "      <th>freq</th>\n",
              "      <td>67507</td>\n",
              "      <td>23242</td>\n",
              "      <td>5217</td>\n",
              "      <td>1576</td>\n",
              "      <td>28177</td>\n",
              "      <td>41785</td>\n",
              "      <td>34041</td>\n",
              "      <td>52968</td>\n",
              "      <td>52990</td>\n",
              "      <td>954</td>\n",
              "      <td>12571</td>\n",
              "      <td>744</td>\n",
              "      <td>43882</td>\n",
              "      <td>86138</td>\n",
              "    </tr>\n",
              "  </tbody>\n",
              "</table>\n",
              "</div>\n",
              "      <button class=\"colab-df-convert\" onclick=\"convertToInteractive('df-4b6bc958-171d-41ef-ac12-236a99b3cf18')\"\n",
              "              title=\"Convert this dataframe to an interactive table.\"\n",
              "              style=\"display:none;\">\n",
              "        \n",
              "  <svg xmlns=\"http://www.w3.org/2000/svg\" height=\"24px\"viewBox=\"0 0 24 24\"\n",
              "       width=\"24px\">\n",
              "    <path d=\"M0 0h24v24H0V0z\" fill=\"none\"/>\n",
              "    <path d=\"M18.56 5.44l.94 2.06.94-2.06 2.06-.94-2.06-.94-.94-2.06-.94 2.06-2.06.94zm-11 1L8.5 8.5l.94-2.06 2.06-.94-2.06-.94L8.5 2.5l-.94 2.06-2.06.94zm10 10l.94 2.06.94-2.06 2.06-.94-2.06-.94-.94-2.06-.94 2.06-2.06.94z\"/><path d=\"M17.41 7.96l-1.37-1.37c-.4-.4-.92-.59-1.43-.59-.52 0-1.04.2-1.43.59L10.3 9.45l-7.72 7.72c-.78.78-.78 2.05 0 2.83L4 21.41c.39.39.9.59 1.41.59.51 0 1.02-.2 1.41-.59l7.78-7.78 2.81-2.81c.8-.78.8-2.07 0-2.86zM5.41 20L4 18.59l7.72-7.72 1.47 1.35L5.41 20z\"/>\n",
              "  </svg>\n",
              "      </button>\n",
              "      \n",
              "  <style>\n",
              "    .colab-df-container {\n",
              "      display:flex;\n",
              "      flex-wrap:wrap;\n",
              "      gap: 12px;\n",
              "    }\n",
              "\n",
              "    .colab-df-convert {\n",
              "      background-color: #E8F0FE;\n",
              "      border: none;\n",
              "      border-radius: 50%;\n",
              "      cursor: pointer;\n",
              "      display: none;\n",
              "      fill: #1967D2;\n",
              "      height: 32px;\n",
              "      padding: 0 0 0 0;\n",
              "      width: 32px;\n",
              "    }\n",
              "\n",
              "    .colab-df-convert:hover {\n",
              "      background-color: #E2EBFA;\n",
              "      box-shadow: 0px 1px 2px rgba(60, 64, 67, 0.3), 0px 1px 3px 1px rgba(60, 64, 67, 0.15);\n",
              "      fill: #174EA6;\n",
              "    }\n",
              "\n",
              "    [theme=dark] .colab-df-convert {\n",
              "      background-color: #3B4455;\n",
              "      fill: #D2E3FC;\n",
              "    }\n",
              "\n",
              "    [theme=dark] .colab-df-convert:hover {\n",
              "      background-color: #434B5C;\n",
              "      box-shadow: 0px 1px 3px 1px rgba(0, 0, 0, 0.15);\n",
              "      filter: drop-shadow(0px 1px 2px rgba(0, 0, 0, 0.3));\n",
              "      fill: #FFFFFF;\n",
              "    }\n",
              "  </style>\n",
              "\n",
              "      <script>\n",
              "        const buttonEl =\n",
              "          document.querySelector('#df-4b6bc958-171d-41ef-ac12-236a99b3cf18 button.colab-df-convert');\n",
              "        buttonEl.style.display =\n",
              "          google.colab.kernel.accessAllowed ? 'block' : 'none';\n",
              "\n",
              "        async function convertToInteractive(key) {\n",
              "          const element = document.querySelector('#df-4b6bc958-171d-41ef-ac12-236a99b3cf18');\n",
              "          const dataTable =\n",
              "            await google.colab.kernel.invokeFunction('convertToInteractive',\n",
              "                                                     [key], {});\n",
              "          if (!dataTable) return;\n",
              "\n",
              "          const docLinkHtml = 'Like what you see? Visit the ' +\n",
              "            '<a target=\"_blank\" href=https://colab.research.google.com/notebooks/data_table.ipynb>data table notebook</a>'\n",
              "            + ' to learn more about interactive tables.';\n",
              "          element.innerHTML = '';\n",
              "          dataTable['output_type'] = 'display_data';\n",
              "          await google.colab.output.renderOutput(dataTable, element);\n",
              "          const docLink = document.createElement('div');\n",
              "          docLink.innerHTML = docLinkHtml;\n",
              "          element.appendChild(docLink);\n",
              "        }\n",
              "      </script>\n",
              "    </div>\n",
              "  </div>\n",
              "  "
            ]
          },
          "metadata": {},
          "execution_count": 29
        }
      ]
    },
    {
      "cell_type": "code",
      "metadata": {
        "colab": {
          "base_uri": "https://localhost:8080/"
        },
        "id": "jF319Cq9KLlo",
        "outputId": "23e7846e-dd69-40d0-8b47-38d32c71c5ca"
      },
      "source": [
        "dataset['application_type'].unique()"
      ],
      "execution_count": 30,
      "outputs": [
        {
          "output_type": "execute_result",
          "data": {
            "text/plain": [
              "array(['Individual'], dtype=object)"
            ]
          },
          "metadata": {},
          "execution_count": 30
        }
      ]
    },
    {
      "cell_type": "markdown",
      "metadata": {
        "id": "sVaMR3swFm4z"
      },
      "source": [
        "Eliminemos `application type` pues solo tiene un valor. Es inutil para predecir."
      ]
    },
    {
      "cell_type": "markdown",
      "metadata": {
        "id": "M09NO6mMGXov"
      },
      "source": [
        "Eliminemos `emp_title`, `zip_code` pues tienen muchos valores, y hacer one-hot encoding (dummies) aumentaria sustancialmente el numero de variables. En escencia podrian ser variables muy utilies, pero requieren de un tratamiento mas cuidadoso que es mejor dejar para otra ocasion. "
      ]
    },
    {
      "cell_type": "code",
      "metadata": {
        "id": "yTcMZpakKmM3"
      },
      "source": [
        "cat_eliminar = cat_eliminar + ['emp_title', 'zip_code', 'application_type']"
      ],
      "execution_count": 31,
      "outputs": []
    },
    {
      "cell_type": "code",
      "metadata": {
        "colab": {
          "base_uri": "https://localhost:8080/",
          "height": 256
        },
        "id": "oc9rwb0gK3M-",
        "outputId": "e0f88a73-5702-4da6-b18c-cec8f6a9ec3a"
      },
      "source": [
        "# Para mejorar la visualizacion de las variables categoricas que nos quedan\n",
        "# por analizar\n",
        "features_cat = [f for f in features_cat if f not in cat_eliminar]\n",
        "dataset[features_cat].describe()"
      ],
      "execution_count": 32,
      "outputs": [
        {
          "output_type": "execute_result",
          "data": {
            "text/plain": [
              "              term  grade sub_grade emp_length home_ownership  \\\n",
              "count        86138  86138     86138      81421          86138   \n",
              "unique           2      7        35         11              4   \n",
              "top      36 months      C        C1  10+ years       MORTGAGE   \n",
              "freq         67507  23242      5217      28177          41785   \n",
              "\n",
              "       verification_status             purpose               title addr_state  \\\n",
              "count                86138               86138               86138      86138   \n",
              "unique                   3                  13                  20         46   \n",
              "top        Source Verified  debt_consolidation  Debt consolidation         CA   \n",
              "freq                 34041               52968               52990      12571   \n",
              "\n",
              "       earliest_cr_line initial_list_status  \n",
              "count             86138               86138  \n",
              "unique              598                   2  \n",
              "top            Aug-2001                   w  \n",
              "freq                744               43882  "
            ],
            "text/html": [
              "\n",
              "  <div id=\"df-ec90d5e6-06a2-47d6-9b70-77b482019f90\">\n",
              "    <div class=\"colab-df-container\">\n",
              "      <div>\n",
              "<style scoped>\n",
              "    .dataframe tbody tr th:only-of-type {\n",
              "        vertical-align: middle;\n",
              "    }\n",
              "\n",
              "    .dataframe tbody tr th {\n",
              "        vertical-align: top;\n",
              "    }\n",
              "\n",
              "    .dataframe thead th {\n",
              "        text-align: right;\n",
              "    }\n",
              "</style>\n",
              "<table border=\"1\" class=\"dataframe\">\n",
              "  <thead>\n",
              "    <tr style=\"text-align: right;\">\n",
              "      <th></th>\n",
              "      <th>term</th>\n",
              "      <th>grade</th>\n",
              "      <th>sub_grade</th>\n",
              "      <th>emp_length</th>\n",
              "      <th>home_ownership</th>\n",
              "      <th>verification_status</th>\n",
              "      <th>purpose</th>\n",
              "      <th>title</th>\n",
              "      <th>addr_state</th>\n",
              "      <th>earliest_cr_line</th>\n",
              "      <th>initial_list_status</th>\n",
              "    </tr>\n",
              "  </thead>\n",
              "  <tbody>\n",
              "    <tr>\n",
              "      <th>count</th>\n",
              "      <td>86138</td>\n",
              "      <td>86138</td>\n",
              "      <td>86138</td>\n",
              "      <td>81421</td>\n",
              "      <td>86138</td>\n",
              "      <td>86138</td>\n",
              "      <td>86138</td>\n",
              "      <td>86138</td>\n",
              "      <td>86138</td>\n",
              "      <td>86138</td>\n",
              "      <td>86138</td>\n",
              "    </tr>\n",
              "    <tr>\n",
              "      <th>unique</th>\n",
              "      <td>2</td>\n",
              "      <td>7</td>\n",
              "      <td>35</td>\n",
              "      <td>11</td>\n",
              "      <td>4</td>\n",
              "      <td>3</td>\n",
              "      <td>13</td>\n",
              "      <td>20</td>\n",
              "      <td>46</td>\n",
              "      <td>598</td>\n",
              "      <td>2</td>\n",
              "    </tr>\n",
              "    <tr>\n",
              "      <th>top</th>\n",
              "      <td>36 months</td>\n",
              "      <td>C</td>\n",
              "      <td>C1</td>\n",
              "      <td>10+ years</td>\n",
              "      <td>MORTGAGE</td>\n",
              "      <td>Source Verified</td>\n",
              "      <td>debt_consolidation</td>\n",
              "      <td>Debt consolidation</td>\n",
              "      <td>CA</td>\n",
              "      <td>Aug-2001</td>\n",
              "      <td>w</td>\n",
              "    </tr>\n",
              "    <tr>\n",
              "      <th>freq</th>\n",
              "      <td>67507</td>\n",
              "      <td>23242</td>\n",
              "      <td>5217</td>\n",
              "      <td>28177</td>\n",
              "      <td>41785</td>\n",
              "      <td>34041</td>\n",
              "      <td>52968</td>\n",
              "      <td>52990</td>\n",
              "      <td>12571</td>\n",
              "      <td>744</td>\n",
              "      <td>43882</td>\n",
              "    </tr>\n",
              "  </tbody>\n",
              "</table>\n",
              "</div>\n",
              "      <button class=\"colab-df-convert\" onclick=\"convertToInteractive('df-ec90d5e6-06a2-47d6-9b70-77b482019f90')\"\n",
              "              title=\"Convert this dataframe to an interactive table.\"\n",
              "              style=\"display:none;\">\n",
              "        \n",
              "  <svg xmlns=\"http://www.w3.org/2000/svg\" height=\"24px\"viewBox=\"0 0 24 24\"\n",
              "       width=\"24px\">\n",
              "    <path d=\"M0 0h24v24H0V0z\" fill=\"none\"/>\n",
              "    <path d=\"M18.56 5.44l.94 2.06.94-2.06 2.06-.94-2.06-.94-.94-2.06-.94 2.06-2.06.94zm-11 1L8.5 8.5l.94-2.06 2.06-.94-2.06-.94L8.5 2.5l-.94 2.06-2.06.94zm10 10l.94 2.06.94-2.06 2.06-.94-2.06-.94-.94-2.06-.94 2.06-2.06.94z\"/><path d=\"M17.41 7.96l-1.37-1.37c-.4-.4-.92-.59-1.43-.59-.52 0-1.04.2-1.43.59L10.3 9.45l-7.72 7.72c-.78.78-.78 2.05 0 2.83L4 21.41c.39.39.9.59 1.41.59.51 0 1.02-.2 1.41-.59l7.78-7.78 2.81-2.81c.8-.78.8-2.07 0-2.86zM5.41 20L4 18.59l7.72-7.72 1.47 1.35L5.41 20z\"/>\n",
              "  </svg>\n",
              "      </button>\n",
              "      \n",
              "  <style>\n",
              "    .colab-df-container {\n",
              "      display:flex;\n",
              "      flex-wrap:wrap;\n",
              "      gap: 12px;\n",
              "    }\n",
              "\n",
              "    .colab-df-convert {\n",
              "      background-color: #E8F0FE;\n",
              "      border: none;\n",
              "      border-radius: 50%;\n",
              "      cursor: pointer;\n",
              "      display: none;\n",
              "      fill: #1967D2;\n",
              "      height: 32px;\n",
              "      padding: 0 0 0 0;\n",
              "      width: 32px;\n",
              "    }\n",
              "\n",
              "    .colab-df-convert:hover {\n",
              "      background-color: #E2EBFA;\n",
              "      box-shadow: 0px 1px 2px rgba(60, 64, 67, 0.3), 0px 1px 3px 1px rgba(60, 64, 67, 0.15);\n",
              "      fill: #174EA6;\n",
              "    }\n",
              "\n",
              "    [theme=dark] .colab-df-convert {\n",
              "      background-color: #3B4455;\n",
              "      fill: #D2E3FC;\n",
              "    }\n",
              "\n",
              "    [theme=dark] .colab-df-convert:hover {\n",
              "      background-color: #434B5C;\n",
              "      box-shadow: 0px 1px 3px 1px rgba(0, 0, 0, 0.15);\n",
              "      filter: drop-shadow(0px 1px 2px rgba(0, 0, 0, 0.3));\n",
              "      fill: #FFFFFF;\n",
              "    }\n",
              "  </style>\n",
              "\n",
              "      <script>\n",
              "        const buttonEl =\n",
              "          document.querySelector('#df-ec90d5e6-06a2-47d6-9b70-77b482019f90 button.colab-df-convert');\n",
              "        buttonEl.style.display =\n",
              "          google.colab.kernel.accessAllowed ? 'block' : 'none';\n",
              "\n",
              "        async function convertToInteractive(key) {\n",
              "          const element = document.querySelector('#df-ec90d5e6-06a2-47d6-9b70-77b482019f90');\n",
              "          const dataTable =\n",
              "            await google.colab.kernel.invokeFunction('convertToInteractive',\n",
              "                                                     [key], {});\n",
              "          if (!dataTable) return;\n",
              "\n",
              "          const docLinkHtml = 'Like what you see? Visit the ' +\n",
              "            '<a target=\"_blank\" href=https://colab.research.google.com/notebooks/data_table.ipynb>data table notebook</a>'\n",
              "            + ' to learn more about interactive tables.';\n",
              "          element.innerHTML = '';\n",
              "          dataTable['output_type'] = 'display_data';\n",
              "          await google.colab.output.renderOutput(dataTable, element);\n",
              "          const docLink = document.createElement('div');\n",
              "          docLink.innerHTML = docLinkHtml;\n",
              "          element.appendChild(docLink);\n",
              "        }\n",
              "      </script>\n",
              "    </div>\n",
              "  </div>\n",
              "  "
            ]
          },
          "metadata": {},
          "execution_count": 32
        }
      ]
    },
    {
      "cell_type": "markdown",
      "metadata": {
        "id": "IDOMprxydsxC"
      },
      "source": [
        "+ `term`:  \"The number of payments on the loan. Values are in months and can be either 36 or 60. The 60 Months loans are more likelely to charge off.\"   \n",
        "Es la duracion del prestamo, facilmente podemos convertirla a dummy, pues toma solo dos valores."
      ]
    },
    {
      "cell_type": "markdown",
      "metadata": {
        "id": "wE3351fxL-yd"
      },
      "source": [
        "+ `purpose` y `title` que por la descripcion parecen tener valores similares."
      ]
    },
    {
      "cell_type": "code",
      "metadata": {
        "colab": {
          "base_uri": "https://localhost:8080/",
          "height": 423
        },
        "id": "zhnpfUaKF6Rb",
        "outputId": "343064ad-ca03-4513-ea10-4d11a174e57c"
      },
      "source": [
        "dataset[['title', 'purpose']].drop_duplicates()"
      ],
      "execution_count": 33,
      "outputs": [
        {
          "output_type": "execute_result",
          "data": {
            "text/plain": [
              "                         title             purpose\n",
              "0           Debt consolidation  debt_consolidation\n",
              "1      Credit card refinancing         credit_card\n",
              "6             Home improvement    home_improvement\n",
              "11                 Home buying               house\n",
              "16            Medical expenses             medical\n",
              "...                        ...                 ...\n",
              "82765                    Other    home_improvement\n",
              "94706              Home buying         credit_card\n",
              "95664                     mlue  debt_consolidation\n",
              "97405                    Other            vacation\n",
              "97719                 Vacation               other\n",
              "\n",
              "[68 rows x 2 columns]"
            ],
            "text/html": [
              "\n",
              "  <div id=\"df-2e8c99d4-5875-46b8-a738-2e91a9079293\">\n",
              "    <div class=\"colab-df-container\">\n",
              "      <div>\n",
              "<style scoped>\n",
              "    .dataframe tbody tr th:only-of-type {\n",
              "        vertical-align: middle;\n",
              "    }\n",
              "\n",
              "    .dataframe tbody tr th {\n",
              "        vertical-align: top;\n",
              "    }\n",
              "\n",
              "    .dataframe thead th {\n",
              "        text-align: right;\n",
              "    }\n",
              "</style>\n",
              "<table border=\"1\" class=\"dataframe\">\n",
              "  <thead>\n",
              "    <tr style=\"text-align: right;\">\n",
              "      <th></th>\n",
              "      <th>title</th>\n",
              "      <th>purpose</th>\n",
              "    </tr>\n",
              "  </thead>\n",
              "  <tbody>\n",
              "    <tr>\n",
              "      <th>0</th>\n",
              "      <td>Debt consolidation</td>\n",
              "      <td>debt_consolidation</td>\n",
              "    </tr>\n",
              "    <tr>\n",
              "      <th>1</th>\n",
              "      <td>Credit card refinancing</td>\n",
              "      <td>credit_card</td>\n",
              "    </tr>\n",
              "    <tr>\n",
              "      <th>6</th>\n",
              "      <td>Home improvement</td>\n",
              "      <td>home_improvement</td>\n",
              "    </tr>\n",
              "    <tr>\n",
              "      <th>11</th>\n",
              "      <td>Home buying</td>\n",
              "      <td>house</td>\n",
              "    </tr>\n",
              "    <tr>\n",
              "      <th>16</th>\n",
              "      <td>Medical expenses</td>\n",
              "      <td>medical</td>\n",
              "    </tr>\n",
              "    <tr>\n",
              "      <th>...</th>\n",
              "      <td>...</td>\n",
              "      <td>...</td>\n",
              "    </tr>\n",
              "    <tr>\n",
              "      <th>82765</th>\n",
              "      <td>Other</td>\n",
              "      <td>home_improvement</td>\n",
              "    </tr>\n",
              "    <tr>\n",
              "      <th>94706</th>\n",
              "      <td>Home buying</td>\n",
              "      <td>credit_card</td>\n",
              "    </tr>\n",
              "    <tr>\n",
              "      <th>95664</th>\n",
              "      <td>mlue</td>\n",
              "      <td>debt_consolidation</td>\n",
              "    </tr>\n",
              "    <tr>\n",
              "      <th>97405</th>\n",
              "      <td>Other</td>\n",
              "      <td>vacation</td>\n",
              "    </tr>\n",
              "    <tr>\n",
              "      <th>97719</th>\n",
              "      <td>Vacation</td>\n",
              "      <td>other</td>\n",
              "    </tr>\n",
              "  </tbody>\n",
              "</table>\n",
              "<p>68 rows × 2 columns</p>\n",
              "</div>\n",
              "      <button class=\"colab-df-convert\" onclick=\"convertToInteractive('df-2e8c99d4-5875-46b8-a738-2e91a9079293')\"\n",
              "              title=\"Convert this dataframe to an interactive table.\"\n",
              "              style=\"display:none;\">\n",
              "        \n",
              "  <svg xmlns=\"http://www.w3.org/2000/svg\" height=\"24px\"viewBox=\"0 0 24 24\"\n",
              "       width=\"24px\">\n",
              "    <path d=\"M0 0h24v24H0V0z\" fill=\"none\"/>\n",
              "    <path d=\"M18.56 5.44l.94 2.06.94-2.06 2.06-.94-2.06-.94-.94-2.06-.94 2.06-2.06.94zm-11 1L8.5 8.5l.94-2.06 2.06-.94-2.06-.94L8.5 2.5l-.94 2.06-2.06.94zm10 10l.94 2.06.94-2.06 2.06-.94-2.06-.94-.94-2.06-.94 2.06-2.06.94z\"/><path d=\"M17.41 7.96l-1.37-1.37c-.4-.4-.92-.59-1.43-.59-.52 0-1.04.2-1.43.59L10.3 9.45l-7.72 7.72c-.78.78-.78 2.05 0 2.83L4 21.41c.39.39.9.59 1.41.59.51 0 1.02-.2 1.41-.59l7.78-7.78 2.81-2.81c.8-.78.8-2.07 0-2.86zM5.41 20L4 18.59l7.72-7.72 1.47 1.35L5.41 20z\"/>\n",
              "  </svg>\n",
              "      </button>\n",
              "      \n",
              "  <style>\n",
              "    .colab-df-container {\n",
              "      display:flex;\n",
              "      flex-wrap:wrap;\n",
              "      gap: 12px;\n",
              "    }\n",
              "\n",
              "    .colab-df-convert {\n",
              "      background-color: #E8F0FE;\n",
              "      border: none;\n",
              "      border-radius: 50%;\n",
              "      cursor: pointer;\n",
              "      display: none;\n",
              "      fill: #1967D2;\n",
              "      height: 32px;\n",
              "      padding: 0 0 0 0;\n",
              "      width: 32px;\n",
              "    }\n",
              "\n",
              "    .colab-df-convert:hover {\n",
              "      background-color: #E2EBFA;\n",
              "      box-shadow: 0px 1px 2px rgba(60, 64, 67, 0.3), 0px 1px 3px 1px rgba(60, 64, 67, 0.15);\n",
              "      fill: #174EA6;\n",
              "    }\n",
              "\n",
              "    [theme=dark] .colab-df-convert {\n",
              "      background-color: #3B4455;\n",
              "      fill: #D2E3FC;\n",
              "    }\n",
              "\n",
              "    [theme=dark] .colab-df-convert:hover {\n",
              "      background-color: #434B5C;\n",
              "      box-shadow: 0px 1px 3px 1px rgba(0, 0, 0, 0.15);\n",
              "      filter: drop-shadow(0px 1px 2px rgba(0, 0, 0, 0.3));\n",
              "      fill: #FFFFFF;\n",
              "    }\n",
              "  </style>\n",
              "\n",
              "      <script>\n",
              "        const buttonEl =\n",
              "          document.querySelector('#df-2e8c99d4-5875-46b8-a738-2e91a9079293 button.colab-df-convert');\n",
              "        buttonEl.style.display =\n",
              "          google.colab.kernel.accessAllowed ? 'block' : 'none';\n",
              "\n",
              "        async function convertToInteractive(key) {\n",
              "          const element = document.querySelector('#df-2e8c99d4-5875-46b8-a738-2e91a9079293');\n",
              "          const dataTable =\n",
              "            await google.colab.kernel.invokeFunction('convertToInteractive',\n",
              "                                                     [key], {});\n",
              "          if (!dataTable) return;\n",
              "\n",
              "          const docLinkHtml = 'Like what you see? Visit the ' +\n",
              "            '<a target=\"_blank\" href=https://colab.research.google.com/notebooks/data_table.ipynb>data table notebook</a>'\n",
              "            + ' to learn more about interactive tables.';\n",
              "          element.innerHTML = '';\n",
              "          dataTable['output_type'] = 'display_data';\n",
              "          await google.colab.output.renderOutput(dataTable, element);\n",
              "          const docLink = document.createElement('div');\n",
              "          docLink.innerHTML = docLinkHtml;\n",
              "          element.appendChild(docLink);\n",
              "        }\n",
              "      </script>\n",
              "    </div>\n",
              "  </div>\n",
              "  "
            ]
          },
          "metadata": {},
          "execution_count": 33
        }
      ]
    },
    {
      "cell_type": "markdown",
      "metadata": {
        "id": "PtjVT7MTMTCF"
      },
      "source": [
        "+ `title` se parece a `purpose`, pero con menos valores, ademas de parecer mas certero. Elijamos `purpose` para mantener un modelo parsimonioso."
      ]
    },
    {
      "cell_type": "code",
      "metadata": {
        "colab": {
          "base_uri": "https://localhost:8080/",
          "height": 256
        },
        "id": "Y1niJsFyMVaL",
        "outputId": "006b87aa-69c8-4b15-9aa6-8a726332fc63"
      },
      "source": [
        "cat_eliminar = cat_eliminar + ['title']\n",
        "# Para facilitar la visualizacion\n",
        "features_cat = [f for f in features_cat if f not in cat_eliminar]\n",
        "dataset[features_cat].describe()"
      ],
      "execution_count": 34,
      "outputs": [
        {
          "output_type": "execute_result",
          "data": {
            "text/plain": [
              "              term  grade sub_grade emp_length home_ownership  \\\n",
              "count        86138  86138     86138      81421          86138   \n",
              "unique           2      7        35         11              4   \n",
              "top      36 months      C        C1  10+ years       MORTGAGE   \n",
              "freq         67507  23242      5217      28177          41785   \n",
              "\n",
              "       verification_status             purpose addr_state earliest_cr_line  \\\n",
              "count                86138               86138      86138            86138   \n",
              "unique                   3                  13         46              598   \n",
              "top        Source Verified  debt_consolidation         CA         Aug-2001   \n",
              "freq                 34041               52968      12571              744   \n",
              "\n",
              "       initial_list_status  \n",
              "count                86138  \n",
              "unique                   2  \n",
              "top                      w  \n",
              "freq                 43882  "
            ],
            "text/html": [
              "\n",
              "  <div id=\"df-2f992d0a-4d60-48f9-a0ad-b496558a2599\">\n",
              "    <div class=\"colab-df-container\">\n",
              "      <div>\n",
              "<style scoped>\n",
              "    .dataframe tbody tr th:only-of-type {\n",
              "        vertical-align: middle;\n",
              "    }\n",
              "\n",
              "    .dataframe tbody tr th {\n",
              "        vertical-align: top;\n",
              "    }\n",
              "\n",
              "    .dataframe thead th {\n",
              "        text-align: right;\n",
              "    }\n",
              "</style>\n",
              "<table border=\"1\" class=\"dataframe\">\n",
              "  <thead>\n",
              "    <tr style=\"text-align: right;\">\n",
              "      <th></th>\n",
              "      <th>term</th>\n",
              "      <th>grade</th>\n",
              "      <th>sub_grade</th>\n",
              "      <th>emp_length</th>\n",
              "      <th>home_ownership</th>\n",
              "      <th>verification_status</th>\n",
              "      <th>purpose</th>\n",
              "      <th>addr_state</th>\n",
              "      <th>earliest_cr_line</th>\n",
              "      <th>initial_list_status</th>\n",
              "    </tr>\n",
              "  </thead>\n",
              "  <tbody>\n",
              "    <tr>\n",
              "      <th>count</th>\n",
              "      <td>86138</td>\n",
              "      <td>86138</td>\n",
              "      <td>86138</td>\n",
              "      <td>81421</td>\n",
              "      <td>86138</td>\n",
              "      <td>86138</td>\n",
              "      <td>86138</td>\n",
              "      <td>86138</td>\n",
              "      <td>86138</td>\n",
              "      <td>86138</td>\n",
              "    </tr>\n",
              "    <tr>\n",
              "      <th>unique</th>\n",
              "      <td>2</td>\n",
              "      <td>7</td>\n",
              "      <td>35</td>\n",
              "      <td>11</td>\n",
              "      <td>4</td>\n",
              "      <td>3</td>\n",
              "      <td>13</td>\n",
              "      <td>46</td>\n",
              "      <td>598</td>\n",
              "      <td>2</td>\n",
              "    </tr>\n",
              "    <tr>\n",
              "      <th>top</th>\n",
              "      <td>36 months</td>\n",
              "      <td>C</td>\n",
              "      <td>C1</td>\n",
              "      <td>10+ years</td>\n",
              "      <td>MORTGAGE</td>\n",
              "      <td>Source Verified</td>\n",
              "      <td>debt_consolidation</td>\n",
              "      <td>CA</td>\n",
              "      <td>Aug-2001</td>\n",
              "      <td>w</td>\n",
              "    </tr>\n",
              "    <tr>\n",
              "      <th>freq</th>\n",
              "      <td>67507</td>\n",
              "      <td>23242</td>\n",
              "      <td>5217</td>\n",
              "      <td>28177</td>\n",
              "      <td>41785</td>\n",
              "      <td>34041</td>\n",
              "      <td>52968</td>\n",
              "      <td>12571</td>\n",
              "      <td>744</td>\n",
              "      <td>43882</td>\n",
              "    </tr>\n",
              "  </tbody>\n",
              "</table>\n",
              "</div>\n",
              "      <button class=\"colab-df-convert\" onclick=\"convertToInteractive('df-2f992d0a-4d60-48f9-a0ad-b496558a2599')\"\n",
              "              title=\"Convert this dataframe to an interactive table.\"\n",
              "              style=\"display:none;\">\n",
              "        \n",
              "  <svg xmlns=\"http://www.w3.org/2000/svg\" height=\"24px\"viewBox=\"0 0 24 24\"\n",
              "       width=\"24px\">\n",
              "    <path d=\"M0 0h24v24H0V0z\" fill=\"none\"/>\n",
              "    <path d=\"M18.56 5.44l.94 2.06.94-2.06 2.06-.94-2.06-.94-.94-2.06-.94 2.06-2.06.94zm-11 1L8.5 8.5l.94-2.06 2.06-.94-2.06-.94L8.5 2.5l-.94 2.06-2.06.94zm10 10l.94 2.06.94-2.06 2.06-.94-2.06-.94-.94-2.06-.94 2.06-2.06.94z\"/><path d=\"M17.41 7.96l-1.37-1.37c-.4-.4-.92-.59-1.43-.59-.52 0-1.04.2-1.43.59L10.3 9.45l-7.72 7.72c-.78.78-.78 2.05 0 2.83L4 21.41c.39.39.9.59 1.41.59.51 0 1.02-.2 1.41-.59l7.78-7.78 2.81-2.81c.8-.78.8-2.07 0-2.86zM5.41 20L4 18.59l7.72-7.72 1.47 1.35L5.41 20z\"/>\n",
              "  </svg>\n",
              "      </button>\n",
              "      \n",
              "  <style>\n",
              "    .colab-df-container {\n",
              "      display:flex;\n",
              "      flex-wrap:wrap;\n",
              "      gap: 12px;\n",
              "    }\n",
              "\n",
              "    .colab-df-convert {\n",
              "      background-color: #E8F0FE;\n",
              "      border: none;\n",
              "      border-radius: 50%;\n",
              "      cursor: pointer;\n",
              "      display: none;\n",
              "      fill: #1967D2;\n",
              "      height: 32px;\n",
              "      padding: 0 0 0 0;\n",
              "      width: 32px;\n",
              "    }\n",
              "\n",
              "    .colab-df-convert:hover {\n",
              "      background-color: #E2EBFA;\n",
              "      box-shadow: 0px 1px 2px rgba(60, 64, 67, 0.3), 0px 1px 3px 1px rgba(60, 64, 67, 0.15);\n",
              "      fill: #174EA6;\n",
              "    }\n",
              "\n",
              "    [theme=dark] .colab-df-convert {\n",
              "      background-color: #3B4455;\n",
              "      fill: #D2E3FC;\n",
              "    }\n",
              "\n",
              "    [theme=dark] .colab-df-convert:hover {\n",
              "      background-color: #434B5C;\n",
              "      box-shadow: 0px 1px 3px 1px rgba(0, 0, 0, 0.15);\n",
              "      filter: drop-shadow(0px 1px 2px rgba(0, 0, 0, 0.3));\n",
              "      fill: #FFFFFF;\n",
              "    }\n",
              "  </style>\n",
              "\n",
              "      <script>\n",
              "        const buttonEl =\n",
              "          document.querySelector('#df-2f992d0a-4d60-48f9-a0ad-b496558a2599 button.colab-df-convert');\n",
              "        buttonEl.style.display =\n",
              "          google.colab.kernel.accessAllowed ? 'block' : 'none';\n",
              "\n",
              "        async function convertToInteractive(key) {\n",
              "          const element = document.querySelector('#df-2f992d0a-4d60-48f9-a0ad-b496558a2599');\n",
              "          const dataTable =\n",
              "            await google.colab.kernel.invokeFunction('convertToInteractive',\n",
              "                                                     [key], {});\n",
              "          if (!dataTable) return;\n",
              "\n",
              "          const docLinkHtml = 'Like what you see? Visit the ' +\n",
              "            '<a target=\"_blank\" href=https://colab.research.google.com/notebooks/data_table.ipynb>data table notebook</a>'\n",
              "            + ' to learn more about interactive tables.';\n",
              "          element.innerHTML = '';\n",
              "          dataTable['output_type'] = 'display_data';\n",
              "          await google.colab.output.renderOutput(dataTable, element);\n",
              "          const docLink = document.createElement('div');\n",
              "          docLink.innerHTML = docLinkHtml;\n",
              "          element.appendChild(docLink);\n",
              "        }\n",
              "      </script>\n",
              "    </div>\n",
              "  </div>\n",
              "  "
            ]
          },
          "metadata": {},
          "execution_count": 34
        }
      ]
    },
    {
      "cell_type": "markdown",
      "metadata": {
        "id": "_zLSXlu8Nkm1"
      },
      "source": [
        "+ `grade` y `sub_grade`son muy parecidas. Intuitivamente sabemos que subgrade contiene a grade, y que son variables muy importantes. Por lo anterior, lo conveniente seria analizar el poder explicativo de cada una y decidir. \n",
        "Ademas, dada la naturaleza de la variable incluso podrias convertirla en numerica sin perder mucho poder explicativo, siempre y cuando este bien construida de inicio."
      ]
    },
    {
      "cell_type": "code",
      "metadata": {
        "colab": {
          "base_uri": "https://localhost:8080/",
          "height": 143
        },
        "id": "KTBs4eKPTagv",
        "outputId": "0c8072fd-13e4-4dd7-85d4-bdad656d9ad5"
      },
      "source": [
        "dataset[['grade', 'sub_grade']].drop_duplicates().head(3)"
      ],
      "execution_count": 35,
      "outputs": [
        {
          "output_type": "execute_result",
          "data": {
            "text/plain": [
              "  grade sub_grade\n",
              "0     C        C1\n",
              "1     A        A3\n",
              "2     D        D1"
            ],
            "text/html": [
              "\n",
              "  <div id=\"df-75f41307-ef6a-49fc-8081-9fcaa9bc69b4\">\n",
              "    <div class=\"colab-df-container\">\n",
              "      <div>\n",
              "<style scoped>\n",
              "    .dataframe tbody tr th:only-of-type {\n",
              "        vertical-align: middle;\n",
              "    }\n",
              "\n",
              "    .dataframe tbody tr th {\n",
              "        vertical-align: top;\n",
              "    }\n",
              "\n",
              "    .dataframe thead th {\n",
              "        text-align: right;\n",
              "    }\n",
              "</style>\n",
              "<table border=\"1\" class=\"dataframe\">\n",
              "  <thead>\n",
              "    <tr style=\"text-align: right;\">\n",
              "      <th></th>\n",
              "      <th>grade</th>\n",
              "      <th>sub_grade</th>\n",
              "    </tr>\n",
              "  </thead>\n",
              "  <tbody>\n",
              "    <tr>\n",
              "      <th>0</th>\n",
              "      <td>C</td>\n",
              "      <td>C1</td>\n",
              "    </tr>\n",
              "    <tr>\n",
              "      <th>1</th>\n",
              "      <td>A</td>\n",
              "      <td>A3</td>\n",
              "    </tr>\n",
              "    <tr>\n",
              "      <th>2</th>\n",
              "      <td>D</td>\n",
              "      <td>D1</td>\n",
              "    </tr>\n",
              "  </tbody>\n",
              "</table>\n",
              "</div>\n",
              "      <button class=\"colab-df-convert\" onclick=\"convertToInteractive('df-75f41307-ef6a-49fc-8081-9fcaa9bc69b4')\"\n",
              "              title=\"Convert this dataframe to an interactive table.\"\n",
              "              style=\"display:none;\">\n",
              "        \n",
              "  <svg xmlns=\"http://www.w3.org/2000/svg\" height=\"24px\"viewBox=\"0 0 24 24\"\n",
              "       width=\"24px\">\n",
              "    <path d=\"M0 0h24v24H0V0z\" fill=\"none\"/>\n",
              "    <path d=\"M18.56 5.44l.94 2.06.94-2.06 2.06-.94-2.06-.94-.94-2.06-.94 2.06-2.06.94zm-11 1L8.5 8.5l.94-2.06 2.06-.94-2.06-.94L8.5 2.5l-.94 2.06-2.06.94zm10 10l.94 2.06.94-2.06 2.06-.94-2.06-.94-.94-2.06-.94 2.06-2.06.94z\"/><path d=\"M17.41 7.96l-1.37-1.37c-.4-.4-.92-.59-1.43-.59-.52 0-1.04.2-1.43.59L10.3 9.45l-7.72 7.72c-.78.78-.78 2.05 0 2.83L4 21.41c.39.39.9.59 1.41.59.51 0 1.02-.2 1.41-.59l7.78-7.78 2.81-2.81c.8-.78.8-2.07 0-2.86zM5.41 20L4 18.59l7.72-7.72 1.47 1.35L5.41 20z\"/>\n",
              "  </svg>\n",
              "      </button>\n",
              "      \n",
              "  <style>\n",
              "    .colab-df-container {\n",
              "      display:flex;\n",
              "      flex-wrap:wrap;\n",
              "      gap: 12px;\n",
              "    }\n",
              "\n",
              "    .colab-df-convert {\n",
              "      background-color: #E8F0FE;\n",
              "      border: none;\n",
              "      border-radius: 50%;\n",
              "      cursor: pointer;\n",
              "      display: none;\n",
              "      fill: #1967D2;\n",
              "      height: 32px;\n",
              "      padding: 0 0 0 0;\n",
              "      width: 32px;\n",
              "    }\n",
              "\n",
              "    .colab-df-convert:hover {\n",
              "      background-color: #E2EBFA;\n",
              "      box-shadow: 0px 1px 2px rgba(60, 64, 67, 0.3), 0px 1px 3px 1px rgba(60, 64, 67, 0.15);\n",
              "      fill: #174EA6;\n",
              "    }\n",
              "\n",
              "    [theme=dark] .colab-df-convert {\n",
              "      background-color: #3B4455;\n",
              "      fill: #D2E3FC;\n",
              "    }\n",
              "\n",
              "    [theme=dark] .colab-df-convert:hover {\n",
              "      background-color: #434B5C;\n",
              "      box-shadow: 0px 1px 3px 1px rgba(0, 0, 0, 0.15);\n",
              "      filter: drop-shadow(0px 1px 2px rgba(0, 0, 0, 0.3));\n",
              "      fill: #FFFFFF;\n",
              "    }\n",
              "  </style>\n",
              "\n",
              "      <script>\n",
              "        const buttonEl =\n",
              "          document.querySelector('#df-75f41307-ef6a-49fc-8081-9fcaa9bc69b4 button.colab-df-convert');\n",
              "        buttonEl.style.display =\n",
              "          google.colab.kernel.accessAllowed ? 'block' : 'none';\n",
              "\n",
              "        async function convertToInteractive(key) {\n",
              "          const element = document.querySelector('#df-75f41307-ef6a-49fc-8081-9fcaa9bc69b4');\n",
              "          const dataTable =\n",
              "            await google.colab.kernel.invokeFunction('convertToInteractive',\n",
              "                                                     [key], {});\n",
              "          if (!dataTable) return;\n",
              "\n",
              "          const docLinkHtml = 'Like what you see? Visit the ' +\n",
              "            '<a target=\"_blank\" href=https://colab.research.google.com/notebooks/data_table.ipynb>data table notebook</a>'\n",
              "            + ' to learn more about interactive tables.';\n",
              "          element.innerHTML = '';\n",
              "          dataTable['output_type'] = 'display_data';\n",
              "          await google.colab.output.renderOutput(dataTable, element);\n",
              "          const docLink = document.createElement('div');\n",
              "          docLink.innerHTML = docLinkHtml;\n",
              "          element.appendChild(docLink);\n",
              "        }\n",
              "      </script>\n",
              "    </div>\n",
              "  </div>\n",
              "  "
            ]
          },
          "metadata": {},
          "execution_count": 35
        }
      ]
    },
    {
      "cell_type": "markdown",
      "metadata": {
        "id": "B_Vcu64ITDGj"
      },
      "source": [
        "+ Intuitivamente `emp_length` parece una variable categorica importante, y facil de convertir a valor numerico sin perder poder explicativo. "
      ]
    },
    {
      "cell_type": "code",
      "metadata": {
        "colab": {
          "base_uri": "https://localhost:8080/"
        },
        "id": "A0-GehmwT4Ng",
        "outputId": "e96c49cd-9c8b-4a9e-feb5-f67ee2492485"
      },
      "source": [
        "dataset['emp_length'].unique()"
      ],
      "execution_count": 36,
      "outputs": [
        {
          "output_type": "execute_result",
          "data": {
            "text/plain": [
              "array(['10+ years', '8 years', '6 years', '< 1 year', '2 years',\n",
              "       '9 years', '7 years', '3 years', '1 year', nan, '4 years',\n",
              "       '5 years'], dtype=object)"
            ]
          },
          "metadata": {},
          "execution_count": 36
        }
      ]
    },
    {
      "cell_type": "markdown",
      "metadata": {
        "id": "lLYW8W_UUoAl"
      },
      "source": [
        "+ `home_ownership` y `verification_status` parecen ser buenas variables de inicio, y no tienen tantos valores unicos. Son aptas para hacer one-hot encoding."
      ]
    },
    {
      "cell_type": "code",
      "metadata": {
        "colab": {
          "base_uri": "https://localhost:8080/"
        },
        "id": "qb1W04o_U5Ci",
        "outputId": "e5925e6f-3a69-48a0-fab6-8dc94263335d"
      },
      "source": [
        "dataset['home_ownership'].unique()"
      ],
      "execution_count": 37,
      "outputs": [
        {
          "output_type": "execute_result",
          "data": {
            "text/plain": [
              "array(['RENT', 'MORTGAGE', 'OWN', 'ANY'], dtype=object)"
            ]
          },
          "metadata": {},
          "execution_count": 37
        }
      ]
    },
    {
      "cell_type": "code",
      "metadata": {
        "colab": {
          "base_uri": "https://localhost:8080/"
        },
        "id": "VszC80ZYU9zF",
        "outputId": "69cfbf18-cba7-4569-a0e7-92f92d4a1400"
      },
      "source": [
        "dataset['verification_status'].unique()"
      ],
      "execution_count": 38,
      "outputs": [
        {
          "output_type": "execute_result",
          "data": {
            "text/plain": [
              "array(['Source Verified', 'Not Verified', 'Verified'], dtype=object)"
            ]
          },
          "metadata": {},
          "execution_count": 38
        }
      ]
    },
    {
      "cell_type": "markdown",
      "metadata": {
        "id": "Vw3bXTZWZlOM"
      },
      "source": [
        "+ `initial_list_status` no esta claro que significa, sin embargo no hay evidencia para eliminarla, por ahora. Pero, debemos de estar seguros que conoceremos el valor de esta variable antes de incluirla, pues seria inservible y arruinaria nuestro modelo."
      ]
    },
    {
      "cell_type": "code",
      "metadata": {
        "colab": {
          "base_uri": "https://localhost:8080/"
        },
        "id": "91Nz6AZgYn0y",
        "outputId": "ba2cde07-bea7-4965-e10d-b7fba8cf4f39"
      },
      "source": [
        "datos_dict[datos_dict['feature'] == 'initial_list_status'].values"
      ],
      "execution_count": 39,
      "outputs": [
        {
          "output_type": "execute_result",
          "data": {
            "text/plain": [
              "array([['initial_list_status',\n",
              "        'The initial listing status of the loan. Possible values are – W, F']],\n",
              "      dtype=object)"
            ]
          },
          "metadata": {},
          "execution_count": 39
        }
      ]
    },
    {
      "cell_type": "code",
      "metadata": {
        "colab": {
          "base_uri": "https://localhost:8080/"
        },
        "id": "UhSpr2KzVhid",
        "outputId": "378fbc51-0a46-4e4a-e53c-348a6b5b9117"
      },
      "source": [
        "dataset['initial_list_status'].unique()"
      ],
      "execution_count": 40,
      "outputs": [
        {
          "output_type": "execute_result",
          "data": {
            "text/plain": [
              "array(['w', 'f'], dtype=object)"
            ]
          },
          "metadata": {},
          "execution_count": 40
        }
      ]
    },
    {
      "cell_type": "markdown",
      "metadata": {
        "id": "T3mCaCDwa4NW"
      },
      "source": [
        "+ `earliest_cr_line` es otra variable que podemos convertir en numerica o simplificarla sin perder mucho poder predictivo."
      ]
    },
    {
      "cell_type": "code",
      "metadata": {
        "colab": {
          "base_uri": "https://localhost:8080/"
        },
        "id": "SCG2gbxNbCn3",
        "outputId": "9eb76e33-b9d1-428a-e5e1-bfa399f70c55"
      },
      "source": [
        "dataset['earliest_cr_line'].unique()"
      ],
      "execution_count": 41,
      "outputs": [
        {
          "output_type": "execute_result",
          "data": {
            "text/plain": [
              "array(['Aug-1994', 'Sep-1989', 'Aug-2003', 'Aug-2002', 'Nov-1992',\n",
              "       'Oct-2001', 'Nov-2003', 'Oct-1998', 'May-2009', 'Jul-2003',\n",
              "       'Jan-1999', 'Jan-2001', 'Jul-1989', 'Sep-1996', 'Jun-1995',\n",
              "       'Dec-1993', 'Feb-2010', 'Jan-2002', 'Jun-2001', 'Nov-1998',\n",
              "       'Apr-2007', 'Mar-2003', 'Mar-2002', 'Jul-2001', 'Oct-2000',\n",
              "       'Jan-2003', 'Jul-2007', 'Sep-1981', 'Mar-1992', 'Mar-2011',\n",
              "       'Jul-2002', 'Mar-1995', 'Jan-1981', 'Mar-1999', 'Aug-2008',\n",
              "       'May-2007', 'Aug-2006', 'Jun-1996', 'Jun-2004', 'Aug-1989',\n",
              "       'Feb-1997', 'Oct-2010', 'Mar-1982', 'Oct-1993', 'Aug-2004',\n",
              "       'Aug-1996', 'Apr-1987', 'Dec-1988', 'Mar-2004', 'Feb-1994',\n",
              "       'Jul-1996', 'Apr-1993', 'Mar-2000', 'May-2004', 'Apr-2003',\n",
              "       'May-1993', 'Jul-2005', 'Sep-1987', 'Sep-2001', 'Nov-1989',\n",
              "       'Dec-2009', 'Oct-1991', 'Oct-1970', 'Nov-1988', 'Dec-2001',\n",
              "       'Dec-1999', 'Dec-2006', 'Sep-1985', 'Dec-2000', 'Aug-2010',\n",
              "       'Jun-2009', 'Oct-2005', 'Oct-1989', 'Dec-1986', 'Apr-1973',\n",
              "       'Feb-2002', 'Sep-2007', 'Apr-2006', 'Feb-2004', 'May-2008',\n",
              "       'Nov-1991', 'Mar-2001', 'Dec-1996', 'Jun-2000', 'Sep-2003',\n",
              "       'Feb-1982', 'Feb-2001', 'Dec-1997', 'Mar-2010', 'Aug-2000',\n",
              "       'Mar-2006', 'Aug-1999', 'Aug-2001', 'May-1999', 'Oct-2006',\n",
              "       'Jul-2000', 'Apr-1976', 'Mar-2008', 'Feb-1998', 'Aug-2009',\n",
              "       'Nov-1996', 'May-1983', 'May-1998', 'Apr-2001', 'Oct-2002',\n",
              "       'Apr-1994', 'Sep-1998', 'Feb-1996', 'Aug-1992', 'Jul-2006',\n",
              "       'Sep-1995', 'Jun-1986', 'Sep-2000', 'May-2003', 'Feb-1995',\n",
              "       'May-2006', 'Aug-1993', 'Feb-2005', 'Sep-1992', 'Sep-1984',\n",
              "       'Jan-1988', 'Sep-2006', 'Dec-2007', 'Dec-1998', 'Feb-1991',\n",
              "       'Nov-1994', 'Apr-1996', 'Dec-1992', 'Aug-2007', 'Jan-1998',\n",
              "       'Oct-1985', 'Jun-2010', 'Nov-1976', 'Jan-2006', 'Dec-1990',\n",
              "       'Dec-2003', 'Dec-2005', 'Jul-2008', 'Jul-1999', 'Oct-1999',\n",
              "       'Apr-1998', 'Jun-1993', 'Nov-1997', 'Dec-1989', 'May-2002',\n",
              "       'May-1992', 'Apr-2009', 'Dec-2010', 'Nov-2002', 'Aug-2005',\n",
              "       'Mar-2007', 'Jan-2000', 'Jun-1997', 'Oct-1996', 'Sep-1997',\n",
              "       'Jul-2010', 'Apr-1999', 'Jun-1994', 'Nov-1993', 'Jun-2011',\n",
              "       'Sep-1983', 'Sep-1993', 'Sep-1991', 'Jan-1997', 'Nov-2006',\n",
              "       'Oct-2003', 'Sep-2010', 'Jun-1974', 'Jan-1985', 'Jul-1988',\n",
              "       'Jul-1997', 'Oct-2004', 'May-1997', 'Aug-1991', 'Jun-1992',\n",
              "       'Sep-2002', 'Oct-1981', 'Sep-2004', 'Aug-1997', 'Feb-1977',\n",
              "       'Feb-2007', 'May-1991', 'Sep-2009', 'May-1978', 'Sep-1986',\n",
              "       'Jun-1990', 'Jan-1991', 'Dec-2004', 'Oct-1995', 'Oct-2011',\n",
              "       'Jan-1993', 'Jul-2004', 'May-2005', 'Aug-1988', 'May-2000',\n",
              "       'Sep-2005', 'Dec-1980', 'Nov-2000', 'Nov-1987', 'May-2001',\n",
              "       'Feb-2000', 'Sep-1990', 'Jun-2006', 'Jun-2005', 'May-1988',\n",
              "       'Oct-1997', 'Nov-1995', 'Apr-2002', 'Jul-1995', 'May-1996',\n",
              "       'Mar-1979', 'Jul-1994', 'Feb-2003', 'May-1977', 'Apr-1985',\n",
              "       'Nov-2001', 'Jan-1984', 'Feb-1999', 'Aug-1982', 'Jan-2007',\n",
              "       'Dec-1994', 'Jan-2005', 'Jun-1985', 'Aug-1990', 'Sep-1982',\n",
              "       'Sep-1994', 'Apr-2004', 'Nov-1985', 'Apr-2000', 'Sep-2011',\n",
              "       'Feb-1969', 'Aug-1995', 'May-1990', 'Sep-1999', 'Jul-1992',\n",
              "       'Oct-1992', 'Mar-1993', 'Mar-1998', 'Apr-1983', 'Jan-1990',\n",
              "       'Jan-1978', 'Jun-2002', 'May-1986', 'Mar-1997', 'Sep-1976',\n",
              "       'Nov-2004', 'Feb-1993', 'Apr-1997', 'Apr-1995', 'Apr-1977',\n",
              "       'Jan-1994', 'Feb-1987', 'Dec-2002', 'Apr-2010', 'Jul-1998',\n",
              "       'Aug-1998', 'Mar-1984', 'Jan-1974', 'Mar-1988', 'Feb-1979',\n",
              "       'Jan-2004', 'Jun-2003', 'Nov-1986', 'Nov-1999', 'Feb-1978',\n",
              "       'Mar-1986', 'Jul-2011', 'Mar-1996', 'Feb-2006', 'Dec-1985',\n",
              "       'Dec-1976', 'Jul-1984', 'Nov-2005', 'Jul-1982', 'Nov-2009',\n",
              "       'Jul-1981', 'Oct-1986', 'May-1979', 'Nov-2010', 'Feb-1992',\n",
              "       'Sep-2008', 'Apr-2008', 'Jan-1986', 'Jan-2008', 'Mar-1971',\n",
              "       'Mar-1989', 'Oct-2007', 'Nov-1982', 'Nov-1983', 'Nov-2007',\n",
              "       'Aug-1973', 'Jul-1979', 'Oct-1988', 'Jun-1984', 'Apr-1988',\n",
              "       'Jan-1995', 'Mar-1994', 'Nov-1980', 'Oct-1987', 'Feb-1989',\n",
              "       'Apr-1991', 'Jun-1999', 'Oct-1967', 'Aug-1984', 'Oct-1990',\n",
              "       'Jan-2010', 'Apr-1990', 'Nov-1969', 'Feb-1983', 'Feb-1980',\n",
              "       'Aug-1978', 'Jun-1988', 'Jul-1993', 'Mar-2005', 'Nov-1990',\n",
              "       'Apr-2005', 'Jul-1985', 'Feb-1990', 'Feb-1972', 'Oct-2009',\n",
              "       'Jun-1987', 'Jul-2009', 'Dec-1995', 'May-1994', 'Dec-1983',\n",
              "       'Sep-1974', 'Jan-1983', 'Jun-1998', 'Jul-1986', 'Jan-1979',\n",
              "       'Oct-1984', 'Nov-1984', 'Apr-1989', 'May-2010', 'Apr-1969',\n",
              "       'Feb-1985', 'Dec-1975', 'Jun-1979', 'Oct-1994', 'Sep-1980',\n",
              "       'Sep-1988', 'Sep-1973', 'Jul-1991', 'Jan-1992', 'May-2011',\n",
              "       'Feb-1968', 'Mar-1990', 'Aug-1986', 'May-1984', 'Aug-1985',\n",
              "       'Apr-1984', 'Mar-1978', 'Apr-1979', 'May-1995', 'Mar-1976',\n",
              "       'Mar-1977', 'Feb-2008', 'Feb-1988', 'Aug-1981', 'Mar-1991',\n",
              "       'Aug-1962', 'Oct-2008', 'Jun-2007', 'Dec-1979', 'Jan-2011',\n",
              "       'Jul-1975', 'Oct-1976', 'Jun-1991', 'Nov-1978', 'Jun-1980',\n",
              "       'May-1972', 'May-1989', 'Apr-1981', 'Dec-1982', 'Feb-2011',\n",
              "       'Jan-1982', 'Oct-1978', 'Feb-1986', 'Jan-1996', 'Nov-2008',\n",
              "       'Jan-1980', 'Oct-1980', 'Dec-1977', 'Mar-1987', 'Jul-1990',\n",
              "       'Jul-1983', 'Jan-1965', 'Feb-1984', 'Jul-1973', 'Apr-1986',\n",
              "       'Jan-1972', 'Mar-1968', 'Sep-1979', 'Mar-2009', 'Jun-1983',\n",
              "       'May-1982', 'Mar-1967', 'Mar-1983', 'Apr-1974', 'Jul-1987',\n",
              "       'Apr-2011', 'Nov-1981', 'Dec-1978', 'Jan-1987', 'Dec-2008',\n",
              "       'Apr-1982', 'Apr-1992', 'Mar-1972', 'Jan-2009', 'Dec-1991',\n",
              "       'Oct-1982', 'Jan-1966', 'Mar-1985', 'Aug-1971', 'Jan-1968',\n",
              "       'Oct-1983', 'Dec-1987', 'May-1975', 'Jul-1977', 'Jun-1989',\n",
              "       'Mar-1974', 'Aug-2011', 'Mar-1980', 'Jan-1989', 'Jun-1967',\n",
              "       'Aug-1983', 'Jun-2008', 'Dec-1984', 'Jan-1963', 'Aug-1987',\n",
              "       'Jun-1973', 'Apr-1963', 'Oct-1977', 'Jun-1977', 'Aug-1976',\n",
              "       'Jan-1977', 'Apr-1971', 'Nov-1973', 'Sep-1977', 'Mar-1969',\n",
              "       'May-1987', 'Jul-1976', 'Sep-1972', 'Oct-1973', 'Feb-1975',\n",
              "       'Aug-1972', 'Nov-1979', 'Jan-1969', 'Mar-1965', 'Oct-1972',\n",
              "       'Aug-1977', 'Oct-1963', 'Jul-1966', 'Mar-1970', 'Jul-1980',\n",
              "       'Jun-1978', 'Aug-1979', 'Dec-1970', 'Feb-2009', 'Apr-1978',\n",
              "       'Jan-1964', 'Aug-1974', 'Jun-1965', 'May-1985', 'Nov-2011',\n",
              "       'Nov-1977', 'May-1976', 'Sep-1971', 'Nov-1974', 'Jun-1981',\n",
              "       'Jan-1976', 'Apr-1964', 'May-1968', 'Dec-1981', 'Dec-1958',\n",
              "       'Sep-1964', 'Dec-1967', 'Aug-1975', 'Mar-1981', 'Jan-1975',\n",
              "       'Jan-1970', 'Jul-1974', 'Feb-1981', 'May-1966', 'Apr-1980',\n",
              "       'May-1981', 'Apr-1975', 'Sep-1978', 'Oct-1979', 'Jul-1978',\n",
              "       'Aug-1965', 'May-1967', 'May-1980', 'Sep-1970', 'Jan-1971',\n",
              "       'Dec-1974', 'Aug-1980', 'Nov-1972', 'Nov-1971', 'Feb-1974',\n",
              "       'Jun-1964', 'May-1974', 'Nov-1975', 'Jun-1968', 'May-1973',\n",
              "       'Aug-1964', 'Nov-1966', 'May-1971', 'Jun-1982', 'Jun-1971',\n",
              "       'Jun-1976', 'Feb-1967', 'Jun-1969', 'Jan-1958', 'Jun-1975',\n",
              "       'Jul-1970', 'Sep-1975', 'Oct-1964', 'Sep-1967', 'Jul-1959',\n",
              "       'Mar-1973', 'Apr-1972', 'Jun-1972', 'Apr-1970', 'Jan-1967',\n",
              "       'Sep-1965', 'Mar-1975', 'Oct-1975', 'Oct-1974', 'May-1969',\n",
              "       'Mar-1966', 'Dec-1972', 'Feb-1976', 'Feb-1973', 'Oct-1966',\n",
              "       'Feb-1965', 'Jan-1973', 'Aug-1970', 'May-1964', 'Oct-1971',\n",
              "       'Feb-1970', 'Jul-1964', 'Jun-1966', 'Jan-1955', 'Jan-1962',\n",
              "       'Jan-1960', 'May-1959', 'Dec-1968', 'Jul-1972', 'Oct-1968',\n",
              "       'Sep-1966', 'Jan-1961', 'Dec-1969', 'Nov-1970', 'Aug-1963',\n",
              "       'Sep-1959', 'May-1970', 'Apr-1961', 'Dec-1971', 'Nov-1968',\n",
              "       'Sep-1968', 'Apr-1966', 'Jun-1958', 'Aug-1967', 'Apr-1965',\n",
              "       'Aug-1966', 'Feb-1966', 'Jun-1970', 'Aug-1960', 'Jul-1958',\n",
              "       'Feb-1971', 'Jul-1969', 'Sep-1969', 'Jul-1967', 'Oct-1969',\n",
              "       'Jul-1965', 'Dec-1965', 'Dec-1973', 'Jul-1971', 'Oct-1965',\n",
              "       'Nov-1965', 'Nov-1967', 'Jun-1960', 'Apr-1967', 'May-1963',\n",
              "       'Jun-1962', 'Aug-1961', 'May-1965', 'Jul-1968', 'Jul-1963',\n",
              "       'Aug-1969', 'Nov-1964', 'Apr-1968', 'Dec-1962', 'Dec-1966',\n",
              "       'Mar-1959', 'Nov-1954', 'Aug-1958'], dtype=object)"
            ]
          },
          "metadata": {},
          "execution_count": 41
        }
      ]
    },
    {
      "cell_type": "markdown",
      "metadata": {
        "id": "gB32FP3bbM5h"
      },
      "source": [
        "+ Por ultimo queda `addr_state` que si bien podria tener algo de poder explicativo, toma muchos valores. Es dificil convertirla en numerica o reducir su dimensionalidad. Sera para otra ocasion"
      ]
    },
    {
      "cell_type": "code",
      "metadata": {
        "id": "CB22cUn3bYZp"
      },
      "source": [
        "cat_eliminar = cat_eliminar + ['addr_state']"
      ],
      "execution_count": 42,
      "outputs": []
    },
    {
      "cell_type": "markdown",
      "metadata": {
        "id": "Aoa2LwgwcSd2"
      },
      "source": [
        "Ahora que hemos elegido las variables categoricas que posiblemnte nos sirvan, hay que analizarlas a detalle despues de transformarlas."
      ]
    },
    {
      "cell_type": "code",
      "metadata": {
        "colab": {
          "base_uri": "https://localhost:8080/",
          "height": 218
        },
        "id": "d1iCEAQBcQdb",
        "outputId": "2e3f87ba-b4af-4f4e-bfb3-13c1d29e467e"
      },
      "source": [
        "features_cat = [f for f in features_cat if f not in cat_eliminar]\n",
        "dataset[features_cat].describe()"
      ],
      "execution_count": 43,
      "outputs": [
        {
          "output_type": "execute_result",
          "data": {
            "text/plain": [
              "              term  grade sub_grade emp_length home_ownership  \\\n",
              "count        86138  86138     86138      81421          86138   \n",
              "unique           2      7        35         11              4   \n",
              "top      36 months      C        C1  10+ years       MORTGAGE   \n",
              "freq         67507  23242      5217      28177          41785   \n",
              "\n",
              "       verification_status             purpose earliest_cr_line  \\\n",
              "count                86138               86138            86138   \n",
              "unique                   3                  13              598   \n",
              "top        Source Verified  debt_consolidation         Aug-2001   \n",
              "freq                 34041               52968              744   \n",
              "\n",
              "       initial_list_status  \n",
              "count                86138  \n",
              "unique                   2  \n",
              "top                      w  \n",
              "freq                 43882  "
            ],
            "text/html": [
              "\n",
              "  <div id=\"df-cf3bb597-f20c-4029-be7d-18a790e8370a\">\n",
              "    <div class=\"colab-df-container\">\n",
              "      <div>\n",
              "<style scoped>\n",
              "    .dataframe tbody tr th:only-of-type {\n",
              "        vertical-align: middle;\n",
              "    }\n",
              "\n",
              "    .dataframe tbody tr th {\n",
              "        vertical-align: top;\n",
              "    }\n",
              "\n",
              "    .dataframe thead th {\n",
              "        text-align: right;\n",
              "    }\n",
              "</style>\n",
              "<table border=\"1\" class=\"dataframe\">\n",
              "  <thead>\n",
              "    <tr style=\"text-align: right;\">\n",
              "      <th></th>\n",
              "      <th>term</th>\n",
              "      <th>grade</th>\n",
              "      <th>sub_grade</th>\n",
              "      <th>emp_length</th>\n",
              "      <th>home_ownership</th>\n",
              "      <th>verification_status</th>\n",
              "      <th>purpose</th>\n",
              "      <th>earliest_cr_line</th>\n",
              "      <th>initial_list_status</th>\n",
              "    </tr>\n",
              "  </thead>\n",
              "  <tbody>\n",
              "    <tr>\n",
              "      <th>count</th>\n",
              "      <td>86138</td>\n",
              "      <td>86138</td>\n",
              "      <td>86138</td>\n",
              "      <td>81421</td>\n",
              "      <td>86138</td>\n",
              "      <td>86138</td>\n",
              "      <td>86138</td>\n",
              "      <td>86138</td>\n",
              "      <td>86138</td>\n",
              "    </tr>\n",
              "    <tr>\n",
              "      <th>unique</th>\n",
              "      <td>2</td>\n",
              "      <td>7</td>\n",
              "      <td>35</td>\n",
              "      <td>11</td>\n",
              "      <td>4</td>\n",
              "      <td>3</td>\n",
              "      <td>13</td>\n",
              "      <td>598</td>\n",
              "      <td>2</td>\n",
              "    </tr>\n",
              "    <tr>\n",
              "      <th>top</th>\n",
              "      <td>36 months</td>\n",
              "      <td>C</td>\n",
              "      <td>C1</td>\n",
              "      <td>10+ years</td>\n",
              "      <td>MORTGAGE</td>\n",
              "      <td>Source Verified</td>\n",
              "      <td>debt_consolidation</td>\n",
              "      <td>Aug-2001</td>\n",
              "      <td>w</td>\n",
              "    </tr>\n",
              "    <tr>\n",
              "      <th>freq</th>\n",
              "      <td>67507</td>\n",
              "      <td>23242</td>\n",
              "      <td>5217</td>\n",
              "      <td>28177</td>\n",
              "      <td>41785</td>\n",
              "      <td>34041</td>\n",
              "      <td>52968</td>\n",
              "      <td>744</td>\n",
              "      <td>43882</td>\n",
              "    </tr>\n",
              "  </tbody>\n",
              "</table>\n",
              "</div>\n",
              "      <button class=\"colab-df-convert\" onclick=\"convertToInteractive('df-cf3bb597-f20c-4029-be7d-18a790e8370a')\"\n",
              "              title=\"Convert this dataframe to an interactive table.\"\n",
              "              style=\"display:none;\">\n",
              "        \n",
              "  <svg xmlns=\"http://www.w3.org/2000/svg\" height=\"24px\"viewBox=\"0 0 24 24\"\n",
              "       width=\"24px\">\n",
              "    <path d=\"M0 0h24v24H0V0z\" fill=\"none\"/>\n",
              "    <path d=\"M18.56 5.44l.94 2.06.94-2.06 2.06-.94-2.06-.94-.94-2.06-.94 2.06-2.06.94zm-11 1L8.5 8.5l.94-2.06 2.06-.94-2.06-.94L8.5 2.5l-.94 2.06-2.06.94zm10 10l.94 2.06.94-2.06 2.06-.94-2.06-.94-.94-2.06-.94 2.06-2.06.94z\"/><path d=\"M17.41 7.96l-1.37-1.37c-.4-.4-.92-.59-1.43-.59-.52 0-1.04.2-1.43.59L10.3 9.45l-7.72 7.72c-.78.78-.78 2.05 0 2.83L4 21.41c.39.39.9.59 1.41.59.51 0 1.02-.2 1.41-.59l7.78-7.78 2.81-2.81c.8-.78.8-2.07 0-2.86zM5.41 20L4 18.59l7.72-7.72 1.47 1.35L5.41 20z\"/>\n",
              "  </svg>\n",
              "      </button>\n",
              "      \n",
              "  <style>\n",
              "    .colab-df-container {\n",
              "      display:flex;\n",
              "      flex-wrap:wrap;\n",
              "      gap: 12px;\n",
              "    }\n",
              "\n",
              "    .colab-df-convert {\n",
              "      background-color: #E8F0FE;\n",
              "      border: none;\n",
              "      border-radius: 50%;\n",
              "      cursor: pointer;\n",
              "      display: none;\n",
              "      fill: #1967D2;\n",
              "      height: 32px;\n",
              "      padding: 0 0 0 0;\n",
              "      width: 32px;\n",
              "    }\n",
              "\n",
              "    .colab-df-convert:hover {\n",
              "      background-color: #E2EBFA;\n",
              "      box-shadow: 0px 1px 2px rgba(60, 64, 67, 0.3), 0px 1px 3px 1px rgba(60, 64, 67, 0.15);\n",
              "      fill: #174EA6;\n",
              "    }\n",
              "\n",
              "    [theme=dark] .colab-df-convert {\n",
              "      background-color: #3B4455;\n",
              "      fill: #D2E3FC;\n",
              "    }\n",
              "\n",
              "    [theme=dark] .colab-df-convert:hover {\n",
              "      background-color: #434B5C;\n",
              "      box-shadow: 0px 1px 3px 1px rgba(0, 0, 0, 0.15);\n",
              "      filter: drop-shadow(0px 1px 2px rgba(0, 0, 0, 0.3));\n",
              "      fill: #FFFFFF;\n",
              "    }\n",
              "  </style>\n",
              "\n",
              "      <script>\n",
              "        const buttonEl =\n",
              "          document.querySelector('#df-cf3bb597-f20c-4029-be7d-18a790e8370a button.colab-df-convert');\n",
              "        buttonEl.style.display =\n",
              "          google.colab.kernel.accessAllowed ? 'block' : 'none';\n",
              "\n",
              "        async function convertToInteractive(key) {\n",
              "          const element = document.querySelector('#df-cf3bb597-f20c-4029-be7d-18a790e8370a');\n",
              "          const dataTable =\n",
              "            await google.colab.kernel.invokeFunction('convertToInteractive',\n",
              "                                                     [key], {});\n",
              "          if (!dataTable) return;\n",
              "\n",
              "          const docLinkHtml = 'Like what you see? Visit the ' +\n",
              "            '<a target=\"_blank\" href=https://colab.research.google.com/notebooks/data_table.ipynb>data table notebook</a>'\n",
              "            + ' to learn more about interactive tables.';\n",
              "          element.innerHTML = '';\n",
              "          dataTable['output_type'] = 'display_data';\n",
              "          await google.colab.output.renderOutput(dataTable, element);\n",
              "          const docLink = document.createElement('div');\n",
              "          docLink.innerHTML = docLinkHtml;\n",
              "          element.appendChild(docLink);\n",
              "        }\n",
              "      </script>\n",
              "    </div>\n",
              "  </div>\n",
              "  "
            ]
          },
          "metadata": {},
          "execution_count": 43
        }
      ]
    },
    {
      "cell_type": "code",
      "metadata": {
        "colab": {
          "base_uri": "https://localhost:8080/"
        },
        "id": "9-D6uIKGLwnp",
        "outputId": "d1d76e3e-819e-4da3-802b-dc3bbd55e02e"
      },
      "source": [
        "dataset.drop(cat_eliminar, axis=1, inplace=True)"
      ],
      "execution_count": 44,
      "outputs": [
        {
          "output_type": "stream",
          "name": "stderr",
          "text": [
            "/usr/local/lib/python3.7/dist-packages/pandas/core/frame.py:4913: SettingWithCopyWarning: \n",
            "A value is trying to be set on a copy of a slice from a DataFrame\n",
            "\n",
            "See the caveats in the documentation: https://pandas.pydata.org/pandas-docs/stable/user_guide/indexing.html#returning-a-view-versus-a-copy\n",
            "  errors=errors,\n"
          ]
        }
      ]
    },
    {
      "cell_type": "markdown",
      "metadata": {
        "id": "aGPlIwKqdFQT"
      },
      "source": [
        "#### Analisis de Variables Categoricas Seleccionadas"
      ]
    },
    {
      "cell_type": "code",
      "metadata": {
        "colab": {
          "base_uri": "https://localhost:8080/"
        },
        "id": "jvWgy8RsdLJD",
        "outputId": "480647bf-f003-44eb-ed0d-2b2579f9cd70"
      },
      "source": [
        "features_cat"
      ],
      "execution_count": 45,
      "outputs": [
        {
          "output_type": "execute_result",
          "data": {
            "text/plain": [
              "['term',\n",
              " 'grade',\n",
              " 'sub_grade',\n",
              " 'emp_length',\n",
              " 'home_ownership',\n",
              " 'verification_status',\n",
              " 'purpose',\n",
              " 'earliest_cr_line',\n",
              " 'initial_list_status']"
            ]
          },
          "metadata": {},
          "execution_count": 45
        }
      ]
    },
    {
      "cell_type": "markdown",
      "metadata": {
        "id": "1eXl7-FzhMIK"
      },
      "source": [
        "###### term"
      ]
    },
    {
      "cell_type": "markdown",
      "metadata": {
        "id": "UAw-NuuldUKu"
      },
      "source": [
        "**term**: \"The number of payments on the loan. Values are in months and can be either 36 or 60. The 60 Months loans are more likelely to charge off.\"\n",
        "+ Podemos convertirla a variable numerica sin problema."
      ]
    },
    {
      "cell_type": "code",
      "metadata": {
        "colab": {
          "base_uri": "https://localhost:8080/"
        },
        "id": "pxjziYTNeDqM",
        "outputId": "6d966b03-7fad-4de1-d571-4f80b9c9850e"
      },
      "source": [
        "dataset['term'].unique()"
      ],
      "execution_count": 46,
      "outputs": [
        {
          "output_type": "execute_result",
          "data": {
            "text/plain": [
              "array([' 60 months', ' 36 months'], dtype=object)"
            ]
          },
          "metadata": {},
          "execution_count": 46
        }
      ]
    },
    {
      "cell_type": "code",
      "metadata": {
        "colab": {
          "base_uri": "https://localhost:8080/"
        },
        "id": "P06aaS2kd9xV",
        "outputId": "65cb7a28-df23-4137-b005-a5080ac7a7d5"
      },
      "source": [
        "dataset['term'] = dataset['term'].apply(lambda s: np.int8(s.split()[0]))"
      ],
      "execution_count": 47,
      "outputs": [
        {
          "output_type": "stream",
          "name": "stderr",
          "text": [
            "/usr/local/lib/python3.7/dist-packages/ipykernel_launcher.py:1: SettingWithCopyWarning: \n",
            "A value is trying to be set on a copy of a slice from a DataFrame.\n",
            "Try using .loc[row_indexer,col_indexer] = value instead\n",
            "\n",
            "See the caveats in the documentation: https://pandas.pydata.org/pandas-docs/stable/user_guide/indexing.html#returning-a-view-versus-a-copy\n",
            "  \"\"\"Entry point for launching an IPython kernel.\n"
          ]
        }
      ]
    },
    {
      "cell_type": "code",
      "source": [
        "dataset['term'].unique()"
      ],
      "metadata": {
        "colab": {
          "base_uri": "https://localhost:8080/"
        },
        "id": "mjMk7_ToRf-_",
        "outputId": "94e350b2-5cb9-44a8-a790-540357bcba40"
      },
      "execution_count": 48,
      "outputs": [
        {
          "output_type": "execute_result",
          "data": {
            "text/plain": [
              "array([60, 36], dtype=int8)"
            ]
          },
          "metadata": {},
          "execution_count": 48
        }
      ]
    },
    {
      "cell_type": "code",
      "metadata": {
        "colab": {
          "base_uri": "https://localhost:8080/"
        },
        "id": "vaxRj3FqenOV",
        "outputId": "c0e7fbdb-c781-4af9-eb97-6c64586f8809"
      },
      "source": [
        "dataset.groupby('term')['charged_off'].value_counts(normalize=True).loc[:,1]"
      ],
      "execution_count": 49,
      "outputs": [
        {
          "output_type": "execute_result",
          "data": {
            "text/plain": [
              "term\n",
              "36    0.141526\n",
              "60    0.354356\n",
              "Name: charged_off, dtype: float64"
            ]
          },
          "metadata": {},
          "execution_count": 49
        }
      ]
    },
    {
      "cell_type": "markdown",
      "metadata": {
        "id": "mCfVw1Oag1s9"
      },
      "source": [
        "Podemos observar que el default o `charge_off` es doblemente probable cuando el periodo de prestamo son 60 meses comparado con el de 30."
      ]
    },
    {
      "cell_type": "markdown",
      "metadata": {
        "id": "o0Cz9g4RhRbO"
      },
      "source": [
        "###### emp_length"
      ]
    },
    {
      "cell_type": "markdown",
      "metadata": {
        "id": "Cj44wXNIhXb2"
      },
      "source": [
        "**emp_length**: Es el tiempo que lleva en su ultimo empleo. Podemos convertirla a numerica."
      ]
    },
    {
      "cell_type": "code",
      "metadata": {
        "colab": {
          "base_uri": "https://localhost:8080/"
        },
        "id": "GU8PkQQHhjDO",
        "outputId": "7d245b59-5304-4758-dca2-8fd96c25db63"
      },
      "source": [
        "dataset['emp_length'].unique()"
      ],
      "execution_count": 50,
      "outputs": [
        {
          "output_type": "execute_result",
          "data": {
            "text/plain": [
              "array(['10+ years', '8 years', '6 years', '< 1 year', '2 years',\n",
              "       '9 years', '7 years', '3 years', '1 year', nan, '4 years',\n",
              "       '5 years'], dtype=object)"
            ]
          },
          "metadata": {},
          "execution_count": 50
        }
      ]
    },
    {
      "cell_type": "code",
      "metadata": {
        "id": "LsFJQj4shgZB"
      },
      "source": [
        "def emp_length_to_int(s):\n",
        "    '''Variable auxiliar de limpieza de emp_length '''\n",
        "    if pd.isnull(s):\n",
        "        return s\n",
        "    else:\n",
        "        return np.int8(s.split()[0])"
      ],
      "execution_count": 51,
      "outputs": []
    },
    {
      "cell_type": "code",
      "metadata": {
        "colab": {
          "base_uri": "https://localhost:8080/"
        },
        "id": "9qYnM8hvhbQj",
        "outputId": "60aeecdd-8566-43ae-8a99-aca5c696a29b"
      },
      "source": [
        "dataset['emp_length'].replace(to_replace='10+ years', value='10 years', inplace=True)\n",
        "dataset['emp_length'].replace('< 1 year', '0 years', inplace=True)    \n",
        "dataset['emp_length'] = dataset['emp_length'].apply(emp_length_to_int)"
      ],
      "execution_count": 52,
      "outputs": [
        {
          "output_type": "stream",
          "name": "stderr",
          "text": [
            "/usr/local/lib/python3.7/dist-packages/pandas/core/generic.py:6619: SettingWithCopyWarning: \n",
            "A value is trying to be set on a copy of a slice from a DataFrame\n",
            "\n",
            "See the caveats in the documentation: https://pandas.pydata.org/pandas-docs/stable/user_guide/indexing.html#returning-a-view-versus-a-copy\n",
            "  return self._update_inplace(result)\n",
            "/usr/local/lib/python3.7/dist-packages/ipykernel_launcher.py:3: SettingWithCopyWarning: \n",
            "A value is trying to be set on a copy of a slice from a DataFrame.\n",
            "Try using .loc[row_indexer,col_indexer] = value instead\n",
            "\n",
            "See the caveats in the documentation: https://pandas.pydata.org/pandas-docs/stable/user_guide/indexing.html#returning-a-view-versus-a-copy\n",
            "  This is separate from the ipykernel package so we can avoid doing imports until\n"
          ]
        }
      ]
    },
    {
      "cell_type": "code",
      "source": [
        "dataset['emp_length'].unique()"
      ],
      "metadata": {
        "colab": {
          "base_uri": "https://localhost:8080/"
        },
        "id": "LB6mBtlyR3Jb",
        "outputId": "6b8569a2-53b5-4690-c7f2-8c6ad575862c"
      },
      "execution_count": 53,
      "outputs": [
        {
          "output_type": "execute_result",
          "data": {
            "text/plain": [
              "array([10.,  8.,  6.,  0.,  2.,  9.,  7.,  3.,  1., nan,  4.,  5.])"
            ]
          },
          "metadata": {},
          "execution_count": 53
        }
      ]
    },
    {
      "cell_type": "code",
      "metadata": {
        "colab": {
          "base_uri": "https://localhost:8080/"
        },
        "id": "75rY4ggKh-1Q",
        "outputId": "8b2ab004-ccb2-48f1-e880-ef63e087b3e2"
      },
      "source": [
        "charge_off_rates = dataset.groupby(\n",
        "    'emp_length')['charged_off'].value_counts(normalize=True).loc[:,1]\n",
        "charge_off_rates"
      ],
      "execution_count": 54,
      "outputs": [
        {
          "output_type": "execute_result",
          "data": {
            "text/plain": [
              "emp_length\n",
              "0.0     0.200567\n",
              "1.0     0.190259\n",
              "2.0     0.179634\n",
              "3.0     0.184257\n",
              "4.0     0.175262\n",
              "5.0     0.172605\n",
              "6.0     0.188642\n",
              "7.0     0.185727\n",
              "8.0     0.191016\n",
              "9.0     0.190933\n",
              "10.0    0.181921\n",
              "Name: charged_off, dtype: float64"
            ]
          },
          "metadata": {},
          "execution_count": 54
        }
      ]
    },
    {
      "cell_type": "code",
      "metadata": {
        "colab": {
          "base_uri": "https://localhost:8080/",
          "height": 112
        },
        "id": "SCSfu0nRiLAx",
        "outputId": "97b55013-4442-4814-c8d0-0139452f3eb9"
      },
      "source": [
        "dataset[['emp_length','charged_off']].corr()"
      ],
      "execution_count": 55,
      "outputs": [
        {
          "output_type": "execute_result",
          "data": {
            "text/plain": [
              "             emp_length  charged_off\n",
              "emp_length     1.000000    -0.005975\n",
              "charged_off   -0.005975     1.000000"
            ],
            "text/html": [
              "\n",
              "  <div id=\"df-f4e84e9f-5249-4d96-ab2d-ed17a44dd7e4\">\n",
              "    <div class=\"colab-df-container\">\n",
              "      <div>\n",
              "<style scoped>\n",
              "    .dataframe tbody tr th:only-of-type {\n",
              "        vertical-align: middle;\n",
              "    }\n",
              "\n",
              "    .dataframe tbody tr th {\n",
              "        vertical-align: top;\n",
              "    }\n",
              "\n",
              "    .dataframe thead th {\n",
              "        text-align: right;\n",
              "    }\n",
              "</style>\n",
              "<table border=\"1\" class=\"dataframe\">\n",
              "  <thead>\n",
              "    <tr style=\"text-align: right;\">\n",
              "      <th></th>\n",
              "      <th>emp_length</th>\n",
              "      <th>charged_off</th>\n",
              "    </tr>\n",
              "  </thead>\n",
              "  <tbody>\n",
              "    <tr>\n",
              "      <th>emp_length</th>\n",
              "      <td>1.000000</td>\n",
              "      <td>-0.005975</td>\n",
              "    </tr>\n",
              "    <tr>\n",
              "      <th>charged_off</th>\n",
              "      <td>-0.005975</td>\n",
              "      <td>1.000000</td>\n",
              "    </tr>\n",
              "  </tbody>\n",
              "</table>\n",
              "</div>\n",
              "      <button class=\"colab-df-convert\" onclick=\"convertToInteractive('df-f4e84e9f-5249-4d96-ab2d-ed17a44dd7e4')\"\n",
              "              title=\"Convert this dataframe to an interactive table.\"\n",
              "              style=\"display:none;\">\n",
              "        \n",
              "  <svg xmlns=\"http://www.w3.org/2000/svg\" height=\"24px\"viewBox=\"0 0 24 24\"\n",
              "       width=\"24px\">\n",
              "    <path d=\"M0 0h24v24H0V0z\" fill=\"none\"/>\n",
              "    <path d=\"M18.56 5.44l.94 2.06.94-2.06 2.06-.94-2.06-.94-.94-2.06-.94 2.06-2.06.94zm-11 1L8.5 8.5l.94-2.06 2.06-.94-2.06-.94L8.5 2.5l-.94 2.06-2.06.94zm10 10l.94 2.06.94-2.06 2.06-.94-2.06-.94-.94-2.06-.94 2.06-2.06.94z\"/><path d=\"M17.41 7.96l-1.37-1.37c-.4-.4-.92-.59-1.43-.59-.52 0-1.04.2-1.43.59L10.3 9.45l-7.72 7.72c-.78.78-.78 2.05 0 2.83L4 21.41c.39.39.9.59 1.41.59.51 0 1.02-.2 1.41-.59l7.78-7.78 2.81-2.81c.8-.78.8-2.07 0-2.86zM5.41 20L4 18.59l7.72-7.72 1.47 1.35L5.41 20z\"/>\n",
              "  </svg>\n",
              "      </button>\n",
              "      \n",
              "  <style>\n",
              "    .colab-df-container {\n",
              "      display:flex;\n",
              "      flex-wrap:wrap;\n",
              "      gap: 12px;\n",
              "    }\n",
              "\n",
              "    .colab-df-convert {\n",
              "      background-color: #E8F0FE;\n",
              "      border: none;\n",
              "      border-radius: 50%;\n",
              "      cursor: pointer;\n",
              "      display: none;\n",
              "      fill: #1967D2;\n",
              "      height: 32px;\n",
              "      padding: 0 0 0 0;\n",
              "      width: 32px;\n",
              "    }\n",
              "\n",
              "    .colab-df-convert:hover {\n",
              "      background-color: #E2EBFA;\n",
              "      box-shadow: 0px 1px 2px rgba(60, 64, 67, 0.3), 0px 1px 3px 1px rgba(60, 64, 67, 0.15);\n",
              "      fill: #174EA6;\n",
              "    }\n",
              "\n",
              "    [theme=dark] .colab-df-convert {\n",
              "      background-color: #3B4455;\n",
              "      fill: #D2E3FC;\n",
              "    }\n",
              "\n",
              "    [theme=dark] .colab-df-convert:hover {\n",
              "      background-color: #434B5C;\n",
              "      box-shadow: 0px 1px 3px 1px rgba(0, 0, 0, 0.15);\n",
              "      filter: drop-shadow(0px 1px 2px rgba(0, 0, 0, 0.3));\n",
              "      fill: #FFFFFF;\n",
              "    }\n",
              "  </style>\n",
              "\n",
              "      <script>\n",
              "        const buttonEl =\n",
              "          document.querySelector('#df-f4e84e9f-5249-4d96-ab2d-ed17a44dd7e4 button.colab-df-convert');\n",
              "        buttonEl.style.display =\n",
              "          google.colab.kernel.accessAllowed ? 'block' : 'none';\n",
              "\n",
              "        async function convertToInteractive(key) {\n",
              "          const element = document.querySelector('#df-f4e84e9f-5249-4d96-ab2d-ed17a44dd7e4');\n",
              "          const dataTable =\n",
              "            await google.colab.kernel.invokeFunction('convertToInteractive',\n",
              "                                                     [key], {});\n",
              "          if (!dataTable) return;\n",
              "\n",
              "          const docLinkHtml = 'Like what you see? Visit the ' +\n",
              "            '<a target=\"_blank\" href=https://colab.research.google.com/notebooks/data_table.ipynb>data table notebook</a>'\n",
              "            + ' to learn more about interactive tables.';\n",
              "          element.innerHTML = '';\n",
              "          dataTable['output_type'] = 'display_data';\n",
              "          await google.colab.output.renderOutput(dataTable, element);\n",
              "          const docLink = document.createElement('div');\n",
              "          docLink.innerHTML = docLinkHtml;\n",
              "          element.appendChild(docLink);\n",
              "        }\n",
              "      </script>\n",
              "    </div>\n",
              "  </div>\n",
              "  "
            ]
          },
          "metadata": {},
          "execution_count": 55
        }
      ]
    },
    {
      "cell_type": "markdown",
      "metadata": {
        "id": "ALbW1T3kiVv7"
      },
      "source": [
        "Podemos observar que esta variable no tiene mucho poder explicativo. La proporcion es parecida para cada valor, y parece no estar correlacionada con el target. En este caso los datos no soportan nuestra intuicion, hay que eliminarla."
      ]
    },
    {
      "cell_type": "code",
      "metadata": {
        "colab": {
          "base_uri": "https://localhost:8080/"
        },
        "id": "dN56JuJ_ipj6",
        "outputId": "b5c472c8-59d3-42a8-b8f3-069890d7beef"
      },
      "source": [
        "dataset.drop(['emp_length'], axis=1, inplace=True)"
      ],
      "execution_count": 56,
      "outputs": [
        {
          "output_type": "stream",
          "name": "stderr",
          "text": [
            "/usr/local/lib/python3.7/dist-packages/pandas/core/frame.py:4913: SettingWithCopyWarning: \n",
            "A value is trying to be set on a copy of a slice from a DataFrame\n",
            "\n",
            "See the caveats in the documentation: https://pandas.pydata.org/pandas-docs/stable/user_guide/indexing.html#returning-a-view-versus-a-copy\n",
            "  errors=errors,\n"
          ]
        }
      ]
    },
    {
      "cell_type": "markdown",
      "metadata": {
        "id": "U2yHuEbaitJP"
      },
      "source": [
        "###### sub_grade"
      ]
    },
    {
      "cell_type": "code",
      "metadata": {
        "colab": {
          "base_uri": "https://localhost:8080/",
          "height": 356
        },
        "id": "kI3vBzCriwAv",
        "outputId": "5595491e-95e6-4ae3-db2c-38907a281432"
      },
      "source": [
        "charge_off_rates = dataset.groupby('sub_grade'\n",
        "            )['charged_off'].value_counts(normalize=True).loc[:,1]\n",
        "sns.set(rc={'figure.figsize':(12,5)})\n",
        "sns.barplot(x=charge_off_rates.index, y=charge_off_rates.values)"
      ],
      "execution_count": 57,
      "outputs": [
        {
          "output_type": "execute_result",
          "data": {
            "text/plain": [
              "<matplotlib.axes._subplots.AxesSubplot at 0x7fa6fecc5590>"
            ]
          },
          "metadata": {},
          "execution_count": 57
        },
        {
          "output_type": "display_data",
          "data": {
            "text/plain": [
              "<Figure size 864x360 with 1 Axes>"
            ],
            "image/png": "[encoded data removed]"
          },
          "metadata": {}
        }
      ]
    },
    {
      "cell_type": "markdown",
      "metadata": {
        "id": "WFCURYLzi3uw"
      },
      "source": [
        "Podemos observar que la probabilidad de incurrir en `charge_off` aumenta conforme el `sub_grade` decrece. En este caso los datos favorecen nuestra intuicion."
      ]
    },
    {
      "cell_type": "markdown",
      "metadata": {
        "id": "1N5iK3jXnyGT"
      },
      "source": [
        "Dado que observamos un comportamiento monotono-decreciente que sigue cierta logica (mejor score menor probabilidad de fallo) podemos convertirla en variable numerica."
      ]
    },
    {
      "cell_type": "code",
      "metadata": {
        "colab": {
          "base_uri": "https://localhost:8080/"
        },
        "id": "TcDtL4NHoEOi",
        "outputId": "1fa3d5e5-87cf-41cc-e52b-609228fc74dc"
      },
      "source": [
        "# Este es un encoder de labels no de Xs, sin embargo lo usaremos.\n",
        "from sklearn.preprocessing import LabelEncoder\n",
        "label_f = LabelEncoder()\n",
        "dataset['sub_grade'] = label_f.fit_transform(dataset['sub_grade'])"
      ],
      "execution_count": 58,
      "outputs": [
        {
          "output_type": "stream",
          "name": "stderr",
          "text": [
            "/usr/local/lib/python3.7/dist-packages/ipykernel_launcher.py:4: SettingWithCopyWarning: \n",
            "A value is trying to be set on a copy of a slice from a DataFrame.\n",
            "Try using .loc[row_indexer,col_indexer] = value instead\n",
            "\n",
            "See the caveats in the documentation: https://pandas.pydata.org/pandas-docs/stable/user_guide/indexing.html#returning-a-view-versus-a-copy\n",
            "  after removing the cwd from sys.path.\n"
          ]
        }
      ]
    },
    {
      "cell_type": "code",
      "source": [
        "dataset['sub_grade'].unique()"
      ],
      "metadata": {
        "colab": {
          "base_uri": "https://localhost:8080/"
        },
        "id": "5Q1SefpEST0z",
        "outputId": "02b6cb13-8f0e-4995-8251-4862c8cb3647"
      },
      "execution_count": 59,
      "outputs": [
        {
          "output_type": "execute_result",
          "data": {
            "text/plain": [
              "array([10,  2, 15, 12,  9,  8, 13, 19,  7, 14, 16, 11,  6,  3, 17,  5,  4,\n",
              "       24, 25, 23, 18, 21, 20, 31, 30, 27, 26,  0,  1, 32, 22, 28, 33, 29,\n",
              "       34])"
            ]
          },
          "metadata": {},
          "execution_count": 59
        }
      ]
    },
    {
      "cell_type": "code",
      "metadata": {
        "colab": {
          "base_uri": "https://localhost:8080/",
          "height": 356
        },
        "id": "1RUhLbwApsbr",
        "outputId": "1c94309e-3d86-4642-c269-f51ff9271646"
      },
      "source": [
        "charge_off_rates = dataset.groupby('sub_grade'\n",
        "            )['charged_off'].value_counts(normalize=True).loc[:,1]\n",
        "sns.set(rc={'figure.figsize':(12,5)})\n",
        "sns.barplot(x=charge_off_rates.index, y=charge_off_rates.values)"
      ],
      "execution_count": 60,
      "outputs": [
        {
          "output_type": "execute_result",
          "data": {
            "text/plain": [
              "<matplotlib.axes._subplots.AxesSubplot at 0x7fa71bc80ad0>"
            ]
          },
          "metadata": {},
          "execution_count": 60
        },
        {
          "output_type": "display_data",
          "data": {
            "text/plain": [
              "<Figure size 864x360 with 1 Axes>"
            ],
            "image/png": "[encoded data removed]"
          },
          "metadata": {}
        }
      ]
    },
    {
      "cell_type": "markdown",
      "metadata": {
        "id": "D4iUlE_cp6_n"
      },
      "source": [
        "Ahora podemos eliminar `grade`, pues logramos usar una variable mas granular."
      ]
    },
    {
      "cell_type": "code",
      "metadata": {
        "colab": {
          "base_uri": "https://localhost:8080/",
          "height": 112
        },
        "id": "RhQCGsB7qIBy",
        "outputId": "1117e8eb-a028-4d6d-8a24-7606b3498834"
      },
      "source": [
        "dataset[['sub_grade', 'charged_off']].corr()"
      ],
      "execution_count": 61,
      "outputs": [
        {
          "output_type": "execute_result",
          "data": {
            "text/plain": [
              "             sub_grade  charged_off\n",
              "sub_grade     1.000000     0.284397\n",
              "charged_off   0.284397     1.000000"
            ],
            "text/html": [
              "\n",
              "  <div id=\"df-c97dc69e-b0c9-4189-b635-5dc96a910590\">\n",
              "    <div class=\"colab-df-container\">\n",
              "      <div>\n",
              "<style scoped>\n",
              "    .dataframe tbody tr th:only-of-type {\n",
              "        vertical-align: middle;\n",
              "    }\n",
              "\n",
              "    .dataframe tbody tr th {\n",
              "        vertical-align: top;\n",
              "    }\n",
              "\n",
              "    .dataframe thead th {\n",
              "        text-align: right;\n",
              "    }\n",
              "</style>\n",
              "<table border=\"1\" class=\"dataframe\">\n",
              "  <thead>\n",
              "    <tr style=\"text-align: right;\">\n",
              "      <th></th>\n",
              "      <th>sub_grade</th>\n",
              "      <th>charged_off</th>\n",
              "    </tr>\n",
              "  </thead>\n",
              "  <tbody>\n",
              "    <tr>\n",
              "      <th>sub_grade</th>\n",
              "      <td>1.000000</td>\n",
              "      <td>0.284397</td>\n",
              "    </tr>\n",
              "    <tr>\n",
              "      <th>charged_off</th>\n",
              "      <td>0.284397</td>\n",
              "      <td>1.000000</td>\n",
              "    </tr>\n",
              "  </tbody>\n",
              "</table>\n",
              "</div>\n",
              "      <button class=\"colab-df-convert\" onclick=\"convertToInteractive('df-c97dc69e-b0c9-4189-b635-5dc96a910590')\"\n",
              "              title=\"Convert this dataframe to an interactive table.\"\n",
              "              style=\"display:none;\">\n",
              "        \n",
              "  <svg xmlns=\"http://www.w3.org/2000/svg\" height=\"24px\"viewBox=\"0 0 24 24\"\n",
              "       width=\"24px\">\n",
              "    <path d=\"M0 0h24v24H0V0z\" fill=\"none\"/>\n",
              "    <path d=\"M18.56 5.44l.94 2.06.94-2.06 2.06-.94-2.06-.94-.94-2.06-.94 2.06-2.06.94zm-11 1L8.5 8.5l.94-2.06 2.06-.94-2.06-.94L8.5 2.5l-.94 2.06-2.06.94zm10 10l.94 2.06.94-2.06 2.06-.94-2.06-.94-.94-2.06-.94 2.06-2.06.94z\"/><path d=\"M17.41 7.96l-1.37-1.37c-.4-.4-.92-.59-1.43-.59-.52 0-1.04.2-1.43.59L10.3 9.45l-7.72 7.72c-.78.78-.78 2.05 0 2.83L4 21.41c.39.39.9.59 1.41.59.51 0 1.02-.2 1.41-.59l7.78-7.78 2.81-2.81c.8-.78.8-2.07 0-2.86zM5.41 20L4 18.59l7.72-7.72 1.47 1.35L5.41 20z\"/>\n",
              "  </svg>\n",
              "      </button>\n",
              "      \n",
              "  <style>\n",
              "    .colab-df-container {\n",
              "      display:flex;\n",
              "      flex-wrap:wrap;\n",
              "      gap: 12px;\n",
              "    }\n",
              "\n",
              "    .colab-df-convert {\n",
              "      background-color: #E8F0FE;\n",
              "      border: none;\n",
              "      border-radius: 50%;\n",
              "      cursor: pointer;\n",
              "      display: none;\n",
              "      fill: #1967D2;\n",
              "      height: 32px;\n",
              "      padding: 0 0 0 0;\n",
              "      width: 32px;\n",
              "    }\n",
              "\n",
              "    .colab-df-convert:hover {\n",
              "      background-color: #E2EBFA;\n",
              "      box-shadow: 0px 1px 2px rgba(60, 64, 67, 0.3), 0px 1px 3px 1px rgba(60, 64, 67, 0.15);\n",
              "      fill: #174EA6;\n",
              "    }\n",
              "\n",
              "    [theme=dark] .colab-df-convert {\n",
              "      background-color: #3B4455;\n",
              "      fill: #D2E3FC;\n",
              "    }\n",
              "\n",
              "    [theme=dark] .colab-df-convert:hover {\n",
              "      background-color: #434B5C;\n",
              "      box-shadow: 0px 1px 3px 1px rgba(0, 0, 0, 0.15);\n",
              "      filter: drop-shadow(0px 1px 2px rgba(0, 0, 0, 0.3));\n",
              "      fill: #FFFFFF;\n",
              "    }\n",
              "  </style>\n",
              "\n",
              "      <script>\n",
              "        const buttonEl =\n",
              "          document.querySelector('#df-c97dc69e-b0c9-4189-b635-5dc96a910590 button.colab-df-convert');\n",
              "        buttonEl.style.display =\n",
              "          google.colab.kernel.accessAllowed ? 'block' : 'none';\n",
              "\n",
              "        async function convertToInteractive(key) {\n",
              "          const element = document.querySelector('#df-c97dc69e-b0c9-4189-b635-5dc96a910590');\n",
              "          const dataTable =\n",
              "            await google.colab.kernel.invokeFunction('convertToInteractive',\n",
              "                                                     [key], {});\n",
              "          if (!dataTable) return;\n",
              "\n",
              "          const docLinkHtml = 'Like what you see? Visit the ' +\n",
              "            '<a target=\"_blank\" href=https://colab.research.google.com/notebooks/data_table.ipynb>data table notebook</a>'\n",
              "            + ' to learn more about interactive tables.';\n",
              "          element.innerHTML = '';\n",
              "          dataTable['output_type'] = 'display_data';\n",
              "          await google.colab.output.renderOutput(dataTable, element);\n",
              "          const docLink = document.createElement('div');\n",
              "          docLink.innerHTML = docLinkHtml;\n",
              "          element.appendChild(docLink);\n",
              "        }\n",
              "      </script>\n",
              "    </div>\n",
              "  </div>\n",
              "  "
            ]
          },
          "metadata": {},
          "execution_count": 61
        }
      ]
    },
    {
      "cell_type": "code",
      "metadata": {
        "colab": {
          "base_uri": "https://localhost:8080/"
        },
        "id": "_vzHep_PqCGj",
        "outputId": "0b36f6ca-627a-49ae-cf6e-babc4a3cb33c"
      },
      "source": [
        "dataset.drop(['grade'], axis=1, inplace=True)"
      ],
      "execution_count": 62,
      "outputs": [
        {
          "output_type": "stream",
          "name": "stderr",
          "text": [
            "/usr/local/lib/python3.7/dist-packages/pandas/core/frame.py:4913: SettingWithCopyWarning: \n",
            "A value is trying to be set on a copy of a slice from a DataFrame\n",
            "\n",
            "See the caveats in the documentation: https://pandas.pydata.org/pandas-docs/stable/user_guide/indexing.html#returning-a-view-versus-a-copy\n",
            "  errors=errors,\n"
          ]
        }
      ]
    },
    {
      "cell_type": "markdown",
      "metadata": {
        "id": "JBpW1ci3qxjU"
      },
      "source": [
        "###### home_ownership"
      ]
    },
    {
      "cell_type": "code",
      "metadata": {
        "colab": {
          "base_uri": "https://localhost:8080/"
        },
        "id": "porFMWvjq37u",
        "outputId": "8aa97f6b-59fd-46bf-92d0-0301dea3a018"
      },
      "source": [
        "dataset['home_ownership'].unique()"
      ],
      "execution_count": 63,
      "outputs": [
        {
          "output_type": "execute_result",
          "data": {
            "text/plain": [
              "array(['RENT', 'MORTGAGE', 'OWN', 'ANY'], dtype=object)"
            ]
          },
          "metadata": {},
          "execution_count": 63
        }
      ]
    },
    {
      "cell_type": "code",
      "metadata": {
        "colab": {
          "base_uri": "https://localhost:8080/"
        },
        "id": "XEtpYioNrEhf",
        "outputId": "483477f1-d8e2-4573-dcbb-b5b1d0b7a152"
      },
      "source": [
        "charge_off_rates = dataset.groupby(\n",
        "    'home_ownership')['charged_off'].value_counts(normalize=True).loc[:,1]\n",
        "charge_off_rates"
      ],
      "execution_count": 64,
      "outputs": [
        {
          "output_type": "execute_result",
          "data": {
            "text/plain": [
              "home_ownership\n",
              "MORTGAGE    0.166040\n",
              "OWN         0.188597\n",
              "RENT        0.212734\n",
              "Name: charged_off, dtype: float64"
            ]
          },
          "metadata": {},
          "execution_count": 64
        }
      ]
    },
    {
      "cell_type": "code",
      "metadata": {
        "colab": {
          "base_uri": "https://localhost:8080/",
          "height": 174
        },
        "id": "THgu0YedrSf6",
        "outputId": "5ce24dda-d5af-421c-e29c-610d920faafd"
      },
      "source": [
        "dataset[dataset['home_ownership']=='ANY']"
      ],
      "execution_count": 65,
      "outputs": [
        {
          "output_type": "execute_result",
          "data": {
            "text/plain": [
              "       loan_amnt  funded_amnt  term  int_rate  installment  sub_grade  \\\n",
              "80625     5000.0       5000.0    36     11.67       165.29          8   \n",
              "\n",
              "      home_ownership  annual_inc verification_status             purpose  ...  \\\n",
              "80625            ANY     35680.0     Source Verified  debt_consolidation  ...   \n",
              "\n",
              "       last_pymnt_amnt acc_open_past_24mths  avg_cur_bal  bc_open_to_buy  \\\n",
              "80625          5048.63                  5.0      18703.0          4381.0   \n",
              "\n",
              "       bc_util  mo_sin_old_rev_tl_op mo_sin_rcnt_rev_tl_op  mort_acc  \\\n",
              "80625     43.1                  92.0                   3.0       1.0   \n",
              "\n",
              "       num_actv_rev_tl  charged_off  \n",
              "80625              3.0            0  \n",
              "\n",
              "[1 rows x 27 columns]"
            ],
            "text/html": [
              "\n",
              "  <div id=\"df-92136243-50ec-4d82-bfa4-e088b8f74877\">\n",
              "    <div class=\"colab-df-container\">\n",
              "      <div>\n",
              "<style scoped>\n",
              "    .dataframe tbody tr th:only-of-type {\n",
              "        vertical-align: middle;\n",
              "    }\n",
              "\n",
              "    .dataframe tbody tr th {\n",
              "        vertical-align: top;\n",
              "    }\n",
              "\n",
              "    .dataframe thead th {\n",
              "        text-align: right;\n",
              "    }\n",
              "</style>\n",
              "<table border=\"1\" class=\"dataframe\">\n",
              "  <thead>\n",
              "    <tr style=\"text-align: right;\">\n",
              "      <th></th>\n",
              "      <th>loan_amnt</th>\n",
              "      <th>funded_amnt</th>\n",
              "      <th>term</th>\n",
              "      <th>int_rate</th>\n",
              "      <th>installment</th>\n",
              "      <th>sub_grade</th>\n",
              "      <th>home_ownership</th>\n",
              "      <th>annual_inc</th>\n",
              "      <th>verification_status</th>\n",
              "      <th>purpose</th>\n",
              "      <th>...</th>\n",
              "      <th>last_pymnt_amnt</th>\n",
              "      <th>acc_open_past_24mths</th>\n",
              "      <th>avg_cur_bal</th>\n",
              "      <th>bc_open_to_buy</th>\n",
              "      <th>bc_util</th>\n",
              "      <th>mo_sin_old_rev_tl_op</th>\n",
              "      <th>mo_sin_rcnt_rev_tl_op</th>\n",
              "      <th>mort_acc</th>\n",
              "      <th>num_actv_rev_tl</th>\n",
              "      <th>charged_off</th>\n",
              "    </tr>\n",
              "  </thead>\n",
              "  <tbody>\n",
              "    <tr>\n",
              "      <th>80625</th>\n",
              "      <td>5000.0</td>\n",
              "      <td>5000.0</td>\n",
              "      <td>36</td>\n",
              "      <td>11.67</td>\n",
              "      <td>165.29</td>\n",
              "      <td>8</td>\n",
              "      <td>ANY</td>\n",
              "      <td>35680.0</td>\n",
              "      <td>Source Verified</td>\n",
              "      <td>debt_consolidation</td>\n",
              "      <td>...</td>\n",
              "      <td>5048.63</td>\n",
              "      <td>5.0</td>\n",
              "      <td>18703.0</td>\n",
              "      <td>4381.0</td>\n",
              "      <td>43.1</td>\n",
              "      <td>92.0</td>\n",
              "      <td>3.0</td>\n",
              "      <td>1.0</td>\n",
              "      <td>3.0</td>\n",
              "      <td>0</td>\n",
              "    </tr>\n",
              "  </tbody>\n",
              "</table>\n",
              "<p>1 rows × 27 columns</p>\n",
              "</div>\n",
              "      <button class=\"colab-df-convert\" onclick=\"convertToInteractive('df-92136243-50ec-4d82-bfa4-e088b8f74877')\"\n",
              "              title=\"Convert this dataframe to an interactive table.\"\n",
              "              style=\"display:none;\">\n",
              "        \n",
              "  <svg xmlns=\"http://www.w3.org/2000/svg\" height=\"24px\"viewBox=\"0 0 24 24\"\n",
              "       width=\"24px\">\n",
              "    <path d=\"M0 0h24v24H0V0z\" fill=\"none\"/>\n",
              "    <path d=\"M18.56 5.44l.94 2.06.94-2.06 2.06-.94-2.06-.94-.94-2.06-.94 2.06-2.06.94zm-11 1L8.5 8.5l.94-2.06 2.06-.94-2.06-.94L8.5 2.5l-.94 2.06-2.06.94zm10 10l.94 2.06.94-2.06 2.06-.94-2.06-.94-.94-2.06-.94 2.06-2.06.94z\"/><path d=\"M17.41 7.96l-1.37-1.37c-.4-.4-.92-.59-1.43-.59-.52 0-1.04.2-1.43.59L10.3 9.45l-7.72 7.72c-.78.78-.78 2.05 0 2.83L4 21.41c.39.39.9.59 1.41.59.51 0 1.02-.2 1.41-.59l7.78-7.78 2.81-2.81c.8-.78.8-2.07 0-2.86zM5.41 20L4 18.59l7.72-7.72 1.47 1.35L5.41 20z\"/>\n",
              "  </svg>\n",
              "      </button>\n",
              "      \n",
              "  <style>\n",
              "    .colab-df-container {\n",
              "      display:flex;\n",
              "      flex-wrap:wrap;\n",
              "      gap: 12px;\n",
              "    }\n",
              "\n",
              "    .colab-df-convert {\n",
              "      background-color: #E8F0FE;\n",
              "      border: none;\n",
              "      border-radius: 50%;\n",
              "      cursor: pointer;\n",
              "      display: none;\n",
              "      fill: #1967D2;\n",
              "      height: 32px;\n",
              "      padding: 0 0 0 0;\n",
              "      width: 32px;\n",
              "    }\n",
              "\n",
              "    .colab-df-convert:hover {\n",
              "      background-color: #E2EBFA;\n",
              "      box-shadow: 0px 1px 2px rgba(60, 64, 67, 0.3), 0px 1px 3px 1px rgba(60, 64, 67, 0.15);\n",
              "      fill: #174EA6;\n",
              "    }\n",
              "\n",
              "    [theme=dark] .colab-df-convert {\n",
              "      background-color: #3B4455;\n",
              "      fill: #D2E3FC;\n",
              "    }\n",
              "\n",
              "    [theme=dark] .colab-df-convert:hover {\n",
              "      background-color: #434B5C;\n",
              "      box-shadow: 0px 1px 3px 1px rgba(0, 0, 0, 0.15);\n",
              "      filter: drop-shadow(0px 1px 2px rgba(0, 0, 0, 0.3));\n",
              "      fill: #FFFFFF;\n",
              "    }\n",
              "  </style>\n",
              "\n",
              "      <script>\n",
              "        const buttonEl =\n",
              "          document.querySelector('#df-92136243-50ec-4d82-bfa4-e088b8f74877 button.colab-df-convert');\n",
              "        buttonEl.style.display =\n",
              "          google.colab.kernel.accessAllowed ? 'block' : 'none';\n",
              "\n",
              "        async function convertToInteractive(key) {\n",
              "          const element = document.querySelector('#df-92136243-50ec-4d82-bfa4-e088b8f74877');\n",
              "          const dataTable =\n",
              "            await google.colab.kernel.invokeFunction('convertToInteractive',\n",
              "                                                     [key], {});\n",
              "          if (!dataTable) return;\n",
              "\n",
              "          const docLinkHtml = 'Like what you see? Visit the ' +\n",
              "            '<a target=\"_blank\" href=https://colab.research.google.com/notebooks/data_table.ipynb>data table notebook</a>'\n",
              "            + ' to learn more about interactive tables.';\n",
              "          element.innerHTML = '';\n",
              "          dataTable['output_type'] = 'display_data';\n",
              "          await google.colab.output.renderOutput(dataTable, element);\n",
              "          const docLink = document.createElement('div');\n",
              "          docLink.innerHTML = docLinkHtml;\n",
              "          element.appendChild(docLink);\n",
              "        }\n",
              "      </script>\n",
              "    </div>\n",
              "  </div>\n",
              "  "
            ]
          },
          "metadata": {},
          "execution_count": 65
        }
      ]
    },
    {
      "cell_type": "markdown",
      "metadata": {
        "id": "WX2aBB2rrX-q"
      },
      "source": [
        "Observamos como el valor `ANY` solo aprece una vez, es mejor eliminarlo."
      ]
    },
    {
      "cell_type": "code",
      "metadata": {
        "id": "ywNhAtsKrgLa"
      },
      "source": [
        "dataset = dataset[dataset['home_ownership']!='ANY']"
      ],
      "execution_count": 66,
      "outputs": []
    },
    {
      "cell_type": "code",
      "metadata": {
        "colab": {
          "base_uri": "https://localhost:8080/",
          "height": 143
        },
        "id": "-wuA4u4F2xAo",
        "outputId": "bf241c9f-e578-4652-f5b1-060094b81c9a"
      },
      "source": [
        "pd.get_dummies(dataset[['home_ownership', 'charged_off']], columns=['home_ownership'], \n",
        "               drop_first=True).corr()"
      ],
      "execution_count": 67,
      "outputs": [
        {
          "output_type": "execute_result",
          "data": {
            "text/plain": [
              "                     charged_off  home_ownership_OWN  home_ownership_RENT\n",
              "charged_off             1.000000            0.000906             0.053804\n",
              "home_ownership_OWN      0.000906            1.000000            -0.284968\n",
              "home_ownership_RENT     0.053804           -0.284968             1.000000"
            ],
            "text/html": [
              "\n",
              "  <div id=\"df-6d22de2c-bfee-491f-bc6d-786613f8721b\">\n",
              "    <div class=\"colab-df-container\">\n",
              "      <div>\n",
              "<style scoped>\n",
              "    .dataframe tbody tr th:only-of-type {\n",
              "        vertical-align: middle;\n",
              "    }\n",
              "\n",
              "    .dataframe tbody tr th {\n",
              "        vertical-align: top;\n",
              "    }\n",
              "\n",
              "    .dataframe thead th {\n",
              "        text-align: right;\n",
              "    }\n",
              "</style>\n",
              "<table border=\"1\" class=\"dataframe\">\n",
              "  <thead>\n",
              "    <tr style=\"text-align: right;\">\n",
              "      <th></th>\n",
              "      <th>charged_off</th>\n",
              "      <th>home_ownership_OWN</th>\n",
              "      <th>home_ownership_RENT</th>\n",
              "    </tr>\n",
              "  </thead>\n",
              "  <tbody>\n",
              "    <tr>\n",
              "      <th>charged_off</th>\n",
              "      <td>1.000000</td>\n",
              "      <td>0.000906</td>\n",
              "      <td>0.053804</td>\n",
              "    </tr>\n",
              "    <tr>\n",
              "      <th>home_ownership_OWN</th>\n",
              "      <td>0.000906</td>\n",
              "      <td>1.000000</td>\n",
              "      <td>-0.284968</td>\n",
              "    </tr>\n",
              "    <tr>\n",
              "      <th>home_ownership_RENT</th>\n",
              "      <td>0.053804</td>\n",
              "      <td>-0.284968</td>\n",
              "      <td>1.000000</td>\n",
              "    </tr>\n",
              "  </tbody>\n",
              "</table>\n",
              "</div>\n",
              "      <button class=\"colab-df-convert\" onclick=\"convertToInteractive('df-6d22de2c-bfee-491f-bc6d-786613f8721b')\"\n",
              "              title=\"Convert this dataframe to an interactive table.\"\n",
              "              style=\"display:none;\">\n",
              "        \n",
              "  <svg xmlns=\"http://www.w3.org/2000/svg\" height=\"24px\"viewBox=\"0 0 24 24\"\n",
              "       width=\"24px\">\n",
              "    <path d=\"M0 0h24v24H0V0z\" fill=\"none\"/>\n",
              "    <path d=\"M18.56 5.44l.94 2.06.94-2.06 2.06-.94-2.06-.94-.94-2.06-.94 2.06-2.06.94zm-11 1L8.5 8.5l.94-2.06 2.06-.94-2.06-.94L8.5 2.5l-.94 2.06-2.06.94zm10 10l.94 2.06.94-2.06 2.06-.94-2.06-.94-.94-2.06-.94 2.06-2.06.94z\"/><path d=\"M17.41 7.96l-1.37-1.37c-.4-.4-.92-.59-1.43-.59-.52 0-1.04.2-1.43.59L10.3 9.45l-7.72 7.72c-.78.78-.78 2.05 0 2.83L4 21.41c.39.39.9.59 1.41.59.51 0 1.02-.2 1.41-.59l7.78-7.78 2.81-2.81c.8-.78.8-2.07 0-2.86zM5.41 20L4 18.59l7.72-7.72 1.47 1.35L5.41 20z\"/>\n",
              "  </svg>\n",
              "      </button>\n",
              "      \n",
              "  <style>\n",
              "    .colab-df-container {\n",
              "      display:flex;\n",
              "      flex-wrap:wrap;\n",
              "      gap: 12px;\n",
              "    }\n",
              "\n",
              "    .colab-df-convert {\n",
              "      background-color: #E8F0FE;\n",
              "      border: none;\n",
              "      border-radius: 50%;\n",
              "      cursor: pointer;\n",
              "      display: none;\n",
              "      fill: #1967D2;\n",
              "      height: 32px;\n",
              "      padding: 0 0 0 0;\n",
              "      width: 32px;\n",
              "    }\n",
              "\n",
              "    .colab-df-convert:hover {\n",
              "      background-color: #E2EBFA;\n",
              "      box-shadow: 0px 1px 2px rgba(60, 64, 67, 0.3), 0px 1px 3px 1px rgba(60, 64, 67, 0.15);\n",
              "      fill: #174EA6;\n",
              "    }\n",
              "\n",
              "    [theme=dark] .colab-df-convert {\n",
              "      background-color: #3B4455;\n",
              "      fill: #D2E3FC;\n",
              "    }\n",
              "\n",
              "    [theme=dark] .colab-df-convert:hover {\n",
              "      background-color: #434B5C;\n",
              "      box-shadow: 0px 1px 3px 1px rgba(0, 0, 0, 0.15);\n",
              "      filter: drop-shadow(0px 1px 2px rgba(0, 0, 0, 0.3));\n",
              "      fill: #FFFFFF;\n",
              "    }\n",
              "  </style>\n",
              "\n",
              "      <script>\n",
              "        const buttonEl =\n",
              "          document.querySelector('#df-6d22de2c-bfee-491f-bc6d-786613f8721b button.colab-df-convert');\n",
              "        buttonEl.style.display =\n",
              "          google.colab.kernel.accessAllowed ? 'block' : 'none';\n",
              "\n",
              "        async function convertToInteractive(key) {\n",
              "          const element = document.querySelector('#df-6d22de2c-bfee-491f-bc6d-786613f8721b');\n",
              "          const dataTable =\n",
              "            await google.colab.kernel.invokeFunction('convertToInteractive',\n",
              "                                                     [key], {});\n",
              "          if (!dataTable) return;\n",
              "\n",
              "          const docLinkHtml = 'Like what you see? Visit the ' +\n",
              "            '<a target=\"_blank\" href=https://colab.research.google.com/notebooks/data_table.ipynb>data table notebook</a>'\n",
              "            + ' to learn more about interactive tables.';\n",
              "          element.innerHTML = '';\n",
              "          dataTable['output_type'] = 'display_data';\n",
              "          await google.colab.output.renderOutput(dataTable, element);\n",
              "          const docLink = document.createElement('div');\n",
              "          docLink.innerHTML = docLinkHtml;\n",
              "          element.appendChild(docLink);\n",
              "        }\n",
              "      </script>\n",
              "    </div>\n",
              "  </div>\n",
              "  "
            ]
          },
          "metadata": {},
          "execution_count": 67
        }
      ]
    },
    {
      "cell_type": "markdown",
      "metadata": {
        "id": "84CcSYPv374O"
      },
      "source": [
        "Observemos como `home_ownership_OWN` tiene una correlacion muy baja con el objetivo. Para ser parsimoniosos podemos quitarlas."
      ]
    },
    {
      "cell_type": "code",
      "metadata": {
        "id": "9zQqlpUz4LUT"
      },
      "source": [
        "dataset = pd.get_dummies(dataset, columns=['home_ownership'], \n",
        "               drop_first=True)\n",
        "dataset.drop(['home_ownership_OWN'], axis=1, inplace=True)"
      ],
      "execution_count": 68,
      "outputs": []
    },
    {
      "cell_type": "markdown",
      "metadata": {
        "id": "HI9zmWnB4896"
      },
      "source": [
        "###### verification_status"
      ]
    },
    {
      "cell_type": "code",
      "metadata": {
        "colab": {
          "base_uri": "https://localhost:8080/",
          "height": 143
        },
        "id": "-T4kNnel4_AM",
        "outputId": "32362477-ea44-4d43-beea-dd7f268d4f92"
      },
      "source": [
        "pd.get_dummies(dataset[['verification_status', 'charged_off']], columns=['verification_status'], \n",
        "               drop_first=True).corr()"
      ],
      "execution_count": 69,
      "outputs": [
        {
          "output_type": "execute_result",
          "data": {
            "text/plain": [
              "                                     charged_off  \\\n",
              "charged_off                             1.000000   \n",
              "verification_status_Source Verified     0.046500   \n",
              "verification_status_Verified            0.061649   \n",
              "\n",
              "                                     verification_status_Source Verified  \\\n",
              "charged_off                                                     0.046500   \n",
              "verification_status_Source Verified                             1.000000   \n",
              "verification_status_Verified                                   -0.494319   \n",
              "\n",
              "                                     verification_status_Verified  \n",
              "charged_off                                              0.061649  \n",
              "verification_status_Source Verified                     -0.494319  \n",
              "verification_status_Verified                             1.000000  "
            ],
            "text/html": [
              "\n",
              "  <div id=\"df-6a30cfb8-4f7f-4f71-a8b0-474e9373ea52\">\n",
              "    <div class=\"colab-df-container\">\n",
              "      <div>\n",
              "<style scoped>\n",
              "    .dataframe tbody tr th:only-of-type {\n",
              "        vertical-align: middle;\n",
              "    }\n",
              "\n",
              "    .dataframe tbody tr th {\n",
              "        vertical-align: top;\n",
              "    }\n",
              "\n",
              "    .dataframe thead th {\n",
              "        text-align: right;\n",
              "    }\n",
              "</style>\n",
              "<table border=\"1\" class=\"dataframe\">\n",
              "  <thead>\n",
              "    <tr style=\"text-align: right;\">\n",
              "      <th></th>\n",
              "      <th>charged_off</th>\n",
              "      <th>verification_status_Source Verified</th>\n",
              "      <th>verification_status_Verified</th>\n",
              "    </tr>\n",
              "  </thead>\n",
              "  <tbody>\n",
              "    <tr>\n",
              "      <th>charged_off</th>\n",
              "      <td>1.000000</td>\n",
              "      <td>0.046500</td>\n",
              "      <td>0.061649</td>\n",
              "    </tr>\n",
              "    <tr>\n",
              "      <th>verification_status_Source Verified</th>\n",
              "      <td>0.046500</td>\n",
              "      <td>1.000000</td>\n",
              "      <td>-0.494319</td>\n",
              "    </tr>\n",
              "    <tr>\n",
              "      <th>verification_status_Verified</th>\n",
              "      <td>0.061649</td>\n",
              "      <td>-0.494319</td>\n",
              "      <td>1.000000</td>\n",
              "    </tr>\n",
              "  </tbody>\n",
              "</table>\n",
              "</div>\n",
              "      <button class=\"colab-df-convert\" onclick=\"convertToInteractive('df-6a30cfb8-4f7f-4f71-a8b0-474e9373ea52')\"\n",
              "              title=\"Convert this dataframe to an interactive table.\"\n",
              "              style=\"display:none;\">\n",
              "        \n",
              "  <svg xmlns=\"http://www.w3.org/2000/svg\" height=\"24px\"viewBox=\"0 0 24 24\"\n",
              "       width=\"24px\">\n",
              "    <path d=\"M0 0h24v24H0V0z\" fill=\"none\"/>\n",
              "    <path d=\"M18.56 5.44l.94 2.06.94-2.06 2.06-.94-2.06-.94-.94-2.06-.94 2.06-2.06.94zm-11 1L8.5 8.5l.94-2.06 2.06-.94-2.06-.94L8.5 2.5l-.94 2.06-2.06.94zm10 10l.94 2.06.94-2.06 2.06-.94-2.06-.94-.94-2.06-.94 2.06-2.06.94z\"/><path d=\"M17.41 7.96l-1.37-1.37c-.4-.4-.92-.59-1.43-.59-.52 0-1.04.2-1.43.59L10.3 9.45l-7.72 7.72c-.78.78-.78 2.05 0 2.83L4 21.41c.39.39.9.59 1.41.59.51 0 1.02-.2 1.41-.59l7.78-7.78 2.81-2.81c.8-.78.8-2.07 0-2.86zM5.41 20L4 18.59l7.72-7.72 1.47 1.35L5.41 20z\"/>\n",
              "  </svg>\n",
              "      </button>\n",
              "      \n",
              "  <style>\n",
              "    .colab-df-container {\n",
              "      display:flex;\n",
              "      flex-wrap:wrap;\n",
              "      gap: 12px;\n",
              "    }\n",
              "\n",
              "    .colab-df-convert {\n",
              "      background-color: #E8F0FE;\n",
              "      border: none;\n",
              "      border-radius: 50%;\n",
              "      cursor: pointer;\n",
              "      display: none;\n",
              "      fill: #1967D2;\n",
              "      height: 32px;\n",
              "      padding: 0 0 0 0;\n",
              "      width: 32px;\n",
              "    }\n",
              "\n",
              "    .colab-df-convert:hover {\n",
              "      background-color: #E2EBFA;\n",
              "      box-shadow: 0px 1px 2px rgba(60, 64, 67, 0.3), 0px 1px 3px 1px rgba(60, 64, 67, 0.15);\n",
              "      fill: #174EA6;\n",
              "    }\n",
              "\n",
              "    [theme=dark] .colab-df-convert {\n",
              "      background-color: #3B4455;\n",
              "      fill: #D2E3FC;\n",
              "    }\n",
              "\n",
              "    [theme=dark] .colab-df-convert:hover {\n",
              "      background-color: #434B5C;\n",
              "      box-shadow: 0px 1px 3px 1px rgba(0, 0, 0, 0.15);\n",
              "      filter: drop-shadow(0px 1px 2px rgba(0, 0, 0, 0.3));\n",
              "      fill: #FFFFFF;\n",
              "    }\n",
              "  </style>\n",
              "\n",
              "      <script>\n",
              "        const buttonEl =\n",
              "          document.querySelector('#df-6a30cfb8-4f7f-4f71-a8b0-474e9373ea52 button.colab-df-convert');\n",
              "        buttonEl.style.display =\n",
              "          google.colab.kernel.accessAllowed ? 'block' : 'none';\n",
              "\n",
              "        async function convertToInteractive(key) {\n",
              "          const element = document.querySelector('#df-6a30cfb8-4f7f-4f71-a8b0-474e9373ea52');\n",
              "          const dataTable =\n",
              "            await google.colab.kernel.invokeFunction('convertToInteractive',\n",
              "                                                     [key], {});\n",
              "          if (!dataTable) return;\n",
              "\n",
              "          const docLinkHtml = 'Like what you see? Visit the ' +\n",
              "            '<a target=\"_blank\" href=https://colab.research.google.com/notebooks/data_table.ipynb>data table notebook</a>'\n",
              "            + ' to learn more about interactive tables.';\n",
              "          element.innerHTML = '';\n",
              "          dataTable['output_type'] = 'display_data';\n",
              "          await google.colab.output.renderOutput(dataTable, element);\n",
              "          const docLink = document.createElement('div');\n",
              "          docLink.innerHTML = docLinkHtml;\n",
              "          element.appendChild(docLink);\n",
              "        }\n",
              "      </script>\n",
              "    </div>\n",
              "  </div>\n",
              "  "
            ]
          },
          "metadata": {},
          "execution_count": 69
        }
      ]
    },
    {
      "cell_type": "code",
      "metadata": {
        "id": "NVUIi9l466Sd"
      },
      "source": [
        "dataset = pd.get_dummies(dataset, columns=['verification_status'], \n",
        "               drop_first=True)"
      ],
      "execution_count": 70,
      "outputs": []
    },
    {
      "cell_type": "markdown",
      "metadata": {
        "id": "PsnJKxns7WLn"
      },
      "source": [
        "###### 'purpose'"
      ]
    },
    {
      "cell_type": "code",
      "metadata": {
        "colab": {
          "base_uri": "https://localhost:8080/"
        },
        "id": "Ln6oBoWA7YJe",
        "outputId": "f1aa89ce-bf79-423b-da36-9450928ca649"
      },
      "source": [
        "dataset['purpose'].unique()"
      ],
      "execution_count": 71,
      "outputs": [
        {
          "output_type": "execute_result",
          "data": {
            "text/plain": [
              "array(['debt_consolidation', 'credit_card', 'home_improvement', 'house',\n",
              "       'medical', 'other', 'car', 'major_purchase', 'moving',\n",
              "       'small_business', 'vacation', 'renewable_energy', 'wedding'],\n",
              "      dtype=object)"
            ]
          },
          "metadata": {},
          "execution_count": 71
        }
      ]
    },
    {
      "cell_type": "code",
      "metadata": {
        "colab": {
          "base_uri": "https://localhost:8080/"
        },
        "id": "TDmrDxno7cOM",
        "outputId": "8c6a195a-ae28-4d61-9eb0-c4a2ccd81009"
      },
      "source": [
        "pd.get_dummies(dataset[['purpose', 'charged_off']], columns=['purpose'], \n",
        "               drop_first=True).corr().loc['charged_off']"
      ],
      "execution_count": 72,
      "outputs": [
        {
          "output_type": "execute_result",
          "data": {
            "text/plain": [
              "charged_off                   1.000000\n",
              "purpose_credit_card          -0.037444\n",
              "purpose_debt_consolidation    0.030523\n",
              "purpose_home_improvement     -0.011345\n",
              "purpose_house                 0.006606\n",
              "purpose_major_purchase       -0.000305\n",
              "purpose_medical               0.003501\n",
              "purpose_moving                0.014111\n",
              "purpose_other                 0.000302\n",
              "purpose_renewable_energy      0.006544\n",
              "purpose_small_business        0.026016\n",
              "purpose_vacation             -0.003054\n",
              "purpose_wedding              -0.002836\n",
              "Name: charged_off, dtype: float64"
            ]
          },
          "metadata": {},
          "execution_count": 72
        }
      ]
    },
    {
      "cell_type": "markdown",
      "metadata": {
        "id": "8ZIIJ-la7ol-"
      },
      "source": [
        "En este caso casi todas las correlaciones son muy bajas, solo `purpose_credit_card` y `purpose_debt_consolidation` parecen ser utiles.  \n",
        "Tambien se podrian colapsar variables, pero eso es recomendable para otra iteracion."
      ]
    },
    {
      "cell_type": "code",
      "metadata": {
        "id": "o-hHumkN8BmB"
      },
      "source": [
        "dummies_purpose = pd.get_dummies(dataset[['purpose', 'charged_off']], columns=['purpose'], \n",
        "               drop_first=True).corr().index\n",
        "dummies_purpose = [v for v in dummies_purpose if v not in ['charged_off', \n",
        "                                                           'purpose_credit_card',\n",
        "                                                           'purpose_debt_consolidation'\n",
        "                                                           ]]\n",
        "dataset = pd.get_dummies(dataset, columns=['purpose'], \n",
        "               drop_first=True) \n",
        "dataset.drop(dummies_purpose, axis=1, inplace=True)                                                  "
      ],
      "execution_count": 73,
      "outputs": []
    },
    {
      "cell_type": "markdown",
      "metadata": {
        "id": "Ob0G98qL9XUa"
      },
      "source": [
        "###### earliest_cr_line"
      ]
    },
    {
      "cell_type": "code",
      "metadata": {
        "colab": {
          "base_uri": "https://localhost:8080/"
        },
        "id": "_qA7DRqw-Y3d",
        "outputId": "09872f48-1aa3-4fff-825a-8c81ec090582"
      },
      "source": [
        "dataset['earliest_cr_line'].head(3)"
      ],
      "execution_count": 74,
      "outputs": [
        {
          "output_type": "execute_result",
          "data": {
            "text/plain": [
              "0    Aug-1994\n",
              "1    Sep-1989\n",
              "2    Aug-2003\n",
              "Name: earliest_cr_line, dtype: object"
            ]
          },
          "metadata": {},
          "execution_count": 74
        }
      ]
    },
    {
      "cell_type": "code",
      "metadata": {
        "id": "jV25Zvvw9dzK"
      },
      "source": [
        "# Convirtamos sus valores a numerico\n",
        "dataset['earliest_cr_line'] = dataset['earliest_cr_line'].apply(lambda x: int(x[4:]))"
      ],
      "execution_count": 75,
      "outputs": []
    },
    {
      "cell_type": "code",
      "metadata": {
        "colab": {
          "base_uri": "https://localhost:8080/",
          "height": 112
        },
        "id": "2RNUjfpP-jBw",
        "outputId": "4642bb8c-7f80-4cdc-efee-460a51592ba8"
      },
      "source": [
        "dataset[['earliest_cr_line', 'charged_off']].corr()"
      ],
      "execution_count": 76,
      "outputs": [
        {
          "output_type": "execute_result",
          "data": {
            "text/plain": [
              "                  earliest_cr_line  charged_off\n",
              "earliest_cr_line          1.000000     0.039028\n",
              "charged_off               0.039028     1.000000"
            ],
            "text/html": [
              "\n",
              "  <div id=\"df-da48598f-0e21-4efe-bdcc-f523cb1a9b33\">\n",
              "    <div class=\"colab-df-container\">\n",
              "      <div>\n",
              "<style scoped>\n",
              "    .dataframe tbody tr th:only-of-type {\n",
              "        vertical-align: middle;\n",
              "    }\n",
              "\n",
              "    .dataframe tbody tr th {\n",
              "        vertical-align: top;\n",
              "    }\n",
              "\n",
              "    .dataframe thead th {\n",
              "        text-align: right;\n",
              "    }\n",
              "</style>\n",
              "<table border=\"1\" class=\"dataframe\">\n",
              "  <thead>\n",
              "    <tr style=\"text-align: right;\">\n",
              "      <th></th>\n",
              "      <th>earliest_cr_line</th>\n",
              "      <th>charged_off</th>\n",
              "    </tr>\n",
              "  </thead>\n",
              "  <tbody>\n",
              "    <tr>\n",
              "      <th>earliest_cr_line</th>\n",
              "      <td>1.000000</td>\n",
              "      <td>0.039028</td>\n",
              "    </tr>\n",
              "    <tr>\n",
              "      <th>charged_off</th>\n",
              "      <td>0.039028</td>\n",
              "      <td>1.000000</td>\n",
              "    </tr>\n",
              "  </tbody>\n",
              "</table>\n",
              "</div>\n",
              "      <button class=\"colab-df-convert\" onclick=\"convertToInteractive('df-da48598f-0e21-4efe-bdcc-f523cb1a9b33')\"\n",
              "              title=\"Convert this dataframe to an interactive table.\"\n",
              "              style=\"display:none;\">\n",
              "        \n",
              "  <svg xmlns=\"http://www.w3.org/2000/svg\" height=\"24px\"viewBox=\"0 0 24 24\"\n",
              "       width=\"24px\">\n",
              "    <path d=\"M0 0h24v24H0V0z\" fill=\"none\"/>\n",
              "    <path d=\"M18.56 5.44l.94 2.06.94-2.06 2.06-.94-2.06-.94-.94-2.06-.94 2.06-2.06.94zm-11 1L8.5 8.5l.94-2.06 2.06-.94-2.06-.94L8.5 2.5l-.94 2.06-2.06.94zm10 10l.94 2.06.94-2.06 2.06-.94-2.06-.94-.94-2.06-.94 2.06-2.06.94z\"/><path d=\"M17.41 7.96l-1.37-1.37c-.4-.4-.92-.59-1.43-.59-.52 0-1.04.2-1.43.59L10.3 9.45l-7.72 7.72c-.78.78-.78 2.05 0 2.83L4 21.41c.39.39.9.59 1.41.59.51 0 1.02-.2 1.41-.59l7.78-7.78 2.81-2.81c.8-.78.8-2.07 0-2.86zM5.41 20L4 18.59l7.72-7.72 1.47 1.35L5.41 20z\"/>\n",
              "  </svg>\n",
              "      </button>\n",
              "      \n",
              "  <style>\n",
              "    .colab-df-container {\n",
              "      display:flex;\n",
              "      flex-wrap:wrap;\n",
              "      gap: 12px;\n",
              "    }\n",
              "\n",
              "    .colab-df-convert {\n",
              "      background-color: #E8F0FE;\n",
              "      border: none;\n",
              "      border-radius: 50%;\n",
              "      cursor: pointer;\n",
              "      display: none;\n",
              "      fill: #1967D2;\n",
              "      height: 32px;\n",
              "      padding: 0 0 0 0;\n",
              "      width: 32px;\n",
              "    }\n",
              "\n",
              "    .colab-df-convert:hover {\n",
              "      background-color: #E2EBFA;\n",
              "      box-shadow: 0px 1px 2px rgba(60, 64, 67, 0.3), 0px 1px 3px 1px rgba(60, 64, 67, 0.15);\n",
              "      fill: #174EA6;\n",
              "    }\n",
              "\n",
              "    [theme=dark] .colab-df-convert {\n",
              "      background-color: #3B4455;\n",
              "      fill: #D2E3FC;\n",
              "    }\n",
              "\n",
              "    [theme=dark] .colab-df-convert:hover {\n",
              "      background-color: #434B5C;\n",
              "      box-shadow: 0px 1px 3px 1px rgba(0, 0, 0, 0.15);\n",
              "      filter: drop-shadow(0px 1px 2px rgba(0, 0, 0, 0.3));\n",
              "      fill: #FFFFFF;\n",
              "    }\n",
              "  </style>\n",
              "\n",
              "      <script>\n",
              "        const buttonEl =\n",
              "          document.querySelector('#df-da48598f-0e21-4efe-bdcc-f523cb1a9b33 button.colab-df-convert');\n",
              "        buttonEl.style.display =\n",
              "          google.colab.kernel.accessAllowed ? 'block' : 'none';\n",
              "\n",
              "        async function convertToInteractive(key) {\n",
              "          const element = document.querySelector('#df-da48598f-0e21-4efe-bdcc-f523cb1a9b33');\n",
              "          const dataTable =\n",
              "            await google.colab.kernel.invokeFunction('convertToInteractive',\n",
              "                                                     [key], {});\n",
              "          if (!dataTable) return;\n",
              "\n",
              "          const docLinkHtml = 'Like what you see? Visit the ' +\n",
              "            '<a target=\"_blank\" href=https://colab.research.google.com/notebooks/data_table.ipynb>data table notebook</a>'\n",
              "            + ' to learn more about interactive tables.';\n",
              "          element.innerHTML = '';\n",
              "          dataTable['output_type'] = 'display_data';\n",
              "          await google.colab.output.renderOutput(dataTable, element);\n",
              "          const docLink = document.createElement('div');\n",
              "          docLink.innerHTML = docLinkHtml;\n",
              "          element.appendChild(docLink);\n",
              "        }\n",
              "      </script>\n",
              "    </div>\n",
              "  </div>\n",
              "  "
            ]
          },
          "metadata": {},
          "execution_count": 76
        }
      ]
    },
    {
      "cell_type": "markdown",
      "metadata": {
        "id": "hXyy_mPU-2Lb"
      },
      "source": [
        "La correlacion no es la mejor, pero podemos dejarla."
      ]
    },
    {
      "cell_type": "markdown",
      "metadata": {
        "id": "cZm72Kog_zGa"
      },
      "source": [
        "###### initial_list_status"
      ]
    },
    {
      "cell_type": "code",
      "metadata": {
        "colab": {
          "base_uri": "https://localhost:8080/"
        },
        "id": "eTErDIam_1GF",
        "outputId": "7433fa29-8630-49a4-a32e-61fe298f23f1"
      },
      "source": [
        "dataset['initial_list_status'].unique()"
      ],
      "execution_count": 77,
      "outputs": [
        {
          "output_type": "execute_result",
          "data": {
            "text/plain": [
              "array(['w', 'f'], dtype=object)"
            ]
          },
          "metadata": {},
          "execution_count": 77
        }
      ]
    },
    {
      "cell_type": "code",
      "metadata": {
        "colab": {
          "base_uri": "https://localhost:8080/",
          "height": 112
        },
        "id": "_7-KpaD1AAdW",
        "outputId": "2fe1ab64-7ead-43ff-bf97-3be563d38d6d"
      },
      "source": [
        "pd.get_dummies(dataset[['initial_list_status', 'charged_off']], \n",
        "               columns=['initial_list_status'], \n",
        "               drop_first=True).corr()"
      ],
      "execution_count": 78,
      "outputs": [
        {
          "output_type": "execute_result",
          "data": {
            "text/plain": [
              "                       charged_off  initial_list_status_w\n",
              "charged_off               1.000000               0.042561\n",
              "initial_list_status_w     0.042561               1.000000"
            ],
            "text/html": [
              "\n",
              "  <div id=\"df-1529d205-8158-4056-a100-39c009c64e35\">\n",
              "    <div class=\"colab-df-container\">\n",
              "      <div>\n",
              "<style scoped>\n",
              "    .dataframe tbody tr th:only-of-type {\n",
              "        vertical-align: middle;\n",
              "    }\n",
              "\n",
              "    .dataframe tbody tr th {\n",
              "        vertical-align: top;\n",
              "    }\n",
              "\n",
              "    .dataframe thead th {\n",
              "        text-align: right;\n",
              "    }\n",
              "</style>\n",
              "<table border=\"1\" class=\"dataframe\">\n",
              "  <thead>\n",
              "    <tr style=\"text-align: right;\">\n",
              "      <th></th>\n",
              "      <th>charged_off</th>\n",
              "      <th>initial_list_status_w</th>\n",
              "    </tr>\n",
              "  </thead>\n",
              "  <tbody>\n",
              "    <tr>\n",
              "      <th>charged_off</th>\n",
              "      <td>1.000000</td>\n",
              "      <td>0.042561</td>\n",
              "    </tr>\n",
              "    <tr>\n",
              "      <th>initial_list_status_w</th>\n",
              "      <td>0.042561</td>\n",
              "      <td>1.000000</td>\n",
              "    </tr>\n",
              "  </tbody>\n",
              "</table>\n",
              "</div>\n",
              "      <button class=\"colab-df-convert\" onclick=\"convertToInteractive('df-1529d205-8158-4056-a100-39c009c64e35')\"\n",
              "              title=\"Convert this dataframe to an interactive table.\"\n",
              "              style=\"display:none;\">\n",
              "        \n",
              "  <svg xmlns=\"http://www.w3.org/2000/svg\" height=\"24px\"viewBox=\"0 0 24 24\"\n",
              "       width=\"24px\">\n",
              "    <path d=\"M0 0h24v24H0V0z\" fill=\"none\"/>\n",
              "    <path d=\"M18.56 5.44l.94 2.06.94-2.06 2.06-.94-2.06-.94-.94-2.06-.94 2.06-2.06.94zm-11 1L8.5 8.5l.94-2.06 2.06-.94-2.06-.94L8.5 2.5l-.94 2.06-2.06.94zm10 10l.94 2.06.94-2.06 2.06-.94-2.06-.94-.94-2.06-.94 2.06-2.06.94z\"/><path d=\"M17.41 7.96l-1.37-1.37c-.4-.4-.92-.59-1.43-.59-.52 0-1.04.2-1.43.59L10.3 9.45l-7.72 7.72c-.78.78-.78 2.05 0 2.83L4 21.41c.39.39.9.59 1.41.59.51 0 1.02-.2 1.41-.59l7.78-7.78 2.81-2.81c.8-.78.8-2.07 0-2.86zM5.41 20L4 18.59l7.72-7.72 1.47 1.35L5.41 20z\"/>\n",
              "  </svg>\n",
              "      </button>\n",
              "      \n",
              "  <style>\n",
              "    .colab-df-container {\n",
              "      display:flex;\n",
              "      flex-wrap:wrap;\n",
              "      gap: 12px;\n",
              "    }\n",
              "\n",
              "    .colab-df-convert {\n",
              "      background-color: #E8F0FE;\n",
              "      border: none;\n",
              "      border-radius: 50%;\n",
              "      cursor: pointer;\n",
              "      display: none;\n",
              "      fill: #1967D2;\n",
              "      height: 32px;\n",
              "      padding: 0 0 0 0;\n",
              "      width: 32px;\n",
              "    }\n",
              "\n",
              "    .colab-df-convert:hover {\n",
              "      background-color: #E2EBFA;\n",
              "      box-shadow: 0px 1px 2px rgba(60, 64, 67, 0.3), 0px 1px 3px 1px rgba(60, 64, 67, 0.15);\n",
              "      fill: #174EA6;\n",
              "    }\n",
              "\n",
              "    [theme=dark] .colab-df-convert {\n",
              "      background-color: #3B4455;\n",
              "      fill: #D2E3FC;\n",
              "    }\n",
              "\n",
              "    [theme=dark] .colab-df-convert:hover {\n",
              "      background-color: #434B5C;\n",
              "      box-shadow: 0px 1px 3px 1px rgba(0, 0, 0, 0.15);\n",
              "      filter: drop-shadow(0px 1px 2px rgba(0, 0, 0, 0.3));\n",
              "      fill: #FFFFFF;\n",
              "    }\n",
              "  </style>\n",
              "\n",
              "      <script>\n",
              "        const buttonEl =\n",
              "          document.querySelector('#df-1529d205-8158-4056-a100-39c009c64e35 button.colab-df-convert');\n",
              "        buttonEl.style.display =\n",
              "          google.colab.kernel.accessAllowed ? 'block' : 'none';\n",
              "\n",
              "        async function convertToInteractive(key) {\n",
              "          const element = document.querySelector('#df-1529d205-8158-4056-a100-39c009c64e35');\n",
              "          const dataTable =\n",
              "            await google.colab.kernel.invokeFunction('convertToInteractive',\n",
              "                                                     [key], {});\n",
              "          if (!dataTable) return;\n",
              "\n",
              "          const docLinkHtml = 'Like what you see? Visit the ' +\n",
              "            '<a target=\"_blank\" href=https://colab.research.google.com/notebooks/data_table.ipynb>data table notebook</a>'\n",
              "            + ' to learn more about interactive tables.';\n",
              "          element.innerHTML = '';\n",
              "          dataTable['output_type'] = 'display_data';\n",
              "          await google.colab.output.renderOutput(dataTable, element);\n",
              "          const docLink = document.createElement('div');\n",
              "          docLink.innerHTML = docLinkHtml;\n",
              "          element.appendChild(docLink);\n",
              "        }\n",
              "      </script>\n",
              "    </div>\n",
              "  </div>\n",
              "  "
            ]
          },
          "metadata": {},
          "execution_count": 78
        }
      ]
    },
    {
      "cell_type": "markdown",
      "metadata": {
        "id": "IF-UgPxpAPEH"
      },
      "source": [
        "La correlacion no es tan buena, pero podemos dejarla."
      ]
    },
    {
      "cell_type": "code",
      "metadata": {
        "id": "Pd-Ck3GaARd8"
      },
      "source": [
        "dataset = pd.get_dummies(dataset, \n",
        "               columns=['initial_list_status'], \n",
        "               drop_first=True)"
      ],
      "execution_count": 79,
      "outputs": []
    },
    {
      "cell_type": "markdown",
      "metadata": {
        "id": "ZMjOnR0pAiks"
      },
      "source": [
        "#### Aprendizaje"
      ]
    },
    {
      "cell_type": "markdown",
      "metadata": {
        "id": "jo3wDJ81AqqZ"
      },
      "source": [
        "Ahora hemos terminado de convertir nuestras variables categoricas a numericas, de tal forma que nuestros algoritmos podran leerlas. Pasaremos a analizarlas en conjunto con nuestras variables numericas."
      ]
    },
    {
      "cell_type": "markdown",
      "metadata": {
        "id": "TaCVeziDA6KS"
      },
      "source": [
        "### Seleccion de Features Numericas"
      ]
    },
    {
      "cell_type": "markdown",
      "metadata": {
        "id": "DVjtHcZhDEpP"
      },
      "source": [
        "#### Feature with Feature Correlation"
      ]
    },
    {
      "cell_type": "markdown",
      "metadata": {
        "id": "0RmdlzYLDNNZ"
      },
      "source": [
        "Eliminemos las variables explicativas que esten muy relacioandas entre si. La idea es que es informacion redundante."
      ]
    },
    {
      "cell_type": "code",
      "metadata": {
        "colab": {
          "base_uri": "https://localhost:8080/",
          "height": 1000
        },
        "id": "M51l81N0B7I5",
        "outputId": "74ae3319-5390-4e34-c5d3-31b616e87e40"
      },
      "source": [
        "feature_correlation = dataset.loc[:, dataset.columns != 'charged_off'].corr()\n",
        "feature_correlation"
      ],
      "execution_count": 80,
      "outputs": [
        {
          "output_type": "execute_result",
          "data": {
            "text/plain": [
              "                                     loan_amnt  funded_amnt      term  \\\n",
              "loan_amnt                             1.000000     1.000000  0.367128   \n",
              "funded_amnt                           1.000000     1.000000  0.367128   \n",
              "term                                  0.367128     0.367128  1.000000   \n",
              "int_rate                              0.081989     0.081989  0.412062   \n",
              "installment                           0.956719     0.956719  0.128710   \n",
              "sub_grade                             0.085489     0.085489  0.415738   \n",
              "annual_inc                            0.375334     0.375334  0.047923   \n",
              "dti                                   0.004032     0.004032  0.071772   \n",
              "earliest_cr_line                     -0.170876    -0.170876 -0.024371   \n",
              "fico_range_low                        0.145435     0.145435 -0.000104   \n",
              "fico_range_high                       0.145433     0.145433 -0.000103   \n",
              "open_acc                              0.189378     0.189378  0.075819   \n",
              "revol_util                            0.112908     0.112908  0.063100   \n",
              "last_pymnt_amnt                       0.483557     0.483557  0.366052   \n",
              "acc_open_past_24mths                 -0.002054    -0.002054  0.065702   \n",
              "avg_cur_bal                           0.249615     0.249615  0.074185   \n",
              "bc_open_to_buy                        0.227233     0.227233  0.008355   \n",
              "bc_util                               0.035245     0.035245  0.046113   \n",
              "mo_sin_old_rev_tl_op                  0.179364     0.179364  0.024166   \n",
              "mo_sin_rcnt_rev_tl_op                 0.055015     0.055015 -0.009404   \n",
              "mort_acc                              0.241954     0.241954  0.099086   \n",
              "num_actv_rev_tl                       0.153569     0.153569  0.049406   \n",
              "home_ownership_RENT                  -0.185336    -0.185336 -0.092168   \n",
              "verification_status_Source Verified   0.124784     0.124784  0.142710   \n",
              "verification_status_Verified          0.245929     0.245929  0.080076   \n",
              "purpose_credit_card                   0.040756     0.040756 -0.037796   \n",
              "purpose_debt_consolidation            0.086807     0.086807  0.077619   \n",
              "initial_list_status_w                 0.108390     0.108390  0.290630   \n",
              "\n",
              "                                     int_rate  installment  sub_grade  \\\n",
              "loan_amnt                            0.081989     0.956719   0.085489   \n",
              "funded_amnt                          0.081989     0.956719   0.085489   \n",
              "term                                 0.412062     0.128710   0.415738   \n",
              "int_rate                             1.000000     0.078194   0.996177   \n",
              "installment                          0.078194     1.000000   0.080507   \n",
              "sub_grade                            0.996177     0.080507   1.000000   \n",
              "annual_inc                          -0.116061     0.368545  -0.114916   \n",
              "dti                                  0.203281     0.005830   0.203937   \n",
              "earliest_cr_line                     0.135407    -0.156109   0.135370   \n",
              "fico_range_low                      -0.387205     0.105185  -0.385240   \n",
              "fico_range_high                     -0.387203     0.105184  -0.385238   \n",
              "open_acc                            -0.008523     0.178550  -0.008436   \n",
              "revol_util                           0.207595     0.124193   0.206731   \n",
              "last_pymnt_amnt                      0.099689     0.397910   0.100875   \n",
              "acc_open_past_24mths                 0.225448     0.007956   0.225571   \n",
              "avg_cur_bal                         -0.097409     0.226761  -0.096000   \n",
              "bc_open_to_buy                      -0.295008     0.198262  -0.292809   \n",
              "bc_util                              0.246672     0.051590   0.245819   \n",
              "mo_sin_old_rev_tl_op                -0.153263     0.163315  -0.152921   \n",
              "mo_sin_rcnt_rev_tl_op               -0.124426     0.044395  -0.123908   \n",
              "mort_acc                            -0.078239     0.214367  -0.077277   \n",
              "num_actv_rev_tl                      0.082477     0.159329   0.081448   \n",
              "home_ownership_RENT                  0.069182    -0.160240   0.068081   \n",
              "verification_status_Source Verified  0.034614     0.097286   0.035448   \n",
              "verification_status_Verified         0.205737     0.254309   0.207645   \n",
              "purpose_credit_card                 -0.214897     0.029269  -0.215312   \n",
              "purpose_debt_consolidation           0.088257     0.084410   0.087888   \n",
              "initial_list_status_w                0.028108     0.028257   0.029894   \n",
              "\n",
              "                                     annual_inc       dti  earliest_cr_line  \\\n",
              "loan_amnt                              0.375334  0.004032         -0.170876   \n",
              "funded_amnt                            0.375334  0.004032         -0.170876   \n",
              "term                                   0.047923  0.071772         -0.024371   \n",
              "int_rate                              -0.116061  0.203281          0.135407   \n",
              "installment                            0.368545  0.005830         -0.156109   \n",
              "sub_grade                             -0.114916  0.203937          0.135370   \n",
              "annual_inc                             1.000000 -0.211709         -0.162855   \n",
              "dti                                   -0.211709  1.000000         -0.027557   \n",
              "earliest_cr_line                      -0.162855 -0.027557          1.000000   \n",
              "fico_range_low                         0.103122 -0.065502         -0.100665   \n",
              "fico_range_high                        0.103122 -0.065503         -0.100666   \n",
              "open_acc                               0.143196  0.280590         -0.127806   \n",
              "revol_util                             0.045467  0.175618         -0.000589   \n",
              "last_pymnt_amnt                        0.199016 -0.048401         -0.065558   \n",
              "acc_open_past_24mths                   0.041772  0.165314          0.033849   \n",
              "avg_cur_bal                            0.372661 -0.139364         -0.141351   \n",
              "bc_open_to_buy                         0.182824 -0.081308         -0.172759   \n",
              "bc_util                               -0.009175  0.183594          0.020253   \n",
              "mo_sin_old_rev_tl_op                   0.159430  0.029656         -0.923234   \n",
              "mo_sin_rcnt_rev_tl_op                  0.043774 -0.023141         -0.052819   \n",
              "mort_acc                               0.252861 -0.068518         -0.298256   \n",
              "num_actv_rev_tl                        0.072760  0.255069         -0.147584   \n",
              "home_ownership_RENT                   -0.156225 -0.000791          0.214746   \n",
              "verification_status_Source Verified    0.027402  0.049590          0.006317   \n",
              "verification_status_Verified           0.073827  0.045077         -0.097256   \n",
              "purpose_credit_card                   -0.002254 -0.013306         -0.003730   \n",
              "purpose_debt_consolidation            -0.020281  0.082383         -0.008860   \n",
              "initial_list_status_w                  0.017401  0.005675         -0.022950   \n",
              "\n",
              "                                     fico_range_low  ...  \\\n",
              "loan_amnt                                  0.145435  ...   \n",
              "funded_amnt                                0.145435  ...   \n",
              "term                                      -0.000104  ...   \n",
              "int_rate                                  -0.387205  ...   \n",
              "installment                                0.105185  ...   \n",
              "sub_grade                                 -0.385240  ...   \n",
              "annual_inc                                 0.103122  ...   \n",
              "dti                                       -0.065502  ...   \n",
              "earliest_cr_line                          -0.100665  ...   \n",
              "fico_range_low                             1.000000  ...   \n",
              "fico_range_high                            1.000000  ...   \n",
              "open_acc                                   0.039119  ...   \n",
              "revol_util                                -0.418143  ...   \n",
              "last_pymnt_amnt                            0.103164  ...   \n",
              "acc_open_past_24mths                      -0.110641  ...   \n",
              "avg_cur_bal                                0.148055  ...   \n",
              "bc_open_to_buy                             0.504536  ...   \n",
              "bc_util                                   -0.459830  ...   \n",
              "mo_sin_old_rev_tl_op                       0.116309  ...   \n",
              "mo_sin_rcnt_rev_tl_op                      0.103099  ...   \n",
              "mort_acc                                   0.089885  ...   \n",
              "num_actv_rev_tl                           -0.156617  ...   \n",
              "home_ownership_RENT                       -0.128729  ...   \n",
              "verification_status_Source Verified       -0.030043  ...   \n",
              "verification_status_Verified              -0.021060  ...   \n",
              "purpose_credit_card                        0.002703  ...   \n",
              "purpose_debt_consolidation                -0.033653  ...   \n",
              "initial_list_status_w                      0.040094  ...   \n",
              "\n",
              "                                     mo_sin_old_rev_tl_op  \\\n",
              "loan_amnt                                        0.179364   \n",
              "funded_amnt                                      0.179364   \n",
              "term                                             0.024166   \n",
              "int_rate                                        -0.153263   \n",
              "installment                                      0.163315   \n",
              "sub_grade                                       -0.152921   \n",
              "annual_inc                                       0.159430   \n",
              "dti                                              0.029656   \n",
              "earliest_cr_line                                -0.923234   \n",
              "fico_range_low                                   0.116309   \n",
              "fico_range_high                                  0.116310   \n",
              "open_acc                                         0.130891   \n",
              "revol_util                                      -0.011868   \n",
              "last_pymnt_amnt                                  0.073974   \n",
              "acc_open_past_24mths                            -0.045976   \n",
              "avg_cur_bal                                      0.138993   \n",
              "bc_open_to_buy                                   0.194908   \n",
              "bc_util                                         -0.032159   \n",
              "mo_sin_old_rev_tl_op                             1.000000   \n",
              "mo_sin_rcnt_rev_tl_op                            0.058502   \n",
              "mort_acc                                         0.304586   \n",
              "num_actv_rev_tl                                  0.157565   \n",
              "home_ownership_RENT                             -0.210318   \n",
              "verification_status_Source Verified             -0.007985   \n",
              "verification_status_Verified                     0.097124   \n",
              "purpose_credit_card                              0.010807   \n",
              "purpose_debt_consolidation                       0.008402   \n",
              "initial_list_status_w                            0.023844   \n",
              "\n",
              "                                     mo_sin_rcnt_rev_tl_op  mort_acc  \\\n",
              "loan_amnt                                         0.055015  0.241954   \n",
              "funded_amnt                                       0.055015  0.241954   \n",
              "term                                             -0.009404  0.099086   \n",
              "int_rate                                         -0.124426 -0.078239   \n",
              "installment                                       0.044395  0.214367   \n",
              "sub_grade                                        -0.123908 -0.077277   \n",
              "annual_inc                                        0.043774  0.252861   \n",
              "dti                                              -0.023141 -0.068518   \n",
              "earliest_cr_line                                 -0.052819 -0.298256   \n",
              "fico_range_low                                    0.103099  0.089885   \n",
              "fico_range_high                                   0.103100  0.089885   \n",
              "open_acc                                         -0.227460  0.112283   \n",
              "revol_util                                        0.187005  0.010233   \n",
              "last_pymnt_amnt                                   0.014097  0.180262   \n",
              "acc_open_past_24mths                             -0.407743  0.063322   \n",
              "avg_cur_bal                                       0.168077  0.448536   \n",
              "bc_open_to_buy                                   -0.050565  0.127540   \n",
              "bc_util                                           0.118152 -0.015608   \n",
              "mo_sin_old_rev_tl_op                              0.058502  0.304586   \n",
              "mo_sin_rcnt_rev_tl_op                             1.000000  0.020430   \n",
              "mort_acc                                          0.020430  1.000000   \n",
              "num_actv_rev_tl                                  -0.227545  0.050591   \n",
              "home_ownership_RENT                              -0.008773 -0.442700   \n",
              "verification_status_Source Verified              -0.000969 -0.016987   \n",
              "verification_status_Verified                     -0.025957  0.064917   \n",
              "purpose_credit_card                               0.011195 -0.007204   \n",
              "purpose_debt_consolidation                       -0.023407  0.009019   \n",
              "initial_list_status_w                             0.009077  0.039043   \n",
              "\n",
              "                                     num_actv_rev_tl  home_ownership_RENT  \\\n",
              "loan_amnt                                   0.153569            -0.185336   \n",
              "funded_amnt                                 0.153569            -0.185336   \n",
              "term                                        0.049406            -0.092168   \n",
              "int_rate                                    0.082477             0.069182   \n",
              "installment                                 0.159329            -0.160240   \n",
              "sub_grade                                   0.081448             0.068081   \n",
              "annual_inc                                  0.072760            -0.156225   \n",
              "dti                                         0.255069            -0.000791   \n",
              "earliest_cr_line                           -0.147584             0.214746   \n",
              "fico_range_low                             -0.156617            -0.128729   \n",
              "fico_range_high                            -0.156617            -0.128729   \n",
              "open_acc                                    0.664854            -0.114699   \n",
              "revol_util                                  0.077041             0.000847   \n",
              "last_pymnt_amnt                             0.019300            -0.136714   \n",
              "acc_open_past_24mths                        0.336097            -0.058044   \n",
              "avg_cur_bal                                -0.157392            -0.414130   \n",
              "bc_open_to_buy                              0.122593            -0.107595   \n",
              "bc_util                                     0.096512             0.020025   \n",
              "mo_sin_old_rev_tl_op                        0.157565            -0.210318   \n",
              "mo_sin_rcnt_rev_tl_op                      -0.227545            -0.008773   \n",
              "mort_acc                                    0.050591            -0.442700   \n",
              "num_actv_rev_tl                             1.000000            -0.074416   \n",
              "home_ownership_RENT                        -0.074416             1.000000   \n",
              "verification_status_Source Verified        -0.017245             0.027451   \n",
              "verification_status_Verified                0.119610            -0.047391   \n",
              "purpose_credit_card                         0.038114             0.015144   \n",
              "purpose_debt_consolidation                  0.049648             0.006075   \n",
              "initial_list_status_w                       0.003009            -0.040689   \n",
              "\n",
              "                                     verification_status_Source Verified  \\\n",
              "loan_amnt                                                       0.124784   \n",
              "funded_amnt                                                     0.124784   \n",
              "term                                                            0.142710   \n",
              "int_rate                                                        0.034614   \n",
              "installment                                                     0.097286   \n",
              "sub_grade                                                       0.035448   \n",
              "annual_inc                                                      0.027402   \n",
              "dti                                                             0.049590   \n",
              "earliest_cr_line                                                0.006317   \n",
              "fico_range_low                                                 -0.030043   \n",
              "fico_range_high                                                -0.030042   \n",
              "open_acc                                                       -0.019791   \n",
              "revol_util                                                      0.041584   \n",
              "last_pymnt_amnt                                                 0.060840   \n",
              "acc_open_past_24mths                                           -0.017479   \n",
              "avg_cur_bal                                                    -0.022042   \n",
              "bc_open_to_buy                                                 -0.007962   \n",
              "bc_util                                                         0.035199   \n",
              "mo_sin_old_rev_tl_op                                           -0.007985   \n",
              "mo_sin_rcnt_rev_tl_op                                          -0.000969   \n",
              "mort_acc                                                       -0.016987   \n",
              "num_actv_rev_tl                                                -0.017245   \n",
              "home_ownership_RENT                                             0.027451   \n",
              "verification_status_Source Verified                             1.000000   \n",
              "verification_status_Verified                                   -0.494319   \n",
              "purpose_credit_card                                            -0.010685   \n",
              "purpose_debt_consolidation                                      0.038662   \n",
              "initial_list_status_w                                           0.051706   \n",
              "\n",
              "                                     verification_status_Verified  \\\n",
              "loan_amnt                                                0.245929   \n",
              "funded_amnt                                              0.245929   \n",
              "term                                                     0.080076   \n",
              "int_rate                                                 0.205737   \n",
              "installment                                              0.254309   \n",
              "sub_grade                                                0.207645   \n",
              "annual_inc                                               0.073827   \n",
              "dti                                                      0.045077   \n",
              "earliest_cr_line                                        -0.097256   \n",
              "fico_range_low                                          -0.021060   \n",
              "fico_range_high                                         -0.021059   \n",
              "open_acc                                                 0.086464   \n",
              "revol_util                                               0.013746   \n",
              "last_pymnt_amnt                                          0.125690   \n",
              "acc_open_past_24mths                                     0.143241   \n",
              "avg_cur_bal                                              0.038871   \n",
              "bc_open_to_buy                                           0.038979   \n",
              "bc_util                                                 -0.000412   \n",
              "mo_sin_old_rev_tl_op                                     0.097124   \n",
              "mo_sin_rcnt_rev_tl_op                                   -0.025957   \n",
              "mort_acc                                                 0.064917   \n",
              "num_actv_rev_tl                                          0.119610   \n",
              "home_ownership_RENT                                     -0.047391   \n",
              "verification_status_Source Verified                     -0.494319   \n",
              "verification_status_Verified                             1.000000   \n",
              "purpose_credit_card                                     -0.025063   \n",
              "purpose_debt_consolidation                               0.011433   \n",
              "initial_list_status_w                                   -0.001405   \n",
              "\n",
              "                                     purpose_credit_card  \\\n",
              "loan_amnt                                       0.040756   \n",
              "funded_amnt                                     0.040756   \n",
              "term                                           -0.037796   \n",
              "int_rate                                       -0.214897   \n",
              "installment                                     0.029269   \n",
              "sub_grade                                      -0.215312   \n",
              "annual_inc                                     -0.002254   \n",
              "dti                                            -0.013306   \n",
              "earliest_cr_line                               -0.003730   \n",
              "fico_range_low                                  0.002703   \n",
              "fico_range_high                                 0.002702   \n",
              "open_acc                                        0.013833   \n",
              "revol_util                                      0.065116   \n",
              "last_pymnt_amnt                                -0.015681   \n",
              "acc_open_past_24mths                           -0.055010   \n",
              "avg_cur_bal                                    -0.004223   \n",
              "bc_open_to_buy                                  0.034406   \n",
              "bc_util                                         0.048805   \n",
              "mo_sin_old_rev_tl_op                            0.010807   \n",
              "mo_sin_rcnt_rev_tl_op                           0.011195   \n",
              "mort_acc                                       -0.007204   \n",
              "num_actv_rev_tl                                 0.038114   \n",
              "home_ownership_RENT                             0.015144   \n",
              "verification_status_Source Verified            -0.010685   \n",
              "verification_status_Verified                   -0.025063   \n",
              "purpose_credit_card                             1.000000   \n",
              "purpose_debt_consolidation                     -0.673695   \n",
              "initial_list_status_w                           0.009675   \n",
              "\n",
              "                                     purpose_debt_consolidation  \\\n",
              "loan_amnt                                              0.086807   \n",
              "funded_amnt                                            0.086807   \n",
              "term                                                   0.077619   \n",
              "int_rate                                               0.088257   \n",
              "installment                                            0.084410   \n",
              "sub_grade                                              0.087888   \n",
              "annual_inc                                            -0.020281   \n",
              "dti                                                    0.082383   \n",
              "earliest_cr_line                                      -0.008860   \n",
              "fico_range_low                                        -0.033653   \n",
              "fico_range_high                                       -0.033653   \n",
              "open_acc                                               0.046817   \n",
              "revol_util                                             0.025476   \n",
              "last_pymnt_amnt                                        0.070973   \n",
              "acc_open_past_24mths                                   0.057629   \n",
              "avg_cur_bal                                           -0.022212   \n",
              "bc_open_to_buy                                        -0.024925   \n",
              "bc_util                                                0.037113   \n",
              "mo_sin_old_rev_tl_op                                   0.008402   \n",
              "mo_sin_rcnt_rev_tl_op                                 -0.023407   \n",
              "mort_acc                                               0.009019   \n",
              "num_actv_rev_tl                                        0.049648   \n",
              "home_ownership_RENT                                    0.006075   \n",
              "verification_status_Source Verified                    0.038662   \n",
              "verification_status_Verified                           0.011433   \n",
              "purpose_credit_card                                   -0.673695   \n",
              "purpose_debt_consolidation                             1.000000   \n",
              "initial_list_status_w                                  0.018100   \n",
              "\n",
              "                                     initial_list_status_w  \n",
              "loan_amnt                                         0.108390  \n",
              "funded_amnt                                       0.108390  \n",
              "term                                              0.290630  \n",
              "int_rate                                          0.028108  \n",
              "installment                                       0.028257  \n",
              "sub_grade                                         0.029894  \n",
              "annual_inc                                        0.017401  \n",
              "dti                                               0.005675  \n",
              "earliest_cr_line                                 -0.022950  \n",
              "fico_range_low                                    0.040094  \n",
              "fico_range_high                                   0.040094  \n",
              "open_acc                                          0.020148  \n",
              "revol_util                                       -0.003740  \n",
              "last_pymnt_amnt                                   0.108466  \n",
              "acc_open_past_24mths                             -0.004634  \n",
              "avg_cur_bal                                       0.030607  \n",
              "bc_open_to_buy                                    0.035949  \n",
              "bc_util                                          -0.009499  \n",
              "mo_sin_old_rev_tl_op                              0.023844  \n",
              "mo_sin_rcnt_rev_tl_op                             0.009077  \n",
              "mort_acc                                          0.039043  \n",
              "num_actv_rev_tl                                   0.003009  \n",
              "home_ownership_RENT                              -0.040689  \n",
              "verification_status_Source Verified               0.051706  \n",
              "verification_status_Verified                     -0.001405  \n",
              "purpose_credit_card                               0.009675  \n",
              "purpose_debt_consolidation                        0.018100  \n",
              "initial_list_status_w                             1.000000  \n",
              "\n",
              "[28 rows x 28 columns]"
            ],
            "text/html": [
              "\n",
              "  <div id=\"df-7611bcbf-ad68-4f10-bd50-25d800e9ad27\">\n",
              "    <div class=\"colab-df-container\">\n",
              "      <div>\n",
              "<style scoped>\n",
              "    .dataframe tbody tr th:only-of-type {\n",
              "        vertical-align: middle;\n",
              "    }\n",
              "\n",
              "    .dataframe tbody tr th {\n",
              "        vertical-align: top;\n",
              "    }\n",
              "\n",
              "    .dataframe thead th {\n",
              "        text-align: right;\n",
              "    }\n",
              "</style>\n",
              "<table border=\"1\" class=\"dataframe\">\n",
              "  <thead>\n",
              "    <tr style=\"text-align: right;\">\n",
              "      <th></th>\n",
              "      <th>loan_amnt</th>\n",
              "      <th>funded_amnt</th>\n",
              "      <th>term</th>\n",
              "      <th>int_rate</th>\n",
              "      <th>installment</th>\n",
              "      <th>sub_grade</th>\n",
              "      <th>annual_inc</th>\n",
              "      <th>dti</th>\n",
              "      <th>earliest_cr_line</th>\n",
              "      <th>fico_range_low</th>\n",
              "      <th>...</th>\n",
              "      <th>mo_sin_old_rev_tl_op</th>\n",
              "      <th>mo_sin_rcnt_rev_tl_op</th>\n",
              "      <th>mort_acc</th>\n",
              "      <th>num_actv_rev_tl</th>\n",
              "      <th>home_ownership_RENT</th>\n",
              "      <th>verification_status_Source Verified</th>\n",
              "      <th>verification_status_Verified</th>\n",
              "      <th>purpose_credit_card</th>\n",
              "      <th>purpose_debt_consolidation</th>\n",
              "      <th>initial_list_status_w</th>\n",
              "    </tr>\n",
              "  </thead>\n",
              "  <tbody>\n",
              "    <tr>\n",
              "      <th>loan_amnt</th>\n",
              "      <td>1.000000</td>\n",
              "      <td>1.000000</td>\n",
              "      <td>0.367128</td>\n",
              "      <td>0.081989</td>\n",
              "      <td>0.956719</td>\n",
              "      <td>0.085489</td>\n",
              "      <td>0.375334</td>\n",
              "      <td>0.004032</td>\n",
              "      <td>-0.170876</td>\n",
              "      <td>0.145435</td>\n",
              "      <td>...</td>\n",
              "      <td>0.179364</td>\n",
              "      <td>0.055015</td>\n",
              "      <td>0.241954</td>\n",
              "      <td>0.153569</td>\n",
              "      <td>-0.185336</td>\n",
              "      <td>0.124784</td>\n",
              "      <td>0.245929</td>\n",
              "      <td>0.040756</td>\n",
              "      <td>0.086807</td>\n",
              "      <td>0.108390</td>\n",
              "    </tr>\n",
              "    <tr>\n",
              "      <th>funded_amnt</th>\n",
              "      <td>1.000000</td>\n",
              "      <td>1.000000</td>\n",
              "      <td>0.367128</td>\n",
              "      <td>0.081989</td>\n",
              "      <td>0.956719</td>\n",
              "      <td>0.085489</td>\n",
              "      <td>0.375334</td>\n",
              "      <td>0.004032</td>\n",
              "      <td>-0.170876</td>\n",
              "      <td>0.145435</td>\n",
              "      <td>...</td>\n",
              "      <td>0.179364</td>\n",
              "      <td>0.055015</td>\n",
              "      <td>0.241954</td>\n",
              "      <td>0.153569</td>\n",
              "      <td>-0.185336</td>\n",
              "      <td>0.124784</td>\n",
              "      <td>0.245929</td>\n",
              "      <td>0.040756</td>\n",
              "      <td>0.086807</td>\n",
              "      <td>0.108390</td>\n",
              "    </tr>\n",
              "    <tr>\n",
              "      <th>term</th>\n",
              "      <td>0.367128</td>\n",
              "      <td>0.367128</td>\n",
              "      <td>1.000000</td>\n",
              "      <td>0.412062</td>\n",
              "      <td>0.128710</td>\n",
              "      <td>0.415738</td>\n",
              "      <td>0.047923</td>\n",
              "      <td>0.071772</td>\n",
              "      <td>-0.024371</td>\n",
              "      <td>-0.000104</td>\n",
              "      <td>...</td>\n",
              "      <td>0.024166</td>\n",
              "      <td>-0.009404</td>\n",
              "      <td>0.099086</td>\n",
              "      <td>0.049406</td>\n",
              "      <td>-0.092168</td>\n",
              "      <td>0.142710</td>\n",
              "      <td>0.080076</td>\n",
              "      <td>-0.037796</td>\n",
              "      <td>0.077619</td>\n",
              "      <td>0.290630</td>\n",
              "    </tr>\n",
              "    <tr>\n",
              "      <th>int_rate</th>\n",
              "      <td>0.081989</td>\n",
              "      <td>0.081989</td>\n",
              "      <td>0.412062</td>\n",
              "      <td>1.000000</td>\n",
              "      <td>0.078194</td>\n",
              "      <td>0.996177</td>\n",
              "      <td>-0.116061</td>\n",
              "      <td>0.203281</td>\n",
              "      <td>0.135407</td>\n",
              "      <td>-0.387205</td>\n",
              "      <td>...</td>\n",
              "      <td>-0.153263</td>\n",
              "      <td>-0.124426</td>\n",
              "      <td>-0.078239</td>\n",
              "      <td>0.082477</td>\n",
              "      <td>0.069182</td>\n",
              "      <td>0.034614</td>\n",
              "      <td>0.205737</td>\n",
              "      <td>-0.214897</td>\n",
              "      <td>0.088257</td>\n",
              "      <td>0.028108</td>\n",
              "    </tr>\n",
              "    <tr>\n",
              "      <th>installment</th>\n",
              "      <td>0.956719</td>\n",
              "      <td>0.956719</td>\n",
              "      <td>0.128710</td>\n",
              "      <td>0.078194</td>\n",
              "      <td>1.000000</td>\n",
              "      <td>0.080507</td>\n",
              "      <td>0.368545</td>\n",
              "      <td>0.005830</td>\n",
              "      <td>-0.156109</td>\n",
              "      <td>0.105185</td>\n",
              "      <td>...</td>\n",
              "      <td>0.163315</td>\n",
              "      <td>0.044395</td>\n",
              "      <td>0.214367</td>\n",
              "      <td>0.159329</td>\n",
              "      <td>-0.160240</td>\n",
              "      <td>0.097286</td>\n",
              "      <td>0.254309</td>\n",
              "      <td>0.029269</td>\n",
              "      <td>0.084410</td>\n",
              "      <td>0.028257</td>\n",
              "    </tr>\n",
              "    <tr>\n",
              "      <th>sub_grade</th>\n",
              "      <td>0.085489</td>\n",
              "      <td>0.085489</td>\n",
              "      <td>0.415738</td>\n",
              "      <td>0.996177</td>\n",
              "      <td>0.080507</td>\n",
              "      <td>1.000000</td>\n",
              "      <td>-0.114916</td>\n",
              "      <td>0.203937</td>\n",
              "      <td>0.135370</td>\n",
              "      <td>-0.385240</td>\n",
              "      <td>...</td>\n",
              "      <td>-0.152921</td>\n",
              "      <td>-0.123908</td>\n",
              "      <td>-0.077277</td>\n",
              "      <td>0.081448</td>\n",
              "      <td>0.068081</td>\n",
              "      <td>0.035448</td>\n",
              "      <td>0.207645</td>\n",
              "      <td>-0.215312</td>\n",
              "      <td>0.087888</td>\n",
              "      <td>0.029894</td>\n",
              "    </tr>\n",
              "    <tr>\n",
              "      <th>annual_inc</th>\n",
              "      <td>0.375334</td>\n",
              "      <td>0.375334</td>\n",
              "      <td>0.047923</td>\n",
              "      <td>-0.116061</td>\n",
              "      <td>0.368545</td>\n",
              "      <td>-0.114916</td>\n",
              "      <td>1.000000</td>\n",
              "      <td>-0.211709</td>\n",
              "      <td>-0.162855</td>\n",
              "      <td>0.103122</td>\n",
              "      <td>...</td>\n",
              "      <td>0.159430</td>\n",
              "      <td>0.043774</td>\n",
              "      <td>0.252861</td>\n",
              "      <td>0.072760</td>\n",
              "      <td>-0.156225</td>\n",
              "      <td>0.027402</td>\n",
              "      <td>0.073827</td>\n",
              "      <td>-0.002254</td>\n",
              "      <td>-0.020281</td>\n",
              "      <td>0.017401</td>\n",
              "    </tr>\n",
              "    <tr>\n",
              "      <th>dti</th>\n",
              "      <td>0.004032</td>\n",
              "      <td>0.004032</td>\n",
              "      <td>0.071772</td>\n",
              "      <td>0.203281</td>\n",
              "      <td>0.005830</td>\n",
              "      <td>0.203937</td>\n",
              "      <td>-0.211709</td>\n",
              "      <td>1.000000</td>\n",
              "      <td>-0.027557</td>\n",
              "      <td>-0.065502</td>\n",
              "      <td>...</td>\n",
              "      <td>0.029656</td>\n",
              "      <td>-0.023141</td>\n",
              "      <td>-0.068518</td>\n",
              "      <td>0.255069</td>\n",
              "      <td>-0.000791</td>\n",
              "      <td>0.049590</td>\n",
              "      <td>0.045077</td>\n",
              "      <td>-0.013306</td>\n",
              "      <td>0.082383</td>\n",
              "      <td>0.005675</td>\n",
              "    </tr>\n",
              "    <tr>\n",
              "      <th>earliest_cr_line</th>\n",
              "      <td>-0.170876</td>\n",
              "      <td>-0.170876</td>\n",
              "      <td>-0.024371</td>\n",
              "      <td>0.135407</td>\n",
              "      <td>-0.156109</td>\n",
              "      <td>0.135370</td>\n",
              "      <td>-0.162855</td>\n",
              "      <td>-0.027557</td>\n",
              "      <td>1.000000</td>\n",
              "      <td>-0.100665</td>\n",
              "      <td>...</td>\n",
              "      <td>-0.923234</td>\n",
              "      <td>-0.052819</td>\n",
              "      <td>-0.298256</td>\n",
              "      <td>-0.147584</td>\n",
              "      <td>0.214746</td>\n",
              "      <td>0.006317</td>\n",
              "      <td>-0.097256</td>\n",
              "      <td>-0.003730</td>\n",
              "      <td>-0.008860</td>\n",
              "      <td>-0.022950</td>\n",
              "    </tr>\n",
              "    <tr>\n",
              "      <th>fico_range_low</th>\n",
              "      <td>0.145435</td>\n",
              "      <td>0.145435</td>\n",
              "      <td>-0.000104</td>\n",
              "      <td>-0.387205</td>\n",
              "      <td>0.105185</td>\n",
              "      <td>-0.385240</td>\n",
              "      <td>0.103122</td>\n",
              "      <td>-0.065502</td>\n",
              "      <td>-0.100665</td>\n",
              "      <td>1.000000</td>\n",
              "      <td>...</td>\n",
              "      <td>0.116309</td>\n",
              "      <td>0.103099</td>\n",
              "      <td>0.089885</td>\n",
              "      <td>-0.156617</td>\n",
              "      <td>-0.128729</td>\n",
              "      <td>-0.030043</td>\n",
              "      <td>-0.021060</td>\n",
              "      <td>0.002703</td>\n",
              "      <td>-0.033653</td>\n",
              "      <td>0.040094</td>\n",
              "    </tr>\n",
              "    <tr>\n",
              "      <th>fico_range_high</th>\n",
              "      <td>0.145433</td>\n",
              "      <td>0.145433</td>\n",
              "      <td>-0.000103</td>\n",
              "      <td>-0.387203</td>\n",
              "      <td>0.105184</td>\n",
              "      <td>-0.385238</td>\n",
              "      <td>0.103122</td>\n",
              "      <td>-0.065503</td>\n",
              "      <td>-0.100666</td>\n",
              "      <td>1.000000</td>\n",
              "      <td>...</td>\n",
              "      <td>0.116310</td>\n",
              "      <td>0.103100</td>\n",
              "      <td>0.089885</td>\n",
              "      <td>-0.156617</td>\n",
              "      <td>-0.128729</td>\n",
              "      <td>-0.030042</td>\n",
              "      <td>-0.021059</td>\n",
              "      <td>0.002702</td>\n",
              "      <td>-0.033653</td>\n",
              "      <td>0.040094</td>\n",
              "    </tr>\n",
              "    <tr>\n",
              "      <th>open_acc</th>\n",
              "      <td>0.189378</td>\n",
              "      <td>0.189378</td>\n",
              "      <td>0.075819</td>\n",
              "      <td>-0.008523</td>\n",
              "      <td>0.178550</td>\n",
              "      <td>-0.008436</td>\n",
              "      <td>0.143196</td>\n",
              "      <td>0.280590</td>\n",
              "      <td>-0.127806</td>\n",
              "      <td>0.039119</td>\n",
              "      <td>...</td>\n",
              "      <td>0.130891</td>\n",
              "      <td>-0.227460</td>\n",
              "      <td>0.112283</td>\n",
              "      <td>0.664854</td>\n",
              "      <td>-0.114699</td>\n",
              "      <td>-0.019791</td>\n",
              "      <td>0.086464</td>\n",
              "      <td>0.013833</td>\n",
              "      <td>0.046817</td>\n",
              "      <td>0.020148</td>\n",
              "    </tr>\n",
              "    <tr>\n",
              "      <th>revol_util</th>\n",
              "      <td>0.112908</td>\n",
              "      <td>0.112908</td>\n",
              "      <td>0.063100</td>\n",
              "      <td>0.207595</td>\n",
              "      <td>0.124193</td>\n",
              "      <td>0.206731</td>\n",
              "      <td>0.045467</td>\n",
              "      <td>0.175618</td>\n",
              "      <td>-0.000589</td>\n",
              "      <td>-0.418143</td>\n",
              "      <td>...</td>\n",
              "      <td>-0.011868</td>\n",
              "      <td>0.187005</td>\n",
              "      <td>0.010233</td>\n",
              "      <td>0.077041</td>\n",
              "      <td>0.000847</td>\n",
              "      <td>0.041584</td>\n",
              "      <td>0.013746</td>\n",
              "      <td>0.065116</td>\n",
              "      <td>0.025476</td>\n",
              "      <td>-0.003740</td>\n",
              "    </tr>\n",
              "    <tr>\n",
              "      <th>last_pymnt_amnt</th>\n",
              "      <td>0.483557</td>\n",
              "      <td>0.483557</td>\n",
              "      <td>0.366052</td>\n",
              "      <td>0.099689</td>\n",
              "      <td>0.397910</td>\n",
              "      <td>0.100875</td>\n",
              "      <td>0.199016</td>\n",
              "      <td>-0.048401</td>\n",
              "      <td>-0.065558</td>\n",
              "      <td>0.103164</td>\n",
              "      <td>...</td>\n",
              "      <td>0.073974</td>\n",
              "      <td>0.014097</td>\n",
              "      <td>0.180262</td>\n",
              "      <td>0.019300</td>\n",
              "      <td>-0.136714</td>\n",
              "      <td>0.060840</td>\n",
              "      <td>0.125690</td>\n",
              "      <td>-0.015681</td>\n",
              "      <td>0.070973</td>\n",
              "      <td>0.108466</td>\n",
              "    </tr>\n",
              "    <tr>\n",
              "      <th>acc_open_past_24mths</th>\n",
              "      <td>-0.002054</td>\n",
              "      <td>-0.002054</td>\n",
              "      <td>0.065702</td>\n",
              "      <td>0.225448</td>\n",
              "      <td>0.007956</td>\n",
              "      <td>0.225571</td>\n",
              "      <td>0.041772</td>\n",
              "      <td>0.165314</td>\n",
              "      <td>0.033849</td>\n",
              "      <td>-0.110641</td>\n",
              "      <td>...</td>\n",
              "      <td>-0.045976</td>\n",
              "      <td>-0.407743</td>\n",
              "      <td>0.063322</td>\n",
              "      <td>0.336097</td>\n",
              "      <td>-0.058044</td>\n",
              "      <td>-0.017479</td>\n",
              "      <td>0.143241</td>\n",
              "      <td>-0.055010</td>\n",
              "      <td>0.057629</td>\n",
              "      <td>-0.004634</td>\n",
              "    </tr>\n",
              "    <tr>\n",
              "      <th>avg_cur_bal</th>\n",
              "      <td>0.249615</td>\n",
              "      <td>0.249615</td>\n",
              "      <td>0.074185</td>\n",
              "      <td>-0.097409</td>\n",
              "      <td>0.226761</td>\n",
              "      <td>-0.096000</td>\n",
              "      <td>0.372661</td>\n",
              "      <td>-0.139364</td>\n",
              "      <td>-0.141351</td>\n",
              "      <td>0.148055</td>\n",
              "      <td>...</td>\n",
              "      <td>0.138993</td>\n",
              "      <td>0.168077</td>\n",
              "      <td>0.448536</td>\n",
              "      <td>-0.157392</td>\n",
              "      <td>-0.414130</td>\n",
              "      <td>-0.022042</td>\n",
              "      <td>0.038871</td>\n",
              "      <td>-0.004223</td>\n",
              "      <td>-0.022212</td>\n",
              "      <td>0.030607</td>\n",
              "    </tr>\n",
              "    <tr>\n",
              "      <th>bc_open_to_buy</th>\n",
              "      <td>0.227233</td>\n",
              "      <td>0.227233</td>\n",
              "      <td>0.008355</td>\n",
              "      <td>-0.295008</td>\n",
              "      <td>0.198262</td>\n",
              "      <td>-0.292809</td>\n",
              "      <td>0.182824</td>\n",
              "      <td>-0.081308</td>\n",
              "      <td>-0.172759</td>\n",
              "      <td>0.504536</td>\n",
              "      <td>...</td>\n",
              "      <td>0.194908</td>\n",
              "      <td>-0.050565</td>\n",
              "      <td>0.127540</td>\n",
              "      <td>0.122593</td>\n",
              "      <td>-0.107595</td>\n",
              "      <td>-0.007962</td>\n",
              "      <td>0.038979</td>\n",
              "      <td>0.034406</td>\n",
              "      <td>-0.024925</td>\n",
              "      <td>0.035949</td>\n",
              "    </tr>\n",
              "    <tr>\n",
              "      <th>bc_util</th>\n",
              "      <td>0.035245</td>\n",
              "      <td>0.035245</td>\n",
              "      <td>0.046113</td>\n",
              "      <td>0.246672</td>\n",
              "      <td>0.051590</td>\n",
              "      <td>0.245819</td>\n",
              "      <td>-0.009175</td>\n",
              "      <td>0.183594</td>\n",
              "      <td>0.020253</td>\n",
              "      <td>-0.459830</td>\n",
              "      <td>...</td>\n",
              "      <td>-0.032159</td>\n",
              "      <td>0.118152</td>\n",
              "      <td>-0.015608</td>\n",
              "      <td>0.096512</td>\n",
              "      <td>0.020025</td>\n",
              "      <td>0.035199</td>\n",
              "      <td>-0.000412</td>\n",
              "      <td>0.048805</td>\n",
              "      <td>0.037113</td>\n",
              "      <td>-0.009499</td>\n",
              "    </tr>\n",
              "    <tr>\n",
              "      <th>mo_sin_old_rev_tl_op</th>\n",
              "      <td>0.179364</td>\n",
              "      <td>0.179364</td>\n",
              "      <td>0.024166</td>\n",
              "      <td>-0.153263</td>\n",
              "      <td>0.163315</td>\n",
              "      <td>-0.152921</td>\n",
              "      <td>0.159430</td>\n",
              "      <td>0.029656</td>\n",
              "      <td>-0.923234</td>\n",
              "      <td>0.116309</td>\n",
              "      <td>...</td>\n",
              "      <td>1.000000</td>\n",
              "      <td>0.058502</td>\n",
              "      <td>0.304586</td>\n",
              "      <td>0.157565</td>\n",
              "      <td>-0.210318</td>\n",
              "      <td>-0.007985</td>\n",
              "      <td>0.097124</td>\n",
              "      <td>0.010807</td>\n",
              "      <td>0.008402</td>\n",
              "      <td>0.023844</td>\n",
              "    </tr>\n",
              "    <tr>\n",
              "      <th>mo_sin_rcnt_rev_tl_op</th>\n",
              "      <td>0.055015</td>\n",
              "      <td>0.055015</td>\n",
              "      <td>-0.009404</td>\n",
              "      <td>-0.124426</td>\n",
              "      <td>0.044395</td>\n",
              "      <td>-0.123908</td>\n",
              "      <td>0.043774</td>\n",
              "      <td>-0.023141</td>\n",
              "      <td>-0.052819</td>\n",
              "      <td>0.103099</td>\n",
              "      <td>...</td>\n",
              "      <td>0.058502</td>\n",
              "      <td>1.000000</td>\n",
              "      <td>0.020430</td>\n",
              "      <td>-0.227545</td>\n",
              "      <td>-0.008773</td>\n",
              "      <td>-0.000969</td>\n",
              "      <td>-0.025957</td>\n",
              "      <td>0.011195</td>\n",
              "      <td>-0.023407</td>\n",
              "      <td>0.009077</td>\n",
              "    </tr>\n",
              "    <tr>\n",
              "      <th>mort_acc</th>\n",
              "      <td>0.241954</td>\n",
              "      <td>0.241954</td>\n",
              "      <td>0.099086</td>\n",
              "      <td>-0.078239</td>\n",
              "      <td>0.214367</td>\n",
              "      <td>-0.077277</td>\n",
              "      <td>0.252861</td>\n",
              "      <td>-0.068518</td>\n",
              "      <td>-0.298256</td>\n",
              "      <td>0.089885</td>\n",
              "      <td>...</td>\n",
              "      <td>0.304586</td>\n",
              "      <td>0.020430</td>\n",
              "      <td>1.000000</td>\n",
              "      <td>0.050591</td>\n",
              "      <td>-0.442700</td>\n",
              "      <td>-0.016987</td>\n",
              "      <td>0.064917</td>\n",
              "      <td>-0.007204</td>\n",
              "      <td>0.009019</td>\n",
              "      <td>0.039043</td>\n",
              "    </tr>\n",
              "    <tr>\n",
              "      <th>num_actv_rev_tl</th>\n",
              "      <td>0.153569</td>\n",
              "      <td>0.153569</td>\n",
              "      <td>0.049406</td>\n",
              "      <td>0.082477</td>\n",
              "      <td>0.159329</td>\n",
              "      <td>0.081448</td>\n",
              "      <td>0.072760</td>\n",
              "      <td>0.255069</td>\n",
              "      <td>-0.147584</td>\n",
              "      <td>-0.156617</td>\n",
              "      <td>...</td>\n",
              "      <td>0.157565</td>\n",
              "      <td>-0.227545</td>\n",
              "      <td>0.050591</td>\n",
              "      <td>1.000000</td>\n",
              "      <td>-0.074416</td>\n",
              "      <td>-0.017245</td>\n",
              "      <td>0.119610</td>\n",
              "      <td>0.038114</td>\n",
              "      <td>0.049648</td>\n",
              "      <td>0.003009</td>\n",
              "    </tr>\n",
              "    <tr>\n",
              "      <th>home_ownership_RENT</th>\n",
              "      <td>-0.185336</td>\n",
              "      <td>-0.185336</td>\n",
              "      <td>-0.092168</td>\n",
              "      <td>0.069182</td>\n",
              "      <td>-0.160240</td>\n",
              "      <td>0.068081</td>\n",
              "      <td>-0.156225</td>\n",
              "      <td>-0.000791</td>\n",
              "      <td>0.214746</td>\n",
              "      <td>-0.128729</td>\n",
              "      <td>...</td>\n",
              "      <td>-0.210318</td>\n",
              "      <td>-0.008773</td>\n",
              "      <td>-0.442700</td>\n",
              "      <td>-0.074416</td>\n",
              "      <td>1.000000</td>\n",
              "      <td>0.027451</td>\n",
              "      <td>-0.047391</td>\n",
              "      <td>0.015144</td>\n",
              "      <td>0.006075</td>\n",
              "      <td>-0.040689</td>\n",
              "    </tr>\n",
              "    <tr>\n",
              "      <th>verification_status_Source Verified</th>\n",
              "      <td>0.124784</td>\n",
              "      <td>0.124784</td>\n",
              "      <td>0.142710</td>\n",
              "      <td>0.034614</td>\n",
              "      <td>0.097286</td>\n",
              "      <td>0.035448</td>\n",
              "      <td>0.027402</td>\n",
              "      <td>0.049590</td>\n",
              "      <td>0.006317</td>\n",
              "      <td>-0.030043</td>\n",
              "      <td>...</td>\n",
              "      <td>-0.007985</td>\n",
              "      <td>-0.000969</td>\n",
              "      <td>-0.016987</td>\n",
              "      <td>-0.017245</td>\n",
              "      <td>0.027451</td>\n",
              "      <td>1.000000</td>\n",
              "      <td>-0.494319</td>\n",
              "      <td>-0.010685</td>\n",
              "      <td>0.038662</td>\n",
              "      <td>0.051706</td>\n",
              "    </tr>\n",
              "    <tr>\n",
              "      <th>verification_status_Verified</th>\n",
              "      <td>0.245929</td>\n",
              "      <td>0.245929</td>\n",
              "      <td>0.080076</td>\n",
              "      <td>0.205737</td>\n",
              "      <td>0.254309</td>\n",
              "      <td>0.207645</td>\n",
              "      <td>0.073827</td>\n",
              "      <td>0.045077</td>\n",
              "      <td>-0.097256</td>\n",
              "      <td>-0.021060</td>\n",
              "      <td>...</td>\n",
              "      <td>0.097124</td>\n",
              "      <td>-0.025957</td>\n",
              "      <td>0.064917</td>\n",
              "      <td>0.119610</td>\n",
              "      <td>-0.047391</td>\n",
              "      <td>-0.494319</td>\n",
              "      <td>1.000000</td>\n",
              "      <td>-0.025063</td>\n",
              "      <td>0.011433</td>\n",
              "      <td>-0.001405</td>\n",
              "    </tr>\n",
              "    <tr>\n",
              "      <th>purpose_credit_card</th>\n",
              "      <td>0.040756</td>\n",
              "      <td>0.040756</td>\n",
              "      <td>-0.037796</td>\n",
              "      <td>-0.214897</td>\n",
              "      <td>0.029269</td>\n",
              "      <td>-0.215312</td>\n",
              "      <td>-0.002254</td>\n",
              "      <td>-0.013306</td>\n",
              "      <td>-0.003730</td>\n",
              "      <td>0.002703</td>\n",
              "      <td>...</td>\n",
              "      <td>0.010807</td>\n",
              "      <td>0.011195</td>\n",
              "      <td>-0.007204</td>\n",
              "      <td>0.038114</td>\n",
              "      <td>0.015144</td>\n",
              "      <td>-0.010685</td>\n",
              "      <td>-0.025063</td>\n",
              "      <td>1.000000</td>\n",
              "      <td>-0.673695</td>\n",
              "      <td>0.009675</td>\n",
              "    </tr>\n",
              "    <tr>\n",
              "      <th>purpose_debt_consolidation</th>\n",
              "      <td>0.086807</td>\n",
              "      <td>0.086807</td>\n",
              "      <td>0.077619</td>\n",
              "      <td>0.088257</td>\n",
              "      <td>0.084410</td>\n",
              "      <td>0.087888</td>\n",
              "      <td>-0.020281</td>\n",
              "      <td>0.082383</td>\n",
              "      <td>-0.008860</td>\n",
              "      <td>-0.033653</td>\n",
              "      <td>...</td>\n",
              "      <td>0.008402</td>\n",
              "      <td>-0.023407</td>\n",
              "      <td>0.009019</td>\n",
              "      <td>0.049648</td>\n",
              "      <td>0.006075</td>\n",
              "      <td>0.038662</td>\n",
              "      <td>0.011433</td>\n",
              "      <td>-0.673695</td>\n",
              "      <td>1.000000</td>\n",
              "      <td>0.018100</td>\n",
              "    </tr>\n",
              "    <tr>\n",
              "      <th>initial_list_status_w</th>\n",
              "      <td>0.108390</td>\n",
              "      <td>0.108390</td>\n",
              "      <td>0.290630</td>\n",
              "      <td>0.028108</td>\n",
              "      <td>0.028257</td>\n",
              "      <td>0.029894</td>\n",
              "      <td>0.017401</td>\n",
              "      <td>0.005675</td>\n",
              "      <td>-0.022950</td>\n",
              "      <td>0.040094</td>\n",
              "      <td>...</td>\n",
              "      <td>0.023844</td>\n",
              "      <td>0.009077</td>\n",
              "      <td>0.039043</td>\n",
              "      <td>0.003009</td>\n",
              "      <td>-0.040689</td>\n",
              "      <td>0.051706</td>\n",
              "      <td>-0.001405</td>\n",
              "      <td>0.009675</td>\n",
              "      <td>0.018100</td>\n",
              "      <td>1.000000</td>\n",
              "    </tr>\n",
              "  </tbody>\n",
              "</table>\n",
              "<p>28 rows × 28 columns</p>\n",
              "</div>\n",
              "      <button class=\"colab-df-convert\" onclick=\"convertToInteractive('df-7611bcbf-ad68-4f10-bd50-25d800e9ad27')\"\n",
              "              title=\"Convert this dataframe to an interactive table.\"\n",
              "              style=\"display:none;\">\n",
              "        \n",
              "  <svg xmlns=\"http://www.w3.org/2000/svg\" height=\"24px\"viewBox=\"0 0 24 24\"\n",
              "       width=\"24px\">\n",
              "    <path d=\"M0 0h24v24H0V0z\" fill=\"none\"/>\n",
              "    <path d=\"M18.56 5.44l.94 2.06.94-2.06 2.06-.94-2.06-.94-.94-2.06-.94 2.06-2.06.94zm-11 1L8.5 8.5l.94-2.06 2.06-.94-2.06-.94L8.5 2.5l-.94 2.06-2.06.94zm10 10l.94 2.06.94-2.06 2.06-.94-2.06-.94-.94-2.06-.94 2.06-2.06.94z\"/><path d=\"M17.41 7.96l-1.37-1.37c-.4-.4-.92-.59-1.43-.59-.52 0-1.04.2-1.43.59L10.3 9.45l-7.72 7.72c-.78.78-.78 2.05 0 2.83L4 21.41c.39.39.9.59 1.41.59.51 0 1.02-.2 1.41-.59l7.78-7.78 2.81-2.81c.8-.78.8-2.07 0-2.86zM5.41 20L4 18.59l7.72-7.72 1.47 1.35L5.41 20z\"/>\n",
              "  </svg>\n",
              "      </button>\n",
              "      \n",
              "  <style>\n",
              "    .colab-df-container {\n",
              "      display:flex;\n",
              "      flex-wrap:wrap;\n",
              "      gap: 12px;\n",
              "    }\n",
              "\n",
              "    .colab-df-convert {\n",
              "      background-color: #E8F0FE;\n",
              "      border: none;\n",
              "      border-radius: 50%;\n",
              "      cursor: pointer;\n",
              "      display: none;\n",
              "      fill: #1967D2;\n",
              "      height: 32px;\n",
              "      padding: 0 0 0 0;\n",
              "      width: 32px;\n",
              "    }\n",
              "\n",
              "    .colab-df-convert:hover {\n",
              "      background-color: #E2EBFA;\n",
              "      box-shadow: 0px 1px 2px rgba(60, 64, 67, 0.3), 0px 1px 3px 1px rgba(60, 64, 67, 0.15);\n",
              "      fill: #174EA6;\n",
              "    }\n",
              "\n",
              "    [theme=dark] .colab-df-convert {\n",
              "      background-color: #3B4455;\n",
              "      fill: #D2E3FC;\n",
              "    }\n",
              "\n",
              "    [theme=dark] .colab-df-convert:hover {\n",
              "      background-color: #434B5C;\n",
              "      box-shadow: 0px 1px 3px 1px rgba(0, 0, 0, 0.15);\n",
              "      filter: drop-shadow(0px 1px 2px rgba(0, 0, 0, 0.3));\n",
              "      fill: #FFFFFF;\n",
              "    }\n",
              "  </style>\n",
              "\n",
              "      <script>\n",
              "        const buttonEl =\n",
              "          document.querySelector('#df-7611bcbf-ad68-4f10-bd50-25d800e9ad27 button.colab-df-convert');\n",
              "        buttonEl.style.display =\n",
              "          google.colab.kernel.accessAllowed ? 'block' : 'none';\n",
              "\n",
              "        async function convertToInteractive(key) {\n",
              "          const element = document.querySelector('#df-7611bcbf-ad68-4f10-bd50-25d800e9ad27');\n",
              "          const dataTable =\n",
              "            await google.colab.kernel.invokeFunction('convertToInteractive',\n",
              "                                                     [key], {});\n",
              "          if (!dataTable) return;\n",
              "\n",
              "          const docLinkHtml = 'Like what you see? Visit the ' +\n",
              "            '<a target=\"_blank\" href=https://colab.research.google.com/notebooks/data_table.ipynb>data table notebook</a>'\n",
              "            + ' to learn more about interactive tables.';\n",
              "          element.innerHTML = '';\n",
              "          dataTable['output_type'] = 'display_data';\n",
              "          await google.colab.output.renderOutput(dataTable, element);\n",
              "          const docLink = document.createElement('div');\n",
              "          docLink.innerHTML = docLinkHtml;\n",
              "          element.appendChild(docLink);\n",
              "        }\n",
              "      </script>\n",
              "    </div>\n",
              "  </div>\n",
              "  "
            ]
          },
          "metadata": {},
          "execution_count": 80
        }
      ]
    },
    {
      "cell_type": "code",
      "metadata": {
        "colab": {
          "base_uri": "https://localhost:8080/",
          "height": 524
        },
        "id": "tyOPXVrhoCCZ",
        "outputId": "b9129338-7c56-4e7a-ad27-e32c17ee3c0b"
      },
      "source": [
        "sns.heatmap(feature_correlation, \n",
        "        xticklabels=feature_correlation.columns,\n",
        "        yticklabels=feature_correlation.columns, center=0)"
      ],
      "execution_count": 81,
      "outputs": [
        {
          "output_type": "execute_result",
          "data": {
            "text/plain": [
              "<matplotlib.axes._subplots.AxesSubplot at 0x7fa6fe443d90>"
            ]
          },
          "metadata": {},
          "execution_count": 81
        },
        {
          "output_type": "display_data",
          "data": {
            "text/plain": [
              "<Figure size 864x360 with 2 Axes>"
            ],
            "image/png": "[encoded data removed]"
          },
          "metadata": {}
        }
      ]
    },
    {
      "cell_type": "code",
      "metadata": {
        "colab": {
          "base_uri": "https://localhost:8080/"
        },
        "id": "98guG9dIDVua",
        "outputId": "1d81a79c-8ecd-45da-a3fc-ce8e786bae15"
      },
      "source": [
        "# Solo usaremos la matriz triangular\n",
        "# Recuerda que la matriz de correlacion es simetrica\n",
        "upper = feature_correlation.where(np.triu(np.ones(\n",
        "    feature_correlation.shape), k=1).astype(np.bool))\n",
        "\n",
        "# Encuentra variables con correlacion mayor a threshold\n",
        "to_drop = [column for column in upper.columns if any(upper[column] > 0.9)]\n",
        "\n",
        "to_drop"
      ],
      "execution_count": 82,
      "outputs": [
        {
          "output_type": "stream",
          "name": "stderr",
          "text": [
            "/usr/local/lib/python3.7/dist-packages/ipykernel_launcher.py:4: DeprecationWarning: `np.bool` is a deprecated alias for the builtin `bool`. To silence this warning, use `bool` by itself. Doing this will not modify any behavior and is safe. If you specifically wanted the numpy scalar type, use `np.bool_` here.\n",
            "Deprecated in NumPy 1.20; for more details and guidance: https://numpy.org/devdocs/release/1.20.0-notes.html#deprecations\n",
            "  after removing the cwd from sys.path.\n"
          ]
        },
        {
          "output_type": "execute_result",
          "data": {
            "text/plain": [
              "['funded_amnt', 'installment', 'sub_grade', 'fico_range_high']"
            ]
          },
          "metadata": {},
          "execution_count": 82
        }
      ]
    },
    {
      "cell_type": "code",
      "metadata": {
        "id": "7pH-GM2kDdgb"
      },
      "source": [
        "# Eliminar columnas \n",
        "dataset.drop(to_drop, axis=1, inplace=True)"
      ],
      "execution_count": 83,
      "outputs": []
    },
    {
      "cell_type": "code",
      "metadata": {
        "colab": {
          "base_uri": "https://localhost:8080/",
          "height": 524
        },
        "id": "RoX0EfXVowP0",
        "outputId": "61c4224f-ee1b-4656-de31-4f44098c8951"
      },
      "source": [
        "feature_correlation = dataset.loc[:, dataset.columns != 'charged_off'].corr()\n",
        "sns.heatmap(feature_correlation, \n",
        "        xticklabels=feature_correlation.columns,\n",
        "        yticklabels=feature_correlation.columns, center=0)"
      ],
      "execution_count": 84,
      "outputs": [
        {
          "output_type": "execute_result",
          "data": {
            "text/plain": [
              "<matplotlib.axes._subplots.AxesSubplot at 0x7fa6fe2f8790>"
            ]
          },
          "metadata": {},
          "execution_count": 84
        },
        {
          "output_type": "display_data",
          "data": {
            "text/plain": [
              "<Figure size 864x360 with 2 Axes>"
            ],
            "image/png": "[encoded data removed]"
          },
          "metadata": {}
        }
      ]
    },
    {
      "cell_type": "markdown",
      "metadata": {
        "id": "VZGKu2qZpXMU"
      },
      "source": [
        "# Modelaje"
      ]
    },
    {
      "cell_type": "markdown",
      "metadata": {
        "id": "ZU8C6vdipYF1"
      },
      "source": [
        "**Nota**: Para conducir los procesos anteriores no dividimos train y test, por lo que existe **leakage** en nuestro modelo. Sin embargo, dado que este es un subsample (150K) de la base completa (887K) no hay tanto problema pues tenemos muchas observaciones para hacer validacion.  \n",
        "\n",
        "Sin embargo, cualquier division que hagamos de los datos que ya analizamos tendra leakage. Por ejemplo, vamos a subestimar el error, pues usamos correlacion con la varaible objetivo para elegir variables.  \n",
        "\n",
        "Normalemente se hacen analisis de esta manera si sabemos que tendremos mucho mas datos nuevos. Aunque, en estricto sentido esta mal, pero nos ayuda a ahorrarnos tiempo y hacer el codigo mas sencillo. Pues no tenemos que manejar diferentes bases.  \n",
        "\n",
        "Lo correcto es al acabar este analisis, es optimizar/refactor el codigo que tenemos y entonces si hacer un analisis con lo aprendido y con los datos divididos desde el inicio."
      ]
    },
    {
      "cell_type": "markdown",
      "metadata": {
        "id": "mLiBJy7_s7HN"
      },
      "source": [
        "## (sub) Sampleo de Datos"
      ]
    },
    {
      "cell_type": "markdown",
      "metadata": {
        "id": "8mHTY2fBwR4F"
      },
      "source": [
        "Dado que tenemos clases desbalanceadas podemos realizar subsampling (reduccion) de la clase con mas etiquetas, o oversampling (aumento) de la clase con menos etiquetas.  Para la clase realizaremos, subsampling. De **tarea** realiza oversampling (seccion de abajo)."
      ]
    },
    {
      "cell_type": "code",
      "metadata": {
        "id": "aUy2_MvT9gN4"
      },
      "source": [
        "df = dataset.copy()"
      ],
      "execution_count": 85,
      "outputs": []
    },
    {
      "cell_type": "code",
      "metadata": {
        "id": "CdGEm1uwtjcb"
      },
      "source": [
        "df.rename(columns={'charged_off':'y'}, inplace=True)"
      ],
      "execution_count": 86,
      "outputs": []
    },
    {
      "cell_type": "code",
      "metadata": {
        "colab": {
          "base_uri": "https://localhost:8080/"
        },
        "id": "MG1PIwTOs_fj",
        "outputId": "75b956b0-a609-47a6-ba1e-03a8a705616d"
      },
      "source": [
        "df['y'].value_counts()"
      ],
      "execution_count": 87,
      "outputs": [
        {
          "output_type": "execute_result",
          "data": {
            "text/plain": [
              "0    69981\n",
              "1    16156\n",
              "Name: y, dtype: int64"
            ]
          },
          "metadata": {},
          "execution_count": 87
        }
      ]
    },
    {
      "cell_type": "code",
      "metadata": {
        "id": "ykZxdztRtigO",
        "colab": {
          "base_uri": "https://localhost:8080/"
        },
        "outputId": "de25da58-a740-48a8-88df-cef74bc31aff"
      },
      "source": [
        "default_0 = df[df['y']==0]\n",
        "default_1 = df[df['y']==1]\n",
        "# Subsample default_0\n",
        "default_0 = default_0.sample(n=default_1.shape[0], random_state=152, \n",
        "                             replace=False)\n",
        "# Merge datasets\n",
        "df = pd.concat([default_1, default_0],ignore_index=True)\n",
        "df = df.sample(frac=1.0).reset_index(drop=True)\n",
        "df['y'].value_counts()"
      ],
      "execution_count": 88,
      "outputs": [
        {
          "output_type": "execute_result",
          "data": {
            "text/plain": [
              "1    16156\n",
              "0    16156\n",
              "Name: y, dtype: int64"
            ]
          },
          "metadata": {},
          "execution_count": 88
        }
      ]
    },
    {
      "cell_type": "markdown",
      "metadata": {
        "id": "oa9dMg2hwEs1"
      },
      "source": [
        "## (over) Sampleo de Datos"
      ]
    },
    {
      "cell_type": "markdown",
      "metadata": {
        "id": "GAjXoO2WwGxk"
      },
      "source": [
        "La siguiente celda contiene el codigo de oversampling.  \n",
        "+ Piensa si el oversampling de datos deberia hacerse despues o antes de train/test, o de alguna otra forma?"
      ]
    },
    {
      "cell_type": "code",
      "metadata": {
        "id": "Btqjyl6IvrSq"
      },
      "source": [
        "##TODO: Tarea\n",
        "\n",
        "# default_0 = dataset[dataset['y']==0]\n",
        "# default_1 = dataset[dataset['y']==1]\n",
        "# # Subsample default_0\n",
        "# default_1 = default_1.sample(n=default_0.shape[0], random_state=192, \n",
        "#                              replace=True)\n",
        "# # Merge datasets\n",
        "# df = pd.concat([default_1, default_0],ignore_index=True)\n",
        "# df = df.sample(frac=1.0).reset_index(drop=True)\n",
        "# df['y'].value_counts()"
      ],
      "execution_count": 89,
      "outputs": []
    },
    {
      "cell_type": "markdown",
      "metadata": {
        "id": "b8XHUrazzGSO"
      },
      "source": [
        "### Imputacion de Datos"
      ]
    },
    {
      "cell_type": "code",
      "metadata": {
        "id": "Vbz8m8IQzHo3"
      },
      "source": [
        "#Filling the NAs with the mean of the column.\n",
        "df.fillna(df.mean(),inplace = True)"
      ],
      "execution_count": 90,
      "outputs": []
    },
    {
      "cell_type": "markdown",
      "metadata": {
        "id": "0E9799Eax7Uj"
      },
      "source": [
        "## Train/Test Split"
      ]
    },
    {
      "cell_type": "code",
      "metadata": {
        "id": "sPPhjiGIx9qb"
      },
      "source": [
        "Y= df[\"y\"]\n",
        "X = df.loc[:, df.columns != 'y']\n",
        "validation_size = 0.2\n",
        "X_train, X_validation, Y_train, Y_validation = train_test_split(X, Y, \n",
        "                                                test_size=validation_size,\n",
        "                                                 random_state=984)\n",
        "\n"
      ],
      "execution_count": 91,
      "outputs": []
    },
    {
      "cell_type": "markdown",
      "metadata": {
        "id": "rZE99D289p1O"
      },
      "source": [
        "## Escalamiento"
      ]
    },
    {
      "cell_type": "code",
      "metadata": {
        "id": "DD_N9udN9rLI"
      },
      "source": [
        "from sklearn import preprocessing\n",
        "mm_scaler = preprocessing.MinMaxScaler()\n",
        "X_train = mm_scaler.fit_transform(X_train)\n",
        "X_validation = mm_scaler.fit_transform(X_validation)"
      ],
      "execution_count": 92,
      "outputs": []
    },
    {
      "cell_type": "markdown",
      "metadata": {
        "id": "zFTV6xSGyTwn"
      },
      "source": [
        "## Modelos"
      ]
    },
    {
      "cell_type": "code",
      "metadata": {
        "id": "U9nd-kx5yo8A"
      },
      "source": [
        "# spot check the algorithms\n",
        "models = []\n",
        "models.append(('LR', LogisticRegression(max_iter=500)))\n",
        "models.append(('LDA', LinearDiscriminantAnalysis()))\n",
        "models.append(('KNN', KNeighborsClassifier()))\n",
        "models.append(('CART', DecisionTreeClassifier()))\n",
        "models.append(('NB', GaussianNB()))\n",
        "#Neural Network\n",
        "models.append(('NN', MLPClassifier(max_iter=500, solver='sgd', \n",
        "                                   early_stopping=True)))\n",
        "#Ensable Models \n",
        "# Boosting methods\n",
        "models.append(('AB', AdaBoostClassifier()))\n",
        "models.append(('GBM', GradientBoostingClassifier()))\n",
        "# Bagging methods\n",
        "models.append(('RF', RandomForestClassifier()))\n",
        "models.append(('ET', ExtraTreesClassifier()))\n",
        "\n",
        "# Metricas\n",
        "#scoring = 'accuracy'\n",
        "#scoring ='precision'\n",
        "#scoring ='recall'\n",
        "scoring = 'roc_auc'\n",
        "\n",
        "\n",
        "# ##Opciones\n",
        "seed = 7364\n",
        "num_folds = 5\n"
      ],
      "execution_count": 93,
      "outputs": []
    },
    {
      "cell_type": "markdown",
      "metadata": {
        "id": "F8FlUokO0eNW"
      },
      "source": [
        "### Entrenamiento"
      ]
    },
    {
      "cell_type": "code",
      "metadata": {
        "colab": {
          "base_uri": "https://localhost:8080/"
        },
        "id": "AtETzpQNyybM",
        "outputId": "691fa992-eff9-4312-98c2-4a76cb9b0582"
      },
      "source": [
        "results = []\n",
        "for name, model in models:\n",
        "    kfold = KFold(n_splits=num_folds, random_state=seed, shuffle=True)\n",
        "    cv_results = cross_val_score(model, X_train, Y_train, cv=kfold,\n",
        "                                 scoring=scoring, n_jobs=-1)\n",
        "    msg = \"%s: %f (%f)\" % (name, cv_results.mean(), cv_results.std())\n",
        "    print(msg)\n",
        "    cv_results = pd.DataFrame({\n",
        "        'results':cv_results\n",
        "    })\n",
        "    cv_results.loc[:,'model_name'] = name\n",
        "    results.append(cv_results)\n",
        "\n",
        "# Convertir todos los resultados un solo DataFrame\n",
        "results = pd.concat(results, ignore_index=True)"
      ],
      "execution_count": 94,
      "outputs": [
        {
          "output_type": "stream",
          "name": "stdout",
          "text": [
            "LR: 0.919918 (0.003477)\n",
            "LDA: 0.900037 (0.004005)\n"
          ]
        },
        {
          "output_type": "stream",
          "name": "stderr",
          "text": [
            "/usr/local/lib/python3.7/dist-packages/joblib/externals/loky/process_executor.py:705: UserWarning: A worker stopped while some jobs were given to the executor. This can be caused by a too short worker timeout or by a memory leak.\n",
            "  \"timeout or by a memory leak.\", UserWarning\n"
          ]
        },
        {
          "output_type": "stream",
          "name": "stdout",
          "text": [
            "KNN: 0.822516 (0.004438)\n",
            "CART: 0.805954 (0.001428)\n",
            "NB: 0.897265 (0.003602)\n",
            "NN: 0.911900 (0.005305)\n",
            "AB: 0.930656 (0.002158)\n",
            "GBM: 0.940163 (0.001903)\n",
            "RF: 0.932944 (0.002447)\n",
            "ET: 0.921571 (0.002434)\n"
          ]
        }
      ]
    },
    {
      "cell_type": "markdown",
      "metadata": {
        "id": "QpHQnY_K0g7t"
      },
      "source": [
        "### Comparacion"
      ]
    },
    {
      "cell_type": "code",
      "metadata": {
        "colab": {
          "base_uri": "https://localhost:8080/",
          "height": 356
        },
        "id": "Ai9usnAp0h4I",
        "outputId": "e7128a63-b975-4bab-d9dd-027bd0da36ad"
      },
      "source": [
        "# compare algorithms\n",
        "sns.boxplot(data=results, x='model_name', y ='results')"
      ],
      "execution_count": 95,
      "outputs": [
        {
          "output_type": "execute_result",
          "data": {
            "text/plain": [
              "<matplotlib.axes._subplots.AxesSubplot at 0x7fa6fc190a10>"
            ]
          },
          "metadata": {},
          "execution_count": 95
        },
        {
          "output_type": "display_data",
          "data": {
            "text/plain": [
              "<Figure size 864x360 with 1 Axes>"
            ],
            "image/png": "[encoded data removed]"
          },
          "metadata": {}
        }
      ]
    },
    {
      "cell_type": "markdown",
      "metadata": {
        "id": "KWUlM8p80ZjK"
      },
      "source": [
        "## GBM"
      ]
    },
    {
      "cell_type": "markdown",
      "metadata": {
        "id": "7T_IKz72qDA3"
      },
      "source": [
        "**Tarea**  \n",
        "Probar/agregar diferntes parametros en el CV."
      ]
    },
    {
      "cell_type": "markdown",
      "metadata": {
        "id": "d2v9LmOOqMiU"
      },
      "source": [
        "[GBM](https://scikit-learn.org/stable/modules/generated/sklearn.ensemble.GradientBoostingClassifier.html)"
      ]
    },
    {
      "cell_type": "code",
      "metadata": {
        "colab": {
          "base_uri": "https://localhost:8080/"
        },
        "id": "6X6n1LIK_pjU",
        "outputId": "39d2fcc7-e3d5-4c6e-cd3b-cf712f2eea8e"
      },
      "source": [
        "# Grid Search: GradientBoosting \n",
        "'''\n",
        "n_estimators : int (default=100)\n",
        "    Numero de boostings que realiza. Es bastante robusto a overfitting,\n",
        "    en comparacion con otros algoritmos de boosting. Por lo que, podemos usar\n",
        "    un numero grande.\n",
        "max_depth : integer, optional (default=3)\n",
        "    El depth o profundida de los estimadores individuales. \n",
        "    The maximum depth limits the number of nodes in the tree. \n",
        "    Tune this parameter for best performance; \n",
        "    the best value depends on the interaction of the input variables.\n",
        "\n",
        "''' \n",
        "n_estimators = [50, 100, 150,180]\n",
        "max_depth= [5, 7]\n",
        "param_grid = dict(n_estimators=n_estimators, max_depth=max_depth)\n",
        "model = GradientBoostingClassifier()\n",
        "kfold = KFold(n_splits=5, random_state=seed, shuffle=True)\n",
        "grid = GridSearchCV(estimator=model, param_grid=param_grid, scoring=scoring,\n",
        "                          cv=kfold, n_jobs=-1, verbose=2)\n",
        "grid_result = grid.fit(X_train, Y_train)\n",
        "\n",
        "#Print Results\n",
        "print(\"Mejor: %f using %s\" % (grid_result.best_score_, grid_result.best_params_))\n",
        "means = grid_result.cv_results_['mean_test_score']\n",
        "stds = grid_result.cv_results_['std_test_score']\n",
        "params = grid_result.cv_results_['params']\n",
        "ranks = grid_result.cv_results_['rank_test_score']\n",
        "for mean, stdev, param, rank in zip(means, stds, params, ranks):\n",
        "    print(\"#%d %f (%f) with: %r\" % (rank, mean, stdev, param))"
      ],
      "execution_count": 96,
      "outputs": [
        {
          "output_type": "stream",
          "name": "stdout",
          "text": [
            "Fitting 5 folds for each of 8 candidates, totalling 40 fits\n",
            "Mejor: 0.941793 using {'max_depth': 5, 'n_estimators': 180}\n",
            "#8 0.940397 (0.002555) with: {'max_depth': 5, 'n_estimators': 50}\n",
            "#2 0.941729 (0.002227) with: {'max_depth': 5, 'n_estimators': 100}\n",
            "#3 0.941612 (0.001834) with: {'max_depth': 5, 'n_estimators': 150}\n",
            "#1 0.941793 (0.002267) with: {'max_depth': 5, 'n_estimators': 180}\n",
            "#7 0.940765 (0.001852) with: {'max_depth': 7, 'n_estimators': 50}\n",
            "#6 0.941452 (0.001488) with: {'max_depth': 7, 'n_estimators': 100}\n",
            "#5 0.941501 (0.001961) with: {'max_depth': 7, 'n_estimators': 150}\n",
            "#4 0.941532 (0.001515) with: {'max_depth': 7, 'n_estimators': 180}\n"
          ]
        }
      ]
    },
    {
      "cell_type": "markdown",
      "metadata": {
        "id": "wAigJxy5jZrp"
      },
      "source": [
        "## Test"
      ]
    },
    {
      "cell_type": "code",
      "metadata": {
        "colab": {
          "base_uri": "https://localhost:8080/"
        },
        "id": "rL3wSOv1jeAF",
        "outputId": "aa6ef12e-25f0-47c0-f291-97b760fd94fa"
      },
      "source": [
        "model = GradientBoostingClassifier(**grid.best_params_)\n",
        "model.fit(X_train, Y_train)"
      ],
      "execution_count": 97,
      "outputs": [
        {
          "output_type": "execute_result",
          "data": {
            "text/plain": [
              "GradientBoostingClassifier(max_depth=5, n_estimators=180)"
            ]
          },
          "metadata": {},
          "execution_count": 97
        }
      ]
    },
    {
      "cell_type": "code",
      "metadata": {
        "colab": {
          "base_uri": "https://localhost:8080/"
        },
        "id": "Erl4eIbsjgtl",
        "outputId": "3982b9a6-9f03-4075-fd4f-fe1ec1aa9821"
      },
      "source": [
        "predictions = model.predict(X_validation)\n",
        "print(accuracy_score(Y_validation, predictions))\n",
        "print(confusion_matrix(Y_validation, predictions))\n",
        "print(classification_report(Y_validation, predictions))"
      ],
      "execution_count": 98,
      "outputs": [
        {
          "output_type": "stream",
          "name": "stdout",
          "text": [
            "0.855949249574501\n",
            "[[2567  668]\n",
            " [ 263 2965]]\n",
            "              precision    recall  f1-score   support\n",
            "\n",
            "           0       0.91      0.79      0.85      3235\n",
            "           1       0.82      0.92      0.86      3228\n",
            "\n",
            "    accuracy                           0.86      6463\n",
            "   macro avg       0.86      0.86      0.86      6463\n",
            "weighted avg       0.86      0.86      0.86      6463\n",
            "\n"
          ]
        }
      ]
    },
    {
      "cell_type": "code",
      "metadata": {
        "colab": {
          "base_uri": "https://localhost:8080/",
          "height": 356
        },
        "id": "Ke3HgMngj9xH",
        "outputId": "b7fcefda-69d5-4fe2-965b-4cd7c17ee8d8"
      },
      "source": [
        "df_cm = pd.DataFrame(confusion_matrix(Y_validation, predictions), \n",
        "                     columns=np.unique(Y_validation), index = np.unique(Y_validation))\n",
        "df_cm.index.name = 'Verdadero'\n",
        "df_cm.columns.name = 'Predecido'\n",
        "sns.heatmap(df_cm, cmap=\"Blues\", annot=True,annot_kws={\"size\": 16})# font sizes"
      ],
      "execution_count": 99,
      "outputs": [
        {
          "output_type": "execute_result",
          "data": {
            "text/plain": [
              "<matplotlib.axes._subplots.AxesSubplot at 0x7fa6fc010310>"
            ]
          },
          "metadata": {},
          "execution_count": 99
        },
        {
          "output_type": "display_data",
          "data": {
            "text/plain": [
              "<Figure size 864x360 with 2 Axes>"
            ],
            "image/png": "[encoded data removed]"
          },
          "metadata": {}
        }
      ]
    },
    {
      "cell_type": "markdown",
      "metadata": {
        "id": "gqDu1ya1kSx5"
      },
      "source": [
        "### Feature Importance"
      ]
    },
    {
      "cell_type": "code",
      "metadata": {
        "colab": {
          "base_uri": "https://localhost:8080/",
          "height": 426
        },
        "id": "ijSjo627kUoz",
        "outputId": "39ca5ef7-ca86-4831-8921-57578d96c176"
      },
      "source": [
        "print(model.feature_importances_) \n",
        "feat_importances = pd.Series(model.feature_importances_, index=X.columns)\n",
        "feat_importances.nlargest(10).plot(kind='barh')\n",
        "plt.show()"
      ],
      "execution_count": 100,
      "outputs": [
        {
          "output_type": "stream",
          "name": "stdout",
          "text": [
            "[3.04077316e-02 1.15636972e-01 7.18287515e-02 6.89384385e-03\n",
            " 8.63622678e-03 2.32226725e-03 4.00639052e-03 2.02610309e-03\n",
            " 5.13180054e-03 7.03468064e-01 1.10502619e-02 8.63188962e-03\n",
            " 6.72139115e-03 5.78366124e-03 6.78221840e-03 3.60705273e-03\n",
            " 1.10918664e-03 2.16774100e-03 1.13800590e-03 8.64019196e-04\n",
            " 4.11715212e-04 3.45729715e-04 4.69981969e-04 5.58994514e-04]\n"
          ]
        },
        {
          "output_type": "display_data",
          "data": {
            "text/plain": [
              "<Figure size 864x360 with 1 Axes>"
            ],
            "image/png": "[encoded data removed]"
          },
          "metadata": {}
        }
      ]
    },
    {
      "cell_type": "code",
      "metadata": {
        "colab": {
          "base_uri": "https://localhost:8080/"
        },
        "id": "tgrfJ8BOk20-",
        "outputId": "44479cb1-6fda-40d2-c35b-5e99f9b4bb28"
      },
      "source": [
        "feat_importances"
      ],
      "execution_count": 101,
      "outputs": [
        {
          "output_type": "execute_result",
          "data": {
            "text/plain": [
              "loan_amnt                              0.030408\n",
              "term                                   0.115637\n",
              "int_rate                               0.071829\n",
              "annual_inc                             0.006894\n",
              "dti                                    0.008636\n",
              "earliest_cr_line                       0.002322\n",
              "fico_range_low                         0.004006\n",
              "open_acc                               0.002026\n",
              "revol_util                             0.005132\n",
              "last_pymnt_amnt                        0.703468\n",
              "acc_open_past_24mths                   0.011050\n",
              "avg_cur_bal                            0.008632\n",
              "bc_open_to_buy                         0.006721\n",
              "bc_util                                0.005784\n",
              "mo_sin_old_rev_tl_op                   0.006782\n",
              "mo_sin_rcnt_rev_tl_op                  0.003607\n",
              "mort_acc                               0.001109\n",
              "num_actv_rev_tl                        0.002168\n",
              "home_ownership_RENT                    0.001138\n",
              "verification_status_Source Verified    0.000864\n",
              "verification_status_Verified           0.000412\n",
              "purpose_credit_card                    0.000346\n",
              "purpose_debt_consolidation             0.000470\n",
              "initial_list_status_w                  0.000559\n",
              "dtype: float64"
            ]
          },
          "metadata": {},
          "execution_count": 101
        }
      ]
    },
    {
      "cell_type": "markdown",
      "metadata": {
        "id": "pK-lZSi4sWDs"
      },
      "source": [
        "# Tarea\n"
      ]
    },
    {
      "cell_type": "markdown",
      "metadata": {
        "id": "YwEx2XrRsX7A"
      },
      "source": [
        "Ejecutar el entrenamiento con la regresion logistica"
      ]
    },
    {
      "cell_type": "code",
      "metadata": {
        "colab": {
          "base_uri": "https://localhost:8080/"
        },
        "id": "gKJbauYms2xp",
        "outputId": "14a68aba-c163-42ab-bd82-7fb831e771ae"
      },
      "source": [
        "# Numero de Arboles en el Bosque\n",
        "penalty = ['l1', 'l2', 'elasticnet', 'none']\n",
        "# Inverso de la Regularizacion\n",
        "C = np.logspace(-4, 4, 20)\n",
        "l1_r = np.linspace(0,1,20)\n",
        "# Crea diccionario de busqueda\n",
        "random_grid = {'penalty': penalty,\n",
        "               'C': C}\n",
        "print(random_grid)"
      ],
      "execution_count": 102,
      "outputs": [
        {
          "output_type": "stream",
          "name": "stdout",
          "text": [
            "{'penalty': ['l1', 'l2', 'elasticnet', 'none'], 'C': array([1.00000000e-04, 2.63665090e-04, 6.95192796e-04, 1.83298071e-03,\n",
            "       4.83293024e-03, 1.27427499e-02, 3.35981829e-02, 8.85866790e-02,\n",
            "       2.33572147e-01, 6.15848211e-01, 1.62377674e+00, 4.28133240e+00,\n",
            "       1.12883789e+01, 2.97635144e+01, 7.84759970e+01, 2.06913808e+02,\n",
            "       5.45559478e+02, 1.43844989e+03, 3.79269019e+03, 1.00000000e+04])}\n"
          ]
        }
      ]
    },
    {
      "cell_type": "code",
      "metadata": {
        "colab": {
          "base_uri": "https://localhost:8080/"
        },
        "id": "EXokGLDisx-5",
        "outputId": "35c3dc4a-f5ed-4d05-8a53-12ae67841a79"
      },
      "source": [
        "# Construyamos el algoritmo\n",
        "lr = LogisticRegression(max_iter=500)\n",
        "# Tuneo de Hyperparametros con CV\n",
        "lr_random = GridSearchCV(estimator = lr, param_grid = random_grid, \n",
        "                                scoring = 'accuracy',\n",
        "                               cv = 5, verbose=2, n_jobs = -1)\n",
        "# Entrenar\n",
        "lr_random.fit(X_train, Y_train)"
      ],
      "execution_count": 103,
      "outputs": [
        {
          "output_type": "stream",
          "name": "stdout",
          "text": [
            "Fitting 5 folds for each of 80 candidates, totalling 400 fits\n"
          ]
        },
        {
          "output_type": "stream",
          "name": "stderr",
          "text": [
            "/usr/local/lib/python3.7/dist-packages/sklearn/model_selection/_validation.py:372: FitFailedWarning: \n",
            "200 fits failed out of a total of 400.\n",
            "The score on these train-test partitions for these parameters will be set to nan.\n",
            "If these failures are not expected, you can try to debug them by setting error_score='raise'.\n",
            "\n",
            "Below are more details about the failures:\n",
            "--------------------------------------------------------------------------------\n",
            "100 fits failed with the following error:\n",
            "Traceback (most recent call last):\n",
            "  File \"/usr/local/lib/python3.7/dist-packages/sklearn/model_selection/_validation.py\", line 680, in _fit_and_score\n",
            "    estimator.fit(X_train, y_train, **fit_params)\n",
            "  File \"/usr/local/lib/python3.7/dist-packages/sklearn/linear_model/_logistic.py\", line 1461, in fit\n",
            "    solver = _check_solver(self.solver, self.penalty, self.dual)\n",
            "  File \"/usr/local/lib/python3.7/dist-packages/sklearn/linear_model/_logistic.py\", line 449, in _check_solver\n",
            "    % (solver, penalty)\n",
            "ValueError: Solver lbfgs supports only 'l2' or 'none' penalties, got l1 penalty.\n",
            "\n",
            "--------------------------------------------------------------------------------\n",
            "100 fits failed with the following error:\n",
            "Traceback (most recent call last):\n",
            "  File \"/usr/local/lib/python3.7/dist-packages/sklearn/model_selection/_validation.py\", line 680, in _fit_and_score\n",
            "    estimator.fit(X_train, y_train, **fit_params)\n",
            "  File \"/usr/local/lib/python3.7/dist-packages/sklearn/linear_model/_logistic.py\", line 1461, in fit\n",
            "    solver = _check_solver(self.solver, self.penalty, self.dual)\n",
            "  File \"/usr/local/lib/python3.7/dist-packages/sklearn/linear_model/_logistic.py\", line 449, in _check_solver\n",
            "    % (solver, penalty)\n",
            "ValueError: Solver lbfgs supports only 'l2' or 'none' penalties, got elasticnet penalty.\n",
            "\n",
            "  warnings.warn(some_fits_failed_message, FitFailedWarning)\n",
            "/usr/local/lib/python3.7/dist-packages/sklearn/model_selection/_search.py:972: UserWarning: One or more of the test scores are non-finite: [       nan 0.66029648        nan 0.83504211        nan 0.66753084\n",
            "        nan 0.83504211        nan 0.68203826        nan 0.83504211\n",
            "        nan 0.71147852        nan 0.83504211        nan 0.74962328\n",
            "        nan 0.83504211        nan 0.78014654        nan 0.83504211\n",
            "        nan 0.79894792        nan 0.83504211        nan 0.81318442\n",
            "        nan 0.83504211        nan 0.82134724        nan 0.83504211\n",
            "        nan 0.82753703        nan 0.83504211        nan 0.83167638\n",
            "        nan 0.83504211        nan 0.83345591        nan 0.83504211\n",
            "        nan 0.83442307        nan 0.83504211        nan 0.83469391\n",
            "        nan 0.83504211        nan 0.83465526        nan 0.83504211\n",
            "        nan 0.83484869        nan 0.83504211        nan 0.83481\n",
            "        nan 0.83504211        nan 0.83488738        nan 0.83504211\n",
            "        nan 0.83496474        nan 0.83504211        nan 0.83500343\n",
            "        nan 0.83504211]\n",
            "  category=UserWarning,\n",
            "/usr/local/lib/python3.7/dist-packages/sklearn/linear_model/_logistic.py:1484: UserWarning: Setting penalty='none' will ignore the C and l1_ratio parameters\n",
            "  \"Setting penalty='none' will ignore the C and l1_ratio parameters\"\n"
          ]
        },
        {
          "output_type": "execute_result",
          "data": {
            "text/plain": [
              "GridSearchCV(cv=5, estimator=LogisticRegression(max_iter=500), n_jobs=-1,\n",
              "             param_grid={'C': array([1.00000000e-04, 2.63665090e-04, 6.95192796e-04, 1.83298071e-03,\n",
              "       4.83293024e-03, 1.27427499e-02, 3.35981829e-02, 8.85866790e-02,\n",
              "       2.33572147e-01, 6.15848211e-01, 1.62377674e+00, 4.28133240e+00,\n",
              "       1.12883789e+01, 2.97635144e+01, 7.84759970e+01, 2.06913808e+02,\n",
              "       5.45559478e+02, 1.43844989e+03, 3.79269019e+03, 1.00000000e+04]),\n",
              "                         'penalty': ['l1', 'l2', 'elasticnet', 'none']},\n",
              "             scoring='accuracy', verbose=2)"
            ]
          },
          "metadata": {},
          "execution_count": 103
        }
      ]
    },
    {
      "cell_type": "code",
      "source": [
        "lr_random.best_params_"
      ],
      "metadata": {
        "colab": {
          "base_uri": "https://localhost:8080/"
        },
        "id": "JH52EPXMiQIL",
        "outputId": "9b86b309-72be-4686-a7a0-0dabfe14dbb4"
      },
      "execution_count": 104,
      "outputs": [
        {
          "output_type": "execute_result",
          "data": {
            "text/plain": [
              "{'C': 0.0001, 'penalty': 'none'}"
            ]
          },
          "metadata": {},
          "execution_count": 104
        }
      ]
    },
    {
      "cell_type": "code",
      "metadata": {
        "colab": {
          "base_uri": "https://localhost:8080/"
        },
        "id": "O0uMdjTFt1Lx",
        "outputId": "0c6a4579-6748-4a2d-e645-7119675e8543"
      },
      "source": [
        "lr_interpretable = LogisticRegression(max_iter=500,**lr_random.best_params_)\n",
        "lr_interpretable.fit(X_train, Y_train)"
      ],
      "execution_count": 105,
      "outputs": [
        {
          "output_type": "stream",
          "name": "stderr",
          "text": [
            "/usr/local/lib/python3.7/dist-packages/sklearn/linear_model/_logistic.py:1484: UserWarning: Setting penalty='none' will ignore the C and l1_ratio parameters\n",
            "  \"Setting penalty='none' will ignore the C and l1_ratio parameters\"\n"
          ]
        },
        {
          "output_type": "execute_result",
          "data": {
            "text/plain": [
              "LogisticRegression(C=0.0001, max_iter=500, penalty='none')"
            ]
          },
          "metadata": {},
          "execution_count": 105
        }
      ]
    },
    {
      "cell_type": "code",
      "source": [
        "lr_interpretable.coef_"
      ],
      "metadata": {
        "colab": {
          "base_uri": "https://localhost:8080/"
        },
        "id": "auY_NeMDiTHt",
        "outputId": "f6574eb2-f4d1-413d-a197-d47c579ecb4a"
      },
      "execution_count": 106,
      "outputs": [
        {
          "output_type": "execute_result",
          "data": {
            "text/plain": [
              "array([[ 2.46089262e+00,  2.36367167e+00,  2.54911619e+00,\n",
              "        -8.79179960e-01,  5.83654256e-01, -2.59718861e-01,\n",
              "        -9.36389840e-01, -3.38862941e-01, -3.68406685e-01,\n",
              "        -5.71826131e+01,  3.97848053e+00, -1.20598575e+00,\n",
              "        -1.15097429e+00,  2.97571839e-02, -7.25639355e-01,\n",
              "        -5.30562009e-03, -4.95375860e-02, -5.42371292e-01,\n",
              "         1.49939631e-01,  1.62837888e-01,  1.28783315e-01,\n",
              "         1.39450849e-01,  1.81048411e-01, -3.35335837e-02]])"
            ]
          },
          "metadata": {},
          "execution_count": 106
        }
      ]
    },
    {
      "cell_type": "code",
      "source": [
        "X.columns"
      ],
      "metadata": {
        "colab": {
          "base_uri": "https://localhost:8080/"
        },
        "id": "1C-10zCZjG2l",
        "outputId": "d29573a0-570a-4804-a797-bb99e6e26243"
      },
      "execution_count": 107,
      "outputs": [
        {
          "output_type": "execute_result",
          "data": {
            "text/plain": [
              "Index(['loan_amnt', 'term', 'int_rate', 'annual_inc', 'dti',\n",
              "       'earliest_cr_line', 'fico_range_low', 'open_acc', 'revol_util',\n",
              "       'last_pymnt_amnt', 'acc_open_past_24mths', 'avg_cur_bal',\n",
              "       'bc_open_to_buy', 'bc_util', 'mo_sin_old_rev_tl_op',\n",
              "       'mo_sin_rcnt_rev_tl_op', 'mort_acc', 'num_actv_rev_tl',\n",
              "       'home_ownership_RENT', 'verification_status_Source Verified',\n",
              "       'verification_status_Verified', 'purpose_credit_card',\n",
              "       'purpose_debt_consolidation', 'initial_list_status_w'],\n",
              "      dtype='object')"
            ]
          },
          "metadata": {},
          "execution_count": 107
        }
      ]
    }
  ]
}